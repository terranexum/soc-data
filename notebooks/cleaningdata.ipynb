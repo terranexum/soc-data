{
 "cells": [
  {
   "cell_type": "code",
   "execution_count": 2,
   "metadata": {},
   "outputs": [
    {
     "name": "stdout",
     "output_type": "stream",
     "text": [
      "         target          id                          date      flag  \\\n",
      "0             0  1467810369  Mon Apr 06 22:19:45 PDT 2009  NO_QUERY   \n",
      "1             0  1467810672  Mon Apr 06 22:19:49 PDT 2009  NO_QUERY   \n",
      "2             0  1467810917  Mon Apr 06 22:19:53 PDT 2009  NO_QUERY   \n",
      "3             0  1467811184  Mon Apr 06 22:19:57 PDT 2009  NO_QUERY   \n",
      "4             0  1467811193  Mon Apr 06 22:19:57 PDT 2009  NO_QUERY   \n",
      "...         ...         ...                           ...       ...   \n",
      "1599994       4  2193601966  Tue Jun 16 08:40:49 PDT 2009  NO_QUERY   \n",
      "1599995       4  2193601969  Tue Jun 16 08:40:49 PDT 2009  NO_QUERY   \n",
      "1599996       4  2193601991  Tue Jun 16 08:40:49 PDT 2009  NO_QUERY   \n",
      "1599997       4  2193602064  Tue Jun 16 08:40:49 PDT 2009  NO_QUERY   \n",
      "1599998       4  2193602129  Tue Jun 16 08:40:50 PDT 2009  NO_QUERY   \n",
      "\n",
      "                    user                                               text  \n",
      "0        _TheSpecialOne_  @switchfoot http://twitpic.com/2y1zl - Awww, t...  \n",
      "1          scotthamilton  is upset that he can't update his Facebook by ...  \n",
      "2               mattycus  @Kenichan I dived many times for the ball. Man...  \n",
      "3                ElleCTF    my whole body feels itchy and like its on fire   \n",
      "4                 Karoli  @nationwideclass no, it's not behaving at all....  \n",
      "...                  ...                                                ...  \n",
      "1599994  AmandaMarie1028  Just woke up. Having no school is the best fee...  \n",
      "1599995      TheWDBoards  TheWDB.com - Very cool to hear old Walt interv...  \n",
      "1599996           bpbabe  Are you ready for your MoJo Makeover? Ask me f...  \n",
      "1599997     tinydiamondz  Happy 38th Birthday to my boo of alll time!!! ...  \n",
      "1599998   RyanTrevMorris  happy #charitytuesday @theNSPCC @SparksCharity...  \n",
      "\n",
      "[1599999 rows x 6 columns]\n"
     ]
    }
   ],
   "source": [
    "import pandas as pd\n",
    "\n",
    "df = pd.read_csv('/Users/blakelayton/Desktop/Git SocData/soc-data/data/training.1600000.processed.noemoticon.csv', header=None)\n",
    "df.columns = ['target', 'id','date', 'flag', 'user', 'text']\n",
    "print(df)\n"
   ]
  },
  {
   "cell_type": "code",
   "execution_count": 3,
   "metadata": {},
   "outputs": [
    {
     "name": "stdout",
     "output_type": "stream",
     "text": [
      "                                                      text  target\n",
      "0        @switchfoot http://twitpic.com/2y1zl - Awww, t...       0\n",
      "1        is upset that he can't update his Facebook by ...       0\n",
      "2        @Kenichan I dived many times for the ball. Man...       0\n",
      "3          my whole body feels itchy and like its on fire        0\n",
      "4        @nationwideclass no, it's not behaving at all....       0\n",
      "...                                                    ...     ...\n",
      "1599994  Just woke up. Having no school is the best fee...       4\n",
      "1599995  TheWDB.com - Very cool to hear old Walt interv...       4\n",
      "1599996  Are you ready for your MoJo Makeover? Ask me f...       4\n",
      "1599997  Happy 38th Birthday to my boo of alll time!!! ...       4\n",
      "1599998  happy #charitytuesday @theNSPCC @SparksCharity...       4\n",
      "\n",
      "[1599999 rows x 2 columns]\n"
     ]
    }
   ],
   "source": [
    "new_df= df[['text', 'target']]\n",
    "print(new_df)"
   ]
  },
  {
   "cell_type": "code",
   "execution_count": null,
   "metadata": {},
   "outputs": [],
   "source": [
    "new_df.to_csv('labeled_training_data.csv', index=False)"
   ]
  }
 ],
 "metadata": {
  "kernelspec": {
   "display_name": "Python 3",
   "language": "python",
   "name": "python3"
  },
  "language_info": {
   "codemirror_mode": {
    "name": "ipython",
    "version": 3
   },
   "file_extension": ".py",
   "mimetype": "text/x-python",
   "name": "python",
   "nbconvert_exporter": "python",
   "pygments_lexer": "ipython3",
   "version": "3.9.6"
  }
 },
 "nbformat": 4,
 "nbformat_minor": 2
}
