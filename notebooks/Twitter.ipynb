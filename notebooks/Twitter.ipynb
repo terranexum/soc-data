{
 "cells": [
  {
   "cell_type": "code",
   "execution_count": 10,
   "metadata": {},
   "outputs": [],
   "source": [
    "import tweepy\n",
    "import dotenv\n",
    "from dotenv import load_dotenv\n",
    "import os\n",
    "\n",
    "load_dotenv()\n",
    "\n",
    "consumer_key= os.getenv('consumer_key')\n",
    "consumer_secret= os.getenv('consumer_secret')\n",
    "access_token= os.getenv('access_token')\n",
    "access_secret= os.getenv('access_secret')\n",
    "bearer_token1=os.getenv('bearer_token')\n"
   ]
  },
  {
   "cell_type": "code",
   "execution_count": 13,
   "metadata": {},
   "outputs": [
    {
     "name": "stdout",
     "output_type": "stream",
     "text": [
      "Authentication successful\n"
     ]
    }
   ],
   "source": [
    "try:\n",
    "    client = tweepy.Client(\n",
    "        bearer_token=bearer_token1,\n",
    "    )\n",
    "    print('Authentication successful')\n",
    "except:\n",
    "    print('Broken')"
   ]
  },
  {
   "cell_type": "code",
   "execution_count": 118,
   "metadata": {},
   "outputs": [
    {
     "name": "stdout",
     "output_type": "stream",
     "text": [
      "Just switched to a #Pixel #Pixel8Pro from @madebygoogle @google. Only had it a few days, so can't comment on a lot, but I CAN say this: \n",
      "\n",
      "Holy fuck, it runs hot!!!!! I can't see how it will possibly last two years.\n",
      "@theDroidLady @FIDOAlliance @Google @AndroidDev This is amazing! Congratulations on the new role 👏🎉\n",
      "@YouTube @amuse_io @TheOnion @TorBrowser @NJDevils @NJGov @nytimes @nytimesmusic @japantimes @japan @BTS_jp_official @XcorpJP @JYPETWICE_JAPAN @CostaRica @GermanyinUSA @GermanyUN @ger_service @neilpatel @Google @googlemaps @GoogleAI @googledevs @googleanalytics @sundarpichai [Attractive_/https://t.co/09gx91athk]\n",
      "@InformaCosmos @Google Google YTmusic no aparece en esta encuesta  al ser de otro nivel.\n",
      "What you post on social media reflects your personal brand. Start with one or two platforms, engage regularly, and build your presence. Learn more at our next Google workshop!\n",
      "\n",
      "Register now: https://t.co/SZ1ayawq5g\n",
      "@google \n",
      "#BuildingYourPersonalBrand #SocialMediaStrategy… https://t.co/WeyzKMwOco https://t.co/WydbVoQDJC\n"
     ]
    }
   ],
   "source": [
    "user_id = 20536157\n",
    "tweets = client.get_users_mentions(user_id, user_auth=False, max_results=5)\n",
    "\n",
    "for tweet in tweets.data:\n",
    "    print(tweet.text)\n"
   ]
  },
  {
   "cell_type": "code",
   "execution_count": 136,
   "metadata": {},
   "outputs": [
    {
     "name": "stdout",
     "output_type": "stream",
     "text": [
      "What you post on social media reflects your personal brand. Start with one or two platforms, engage regularly, and build your presence. Learn more at our next Google workshop!\n",
      "\n",
      "Register now: https://t.co/SZ1ayawq5g\n",
      "@google \n",
      "#BuildingYourPersonalBrand #SocialMediaStrategy… https://t.co/WeyzKMwOco https://t.co/WydbVoQDJC\n",
      "{'NEG': 0.0022343904711306095, 'NEU': 0.6175926923751831, 'POS': 0.3801729679107666}\n"
     ]
    }
   ],
   "source": [
    "from pysentimiento import create_analyzer\n",
    "\n",
    "tweet_dict = {}\n",
    "for i, tweet in enumerate(tweets.data):\n",
    "    tweet_dict[f'{i}'] = tweet.text\n",
    "    \n",
    "for key, value in tweet_dict.items():\n",
    "    modified_key = key.replace('[i]', '')\n",
    "    items.append((modified_key, value))\n",
    "\n",
    "text = items[4]\n",
    "\n",
    "tweet1=text[1]\n",
    "\n",
    "print (tweet1)\n",
    "\n",
    "analyzer = create_analyzer(task=\"sentiment\", lang=\"en\")\n",
    "\n",
    "AnalyzerOutput1=analyzer.predict(tweet1)\n",
    "\n",
    "class AnalyzerOutput:\n",
    "    def __init__(self, output, probas):\n",
    "        self.output = output\n",
    "        self.probas = probas\n",
    "\n",
    "analyzer_output = AnalyzerOutput1\n",
    "\n",
    "probas_dict = analyzer_output.probas\n",
    "\n",
    "print(probas_dict)"
   ]
  },
  {
   "cell_type": "code",
   "execution_count": 140,
   "metadata": {},
   "outputs": [
    {
     "data": {
      "image/png": "[encoded data removed]",
      "text/plain": [
       "<Figure size 800x500 with 1 Axes>"
      ]
     },
     "metadata": {},
     "output_type": "display_data"
    },
    {
     "name": "stdout",
     "output_type": "stream",
     "text": [
      "The tweet being analyzed is: \n",
      "\"What you post on social media reflects your personal brand. Start with one or two platforms, engage regularly, and build your presence. Learn more at our next Google workshop!\n",
      "\n",
      "Register now: https://t.co/SZ1ayawq5g\n",
      "@google \n",
      "#BuildingYourPersonalBrand #SocialMediaStrategy… https://t.co/WeyzKMwOco https://t.co/WydbVoQDJC\"\n"
     ]
    }
   ],
   "source": [
    "import numpy as np\n",
    "import pandas as pd\n",
    "import matplotlib.pyplot as plt\n",
    "\n",
    "\n",
    "df = pd.DataFrame(list(probas_dict.items()), columns=['Sentiment', 'Probability'])\n",
    "\n",
    "colors = ['green' if sentiment == 'POS' else 'gray' if sentiment == 'NEU' else 'red' for sentiment in df['Sentiment']]\n",
    "\n",
    "plt.figure(figsize=(8, 5))\n",
    "plt.bar(df['Sentiment'], df['Probability'], color=colors)\n",
    "plt.xlabel('Sentiment')\n",
    "plt.ylabel('Probability')\n",
    "plt.title('Sentiment Analysis Output')\n",
    "plt.show()\n",
    "\n",
    "print(\"The tweet being analyzed is: \\n\" +'\"' +tweet1 +'\"')\n",
    "plt.show()"
   ]
  }
 ],
 "metadata": {
  "kernelspec": {
   "display_name": "Python 3",
   "language": "python",
   "name": "python3"
  },
  "language_info": {
   "codemirror_mode": {
    "name": "ipython",
    "version": 3
   },
   "file_extension": ".py",
   "mimetype": "text/x-python",
   "name": "python",
   "nbconvert_exporter": "python",
   "pygments_lexer": "ipython3",
   "version": "3.9.6"
  }
 },
 "nbformat": 4,
 "nbformat_minor": 2
}
