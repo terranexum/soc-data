{
 "cells": [
  {
   "cell_type": "code",
   "execution_count": 10,
   "metadata": {},
   "outputs": [],
   "source": [
    "import tweepy\n",
    "import dotenv\n",
    "from dotenv import load_dotenv\n",
    "import os\n",
    "\n",
    "load_dotenv()\n",
    "\n",
    "consumer_key= os.getenv('consumer_key')\n",
    "consumer_secret= os.getenv('consumer_secret')\n",
    "access_token= os.getenv('access_token')\n",
    "access_secret= os.getenv('access_secret')\n",
    "bearer_token1=os.getenv('bearer_token')"
   ]
  },
  {
   "cell_type": "code",
   "execution_count": 13,
   "metadata": {},
   "outputs": [
    {
     "name": "stdout",
     "output_type": "stream",
     "text": [
      "Authentication successful\n"
     ]
    }
   ],
   "source": [
    "try:\n",
    "    client = tweepy.Client(\n",
    "        bearer_token=bearer_token1,\n",
    "    )\n",
    "    print('Authentication successful')\n",
    "except:\n",
    "    print('Broken')"
   ]
  },
  {
   "cell_type": "code",
   "execution_count": 199,
   "metadata": {},
   "outputs": [
    {
     "name": "stdout",
     "output_type": "stream",
     "text": [
      "Response(data=[<Tweet id=1801727147121459365 text=\"@hinsonashley @realDonaldTrump What are you going to do on 5 Nov when he loses again\\n\\nPrincipled Americans don't vote for Rapists, Traitors &amp; Convicted Felons especially when it's all the same person\\n\\nReminder: https://t.co/Cn9q3UF9js\">, <Tweet id=1801727146278404384 text='@IAPolls2022 @realDonaldTrump If Trump is even tied in MN, he should be up 5-6 in PA, 3-4 in MI and, 2-3 in WI'>, <Tweet id=1801727143736709361 text='@ByronDonalds @realDonaldTrump Byron what have you done in the last 4 years to help America and the people ? https://t.co/Xc3G4Yn597'>, <Tweet id=1801727142046142605 text='@SpeakerMcCarthy @realDonaldTrump What does he have on you? Pathetic'>, <Tweet id=1801727124719681952 text='@WarlordDilley @realDonaldTrump Trump is 78 and Disgusting House Republicans. Trump Is Not Well https://t.co/CrpAU4QQZs'>], includes={}, errors=[], meta={'next_token': '7140dibdnow9c7btw4azv9qgg5j4zif756bavrwbhvwvm', 'result_count': 5, 'newest_id': '1801727147121459365', 'oldest_id': '1801727124719681952'})\n",
      "@hinsonashley @realDonaldTrump What are you going to do on 5 Nov when he loses again\n",
      "\n",
      "Principled Americans don't vote for Rapists, Traitors &amp; Convicted Felons especially when it's all the same person\n",
      "\n",
      "Reminder: https://t.co/Cn9q3UF9js\n",
      "----- \n",
      " \n",
      "\n",
      "@IAPolls2022 @realDonaldTrump If Trump is even tied in MN, he should be up 5-6 in PA, 3-4 in MI and, 2-3 in WI\n",
      "----- \n",
      " \n",
      "\n",
      "@ByronDonalds @realDonaldTrump Byron what have you done in the last 4 years to help America and the people ? https://t.co/Xc3G4Yn597\n",
      "----- \n",
      " \n",
      "\n",
      "@SpeakerMcCarthy @realDonaldTrump What does he have on you? Pathetic\n",
      "----- \n",
      " \n",
      "\n",
      "@WarlordDilley @realDonaldTrump Trump is 78 and Disgusting House Republicans. Trump Is Not Well https://t.co/CrpAU4QQZs\n",
      "----- \n",
      " \n",
      "\n"
     ]
    }
   ],
   "source": [
    "user_id = 25073877\n",
    "tweets = client.get_users_mentions(user_id, user_auth=False, max_results=5)\n",
    "print(tweets)\n",
    "for tweet in tweets.data:\n",
    "    print(tweet.text+\"\\n----- \\n \\n\")"
   ]
  },
  {
   "cell_type": "code",
   "execution_count": 198,
   "metadata": {},
   "outputs": [
    {
     "name": "stdout",
     "output_type": "stream",
     "text": [
      "@TeresaWils43957 8563932 🧗‍♀️🇱🇨🌾☎️👳🏻‍♀️ He enjoys playing chess with his grandfather.\n",
      "----- \n",
      " \n",
      "\n",
      "RT @BrainStorm_Joe: Who wants to bet that Q post number 1 proves true in the very near future. \n",
      "\n",
      "Hindsight is 20/20.  Listen closely to eve…\n",
      "----- \n",
      " \n",
      "\n",
      "RT @PepeOnBase0x69: This is chess not checkers $PEPE https://t.co/omct8mUmnj\n",
      "----- \n",
      " \n",
      "\n",
      "@errolbsk His people call him a chess player 😂\n",
      "----- \n",
      " \n",
      "\n",
      "@Kasparov63 You have been and probably still are a good chess player but you’d play as you speak about politics you’d lose EVERY game. \n",
      "Playing chess on a chessboard and analyzing global political scenarios are TOTALLY different topics.\n",
      "----- \n",
      " \n",
      "\n",
      "RT @Tumz_kby: What was MK’s plan mara? Maybe it’s chess, morabaraba or some other sport but I’m not seeing what exactly they are trying to…\n",
      "----- \n",
      " \n",
      "\n",
      "@TeresaWils43957 He enjoys playing chess with his grandfather. 1316877 ✋🤬🍁\n",
      "----- \n",
      " \n",
      "\n",
      "@goolammv Chess Pain 😭😭😭😭\n",
      "----- \n",
      " \n",
      "\n",
      "RT @chesscom: Building the new LEGO 2-in-1 chess/checkers set! \n",
      "\n",
      "Sound up for ASMR 🔊😌 https://t.co/mAHzCvfG6T\n",
      "----- \n",
      " \n",
      "\n",
      "@EFFSouthAfrica Actually this motion was supposed to be tabled by FF Plus and DA if ANC didnt go with DA, so CiC just pulled a chess move😄😄😄\n",
      "----- \n",
      " \n",
      "\n"
     ]
    }
   ],
   "source": [
    "tweets1 = client.search_recent_tweets(\"Chess\", max_results=10)\n",
    "for tweet in tweets1.data:\n",
    "    print(tweet.text+\"\\n----- \\n \\n\")"
   ]
  },
  {
   "cell_type": "code",
   "execution_count": 193,
   "metadata": {},
   "outputs": [
    {
     "ename": "Forbidden",
     "evalue": "403 Forbidden\nWhen authenticating requests to the Twitter API v2 endpoints, you must use keys and tokens from a Twitter developer App that is attached to a Project. You can create a project via the developer portal.",
     "output_type": "error",
     "traceback": [
      "\u001b[0;31m---------------------------------------------------------------------------\u001b[0m",
      "\u001b[0;31mForbidden\u001b[0m                                 Traceback (most recent call last)",
      "Cell \u001b[0;32mIn[193], line 1\u001b[0m\n\u001b[0;32m----> 1\u001b[0m tweets2 \u001b[38;5;241m=\u001b[39m \u001b[43mclient\u001b[49m\u001b[38;5;241;43m.\u001b[39;49m\u001b[43msearch_all_tweets\u001b[49m\u001b[43m(\u001b[49m\u001b[38;5;124;43m\"\u001b[39;49m\u001b[38;5;124;43mrenewable energy\u001b[39;49m\u001b[38;5;124;43m\"\u001b[39;49m\u001b[43m,\u001b[49m\u001b[43mend_time\u001b[49m\u001b[38;5;241;43m=\u001b[39;49m\u001b[38;5;28;43;01mNone\u001b[39;49;00m\u001b[43m,\u001b[49m\u001b[43m \u001b[49m\u001b[43mmax_results\u001b[49m\u001b[38;5;241;43m=\u001b[39;49m\u001b[38;5;241;43m5\u001b[39;49m\u001b[43m,\u001b[49m\u001b[43m \u001b[49m\u001b[43mstart_time\u001b[49m\u001b[38;5;241;43m=\u001b[39;49m\u001b[38;5;28;43;01mNone\u001b[39;49;00m\u001b[43m,\u001b[49m\u001b[43m)\u001b[49m\n\u001b[1;32m      2\u001b[0m \u001b[38;5;28;01mfor\u001b[39;00m tweet \u001b[38;5;129;01min\u001b[39;00m tweets2\u001b[38;5;241m.\u001b[39mdata:\n\u001b[1;32m      3\u001b[0m     \u001b[38;5;28mprint\u001b[39m(tweet\u001b[38;5;241m.\u001b[39mtext\u001b[38;5;241m+\u001b[39m\u001b[38;5;124m\"\u001b[39m\u001b[38;5;130;01m\\n\u001b[39;00m\u001b[38;5;124m----- \u001b[39m\u001b[38;5;130;01m\\n\u001b[39;00m\u001b[38;5;124m \u001b[39m\u001b[38;5;130;01m\\n\u001b[39;00m\u001b[38;5;124m\"\u001b[39m)\n",
      "File \u001b[0;32m~/Library/Python/3.9/lib/python/site-packages/tweepy/client.py:1163\u001b[0m, in \u001b[0;36mClient.search_all_tweets\u001b[0;34m(self, query, **params)\u001b[0m\n\u001b[1;32m   1071\u001b[0m \u001b[38;5;250m\u001b[39m\u001b[38;5;124;03m\"\"\"search_all_tweets( \\\u001b[39;00m\n\u001b[1;32m   1072\u001b[0m \u001b[38;5;124;03m    query, *, end_time=None, expansions=None, max_results=None, \\\u001b[39;00m\n\u001b[1;32m   1073\u001b[0m \u001b[38;5;124;03m    media_fields=None, next_token=None, place_fields=None, \\\u001b[39;00m\n\u001b[0;32m   (...)\u001b[0m\n\u001b[1;32m   1160\u001b[0m \u001b[38;5;124;03m.. _pagination: https://developer.twitter.com/en/docs/twitter-api/tweets/search/integrate/paginate\u001b[39;00m\n\u001b[1;32m   1161\u001b[0m \u001b[38;5;124;03m\"\"\"\u001b[39;00m\n\u001b[1;32m   1162\u001b[0m params[\u001b[38;5;124m\"\u001b[39m\u001b[38;5;124mquery\u001b[39m\u001b[38;5;124m\"\u001b[39m] \u001b[38;5;241m=\u001b[39m query\n\u001b[0;32m-> 1163\u001b[0m \u001b[38;5;28;01mreturn\u001b[39;00m \u001b[38;5;28;43mself\u001b[39;49m\u001b[38;5;241;43m.\u001b[39;49m\u001b[43m_make_request\u001b[49m\u001b[43m(\u001b[49m\n\u001b[1;32m   1164\u001b[0m \u001b[43m    \u001b[49m\u001b[38;5;124;43m\"\u001b[39;49m\u001b[38;5;124;43mGET\u001b[39;49m\u001b[38;5;124;43m\"\u001b[39;49m\u001b[43m,\u001b[49m\u001b[43m \u001b[49m\u001b[38;5;124;43m\"\u001b[39;49m\u001b[38;5;124;43m/2/tweets/search/all\u001b[39;49m\u001b[38;5;124;43m\"\u001b[39;49m\u001b[43m,\u001b[49m\u001b[43m \u001b[49m\u001b[43mparams\u001b[49m\u001b[38;5;241;43m=\u001b[39;49m\u001b[43mparams\u001b[49m\u001b[43m,\u001b[49m\n\u001b[1;32m   1165\u001b[0m \u001b[43m    \u001b[49m\u001b[43mendpoint_parameters\u001b[49m\u001b[38;5;241;43m=\u001b[39;49m\u001b[43m(\u001b[49m\n\u001b[1;32m   1166\u001b[0m \u001b[43m        \u001b[49m\u001b[38;5;124;43m\"\u001b[39;49m\u001b[38;5;124;43mend_time\u001b[39;49m\u001b[38;5;124;43m\"\u001b[39;49m\u001b[43m,\u001b[49m\u001b[43m \u001b[49m\u001b[38;5;124;43m\"\u001b[39;49m\u001b[38;5;124;43mexpansions\u001b[39;49m\u001b[38;5;124;43m\"\u001b[39;49m\u001b[43m,\u001b[49m\u001b[43m \u001b[49m\u001b[38;5;124;43m\"\u001b[39;49m\u001b[38;5;124;43mmax_results\u001b[39;49m\u001b[38;5;124;43m\"\u001b[39;49m\u001b[43m,\u001b[49m\u001b[43m \u001b[49m\u001b[38;5;124;43m\"\u001b[39;49m\u001b[38;5;124;43mmedia.fields\u001b[39;49m\u001b[38;5;124;43m\"\u001b[39;49m\u001b[43m,\u001b[49m\n\u001b[1;32m   1167\u001b[0m \u001b[43m        \u001b[49m\u001b[38;5;124;43m\"\u001b[39;49m\u001b[38;5;124;43mnext_token\u001b[39;49m\u001b[38;5;124;43m\"\u001b[39;49m\u001b[43m,\u001b[49m\u001b[43m \u001b[49m\u001b[38;5;124;43m\"\u001b[39;49m\u001b[38;5;124;43mplace.fields\u001b[39;49m\u001b[38;5;124;43m\"\u001b[39;49m\u001b[43m,\u001b[49m\u001b[43m \u001b[49m\u001b[38;5;124;43m\"\u001b[39;49m\u001b[38;5;124;43mpoll.fields\u001b[39;49m\u001b[38;5;124;43m\"\u001b[39;49m\u001b[43m,\u001b[49m\u001b[43m \u001b[49m\u001b[38;5;124;43m\"\u001b[39;49m\u001b[38;5;124;43mquery\u001b[39;49m\u001b[38;5;124;43m\"\u001b[39;49m\u001b[43m,\u001b[49m\n\u001b[1;32m   1168\u001b[0m \u001b[43m        \u001b[49m\u001b[38;5;124;43m\"\u001b[39;49m\u001b[38;5;124;43msince_id\u001b[39;49m\u001b[38;5;124;43m\"\u001b[39;49m\u001b[43m,\u001b[49m\u001b[43m \u001b[49m\u001b[38;5;124;43m\"\u001b[39;49m\u001b[38;5;124;43msort_order\u001b[39;49m\u001b[38;5;124;43m\"\u001b[39;49m\u001b[43m,\u001b[49m\u001b[43m \u001b[49m\u001b[38;5;124;43m\"\u001b[39;49m\u001b[38;5;124;43mstart_time\u001b[39;49m\u001b[38;5;124;43m\"\u001b[39;49m\u001b[43m,\u001b[49m\u001b[43m \u001b[49m\u001b[38;5;124;43m\"\u001b[39;49m\u001b[38;5;124;43mtweet.fields\u001b[39;49m\u001b[38;5;124;43m\"\u001b[39;49m\u001b[43m,\u001b[49m\n\u001b[1;32m   1169\u001b[0m \u001b[43m        \u001b[49m\u001b[38;5;124;43m\"\u001b[39;49m\u001b[38;5;124;43muntil_id\u001b[39;49m\u001b[38;5;124;43m\"\u001b[39;49m\u001b[43m,\u001b[49m\u001b[43m \u001b[49m\u001b[38;5;124;43m\"\u001b[39;49m\u001b[38;5;124;43muser.fields\u001b[39;49m\u001b[38;5;124;43m\"\u001b[39;49m\n\u001b[1;32m   1170\u001b[0m \u001b[43m    \u001b[49m\u001b[43m)\u001b[49m\u001b[43m,\u001b[49m\u001b[43m \u001b[49m\u001b[43mdata_type\u001b[49m\u001b[38;5;241;43m=\u001b[39;49m\u001b[43mTweet\u001b[49m\n\u001b[1;32m   1171\u001b[0m \u001b[43m\u001b[49m\u001b[43m)\u001b[49m\n",
      "File \u001b[0;32m~/Library/Python/3.9/lib/python/site-packages/tweepy/client.py:129\u001b[0m, in \u001b[0;36mBaseClient._make_request\u001b[0;34m(self, method, route, params, endpoint_parameters, json, data_type, user_auth)\u001b[0m\n\u001b[1;32m    123\u001b[0m \u001b[38;5;28;01mdef\u001b[39;00m \u001b[38;5;21m_make_request\u001b[39m(\n\u001b[1;32m    124\u001b[0m     \u001b[38;5;28mself\u001b[39m, method, route, params\u001b[38;5;241m=\u001b[39m{}, endpoint_parameters\u001b[38;5;241m=\u001b[39m(), json\u001b[38;5;241m=\u001b[39m\u001b[38;5;28;01mNone\u001b[39;00m,\n\u001b[1;32m    125\u001b[0m     data_type\u001b[38;5;241m=\u001b[39m\u001b[38;5;28;01mNone\u001b[39;00m, user_auth\u001b[38;5;241m=\u001b[39m\u001b[38;5;28;01mFalse\u001b[39;00m\n\u001b[1;32m    126\u001b[0m ):\n\u001b[1;32m    127\u001b[0m     request_params \u001b[38;5;241m=\u001b[39m \u001b[38;5;28mself\u001b[39m\u001b[38;5;241m.\u001b[39m_process_params(params, endpoint_parameters)\n\u001b[0;32m--> 129\u001b[0m     response \u001b[38;5;241m=\u001b[39m \u001b[38;5;28;43mself\u001b[39;49m\u001b[38;5;241;43m.\u001b[39;49m\u001b[43mrequest\u001b[49m\u001b[43m(\u001b[49m\u001b[43mmethod\u001b[49m\u001b[43m,\u001b[49m\u001b[43m \u001b[49m\u001b[43mroute\u001b[49m\u001b[43m,\u001b[49m\u001b[43m \u001b[49m\u001b[43mparams\u001b[49m\u001b[38;5;241;43m=\u001b[39;49m\u001b[43mrequest_params\u001b[49m\u001b[43m,\u001b[49m\n\u001b[1;32m    130\u001b[0m \u001b[43m                            \u001b[49m\u001b[43mjson\u001b[49m\u001b[38;5;241;43m=\u001b[39;49m\u001b[43mjson\u001b[49m\u001b[43m,\u001b[49m\u001b[43m \u001b[49m\u001b[43muser_auth\u001b[49m\u001b[38;5;241;43m=\u001b[39;49m\u001b[43muser_auth\u001b[49m\u001b[43m)\u001b[49m\n\u001b[1;32m    132\u001b[0m     \u001b[38;5;28;01mif\u001b[39;00m \u001b[38;5;28mself\u001b[39m\u001b[38;5;241m.\u001b[39mreturn_type \u001b[38;5;129;01mis\u001b[39;00m requests\u001b[38;5;241m.\u001b[39mResponse:\n\u001b[1;32m    133\u001b[0m         \u001b[38;5;28;01mreturn\u001b[39;00m response\n",
      "File \u001b[0;32m~/Library/Python/3.9/lib/python/site-packages/tweepy/client.py:100\u001b[0m, in \u001b[0;36mBaseClient.request\u001b[0;34m(self, method, route, params, json, user_auth)\u001b[0m\n\u001b[1;32m     98\u001b[0m     \u001b[38;5;28;01mraise\u001b[39;00m Unauthorized(response)\n\u001b[1;32m     99\u001b[0m \u001b[38;5;28;01mif\u001b[39;00m response\u001b[38;5;241m.\u001b[39mstatus_code \u001b[38;5;241m==\u001b[39m \u001b[38;5;241m403\u001b[39m:\n\u001b[0;32m--> 100\u001b[0m     \u001b[38;5;28;01mraise\u001b[39;00m Forbidden(response)\n\u001b[1;32m    101\u001b[0m \u001b[38;5;28;01mif\u001b[39;00m response\u001b[38;5;241m.\u001b[39mstatus_code \u001b[38;5;241m==\u001b[39m \u001b[38;5;241m404\u001b[39m:\n\u001b[1;32m    102\u001b[0m     \u001b[38;5;28;01mraise\u001b[39;00m NotFound(response)\n",
      "\u001b[0;31mForbidden\u001b[0m: 403 Forbidden\nWhen authenticating requests to the Twitter API v2 endpoints, you must use keys and tokens from a Twitter developer App that is attached to a Project. You can create a project via the developer portal."
     ]
    }
   ],
   "source": [
    "tweets2 = client.search_all_tweets(\"renewable energy\",end_time=None, max_results=5, start_time=None,)\n",
    "for tweet in tweets2.data:\n",
    "    print(tweet.text+\"\\n----- \\n \\n\")"
   ]
  },
  {
   "cell_type": "code",
   "execution_count": 201,
   "metadata": {},
   "outputs": [
    {
     "name": "stdout",
     "output_type": "stream",
     "text": [
      "@hinsonashley @realDonaldTrump What are you going to do on 5 Nov when he loses again\n",
      "\n",
      "Principled Americans don't vote for Rapists, Traitors &amp; Convicted Felons especially when it's all the same person\n",
      "\n",
      "Reminder: https://t.co/Cn9q3UF9js\n"
     ]
    }
   ],
   "source": [
    "tweet_dict = {}\n",
    "\n",
    "items=[]\n",
    "\n",
    "for i, tweet in enumerate(tweets.data):\n",
    "    tweet_dict[f'{i}'] = tweet.text\n",
    "    \n",
    "for key, value in tweet_dict.items():\n",
    "    modified_key = key.replace('[i]', '')\n",
    "    items.append((modified_key, value))\n",
    "\n",
    "text = items[0]\n",
    "tweet1=text[1]\n",
    "\n",
    "print (tweet1)"
   ]
  },
  {
   "cell_type": "code",
   "execution_count": 202,
   "metadata": {},
   "outputs": [
    {
     "name": "stdout",
     "output_type": "stream",
     "text": [
      "{'NEG': 0.9746758341789246, 'NEU': 0.022630013525485992, 'POS': 0.0026941238902509212}\n"
     ]
    }
   ],
   "source": [
    "from pysentimiento import create_analyzer\n",
    "\n",
    "analyzer = create_analyzer(task=\"sentiment\", lang=\"en\")\n",
    "AnalyzerOutput1=analyzer.predict(tweet1)\n",
    "\n",
    "class AnalyzerOutput:\n",
    "    def __init__(self, output, probas):\n",
    "        self.output = output\n",
    "        self.probas = probas\n",
    "\n",
    "analyzer_output = AnalyzerOutput1\n",
    "\n",
    "probas_dict = analyzer_output.probas\n",
    "\n",
    "print(probas_dict)"
   ]
  },
  {
   "cell_type": "code",
   "execution_count": 203,
   "metadata": {},
   "outputs": [
    {
     "data": {
      "image/png": "[encoded data removed]",
      "text/plain": [
       "<Figure size 800x500 with 1 Axes>"
      ]
     },
     "metadata": {},
     "output_type": "display_data"
    },
    {
     "name": "stdout",
     "output_type": "stream",
     "text": [
      "The tweet being analyzed is: \n",
      "\"@hinsonashley @realDonaldTrump What are you going to do on 5 Nov when he loses again\n",
      "\n",
      "Principled Americans don't vote for Rapists, Traitors &amp; Convicted Felons especially when it's all the same person\n",
      "\n",
      "Reminder: https://t.co/Cn9q3UF9js\"\n"
     ]
    }
   ],
   "source": [
    "import numpy as np\n",
    "import pandas as pd\n",
    "import matplotlib.pyplot as plt\n",
    "\n",
    "\n",
    "df = pd.DataFrame(list(probas_dict.items()), columns=['Sentiment', 'Probability'])\n",
    "\n",
    "colors = ['green' if sentiment == 'POS' else 'gray' if sentiment == 'NEU' else 'red' for sentiment in df['Sentiment']]\n",
    "\n",
    "plt.figure(figsize=(8, 5))\n",
    "plt.bar(df['Sentiment'], df['Probability'], color=colors)\n",
    "plt.xlabel('Sentiment')\n",
    "plt.ylabel('Probability')\n",
    "plt.title('Sentiment Analysis Output')\n",
    "plt.show()\n",
    "\n",
    "print(\"The tweet being analyzed is: \\n\" +'\"' +tweet1 +'\"')\n",
    "plt.show()"
   ]
  }
 ],
 "metadata": {
  "kernelspec": {
   "display_name": "Python 3",
   "language": "python",
   "name": "python3"
  },
  "language_info": {
   "codemirror_mode": {
    "name": "ipython",
    "version": 3
   },
   "file_extension": ".py",
   "mimetype": "text/x-python",
   "name": "python",
   "nbconvert_exporter": "python",
   "pygments_lexer": "ipython3",
   "version": "3.9.6"
  }
 },
 "nbformat": 4,
 "nbformat_minor": 2
}
