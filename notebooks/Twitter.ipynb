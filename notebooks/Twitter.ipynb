{
 "cells": [
  {
   "cell_type": "code",
   "execution_count": 10,
   "metadata": {},
   "outputs": [],
   "source": [
    "import tweepy\n",
    "import dotenv\n",
    "from dotenv import load_dotenv\n",
    "import os\n",
    "\n",
    "load_dotenv()\n",
    "\n",
    "consumer_key= os.getenv('consumer_key')\n",
    "consumer_secret= os.getenv('consumer_secret')\n",
    "access_token= os.getenv('access_token')\n",
    "access_secret= os.getenv('access_secret')\n",
    "bearer_token1=os.getenv('bearer_token')\n"
   ]
  },
  {
   "cell_type": "code",
   "execution_count": 13,
   "metadata": {},
   "outputs": [
    {
     "name": "stdout",
     "output_type": "stream",
     "text": [
      "Authentication successful\n"
     ]
    }
   ],
   "source": [
    "try:\n",
    "    client = tweepy.Client(\n",
    "        bearer_token=bearer_token1,\n",
    "    )\n",
    "    print('Authentication successful')\n",
    "except:\n",
    "    print('Broken')"
   ]
  },
  {
   "cell_type": "code",
   "execution_count": 34,
   "metadata": {},
   "outputs": [
    {
     "name": "stdout",
     "output_type": "stream",
     "text": [
      "@ComradeKawaida @abdulnondo2 Fungieni na @Google Pia, wapumbavu nyie\n",
      "@greyone1604 @Google New camera update released and boom we can select lenses. 😁\n",
      "@MauricioLizcano @Google @Xertica @Ministerio_TIC @UronLucy @Andreschaves01 @GoberNorte @williamndes_ El @Ministerio_TIC hace entrega a la @GoberNorte de un reconocimiento especial por su compromiso en la implementación de los #ServiciosCiudadanosDigitales, la integración de sus trámites en la #CarpetaCiudadanaDigital y el uso de la plataforma de interoperabilidad del país. 🇨🇴 https://t.co/HdSWfRX1sG\n",
      "@Google S.o.s in Google. https://t.co/fSIu3DRCpJ\n",
      "@alicekeeler @Google @WomenTechmakers 1 Chromebook that I'm using\n",
      "1 Chromebook backup (photo)\n",
      "1 Chromebook with data\n",
      "\n",
      "1 bricked iMac Pro\n",
      "1 super old HP\n",
      "\n",
      "1 Pixel 8 that I'm using\n",
      "1 Pixel 3 as a camera https://t.co/9fW6bqZNOF\n"
     ]
    }
   ],
   "source": [
    "user_id = 20536157\n",
    "tweets = client.get_users_mentions(user_id, user_auth=False, max_results=5)\n",
    "\n",
    "for tweet in tweets.data:\n",
    "    print(tweet.text)\n"
   ]
  },
  {
   "cell_type": "code",
   "execution_count": 63,
   "metadata": {},
   "outputs": [
    {
     "name": "stdout",
     "output_type": "stream",
     "text": [
      "('1', '@greyone1604 @Google New camera update released and boom we can select lenses. 😁')\n"
     ]
    },
    {
     "ename": "TypeError",
     "evalue": "'module' object is not callable",
     "output_type": "error",
     "traceback": [
      "\u001b[0;31m---------------------------------------------------------------------------\u001b[0m",
      "\u001b[0;31mTypeError\u001b[0m                                 Traceback (most recent call last)",
      "Cell \u001b[0;32mIn[63], line 15\u001b[0m\n\u001b[1;32m     11\u001b[0m \u001b[38;5;28mprint\u001b[39m(items[\u001b[38;5;241m1\u001b[39m])\n\u001b[1;32m     13\u001b[0m text\u001b[38;5;241m=\u001b[39mitems[\u001b[38;5;241m1\u001b[39m]\n\u001b[0;32m---> 15\u001b[0m blob \u001b[38;5;241m=\u001b[39m \u001b[43mTextBlob\u001b[49m\u001b[43m(\u001b[49m\u001b[43mtext\u001b[49m\u001b[43m)\u001b[49m\n\u001b[1;32m     16\u001b[0m blob\u001b[38;5;241m.\u001b[39mtags  \u001b[38;5;66;03m# [('The', 'DT'), ('titular', 'JJ'),\u001b[39;00m\n\u001b[1;32m     17\u001b[0m \u001b[38;5;66;03m#  ('threat', 'NN'), ('of', 'IN'), ...]\u001b[39;00m\n",
      "\u001b[0;31mTypeError\u001b[0m: 'module' object is not callable"
     ]
    }
   ],
   "source": [
    "\n",
    "tweet_dict = {}\n",
    "for i, tweet in enumerate(tweets.data):\n",
    "    tweet_dict[f'{i}'] = tweet.text\n",
    "    \n",
    "items = list(tweet_dict.items())\n",
    "\n",
    "print(items[1])\n",
    "\n",
    "\n",
    "\n",
    "\n"
   ]
  },
  {
   "cell_type": "code",
   "execution_count": 66,
   "metadata": {},
   "outputs": [
    {
     "ename": "TypeError",
     "evalue": "'module' object is not callable",
     "output_type": "error",
     "traceback": [
      "\u001b[0;31m---------------------------------------------------------------------------\u001b[0m",
      "\u001b[0;31mTypeError\u001b[0m                                 Traceback (most recent call last)",
      "Cell \u001b[0;32mIn[66], line 4\u001b[0m\n\u001b[1;32m      1\u001b[0m \u001b[38;5;28;01mimport\u001b[39;00m \u001b[38;5;21;01mtextblob\u001b[39;00m \u001b[38;5;28;01mas\u001b[39;00m \u001b[38;5;21;01mtb\u001b[39;00m\n\u001b[1;32m      2\u001b[0m text\u001b[38;5;241m=\u001b[39mitems[\u001b[38;5;241m1\u001b[39m]\n\u001b[0;32m----> 4\u001b[0m blob \u001b[38;5;241m=\u001b[39m \u001b[43mtb\u001b[49m\u001b[43m(\u001b[49m\u001b[43mtext\u001b[49m\u001b[43m)\u001b[49m\n\u001b[1;32m      5\u001b[0m \u001b[38;5;28mprint\u001b[39m(blob\u001b[38;5;241m.\u001b[39mtags)\n",
      "\u001b[0;31mTypeError\u001b[0m: 'module' object is not callable"
     ]
    }
   ],
   "source": [
    "import textblob as tb\n",
    "text=items[1]\n",
    "\n",
    "blob = tb(text)\n",
    "print(blob.tags)\n"
   ]
  }
 ],
 "metadata": {
  "kernelspec": {
   "display_name": "Python 3",
   "language": "python",
   "name": "python3"
  },
  "language_info": {
   "codemirror_mode": {
    "name": "ipython",
    "version": 3
   },
   "file_extension": ".py",
   "mimetype": "text/x-python",
   "name": "python",
   "nbconvert_exporter": "python",
   "pygments_lexer": "ipython3",
   "version": "3.9.6"
  }
 },
 "nbformat": 4,
 "nbformat_minor": 2
}
