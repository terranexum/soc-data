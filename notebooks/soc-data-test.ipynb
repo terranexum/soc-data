{
 "cells": [
  {
   "cell_type": "code",
   "execution_count": 1,
   "metadata": {
    "tags": [
     "Install required libraries"
    ]
   },
   "outputs": [
    {
     "data": {
      "text/plain": [
       "'%pip install openqaoa\\n\\n%pip install pandas\\n%pip install requests\\n%pip install geojson\\n%pip install geopandas\\n\\n%pip install cplex\\n\\n%pip install qiskit\\n%pip install fiona\\n%pip install pyogrio\\n%pip install pyproj\\n%pip install rtree \\n%pip install shapely\\n%pip install numpy\\n%pip install geodatasets\\n%pip install geoplot\\n%pip install matplotlib\\n%pip install qiskit[visualization]\\n%pip install folium\\n%pip install libpysal\\n%pip install dwave-ocean-sdk\\n%pip install networkx\\n\\n\\n%pip install scikit-learn\\n%pip install qiskit[optimization]\\n\\n%pip install more-itertools\\n%matplotlib inline\\n'"
      ]
     },
     "execution_count": 1,
     "metadata": {},
     "output_type": "execute_result"
    }
   ],
   "source": [
    "'''%pip install openqaoa\n",
    "%pip install requests\n",
    "%pip install geojson\n",
    "\n",
    "%pip install geopandas\n",
    "\n",
    "%pip install cplex\n",
    "%pip install qiskit\n",
    "%pip install fiona\n",
    "%pip install pyogrio\n",
    "%pip install pyproj\n",
    "%pip install rtree \n",
    "%pip install shapely\n",
    "%pip install geodatasets\n",
    "%pip install geoplot\n",
    "\n",
    "%pip install matplotlib\n",
    "\n",
    "%pip install qiskit[visualization]\n",
    "%pip install folium\n",
    "%pip install libpysal\n",
    "%pip install dwave-ocean-sdk\n",
    "%pip install networkx\n",
    "%pip install scikit-learn\n",
    "%pip install qiskit[optimization]\n",
    "%pip install more-itertools\n",
    "%matplotlib inline\n",
    "\n",
    "\n",
    "\n",
    "requests\n",
    "'''"
   ]
  },
  {
   "cell_type": "code",
   "execution_count": 1,
   "metadata": {},
   "outputs": [
    {
     "name": "stdout",
     "output_type": "stream",
     "text": [
      "Defaulting to user installation because normal site-packages is not writeable\n",
      "Collecting tweepy\n",
      "  Downloading tweepy-4.14.0-py3-none-any.whl (98 kB)\n",
      "\u001b[K     |████████████████████████████████| 98 kB 6.2 MB/s eta 0:00:011\n",
      "\u001b[?25hCollecting oauthlib<4,>=3.2.0\n",
      "  Downloading oauthlib-3.2.2-py3-none-any.whl (151 kB)\n",
      "\u001b[K     |████████████████████████████████| 151 kB 23.1 MB/s eta 0:00:01\n",
      "\u001b[?25hCollecting requests<3,>=2.27.0\n",
      "  Downloading requests-2.32.3-py3-none-any.whl (64 kB)\n",
      "\u001b[K     |████████████████████████████████| 64 kB 14.8 MB/s eta 0:00:01\n",
      "\u001b[?25hCollecting requests-oauthlib<2,>=1.2.0\n",
      "  Downloading requests_oauthlib-1.3.1-py2.py3-none-any.whl (23 kB)\n",
      "Collecting charset-normalizer<4,>=2\n",
      "  Downloading charset_normalizer-3.3.2-cp39-cp39-macosx_11_0_arm64.whl (120 kB)\n",
      "\u001b[K     |████████████████████████████████| 120 kB 18.6 MB/s eta 0:00:01\n",
      "\u001b[?25hCollecting idna<4,>=2.5\n",
      "  Downloading idna-3.7-py3-none-any.whl (66 kB)\n",
      "\u001b[K     |████████████████████████████████| 66 kB 14.0 MB/s eta 0:00:01\n",
      "\u001b[?25hCollecting urllib3<3,>=1.21.1\n",
      "  Downloading urllib3-2.2.1-py3-none-any.whl (121 kB)\n",
      "\u001b[K     |████████████████████████████████| 121 kB 12.4 MB/s eta 0:00:01\n",
      "\u001b[?25hCollecting certifi>=2017.4.17\n",
      "  Downloading certifi-2024.6.2-py3-none-any.whl (164 kB)\n",
      "\u001b[K     |████████████████████████████████| 164 kB 15.6 MB/s eta 0:00:01\n",
      "\u001b[?25hInstalling collected packages: urllib3, idna, charset-normalizer, certifi, requests, oauthlib, requests-oauthlib, tweepy\n",
      "Successfully installed certifi-2024.6.2 charset-normalizer-3.3.2 idna-3.7 oauthlib-3.2.2 requests-2.32.3 requests-oauthlib-1.3.1 tweepy-4.14.0 urllib3-2.2.1\n",
      "\u001b[33mWARNING: You are using pip version 21.2.4; however, version 24.0 is available.\n",
      "You should consider upgrading via the '/Library/Developer/CommandLineTools/usr/bin/python3 -m pip install --upgrade pip' command.\u001b[0m\n",
      "Note: you may need to restart the kernel to use updated packages.\n"
     ]
    }
   ],
   "source": [
    "'''%pip install pandas\n",
    "%pip install numpy'''\n",
    "%pip install tweepy\n"
   ]
  },
  {
   "cell_type": "code",
   "execution_count": 2,
   "metadata": {},
   "outputs": [
    {
     "name": "stderr",
     "output_type": "stream",
     "text": [
      "/Users/blakelayton/Library/Python/3.9/lib/python/site-packages/urllib3/__init__.py:35: NotOpenSSLWarning: urllib3 v2 only supports OpenSSL 1.1.1+, currently the 'ssl' module is compiled with 'LibreSSL 2.8.3'. See: https://github.com/urllib3/urllib3/issues/3020\n",
      "  warnings.warn(\n"
     ]
    }
   ],
   "source": [
    "import pandas as pd\n",
    "import numpy as np\n",
    "import tweepy as tp\n",
    "\n",
    "''''''"
   ]
  },
  {
   "cell_type": "code",
   "execution_count": 5,
   "metadata": {},
   "outputs": [
    {
     "name": "stdout",
     "output_type": "stream",
     "text": [
      "hi\n"
     ]
    }
   ],
   "source": [
    "print(\"hi\")"
   ]
  }
 ],
 "metadata": {
  "kernelspec": {
   "display_name": "Python 3",
   "language": "python",
   "name": "python3"
  },
  "language_info": {
   "codemirror_mode": {
    "name": "ipython",
    "version": 3
   },
   "file_extension": ".py",
   "mimetype": "text/x-python",
   "name": "python",
   "nbconvert_exporter": "python",
   "pygments_lexer": "ipython3",
   "version": "3.9.6"
  }
 },
 "nbformat": 4,
 "nbformat_minor": 2
}
