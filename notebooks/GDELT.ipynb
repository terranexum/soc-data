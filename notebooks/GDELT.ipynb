{
 "cells": [
  {
   "cell_type": "code",
   "execution_count": 20,
   "metadata": {},
   "outputs": [
    {
     "name": "stdout",
     "output_type": "stream",
     "text": [
      "<Response [200]>\n",
      "{\"articles\": [ { \"url\": \"https://www.educationworld.com/a_lesson/understanding-renewable-energy\", \"url_mobile\": \"\", \"title\": \"Green Energy : Understanding Renewable Resources in our World\", \"seendate\": \"20240402T161500Z\", \"socialimage\": \"\", \"domain\": \"educationworld.com\", \"language\": \"English\", \"sourcecountry\": \"United States\" },{ \"url\": \"https://www.haberturk.com/halka-arz-ic-enterra-yenilenebilir-enerji-halka-arz-sonuclari-aciklandi-mi-kisi-basina-kac-lot-dustu-ve-ne-zaman-islem-gorecek-3674529-ekonomi\", \"url_mobile\": \"https://m.haberturk.com/halka-arz-ic-enterra-yenilenebilir-enerji-halka-arz-sonuclari-aciklandi-mi-kisi-basina-kac-lot-dustu-ve-ne-zaman-islem-gorecek-3674529-amp\", \"title\": \"HALKA ARZ : Ic Enterra Yenilenebilir Enerji halka arz sonuçları açıklandı mı , kişi başına kaç lot düştü ve ne zaman işlem görecek ? \", \"seendate\": \"20240402T100000Z\", \"socialimage\": \"\", \"domain\": \"haberturk.com\", \"language\": \"Turkish\", \"sourcecountry\": \"Turkey\" },{ \"url\": \"https://www.insidermonkey.com/blog/20-states-that-produce-the-most-renewable-energy-in-the-us-1279098/\", \"url_mobile\": \"https://www.insidermonkey.com/blog/20-states-that-produce-the-most-renewable-energy-in-the-us-1279098/?amp=1\", \"title\": \"20 States That Produce the Most Renewable Energy in the US\", \"seendate\": \"20240327T014500Z\", \"socialimage\": \"https://d2gr5kl7dt2z3t.cloudfront.net/blog/wp-content/uploads/2023/11/15152828/SUNL-insidermonkey-1700080105483.jpg\", \"domain\": \"insidermonkey.com\", \"language\": \"English\", \"sourcecountry\": \"United States\" },{ \"url\": \"https://zdnet.co.kr/view/?no=20240428094847\", \"url_mobile\": \"\", \"title\": \"대한상의 , 중소 · 중견기업에  재생에너지 컨설팅  무료 지원 - ZDNet korea\", \"seendate\": \"20240428T073000Z\", \"socialimage\": \"https://image.zdnet.co.kr/2024/04/28/b30b70d3bf9b35c6d46621ff652496b2.jpg\", \"domain\": \"zdnet.co.kr\", \"language\": \"Korean\", \"sourcecountry\": \"South Korea\" },{ \"url\": \"https://www.haberturk.com/ic-enterra-yenilenebilir-enerji-halka-arz-sonuclari-aciklandi-mi-ne-zaman-aciklanacak-kac-lot-verir-entra-ne-zaman-islem-gorecek-3673595-ekonomi\", \"url_mobile\": \"https://m.haberturk.com/ic-enterra-yenilenebilir-enerji-halka-arz-sonuclari-aciklandi-mi-ne-zaman-aciklanacak-kac-lot-verir-entra-ne-zaman-islem-gorecek-3673595-amp\", \"title\": \"IC Enterra Yenilenebilir Enerji halka arz sonuçları açıklandı mı ne zaman açıklanacak , kaç lot verir ? ENTRA ne zaman işlem görecek ? \", \"seendate\": \"20240329T203000Z\", \"socialimage\": \"\", \"domain\": \"haberturk.com\", \"language\": \"Turkish\", \"sourcecountry\": \"Turkey\" },{ \"url\": \"https://www.haberturk.com/ic-enterra-yenilenebilir-enerji-halka-arz-sonuclari-aciklandi-mi-ne-zaman-aciklanacak-kac-lot-verir-entra-borsada-ne-zaman-islem-gorecek-3673595-ekonomi\", \"url_mobile\": \"https://m.haberturk.com/ic-enterra-yenilenebilir-enerji-halka-arz-sonuclari-aciklandi-mi-ne-zaman-aciklanacak-kac-lot-verir-entra-borsada-ne-zaman-islem-gorecek-3673595-amp\", \"title\": \"IC Enterra Yenilenebilir Enerji halka arz sonuçları açıklandı mı ne zaman açıklanacak , kaç lot verir ? ENTRA borsada ne zaman işlem görmeye başlayacak ? \", \"seendate\": \"20240330T001500Z\", \"socialimage\": \"\", \"domain\": \"haberturk.com\", \"language\": \"Turkish\", \"sourcecountry\": \"Turkey\" },{ \"url\": \"https://www.dunya.com/finans/haberler/borsa/ic-enterra-yenilenebilir-enerjinin-halka-arzina-dort-kat-talep-haberi-721680\", \"url_mobile\": \"https://www.dunya.com/amp/finans/haberler/borsa/ic-enterra-yenilenebilir-enerjinin-halka-arzina-dort-kat-talep-haberi-721680\", \"title\": \"IC Enterra Yenilenebilir Enerjinin halka arzına dört kat talep\", \"seendate\": \"20240401T164500Z\", \"socialimage\": \"https://i.dunya.com/2/1280/720/storage/files/images/2024/03/12/borsa-istanbul-islem-ijq2-cover-fiv-kyl6_cover.jpg\", \"domain\": \"dunya.com\", \"language\": \"Turkish\", \"sourcecountry\": \"Turkey\" },{ \"url\": \"https://lestari.kompas.com/read/2024/04/01/110000486/pengembangan-energi-terbarukan-global-senjang-belum-selaras-dengan-target\", \"url_mobile\": \"\", \"title\": \"Pengembangan Energi Terbarukan Global Senjang , Belum Selaras dengan Target 2030\", \"seendate\": \"20240401T044500Z\", \"socialimage\": \"https://asset.kompas.com/crops/qDsXCJhKDIdbyenMrL-aQ2bwqM0=/104x138:904x671/780x390/data/photo/2018/04/20/1073532650.jpg\", \"domain\": \"lestari.kompas.com\", \"language\": \"Indonesian\", \"sourcecountry\": \"Indonesia\" },{ \"url\": \"https://www.thecable.ng/navigating-the-path-to-energy-transition-lessons-from-germany-for-nigeria/\", \"url_mobile\": \"https://www.thecable.ng/navigating-the-path-to-energy-transition-lessons-from-germany-for-nigeria/amp/\", \"title\": \"Navigating the path to energy transition : Lessons from Germany for Nigeria – TheCable\", \"seendate\": \"20240403T220000Z\", \"socialimage\": \"\", \"domain\": \"thecable.ng\", \"language\": \"English\", \"sourcecountry\": \"Nigeria\" },{ \"url\": \"https://www.marketscreener.com/quote/stock/NORSK-HYDRO-ASA-1413211/news/Norsk-Hydro-Hydro-Rein-and-Atlas-Renewable-Energy-begin-commercial-operation-of-Boa-Sorte-solar-pl-46349396/\", \"url_mobile\": \"\", \"title\": \"Norsk Hydro : Hydro Rein and Atlas Renewable Energy begin commercial operation of Boa Sorte solar plant - April 03 , 2024 at 09 : 08 am EDT\", \"seendate\": \"20240403T133000Z\", \"socialimage\": \"https://www.marketscreener.com/images/twitter_MS_fdnoir.png\", \"domain\": \"marketscreener.com\", \"language\": \"English\", \"sourcecountry\": \"\" },{ \"url\": \"https://news.mt.co.kr/mtview.php?no=2024052017013713069&type=2&sec=politics&pDepth2=Ptotal&MNE_T\", \"url_mobile\": \"https://m.mt.co.kr/renew/view_amp.html?no=2024052017013713069\", \"title\": \"RE100대표 손잡은 산업장관 , CFE와 동행길 찾는다\", \"seendate\": \"20240520T210000Z\", \"socialimage\": \"https://orgthumb.mt.co.kr/21/2024/05/2024052017013713069_1.jpg\", \"domain\": \"news.mt.co.kr\", \"language\": \"Korean\", \"sourcecountry\": \"South Korea\" },{ \"url\": \"https://timesofindia.indiatimes.com/blogs/disruption-in-higher-education/the-swift-rise-of-renewable-energy-a-driving-force-for-the-worldwide-transformation-of-electricity/\", \"url_mobile\": \"\", \"title\": \"The swift rise of renewable energy : A driving force for the worldwide transformation of electricity\", \"seendate\": \"20240509T184500Z\", \"socialimage\": \"https://static.toiimg.com/imagenext/toiblogs/photo/blogs/wp-content/uploads/2019/10/image2.jpeg\", \"domain\": \"timesofindia.indiatimes.com\", \"language\": \"English\", \"sourcecountry\": \"India\" },{ \"url\": \"https://ekonomi.haber7.com/ekonomi/haber/3433635-toplayicilik-faaliyetiyle-elektrik-piyasasinda-yenilenebilir-kaynaklar-etkin-kullanilacak\", \"url_mobile\": \"https://m.haber7.com/amphtml/ekonomi/haber/3433635-toplayicilik-faaliyetiyle-elektrik-piyasasinda-yenilenebilir-kaynaklar-etkin-kullanilacak\", \"title\": \"Toplayıcılık faaliyetiyle elektrik piyasasında yenilenebilir kaynaklar etkin kullanılacak\", \"seendate\": \"20240616T071500Z\", \"socialimage\": \"https://i12.haber7.net/haber/haber7/og_image/2024/24/toplayicilik_faaliyetiyle_elektrik_piyasasinda_yenilenebilir_kaynaklar_daha_etkin_kullanilacak_1718520464_3407.jpg\", \"domain\": \"ekonomi.haber7.com\", \"language\": \"Turkish\", \"sourcecountry\": \"Turkey\" },{ \"url\": \"https://www.haberinadresi.com/ekonomi/kuresel-yenilenebilir-enerji-kapasitesi-son-5-yilda-buyuk-artis-gosterdi-1411190h\", \"url_mobile\": \"https://www.haberinadresi.com/amp/ekonomi/kuresel-yenilenebilir-enerji-kapasitesi-son-5-yilda-buyuk-artis-gosterdi-1411190h\", \"title\": \"Küresel Yenilenebilir Enerji Kapasitesi Son 5 Yılda Büyük Artış Gösterdi\", \"seendate\": \"20240402T110000Z\", \"socialimage\": \"https://cdn.haberinadresi.com/news/179885.jpg\", \"domain\": \"haberinadresi.com\", \"language\": \"Turkish\", \"sourcecountry\": \"Turkey\" },{ \"url\": \"https://elaph.com/Web/NewsPapers/2024/04/1534075.html\", \"url_mobile\": \"https://elaph.com/amp/Web/NewsPapers/2024/04/1534075.html\", \"title\": \"تحولات الطاقة المستدامة\", \"seendate\": \"20240407T083000Z\", \"socialimage\": \"https://s1.elaph.com/resources/images/newspapers_authors/a2a63799e503c0abd1bf78011ca22c83.jpg\", \"domain\": \"elaph.com\", \"language\": \"Arabic\", \"sourcecountry\": \"Syria\" },{ \"url\": \"https://www.ippmedia.com/the-guardian/business/read/powering-progress-the-forces-fuelling-renewable-energy-adoption-in-africa-2024-03-29-102427\", \"url_mobile\": \"\", \"title\": \"Powering progress : The forces fuelling renewable energy adoption in Africa\", \"seendate\": \"20240329T150000Z\", \"socialimage\": \"\", \"domain\": \"ippmedia.com\", \"language\": \"English\", \"sourcecountry\": \"Tanzania\" },{ \"url\": \"https://timesofindia.indiatimes.com/blogs/scientifically-trended/igniting-change-part-8-indias-drive-to-ramp-up-the-green-energy-sector/\", \"url_mobile\": \"\", \"title\": \"Igniting change : Part 8 - India drive to ramp up the green energy sector\", \"seendate\": \"20240616T181500Z\", \"socialimage\": \"https://static.toiimg.com/imagenext/toiblogs/photo/blogs/wp-content/uploads/2019/01/IMG-20180908-WA0000-1.jpg\", \"domain\": \"timesofindia.indiatimes.com\", \"language\": \"English\", \"sourcecountry\": \"India\" },{ \"url\": \"https://www.marketscreener.com/quote/stock/TOYODA-GOSEI-CO-LTD-6494670/news/Toyoda-Gosei-Concludes-Virtual-Power-Purchase-Agreement-with-Toyota-Tsusho-46740799/\", \"url_mobile\": \"\", \"title\": \"Toyoda Gosei : Concludes Virtual Power Purchase Agreement with Toyota Tsusho\", \"seendate\": \"20240516T043000Z\", \"socialimage\": \"https://www.marketscreener.com/images/twitter_MS_fdblanc.png\", \"domain\": \"marketscreener.com\", \"language\": \"English\", \"sourcecountry\": \"\" },{ \"url\": \"https://www.posta.com.tr/yazarlar/bilal-emin-turan/enerjisi-zirvede-yeni-yatirimlara-hazir-2706384\", \"url_mobile\": \"\", \"title\": \"Enerjisi zirvede yeni yatırımlara hazır\", \"seendate\": \"20240327T054500Z\", \"socialimage\": \"https://image.posta.com.tr/i/posta/75/0x0/622129d9932151d6b46b1731.jpg\", \"domain\": \"posta.com.tr\", \"language\": \"Turkish\", \"sourcecountry\": \"Turkey\" },{ \"url\": \"https://www.finansgundem.com/haber/turkiyede-yenilenebilir-enerjinin-payi-yuzde-51i-asti/1791254\", \"url_mobile\": \"https://www.finansgundem.com/amp/haber/turkiyede-yenilenebilir-enerjinin-payi-yuzde-51i-asti/1791254\", \"title\": \"Türkiyede yenilenebilir enerjinin payı yüzde 51  i aştı\", \"seendate\": \"20240328T094500Z\", \"socialimage\": \"https://i.borsagundem.com/files/2024/3/28/1791254/1791254.jpg?v=1711613762\", \"domain\": \"finansgundem.com\", \"language\": \"Turkish\", \"sourcecountry\": \"Turkey\" },{ \"url\": \"https://www.insurancejournal.com/news/national/2024/05/09/773401.htm\", \"url_mobile\": \"https://amp.insurancejournal.com/news/national/2024/05/09/773401.htm\", \"title\": \"Markets / Coverages : FM Global Names Leadership for New Renewable Energy Unit\", \"seendate\": \"20240509T061500Z\", \"socialimage\": \"https://www.insurancejournal.com/img/social/opengraph/ij-social-energy-1200x630.png\", \"domain\": \"insurancejournal.com\", \"language\": \"English\", \"sourcecountry\": \"United States\" },{ \"url\": \"https://www.fnnews.com/news/202405201045010448\", \"url_mobile\": \"https://www.fnnews.com/ampNews/202405201045010448\", \"title\": \"유럽 전력 업체 , 잇따라 재생에너지 축소 ... 수지 안 맞아  \", \"seendate\": \"20240520T064500Z\", \"socialimage\": \"https://image.fnnews.com/resource/media/image/2024/02/07/202402072143064199_l.JPG\", \"domain\": \"fnnews.com\", \"language\": \"Korean\", \"sourcecountry\": \"South Korea\" },{ \"url\": \"http://biz.heraldcorp.com/village/view.php?ud=20240408050633\", \"url_mobile\": \"\", \"title\": \"  재생에너지 최적지 해남에 투자하세요 기업의 RE100 앞당겨집니다 - 헤럴드경제\", \"seendate\": \"20240408T080000Z\", \"socialimage\": \"https://res.heraldm.com/content/image/2024/04/08/20240408050638_0.jpg\", \"domain\": \"biz.heraldcorp.com\", \"language\": \"Korean\", \"sourcecountry\": \"South Korea\" },{ \"url\": \"https://news.mt.co.kr/mtview.php?no=2024051609394643617&type=2&sec=politics&pDepth2=Ptotal&MNE_T\", \"url_mobile\": \"https://m.mt.co.kr/renew/view_amp.html?no=2024051609394643617\", \"title\": \"재생에너지 ,  정부 주도  年 6GW 보급한다\", \"seendate\": \"20240516T081500Z\", \"socialimage\": \"https://orgthumb.mt.co.kr/21/2024/05/2024051609394643617_1.jpg\", \"domain\": \"news.mt.co.kr\", \"language\": \"Korean\", \"sourcecountry\": \"South Korea\" },{ \"url\": \"https://www.ammonnews.net/article/841422\", \"url_mobile\": \"\", \"title\": \"الدباس يكتب : تعديل غير موفق .. قانون الطاقة المتجددة مثالاً | كتاب عمون\", \"seendate\": \"20240405T083000Z\", \"socialimage\": \"https://www.ammonnews.net/image.php?token=b7eaa3880a6b20b52b024d9a1f37ed92&size=small\", \"domain\": \"ammonnews.net\", \"language\": \"Arabic\", \"sourcecountry\": \"Jordan\" }] }\n"
     ]
    },
    {
     "data": {
      "text/plain": [
       "\"byte_data = r.content\\n \\njson_data_1 = json.loads(byte_data.decode('utf-8'))\\nprint(json_data_1)\""
      ]
     },
     "execution_count": 20,
     "metadata": {},
     "output_type": "execute_result"
    }
   ],
   "source": [
    "import requests\n",
    "import json\n",
    "r = requests.get('https://api.gdeltproject.org/api/v2/doc/doc?query=%22renewable%20energy%22&%22&format=json')\n",
    " \n",
    "# check status code for response received\n",
    "# success code - 200\n",
    "print(r)\n",
    " \n",
    "# print content of request\n",
    "print(r.text)\n",
    "\n",
    "'''byte_data = r.content\n",
    " \n",
    "json_data_1 = json.loads(byte_data.decode('utf-8'))\n",
    "print(json_data_1)'''"
   ]
  },
  {
   "cell_type": "code",
   "execution_count": 23,
   "metadata": {},
   "outputs": [
    {
     "ename": "ValueError",
     "evalue": "Mime type rendering requires nbformat>=4.2.0 but it is not installed",
     "output_type": "error",
     "traceback": [
      "\u001b[0;31m---------------------------------------------------------------------------\u001b[0m",
      "\u001b[0;31mValueError\u001b[0m                                Traceback (most recent call last)",
      "Cell \u001b[0;32mIn[23], line 7\u001b[0m\n\u001b[1;32m      3\u001b[0m df \u001b[38;5;241m=\u001b[39m px\u001b[38;5;241m.\u001b[39mdata\u001b[38;5;241m.\u001b[39mgapminder()\u001b[38;5;241m.\u001b[39mquery(\u001b[38;5;124m\"\u001b[39m\u001b[38;5;124myear==2007\u001b[39m\u001b[38;5;124m\"\u001b[39m)\n\u001b[1;32m      4\u001b[0m fig \u001b[38;5;241m=\u001b[39m px\u001b[38;5;241m.\u001b[39mscatter_geo(df, locations\u001b[38;5;241m=\u001b[39m\u001b[38;5;124m\"\u001b[39m\u001b[38;5;124miso_alpha\u001b[39m\u001b[38;5;124m\"\u001b[39m, color\u001b[38;5;241m=\u001b[39m\u001b[38;5;124m\"\u001b[39m\u001b[38;5;124mcontinent\u001b[39m\u001b[38;5;124m\"\u001b[39m,\n\u001b[1;32m      5\u001b[0m                      hover_name\u001b[38;5;241m=\u001b[39m\u001b[38;5;124m\"\u001b[39m\u001b[38;5;124mcountry\u001b[39m\u001b[38;5;124m\"\u001b[39m, size\u001b[38;5;241m=\u001b[39m\u001b[38;5;124m\"\u001b[39m\u001b[38;5;124mpop\u001b[39m\u001b[38;5;124m\"\u001b[39m,\n\u001b[1;32m      6\u001b[0m                      projection\u001b[38;5;241m=\u001b[39m\u001b[38;5;124m\"\u001b[39m\u001b[38;5;124mnatural earth\u001b[39m\u001b[38;5;124m\"\u001b[39m)\n\u001b[0;32m----> 7\u001b[0m \u001b[43mfig\u001b[49m\u001b[38;5;241;43m.\u001b[39;49m\u001b[43mshow\u001b[49m\u001b[43m(\u001b[49m\u001b[43m)\u001b[49m\n",
      "File \u001b[0;32m~/Library/Python/3.9/lib/python/site-packages/plotly/basedatatypes.py:3410\u001b[0m, in \u001b[0;36mBaseFigure.show\u001b[0;34m(self, *args, **kwargs)\u001b[0m\n\u001b[1;32m   3377\u001b[0m \u001b[38;5;250m\u001b[39m\u001b[38;5;124;03m\"\"\"\u001b[39;00m\n\u001b[1;32m   3378\u001b[0m \u001b[38;5;124;03mShow a figure using either the default renderer(s) or the renderer(s)\u001b[39;00m\n\u001b[1;32m   3379\u001b[0m \u001b[38;5;124;03mspecified by the renderer argument\u001b[39;00m\n\u001b[0;32m   (...)\u001b[0m\n\u001b[1;32m   3406\u001b[0m \u001b[38;5;124;03mNone\u001b[39;00m\n\u001b[1;32m   3407\u001b[0m \u001b[38;5;124;03m\"\"\"\u001b[39;00m\n\u001b[1;32m   3408\u001b[0m \u001b[38;5;28;01mimport\u001b[39;00m \u001b[38;5;21;01mplotly\u001b[39;00m\u001b[38;5;21;01m.\u001b[39;00m\u001b[38;5;21;01mio\u001b[39;00m \u001b[38;5;28;01mas\u001b[39;00m \u001b[38;5;21;01mpio\u001b[39;00m\n\u001b[0;32m-> 3410\u001b[0m \u001b[38;5;28;01mreturn\u001b[39;00m \u001b[43mpio\u001b[49m\u001b[38;5;241;43m.\u001b[39;49m\u001b[43mshow\u001b[49m\u001b[43m(\u001b[49m\u001b[38;5;28;43mself\u001b[39;49m\u001b[43m,\u001b[49m\u001b[43m \u001b[49m\u001b[38;5;241;43m*\u001b[39;49m\u001b[43margs\u001b[49m\u001b[43m,\u001b[49m\u001b[43m \u001b[49m\u001b[38;5;241;43m*\u001b[39;49m\u001b[38;5;241;43m*\u001b[39;49m\u001b[43mkwargs\u001b[49m\u001b[43m)\u001b[49m\n",
      "File \u001b[0;32m~/Library/Python/3.9/lib/python/site-packages/plotly/io/_renderers.py:394\u001b[0m, in \u001b[0;36mshow\u001b[0;34m(fig, renderer, validate, **kwargs)\u001b[0m\n\u001b[1;32m    389\u001b[0m         \u001b[38;5;28;01mraise\u001b[39;00m \u001b[38;5;167;01mValueError\u001b[39;00m(\n\u001b[1;32m    390\u001b[0m             \u001b[38;5;124m\"\u001b[39m\u001b[38;5;124mMime type rendering requires ipython but it is not installed\u001b[39m\u001b[38;5;124m\"\u001b[39m\n\u001b[1;32m    391\u001b[0m         )\n\u001b[1;32m    393\u001b[0m     \u001b[38;5;28;01mif\u001b[39;00m \u001b[38;5;129;01mnot\u001b[39;00m nbformat \u001b[38;5;129;01mor\u001b[39;00m Version(nbformat\u001b[38;5;241m.\u001b[39m__version__) \u001b[38;5;241m<\u001b[39m Version(\u001b[38;5;124m\"\u001b[39m\u001b[38;5;124m4.2.0\u001b[39m\u001b[38;5;124m\"\u001b[39m):\n\u001b[0;32m--> 394\u001b[0m         \u001b[38;5;28;01mraise\u001b[39;00m \u001b[38;5;167;01mValueError\u001b[39;00m(\n\u001b[1;32m    395\u001b[0m             \u001b[38;5;124m\"\u001b[39m\u001b[38;5;124mMime type rendering requires nbformat>=4.2.0 but it is not installed\u001b[39m\u001b[38;5;124m\"\u001b[39m\n\u001b[1;32m    396\u001b[0m         )\n\u001b[1;32m    398\u001b[0m     ipython_display\u001b[38;5;241m.\u001b[39mdisplay(bundle, raw\u001b[38;5;241m=\u001b[39m\u001b[38;5;28;01mTrue\u001b[39;00m)\n\u001b[1;32m    400\u001b[0m \u001b[38;5;66;03m# external renderers\u001b[39;00m\n",
      "\u001b[0;31mValueError\u001b[0m: Mime type rendering requires nbformat>=4.2.0 but it is not installed"
     ]
    }
   ],
   "source": [
    "\n"
   ]
  },
  {
   "cell_type": "code",
   "execution_count": 1,
   "metadata": {},
   "outputs": [
    {
     "name": "stdout",
     "output_type": "stream",
     "text": [
      "               AvgTone                                          SOURCEURL  \\\n",
      "0                  0.0  https://btvnovinite.bg/svetut/putin-naznachi-s...   \n",
      "1    -1.02040816326531  https://www.forbes.com/sites/irisdorbian/2024/...   \n",
      "2                  0.0  https://btvnovinite.bg/svetut/putin-naznachi-s...   \n",
      "3     2.13333333333334  https://www.wionews.com/india-news/india-us-ho...   \n",
      "4     4.20673076923077  https://thetablet.org/parishioners-love-for-qu...   \n",
      "..                 ...                                                ...   \n",
      "995  -0.25510204081633  https://overclockers.ru/blog/Nacvark/show/1638...   \n",
      "996  -4.77031802120141  https://vn.20minut.ua/Kryminal/hto-z-vinnichch...   \n",
      "997   1.06382978723405  https://portal-kultura.ru/articles/news/362004...   \n",
      "998  -0.10245901639344  https://www.asiatoday.co.kr/view.php?key=20240...   \n",
      "999    -1.869918699187  https://www.ng.ru/vision/2024-06-17/8_9029_kos...   \n",
      "\n",
      "    ActionGeo_Lat ActionGeo_Long  \n",
      "0            60.0          100.0  \n",
      "1         38.8951       -77.0364  \n",
      "2            60.0          100.0  \n",
      "3           25.85        72.6833  \n",
      "4         38.7226       -76.0686  \n",
      "..            ...            ...  \n",
      "995       50.4333        30.5167  \n",
      "996       59.8944        30.2642  \n",
      "997       48.8667        2.33333  \n",
      "998       39.0194        125.755  \n",
      "999       59.8944        30.2642  \n",
      "\n",
      "[1000 rows x 4 columns]\n"
     ]
    }
   ],
   "source": [
    "import pandas as pd\n",
    "import json\n",
    "\n",
    "with open('bquxjob_2db24fee_19028057bf8.json') as f:\n",
    "    data = json.load(f)\n",
    "\n",
    "df = pd.json_normalize(data=data,\n",
    "                     meta=['AvgTone', 'SOURCEURL','ActionGeo_Lat','ActionGeo_Long' ])\n",
    "\n",
    "df.columns = ['AvgTone', 'SOURCEURL','ActionGeo_Lat','ActionGeo_Long' ]\n",
    "\n",
    "print (df)"
   ]
  },
  {
   "cell_type": "code",
   "execution_count": 4,
   "metadata": {},
   "outputs": [
    {
     "data": {
      "application/vnd.plotly.v1+json": {
       "config": {
        "plotlyServerURL": "https://plot.ly"
       },
       "data": [
        {
         "geo": "geo",
         "hovertemplate": "<b>%{hovertext}</b><br><br>AvgTone=0.0<br>ActionGeo_Lat=%{lat}<br>ActionGeo_Long=%{lon}<extra></extra>",
         "hovertext": [
          "https://btvnovinite.bg/svetut/putin-naznachi-svoja-rodnina-za-zam-ministar-na-otbranata.html",
          "https://btvnovinite.bg/svetut/putin-naznachi-svoja-rodnina-za-zam-ministar-na-otbranata.html",
          "https://www.independent.co.uk/arts-entertainment/films/news/morgan-freeman-black-history-month-b2564110.html",
          "https://www.902.gr/eidisi/politiki/367133/d-koytsoympas-i-poiisi-toy-neroyda-proagei-tin-oysia-tis-tehnis-na",
          "https://www.902.gr/eidisi/politiki/367133/d-koytsoympas-i-poiisi-toy-neroyda-proagei-tin-oysia-tis-tehnis-na",
          "https://www.wjhg.com/2024/06/17/morning-extra-top-stories-monday-june-17/",
          "https://btvnovinite.bg/svetut/putin-naznachi-svoja-rodnina-za-zam-ministar-na-otbranata.html",
          "https://www.ziarelive.ro/stiri/atribuirea-top-jobs-ursula-favorita.html",
          "https://www.businessinsider.com/house-republicans-smoking-cigars-tom-cole-2024-6",
          "https://www.wqcmfm.com/syndicated-article/?id=1569494",
          "https://www.marketscreener.com/quote/stock/INVINITY-ENERGY-SYSTEMS-P-4006044/news/Invinity-Energy-Systems-announces-4MWh-sale-to-PowerFlex-46987725/"
         ],
         "lat": [
          "60.0",
          "60.0",
          "39.828175",
          "40.0",
          "40.0",
          "27.8333",
          "54.0",
          "46.0",
          "40.3736",
          "52.5167",
          "36.17"
         ],
         "legendgroup": "0.0",
         "lon": [
          "100.0",
          "100.0",
          "-98.5795",
          "45.0",
          "45.0",
          "-81.717",
          "-4.0",
          "2.0",
          "-82.7755",
          "13.4",
          "-119.746"
         ],
         "marker": {
          "color": "#636efa",
          "symbol": "circle"
         },
         "mode": "markers",
         "name": "0.0",
         "showlegend": true,
         "type": "scattergeo"
        },
        {
         "geo": "geo",
         "hovertemplate": "<b>%{hovertext}</b><br><br>AvgTone=-1.02040816326531<br>ActionGeo_Lat=%{lat}<br>ActionGeo_Long=%{lon}<extra></extra>",
         "hovertext": [
          "https://www.forbes.com/sites/irisdorbian/2024/06/17/maryland-governor-moore-pardons-more-than-175000-for-weed-offenses/",
          "https://www.forbes.com/sites/irisdorbian/2024/06/17/maryland-governor-moore-pardons-more-than-175000-for-weed-offenses/"
         ],
         "lat": [
          "38.8951",
          "38.8951"
         ],
         "legendgroup": "-1.02040816326531",
         "lon": [
          "-77.0364",
          "-77.0364"
         ],
         "marker": {
          "color": "#EF553B",
          "symbol": "circle"
         },
         "mode": "markers",
         "name": "-1.02040816326531",
         "showlegend": true,
         "type": "scattergeo"
        },
        {
         "geo": "geo",
         "hovertemplate": "<b>%{hovertext}</b><br><br>AvgTone=2.13333333333334<br>ActionGeo_Lat=%{lat}<br>ActionGeo_Long=%{lon}<extra></extra>",
         "hovertext": [
          "https://www.wionews.com/india-news/india-us-hold-key-meeting-on-critical-and-emerging-technologies-732586",
          "https://www.wionews.com/india-news/india-us-hold-key-meeting-on-critical-and-emerging-technologies-732586",
          "https://www.wionews.com/india-news/india-us-hold-key-meeting-on-critical-and-emerging-technologies-732586",
          "https://www.wionews.com/india-news/india-us-hold-key-meeting-on-critical-and-emerging-technologies-732586"
         ],
         "lat": [
          "25.85",
          "10.0",
          "10.0",
          "32.7333"
         ],
         "legendgroup": "2.13333333333334",
         "lon": [
          "72.6833",
          "76.5",
          "76.5",
          "74.8667"
         ],
         "marker": {
          "color": "#00cc96",
          "symbol": "circle"
         },
         "mode": "markers",
         "name": "2.13333333333334",
         "showlegend": true,
         "type": "scattergeo"
        },
        {
         "geo": "geo",
         "hovertemplate": "<b>%{hovertext}</b><br><br>AvgTone=4.20673076923077<br>ActionGeo_Lat=%{lat}<br>ActionGeo_Long=%{lon}<extra></extra>",
         "hovertext": [
          "https://thetablet.org/parishioners-love-for-queens-parish-lives-on-in-endowment-to-academys-students/",
          "https://thetablet.org/parishioners-love-for-queens-parish-lives-on-in-endowment-to-academys-students/",
          "https://thetablet.org/parishioners-love-for-queens-parish-lives-on-in-endowment-to-academys-students/",
          "https://thetablet.org/parishioners-love-for-queens-parish-lives-on-in-endowment-to-academys-students/",
          "https://thetablet.org/parishioners-love-for-queens-parish-lives-on-in-endowment-to-academys-students/"
         ],
         "lat": [
          "38.7226",
          "38.7226",
          "39.2304",
          "39.2304",
          "38.7226"
         ],
         "legendgroup": "4.20673076923077",
         "lon": [
          "-76.0686",
          "-76.0686",
          "-76.6022",
          "-76.6022",
          "-76.0686"
         ],
         "marker": {
          "color": "#ab63fa",
          "symbol": "circle"
         },
         "mode": "markers",
         "name": "4.20673076923077",
         "showlegend": true,
         "type": "scattergeo"
        },
        {
         "geo": "geo",
         "hovertemplate": "<b>%{hovertext}</b><br><br>AvgTone=-4.26421404682275<br>ActionGeo_Lat=%{lat}<br>ActionGeo_Long=%{lon}<extra></extra>",
         "hovertext": [
          "https://www.dailyindependent.com/national/ap-news-summary-at-1-49-p-m-edt/article_1cf70e1b-e72e-52fa-9783-0a88852d5d81.html",
          "https://www.dailyindependent.com/national/ap-news-summary-at-1-49-p-m-edt/article_1cf70e1b-e72e-52fa-9783-0a88852d5d81.html"
         ],
         "lat": [
          "-6.17444",
          "25.0"
         ],
         "legendgroup": "-4.26421404682275",
         "lon": [
          "106.829",
          "45.0"
         ],
         "marker": {
          "color": "#FFA15A",
          "symbol": "circle"
         },
         "mode": "markers",
         "name": "-4.26421404682275",
         "showlegend": true,
         "type": "scattergeo"
        },
        {
         "geo": "geo",
         "hovertemplate": "<b>%{hovertext}</b><br><br>AvgTone=3.09859154929578<br>ActionGeo_Lat=%{lat}<br>ActionGeo_Long=%{lon}<extra></extra>",
         "hovertext": [
          "https://www.thedickinsonpress.com/news/north-dakota/north-dakota-universities-brace-for-north-star-promise-this-fall-with-promises-of-their-own",
          "https://www.thedickinsonpress.com/news/north-dakota/north-dakota-universities-brace-for-north-star-promise-this-fall-with-promises-of-their-own",
          "https://www.thedickinsonpress.com/news/north-dakota/north-dakota-universities-brace-for-north-star-promise-this-fall-with-promises-of-their-own",
          "https://www.thedickinsonpress.com/news/north-dakota/north-dakota-universities-brace-for-north-star-promise-this-fall-with-promises-of-their-own",
          "https://www.thedickinsonpress.com/news/north-dakota/north-dakota-universities-brace-for-north-star-promise-this-fall-with-promises-of-their-own",
          "https://www.thedickinsonpress.com/news/north-dakota/north-dakota-universities-brace-for-north-star-promise-this-fall-with-promises-of-their-own",
          "https://www.thedickinsonpress.com/news/north-dakota/north-dakota-universities-brace-for-north-star-promise-this-fall-with-promises-of-their-own",
          "https://www.thedickinsonpress.com/news/north-dakota/north-dakota-universities-brace-for-north-star-promise-this-fall-with-promises-of-their-own",
          "https://www.thedickinsonpress.com/news/north-dakota/north-dakota-universities-brace-for-north-star-promise-this-fall-with-promises-of-their-own",
          "https://www.thedickinsonpress.com/news/north-dakota/north-dakota-universities-brace-for-north-star-promise-this-fall-with-promises-of-their-own",
          "https://www.thedickinsonpress.com/news/north-dakota/north-dakota-universities-brace-for-north-star-promise-this-fall-with-promises-of-their-own",
          "https://www.thedickinsonpress.com/news/north-dakota/north-dakota-universities-brace-for-north-star-promise-this-fall-with-promises-of-their-own",
          "https://www.thedickinsonpress.com/news/north-dakota/north-dakota-universities-brace-for-north-star-promise-this-fall-with-promises-of-their-own",
          "https://www.thedickinsonpress.com/news/north-dakota/north-dakota-universities-brace-for-north-star-promise-this-fall-with-promises-of-their-own",
          "https://www.thedickinsonpress.com/news/north-dakota/north-dakota-universities-brace-for-north-star-promise-this-fall-with-promises-of-their-own",
          "https://www.thedickinsonpress.com/news/north-dakota/north-dakota-universities-brace-for-north-star-promise-this-fall-with-promises-of-their-own",
          "https://www.thedickinsonpress.com/news/north-dakota/north-dakota-universities-brace-for-north-star-promise-this-fall-with-promises-of-their-own",
          "https://www.thedickinsonpress.com/news/north-dakota/north-dakota-universities-brace-for-north-star-promise-this-fall-with-promises-of-their-own",
          "https://www.thedickinsonpress.com/news/north-dakota/north-dakota-universities-brace-for-north-star-promise-this-fall-with-promises-of-their-own"
         ],
         "lat": [
          "47.5362",
          "47.5362",
          "47.5362",
          "45.7326",
          "47.5362",
          "36.7081",
          "45.7326",
          "45.7326",
          "47.5362",
          "47.5362",
          "47.5362",
          "45.7326",
          "45.7326",
          "45.7326",
          "45.7326",
          "47.5362",
          "47.5362",
          "47.5362",
          "47.5362"
         ],
         "legendgroup": "3.09859154929578",
         "lon": [
          "-99.793",
          "-99.793",
          "-99.793",
          "-93.9196",
          "-99.793",
          "-105.406",
          "-93.9196",
          "-93.9196",
          "-99.793",
          "-99.793",
          "-99.793",
          "-93.9196",
          "-93.9196",
          "-93.9196",
          "-93.9196",
          "-99.793",
          "-99.793",
          "-99.793",
          "-99.793"
         ],
         "marker": {
          "color": "#19d3f3",
          "symbol": "circle"
         },
         "mode": "markers",
         "name": "3.09859154929578",
         "showlegend": true,
         "type": "scattergeo"
        },
        {
         "geo": "geo",
         "hovertemplate": "<b>%{hovertext}</b><br><br>AvgTone=-9.0909090909091<br>ActionGeo_Lat=%{lat}<br>ActionGeo_Long=%{lon}<extra></extra>",
         "hovertext": [
          "https://focus.ua/uk/voennye-novosti/652756-kritichniy-moment-lishe-tretina-okupantiv-pislya-poranen-povertayutsya-na-front-analitik",
          "https://focus.ua/uk/voennye-novosti/652756-kritichniy-moment-lishe-tretina-okupantiv-pislya-poranen-povertayutsya-na-front-analitik",
          "https://www.semafor.com/article/06/17/2024/furiosa-australia-tax-rebate-scrutiny",
          "https://www.semafor.com/article/06/17/2024/furiosa-australia-tax-rebate-scrutiny",
          "https://focus.ua/uk/voennye-novosti/652756-kritichniy-moment-lishe-tretina-okupantiv-pislya-poranen-povertayutsya-na-front-analitik"
         ],
         "lat": [
          "50.4333",
          "38.8951",
          "-27.5",
          "-27.5",
          "50.4333"
         ],
         "legendgroup": "-9.0909090909091",
         "lon": [
          "30.5167",
          "-77.0364",
          "153.017",
          "153.017",
          "30.5167"
         ],
         "marker": {
          "color": "#FF6692",
          "symbol": "circle"
         },
         "mode": "markers",
         "name": "-9.0909090909091",
         "showlegend": true,
         "type": "scattergeo"
        },
        {
         "geo": "geo",
         "hovertemplate": "<b>%{hovertext}</b><br><br>AvgTone=-4.11458333333333<br>ActionGeo_Lat=%{lat}<br>ActionGeo_Long=%{lon}<extra></extra>",
         "hovertext": [
          "https://laist.com/news/climate-environment/gorman-post-fire-and-hesperia-fire-day-3",
          "https://laist.com/news/climate-environment/gorman-post-fire-and-hesperia-fire-day-3",
          "https://laist.com/news/climate-environment/gorman-post-fire-and-hesperia-fire-day-3"
         ],
         "lat": [
          "34.1783",
          "37.9399",
          "34.1783"
         ],
         "legendgroup": "-4.11458333333333",
         "lon": [
          "-118.358",
          "-120.203",
          "-118.358"
         ],
         "marker": {
          "color": "#B6E880",
          "symbol": "circle"
         },
         "mode": "markers",
         "name": "-4.11458333333333",
         "showlegend": true,
         "type": "scattergeo"
        },
        {
         "geo": "geo",
         "hovertemplate": "<b>%{hovertext}</b><br><br>AvgTone=3.58744394618834<br>ActionGeo_Lat=%{lat}<br>ActionGeo_Long=%{lon}<extra></extra>",
         "hovertext": [
          "https://www.phillyvoice.com/herrs-flavored-by-philly-2024-finalists-tallutos-romanos-mommoms-kitchen/",
          "https://www.phillyvoice.com/herrs-flavored-by-philly-2024-finalists-tallutos-romanos-mommoms-kitchen/",
          "https://www.phillyvoice.com/herrs-flavored-by-philly-2024-finalists-tallutos-romanos-mommoms-kitchen/"
         ],
         "lat": [
          "39.9523",
          "39.9523",
          "42.833333"
         ],
         "legendgroup": "3.58744394618834",
         "lon": [
          "-75.1638",
          "-75.1638",
          "12.833333"
         ],
         "marker": {
          "color": "#FF97FF",
          "symbol": "circle"
         },
         "mode": "markers",
         "name": "3.58744394618834",
         "showlegend": true,
         "type": "scattergeo"
        },
        {
         "geo": "geo",
         "hovertemplate": "<b>%{hovertext}</b><br><br>AvgTone=4.16666666666667<br>ActionGeo_Lat=%{lat}<br>ActionGeo_Long=%{lon}<extra></extra>",
         "hovertext": [
          "https://www.business-standard.com/economy/news/govt-develops-verification-mechanism-for-exporters-rodtep-refund-claims-124061700675_1.html"
         ],
         "lat": [
          "39.0724"
         ],
         "legendgroup": "4.16666666666667",
         "lon": [
          "-76.7902"
         ],
         "marker": {
          "color": "#FECB52",
          "symbol": "circle"
         },
         "mode": "markers",
         "name": "4.16666666666667",
         "showlegend": true,
         "type": "scattergeo"
        },
        {
         "geo": "geo",
         "hovertemplate": "<b>%{hovertext}</b><br><br>AvgTone=0.6872852233677<br>ActionGeo_Lat=%{lat}<br>ActionGeo_Long=%{lon}<extra></extra>",
         "hovertext": [
          "https://www.danas.rs/svet/rusija-i-severna-koreja-potpisace-vazne-dokumente-tokom-putinove-posete/",
          "https://www.danas.rs/svet/rusija-i-severna-koreja-potpisace-vazne-dokumente-tokom-putinove-posete/",
          "https://www.danas.rs/svet/rusija-i-severna-koreja-potpisace-vazne-dokumente-tokom-putinove-posete/",
          "https://www.danas.rs/svet/rusija-i-severna-koreja-potpisace-vazne-dokumente-tokom-putinove-posete/"
         ],
         "lat": [
          "55.7522",
          "39.0194",
          "55.7522",
          "55.7522"
         ],
         "legendgroup": "0.6872852233677",
         "lon": [
          "37.6156",
          "125.755",
          "37.6156",
          "37.6156"
         ],
         "marker": {
          "color": "#636efa",
          "symbol": "circle"
         },
         "mode": "markers",
         "name": "0.6872852233677",
         "showlegend": true,
         "type": "scattergeo"
        },
        {
         "geo": "geo",
         "hovertemplate": "<b>%{hovertext}</b><br><br>AvgTone=-9.69325153374232<br>ActionGeo_Lat=%{lat}<br>ActionGeo_Long=%{lon}<extra></extra>",
         "hovertext": [
          "https://www.eagletribune.com/region/accused-lookout-in-james-whitey-bulger-prison-killing-pleads-guilty-gets-no-additional-time/article_a8a67244-6b05-5789-881e-260a2614aacf.html",
          "https://www.eagletribune.com/region/accused-lookout-in-james-whitey-bulger-prison-killing-pleads-guilty-gets-no-additional-time/article_a8a67244-6b05-5789-881e-260a2614aacf.html",
          "https://www.eagletribune.com/region/accused-lookout-in-james-whitey-bulger-prison-killing-pleads-guilty-gets-no-additional-time/article_a8a67244-6b05-5789-881e-260a2614aacf.html",
          "https://www.eagletribune.com/region/accused-lookout-in-james-whitey-bulger-prison-killing-pleads-guilty-gets-no-additional-time/article_a8a67244-6b05-5789-881e-260a2614aacf.html",
          "https://www.eagletribune.com/region/accused-lookout-in-james-whitey-bulger-prison-killing-pleads-guilty-gets-no-additional-time/article_a8a67244-6b05-5789-881e-260a2614aacf.html",
          "https://www.eagletribune.com/region/accused-lookout-in-james-whitey-bulger-prison-killing-pleads-guilty-gets-no-additional-time/article_a8a67244-6b05-5789-881e-260a2614aacf.html",
          "https://www.eagletribune.com/region/accused-lookout-in-james-whitey-bulger-prison-killing-pleads-guilty-gets-no-additional-time/article_a8a67244-6b05-5789-881e-260a2614aacf.html"
         ],
         "lat": [
          "42.3584",
          "42.3584",
          "27.8333",
          "39.2806",
          "27.8333",
          "42.3584",
          "39.2806"
         ],
         "legendgroup": "-9.69325153374232",
         "lon": [
          "-71.0598",
          "-71.0598",
          "-81.717",
          "-80.3445",
          "-81.717",
          "-71.0598",
          "-80.3445"
         ],
         "marker": {
          "color": "#EF553B",
          "symbol": "circle"
         },
         "mode": "markers",
         "name": "-9.69325153374232",
         "showlegend": true,
         "type": "scattergeo"
        },
        {
         "geo": "geo",
         "hovertemplate": "<b>%{hovertext}</b><br><br>AvgTone=-7.39644970414201<br>ActionGeo_Lat=%{lat}<br>ActionGeo_Long=%{lon}<extra></extra>",
         "hovertext": [
          "http://www.myanmarmuslim.net/news/20240618907a599037.html",
          "http://www.myanmarmuslim.net/news/20240618907a599037.html",
          "http://www.myanmarmuslim.net/news/20240618907a599037.html",
          "http://www.myanmarmuslim.net/news/20240618907a599037.html",
          "http://www.myanmarmuslim.net/news/20240618907a599037.html",
          "http://www.myanmarmuslim.net/news/20240618907a599037.html",
          "http://www.myanmarmuslim.net/news/20240618907a599037.html",
          "http://www.myanmarmuslim.net/news/20240618907a599037.html",
          "http://www.myanmarmuslim.net/news/20240618907a599037.html",
          "http://www.myanmarmuslim.net/news/20240618907a599037.html",
          "http://www.myanmarmuslim.net/news/20240618907a599037.html",
          "http://www.myanmarmuslim.net/news/20240618907a599037.html"
         ],
         "lat": [
          "-27.5606",
          "-27.5606",
          "-27.5606",
          "-27.5606",
          "-27.5606",
          "-27.5606",
          "-27.5606",
          "-27.5606",
          "-27.5606",
          "-27.5606",
          "39.9289",
          "39.9289"
         ],
         "legendgroup": "-7.39644970414201",
         "lon": [
          "151.954",
          "151.954",
          "151.954",
          "151.954",
          "151.954",
          "151.954",
          "151.954",
          "151.954",
          "151.954",
          "151.954",
          "116.388",
          "116.388"
         ],
         "marker": {
          "color": "#00cc96",
          "symbol": "circle"
         },
         "mode": "markers",
         "name": "-7.39644970414201",
         "showlegend": true,
         "type": "scattergeo"
        },
        {
         "geo": "geo",
         "hovertemplate": "<b>%{hovertext}</b><br><br>AvgTone=4.5398773006135<br>ActionGeo_Lat=%{lat}<br>ActionGeo_Long=%{lon}<extra></extra>",
         "hovertext": [
          "https://www.seattletimes.com/entertainment/visual-arts/seattles-madart-holds-its-last-show-celebrating-its-legacy/",
          "https://www.seattletimes.com/entertainment/visual-arts/seattles-madart-holds-its-last-show-celebrating-its-legacy/",
          "https://www.seattletimes.com/entertainment/visual-arts/seattles-madart-holds-its-last-show-celebrating-its-legacy/",
          "https://www.seattletimes.com/entertainment/visual-arts/seattles-madart-holds-its-last-show-celebrating-its-legacy/",
          "https://www.seattletimes.com/entertainment/visual-arts/seattles-madart-holds-its-last-show-celebrating-its-legacy/",
          "https://www.seattletimes.com/entertainment/visual-arts/seattles-madart-holds-its-last-show-celebrating-its-legacy/"
         ],
         "lat": [
          "46.8167",
          "46.8167",
          "46.8167",
          "46.8167",
          "46.8167",
          "46.8167"
         ],
         "legendgroup": "4.5398773006135",
         "lon": [
          "9.83333",
          "9.83333",
          "9.83333",
          "9.83333",
          "9.83333",
          "9.83333"
         ],
         "marker": {
          "color": "#ab63fa",
          "symbol": "circle"
         },
         "mode": "markers",
         "name": "4.5398773006135",
         "showlegend": true,
         "type": "scattergeo"
        },
        {
         "geo": "geo",
         "hovertemplate": "<b>%{hovertext}</b><br><br>AvgTone=-1.26436781609196<br>ActionGeo_Lat=%{lat}<br>ActionGeo_Long=%{lon}<extra></extra>",
         "hovertext": [
          "https://thetablet.org/seitz-changes-to-u-s-visa-program-for-religious-workers-have-impact-on-diocesan-ministries/"
         ],
         "lat": [
          "38.8951"
         ],
         "legendgroup": "-1.26436781609196",
         "lon": [
          "-77.0364"
         ],
         "marker": {
          "color": "#FFA15A",
          "symbol": "circle"
         },
         "mode": "markers",
         "name": "-1.26436781609196",
         "showlegend": true,
         "type": "scattergeo"
        },
        {
         "geo": "geo",
         "hovertemplate": "<b>%{hovertext}</b><br><br>AvgTone=-5.47945205479452<br>ActionGeo_Lat=%{lat}<br>ActionGeo_Long=%{lon}<extra></extra>",
         "hovertext": [
          "https://1063thebuzz.com/faa-fining-a-texas-woman-the-highest-amount-ever-for-unruly-behavior-on-a-plane/",
          "https://1063thebuzz.com/faa-fining-a-texas-woman-the-highest-amount-ever-for-unruly-behavior-on-a-plane/",
          "https://1063thebuzz.com/faa-fining-a-texas-woman-the-highest-amount-ever-for-unruly-behavior-on-a-plane/"
         ],
         "lat": [
          "31.106",
          "29.4241",
          "31.106"
         ],
         "legendgroup": "-5.47945205479452",
         "lon": [
          "-97.6475",
          "-98.4936",
          "-97.6475"
         ],
         "marker": {
          "color": "#19d3f3",
          "symbol": "circle"
         },
         "mode": "markers",
         "name": "-5.47945205479452",
         "showlegend": true,
         "type": "scattergeo"
        },
        {
         "geo": "geo",
         "hovertemplate": "<b>%{hovertext}</b><br><br>AvgTone=-2.54854368932039<br>ActionGeo_Lat=%{lat}<br>ActionGeo_Long=%{lon}<extra></extra>",
         "hovertext": [
          "https://focus.ua/politics/652761-posledniy-raz-byval-24-goda-nazad-putin-zavtra-posetit-kndr-smi",
          "https://focus.ua/politics/652761-posledniy-raz-byval-24-goda-nazad-putin-zavtra-posetit-kndr-smi",
          "https://focus.ua/politics/652761-posledniy-raz-byval-24-goda-nazad-putin-zavtra-posetit-kndr-smi",
          "https://focus.ua/politics/652761-posledniy-raz-byval-24-goda-nazad-putin-zavtra-posetit-kndr-smi",
          "https://focus.ua/politics/652761-posledniy-raz-byval-24-goda-nazad-putin-zavtra-posetit-kndr-smi",
          "https://focus.ua/politics/652761-posledniy-raz-byval-24-goda-nazad-putin-zavtra-posetit-kndr-smi"
         ],
         "lat": [
          "37.5664",
          "37.5664",
          "39.0194",
          "46.9736",
          "37.5664",
          "38.8951"
         ],
         "legendgroup": "-2.54854368932039",
         "lon": [
          "127.0",
          "127.0",
          "125.755",
          "41.445",
          "127.0",
          "-77.0364"
         ],
         "marker": {
          "color": "#FF6692",
          "symbol": "circle"
         },
         "mode": "markers",
         "name": "-2.54854368932039",
         "showlegend": true,
         "type": "scattergeo"
        },
        {
         "geo": "geo",
         "hovertemplate": "<b>%{hovertext}</b><br><br>AvgTone=-0.92807424593968<br>ActionGeo_Lat=%{lat}<br>ActionGeo_Long=%{lon}<extra></extra>",
         "hovertext": [
          "https://www.vg.hu/nemzetkozi-gazdasag/2024/06/vietnam-oroszorszag-putyin",
          "https://www.vg.hu/nemzetkozi-gazdasag/2024/06/vietnam-oroszorszag-putyin"
         ],
         "lat": [
          "60.0",
          "60.0"
         ],
         "legendgroup": "-0.92807424593968",
         "lon": [
          "100.0",
          "100.0"
         ],
         "marker": {
          "color": "#B6E880",
          "symbol": "circle"
         },
         "mode": "markers",
         "name": "-0.92807424593968",
         "showlegend": true,
         "type": "scattergeo"
        },
        {
         "geo": "geo",
         "hovertemplate": "<b>%{hovertext}</b><br><br>AvgTone=-2.09302325581395<br>ActionGeo_Lat=%{lat}<br>ActionGeo_Long=%{lon}<extra></extra>",
         "hovertext": [
          "https://napavalleyregister.com/news/local/point-fire-sonoma-county-wildfire-napa-smog-red-flag-warning/article_5e401971-81ac-5b6c-b15c-04d5529ad4d1.html"
         ],
         "lat": [
          "38.4832"
         ],
         "legendgroup": "-2.09302325581395",
         "lon": [
          "-122.334"
         ],
         "marker": {
          "color": "#FF97FF",
          "symbol": "circle"
         },
         "mode": "markers",
         "name": "-2.09302325581395",
         "showlegend": true,
         "type": "scattergeo"
        },
        {
         "geo": "geo",
         "hovertemplate": "<b>%{hovertext}</b><br><br>AvgTone=-5.68181818181818<br>ActionGeo_Lat=%{lat}<br>ActionGeo_Long=%{lon}<extra></extra>",
         "hovertext": [
          "https://www.foxbusiness.com/media/stuart-varney-bidens-parole-place-scheme-code-amnesty",
          "https://www.foxbusiness.com/media/stuart-varney-bidens-parole-place-scheme-code-amnesty",
          "https://www.foxbusiness.com/media/stuart-varney-bidens-parole-place-scheme-code-amnesty",
          "https://www.foxbusiness.com/media/stuart-varney-bidens-parole-place-scheme-code-amnesty",
          "https://www.foxbusiness.com/media/stuart-varney-bidens-parole-place-scheme-code-amnesty"
         ],
         "lat": [
          "39.0724",
          "39.0724",
          "13.833333",
          "39.0724",
          "39.0724"
         ],
         "legendgroup": "-5.68181818181818",
         "lon": [
          "-76.7902",
          "-76.7902",
          "-88.916667",
          "-76.7902",
          "-76.7902"
         ],
         "marker": {
          "color": "#FECB52",
          "symbol": "circle"
         },
         "mode": "markers",
         "name": "-5.68181818181818",
         "showlegend": true,
         "type": "scattergeo"
        },
        {
         "geo": "geo",
         "hovertemplate": "<b>%{hovertext}</b><br><br>AvgTone=-2.74151436031331<br>ActionGeo_Lat=%{lat}<br>ActionGeo_Long=%{lon}<extra></extra>",
         "hovertext": [
          "https://nj1015.com/bill-spadea-governor-candidate/",
          "https://nj1015.com/bill-spadea-governor-candidate/",
          "https://nj1015.com/bill-spadea-governor-candidate/",
          "https://nj1015.com/bill-spadea-governor-candidate/",
          "https://nj1015.com/bill-spadea-governor-candidate/",
          "https://nj1015.com/bill-spadea-governor-candidate/",
          "https://nj1015.com/bill-spadea-governor-candidate/",
          "https://nj1015.com/bill-spadea-governor-candidate/"
         ],
         "lat": [
          "49.216667",
          "40.8984",
          "40.8984",
          "49.216667",
          "49.216667",
          "40.2171",
          "49.216667",
          "49.216667"
         ],
         "legendgroup": "-2.74151436031331",
         "lon": [
          "-2.116667",
          "-74.0282",
          "-74.0282",
          "-2.116667",
          "-2.116667",
          "-74.7429",
          "-2.116667",
          "-2.116667"
         ],
         "marker": {
          "color": "#636efa",
          "symbol": "circle"
         },
         "mode": "markers",
         "name": "-2.74151436031331",
         "showlegend": true,
         "type": "scattergeo"
        },
        {
         "geo": "geo",
         "hovertemplate": "<b>%{hovertext}</b><br><br>AvgTone=-1.68539325842697<br>ActionGeo_Lat=%{lat}<br>ActionGeo_Long=%{lon}<extra></extra>",
         "hovertext": [
          "https://www.silive.com/weather/2024/06/ny-gov-kathy-hochul-issues-heat-wave-warning-deploys-national-guard.html",
          "https://www.silive.com/weather/2024/06/ny-gov-kathy-hochul-issues-heat-wave-warning-deploys-national-guard.html",
          "https://www.silive.com/weather/2024/06/ny-gov-kathy-hochul-issues-heat-wave-warning-deploys-national-guard.html",
          "https://www.silive.com/weather/2024/06/ny-gov-kathy-hochul-issues-heat-wave-warning-deploys-national-guard.html",
          "https://www.silive.com/weather/2024/06/ny-gov-kathy-hochul-issues-heat-wave-warning-deploys-national-guard.html"
         ],
         "lat": [
          "42.1497",
          "40.5834",
          "40.5834",
          "40.5834",
          "40.5834"
         ],
         "legendgroup": "-1.68539325842697",
         "lon": [
          "-74.9384",
          "-74.1496",
          "-74.1496",
          "-74.1496",
          "-74.1496"
         ],
         "marker": {
          "color": "#EF553B",
          "symbol": "circle"
         },
         "mode": "markers",
         "name": "-1.68539325842697",
         "showlegend": true,
         "type": "scattergeo"
        },
        {
         "geo": "geo",
         "hovertemplate": "<b>%{hovertext}</b><br><br>AvgTone=-3.30434782608695<br>ActionGeo_Lat=%{lat}<br>ActionGeo_Long=%{lon}<extra></extra>",
         "hovertext": [
          "https://www.yahoo.com/news/lawmaker-introduces-bill-ar-15-181522683.html",
          "https://www.yahoo.com/news/lawmaker-introduces-bill-ar-15-181522683.html"
         ],
         "lat": [
          "60.0",
          "28.5383"
         ],
         "legendgroup": "-3.30434782608695",
         "lon": [
          "100.0",
          "-81.3792"
         ],
         "marker": {
          "color": "#00cc96",
          "symbol": "circle"
         },
         "mode": "markers",
         "name": "-3.30434782608695",
         "showlegend": true,
         "type": "scattergeo"
        },
        {
         "geo": "geo",
         "hovertemplate": "<b>%{hovertext}</b><br><br>AvgTone=3.76106194690265<br>ActionGeo_Lat=%{lat}<br>ActionGeo_Long=%{lon}<extra></extra>",
         "hovertext": [
          "https://www.bloodhorse.com/horse-racing/articles/277633/santa-anita-park-completes-near-perfect-safety-year",
          "https://www.bloodhorse.com/horse-racing/articles/277633/santa-anita-park-completes-near-perfect-safety-year",
          "https://www.bloodhorse.com/horse-racing/articles/277633/santa-anita-park-completes-near-perfect-safety-year"
         ],
         "lat": [
          "34.1456",
          "36.17",
          "34.1456"
         ],
         "legendgroup": "3.76106194690265",
         "lon": [
          "-118.05",
          "-119.746",
          "-118.05"
         ],
         "marker": {
          "color": "#ab63fa",
          "symbol": "circle"
         },
         "mode": "markers",
         "name": "3.76106194690265",
         "showlegend": true,
         "type": "scattergeo"
        },
        {
         "geo": "geo",
         "hovertemplate": "<b>%{hovertext}</b><br><br>AvgTone=2.13903743315508<br>ActionGeo_Lat=%{lat}<br>ActionGeo_Long=%{lon}<extra></extra>",
         "hovertext": [
          "http://en.kremlin.ru/events/president/news/74308",
          "http://en.kremlin.ru/events/president/news/74308"
         ],
         "lat": [
          "54.2167",
          "55.8095"
         ],
         "legendgroup": "2.13903743315508",
         "lon": [
          "59.4833",
          "37.9581"
         ],
         "marker": {
          "color": "#FFA15A",
          "symbol": "circle"
         },
         "mode": "markers",
         "name": "2.13903743315508",
         "showlegend": true,
         "type": "scattergeo"
        },
        {
         "geo": "geo",
         "hovertemplate": "<b>%{hovertext}</b><br><br>AvgTone=-1.16279069767442<br>ActionGeo_Lat=%{lat}<br>ActionGeo_Long=%{lon}<extra></extra>",
         "hovertext": [
          "https://www.yahoo.com/news/atlanta-receive-nearly-1m-federal-173556532.html",
          "https://www.yahoo.com/news/atlanta-receive-nearly-1m-federal-173556532.html",
          "https://www.yahoo.com/news/atlanta-receive-nearly-1m-federal-173556532.html"
         ],
         "lat": [
          "33.763",
          "33.763",
          "33.749"
         ],
         "legendgroup": "-1.16279069767442",
         "lon": [
          "-84.4229",
          "-84.4229",
          "-84.388"
         ],
         "marker": {
          "color": "#19d3f3",
          "symbol": "circle"
         },
         "mode": "markers",
         "name": "-1.16279069767442",
         "showlegend": true,
         "type": "scattergeo"
        },
        {
         "geo": "geo",
         "hovertemplate": "<b>%{hovertext}</b><br><br>AvgTone=-1.81518151815181<br>ActionGeo_Lat=%{lat}<br>ActionGeo_Long=%{lon}<extra></extra>",
         "hovertext": [
          "https://forward.com/fast-forward/623842/nyc-council-union-ceasefire-divestment-israel/",
          "https://forward.com/fast-forward/623842/nyc-council-union-ceasefire-divestment-israel/",
          "https://forward.com/fast-forward/623842/nyc-council-union-ceasefire-divestment-israel/",
          "https://forward.com/fast-forward/623842/nyc-council-union-ceasefire-divestment-israel/",
          "https://forward.com/fast-forward/623842/nyc-council-union-ceasefire-divestment-israel/",
          "https://forward.com/fast-forward/623842/nyc-council-union-ceasefire-divestment-israel/",
          "https://forward.com/fast-forward/623842/nyc-council-union-ceasefire-divestment-israel/",
          "https://forward.com/fast-forward/623842/nyc-council-union-ceasefire-divestment-israel/"
         ],
         "lat": [
          "42.7184",
          "31.666667",
          "42.3442",
          "42.7184",
          "42.3442",
          "31.666667",
          "42.7184",
          "42.1497"
         ],
         "legendgroup": "-1.81518151815181",
         "lon": [
          "-73.7537",
          "35.25",
          "-75.1704",
          "-73.7537",
          "-75.1704",
          "35.25",
          "-73.7537",
          "-74.9384"
         ],
         "marker": {
          "color": "#FF6692",
          "symbol": "circle"
         },
         "mode": "markers",
         "name": "-1.81518151815181",
         "showlegend": true,
         "type": "scattergeo"
        },
        {
         "geo": "geo",
         "hovertemplate": "<b>%{hovertext}</b><br><br>AvgTone=-3.88888888888889<br>ActionGeo_Lat=%{lat}<br>ActionGeo_Long=%{lon}<extra></extra>",
         "hovertext": [
          "https://www.naturalnews.com/2024-06-17-google-censors-ai-hate-speech-play-store.html"
         ],
         "lat": [
          "60.0"
         ],
         "legendgroup": "-3.88888888888889",
         "lon": [
          "100.0"
         ],
         "marker": {
          "color": "#B6E880",
          "symbol": "circle"
         },
         "mode": "markers",
         "name": "-3.88888888888889",
         "showlegend": true,
         "type": "scattergeo"
        },
        {
         "geo": "geo",
         "hovertemplate": "<b>%{hovertext}</b><br><br>AvgTone=-6.2962962962963<br>ActionGeo_Lat=%{lat}<br>ActionGeo_Long=%{lon}<extra></extra>",
         "hovertext": [
          "https://www.hngn.com/articles/261499/20240617/greece-greek-islands-tourists-missing-dead-extreme-heat-foreigners.htm",
          "https://www.hngn.com/articles/261499/20240617/greece-greek-islands-tourists-missing-dead-extreme-heat-foreigners.htm",
          "https://www.hngn.com/articles/261499/20240617/greece-greek-islands-tourists-missing-dead-extreme-heat-foreigners.htm"
         ],
         "lat": [
          "39.7681",
          "39.7681",
          "39.7681"
         ],
         "legendgroup": "-6.2962962962963",
         "lon": [
          "19.5242",
          "19.5242",
          "19.5242"
         ],
         "marker": {
          "color": "#FF97FF",
          "symbol": "circle"
         },
         "mode": "markers",
         "name": "-6.2962962962963",
         "showlegend": true,
         "type": "scattergeo"
        },
        {
         "geo": "geo",
         "hovertemplate": "<b>%{hovertext}</b><br><br>AvgTone=4.48383733055266<br>ActionGeo_Lat=%{lat}<br>ActionGeo_Long=%{lon}<extra></extra>",
         "hovertext": [
          "https://www.myweekly.co.uk/2024/06/17/imelda-staunton-damehood/",
          "https://www.myweekly.co.uk/2024/06/17/imelda-staunton-damehood/"
         ],
         "lat": [
          "51.5",
          "51.5"
         ],
         "legendgroup": "4.48383733055266",
         "lon": [
          "-0.116667",
          "-0.116667"
         ],
         "marker": {
          "color": "#FECB52",
          "symbol": "circle"
         },
         "mode": "markers",
         "name": "4.48383733055266",
         "showlegend": true,
         "type": "scattergeo"
        },
        {
         "geo": "geo",
         "hovertemplate": "<b>%{hovertext}</b><br><br>AvgTone=0.56497175141243<br>ActionGeo_Lat=%{lat}<br>ActionGeo_Long=%{lon}<extra></extra>",
         "hovertext": [
          "https://www.thetrucker.com/trucking-news/the-nation/fmcsa-increases-state-fees-collected-from-motor-carriers-brokers",
          "https://www.thetrucker.com/trucking-news/the-nation/fmcsa-increases-state-fees-collected-from-motor-carriers-brokers"
         ],
         "lat": [
          "34.2284",
          "34.9513"
         ],
         "legendgroup": "0.56497175141243",
         "lon": [
          "-92.0032",
          "-92.3809"
         ],
         "marker": {
          "color": "#636efa",
          "symbol": "circle"
         },
         "mode": "markers",
         "name": "0.56497175141243",
         "showlegend": true,
         "type": "scattergeo"
        },
        {
         "geo": "geo",
         "hovertemplate": "<b>%{hovertext}</b><br><br>AvgTone=-3.95913154533844<br>ActionGeo_Lat=%{lat}<br>ActionGeo_Long=%{lon}<extra></extra>",
         "hovertext": [
          "https://www.naturalnews.com/2024-06-17-giuliani-creditors-call-for-trustee-handle-finances.html",
          "https://www.naturalnews.com/2024-06-17-giuliani-creditors-call-for-trustee-handle-finances.html",
          "https://www.naturalnews.com/2024-06-17-giuliani-creditors-call-for-trustee-handle-finances.html"
         ],
         "lat": [
          "42.1497",
          "42.1497",
          "38.8951"
         ],
         "legendgroup": "-3.95913154533844",
         "lon": [
          "-74.9384",
          "-74.9384",
          "-77.0364"
         ],
         "marker": {
          "color": "#EF553B",
          "symbol": "circle"
         },
         "mode": "markers",
         "name": "-3.95913154533844",
         "showlegend": true,
         "type": "scattergeo"
        },
        {
         "geo": "geo",
         "hovertemplate": "<b>%{hovertext}</b><br><br>AvgTone=-4.23940149625935<br>ActionGeo_Lat=%{lat}<br>ActionGeo_Long=%{lon}<extra></extra>",
         "hovertext": [
          "http://www.myanmarmuslim.net/news/20240618029c599962.html",
          "http://www.myanmarmuslim.net/news/20240618029c599962.html",
          "http://www.myanmarmuslim.net/news/20240618029c599962.html"
         ],
         "lat": [
          "33.8191",
          "33.8191",
          "33.8191"
         ],
         "legendgroup": "-4.23940149625935",
         "lon": [
          "-80.9066",
          "-80.9066",
          "-80.9066"
         ],
         "marker": {
          "color": "#00cc96",
          "symbol": "circle"
         },
         "mode": "markers",
         "name": "-4.23940149625935",
         "showlegend": true,
         "type": "scattergeo"
        },
        {
         "geo": "geo",
         "hovertemplate": "<b>%{hovertext}</b><br><br>AvgTone=-0.13106159895151<br>ActionGeo_Lat=%{lat}<br>ActionGeo_Long=%{lon}<extra></extra>",
         "hovertext": [
          "https://www.naturalnews.com/2024-06-17-school-choice-victory-texas-incumbents-conservative-challengers.html",
          "https://www.naturalnews.com/2024-06-17-school-choice-victory-texas-incumbents-conservative-challengers.html",
          "https://www.naturalnews.com/2024-06-17-school-choice-victory-texas-incumbents-conservative-challengers.html",
          "https://www.naturalnews.com/2024-06-17-school-choice-victory-texas-incumbents-conservative-challengers.html",
          "https://www.naturalnews.com/2024-06-17-school-choice-victory-texas-incumbents-conservative-challengers.html"
         ],
         "lat": [
          "31.106",
          "31.106",
          "31.106",
          "31.106",
          "31.106"
         ],
         "legendgroup": "-0.13106159895151",
         "lon": [
          "-97.6475",
          "-97.6475",
          "-97.6475",
          "-97.6475",
          "-97.6475"
         ],
         "marker": {
          "color": "#ab63fa",
          "symbol": "circle"
         },
         "mode": "markers",
         "name": "-0.13106159895151",
         "showlegend": true,
         "type": "scattergeo"
        },
        {
         "geo": "geo",
         "hovertemplate": "<b>%{hovertext}</b><br><br>AvgTone=-1.28205128205128<br>ActionGeo_Lat=%{lat}<br>ActionGeo_Long=%{lon}<extra></extra>",
         "hovertext": [
          "https://lenta.ru/news/2024/06/17/vystupavshaya-za-sohraneniya-russkogo-yazyka-glava-minkulta-latvii-ushla-v-otstavku/"
         ],
         "lat": [
          "57.0"
         ],
         "legendgroup": "-1.28205128205128",
         "lon": [
          "25.0"
         ],
         "marker": {
          "color": "#FFA15A",
          "symbol": "circle"
         },
         "mode": "markers",
         "name": "-1.28205128205128",
         "showlegend": true,
         "type": "scattergeo"
        },
        {
         "geo": "geo",
         "hovertemplate": "<b>%{hovertext}</b><br><br>AvgTone=1.88679245283019<br>ActionGeo_Lat=%{lat}<br>ActionGeo_Long=%{lon}<extra></extra>",
         "hovertext": [
          "https://vm.ru/news/1143261-sobyanin-rasskazal-o-roste-turpotoka-iz-kitaya",
          "https://vm.ru/news/1143261-sobyanin-rasskazal-o-roste-turpotoka-iz-kitaya",
          "https://www.thejournal.ie/taoiseach-simon-harris-joe-biden-first-phone-call-gaza-ukraine-6412319-Jun2024/",
          "https://www.thejournal.ie/taoiseach-simon-harris-joe-biden-first-phone-call-gaza-ukraine-6412319-Jun2024/",
          "https://www.thejournal.ie/taoiseach-simon-harris-joe-biden-first-phone-call-gaza-ukraine-6412319-Jun2024/",
          "https://www.thejournal.ie/taoiseach-simon-harris-joe-biden-first-phone-call-gaza-ukraine-6412319-Jun2024/",
          "https://vm.ru/news/1143261-sobyanin-rasskazal-o-roste-turpotoka-iz-kitaya",
          "https://www.thejournal.ie/taoiseach-simon-harris-joe-biden-first-phone-call-gaza-ukraine-6412319-Jun2024/",
          "https://www.thejournal.ie/taoiseach-simon-harris-joe-biden-first-phone-call-gaza-ukraine-6412319-Jun2024/"
         ],
         "lat": [
          "55.7522",
          "55.7522",
          "53.0",
          "49.0",
          "49.0",
          "49.0",
          "55.7522",
          "53.0",
          "49.0"
         ],
         "legendgroup": "1.88679245283019",
         "lon": [
          "37.6156",
          "37.6156",
          "-8.0",
          "32.0",
          "32.0",
          "32.0",
          "37.6156",
          "-8.0",
          "32.0"
         ],
         "marker": {
          "color": "#19d3f3",
          "symbol": "circle"
         },
         "mode": "markers",
         "name": "1.88679245283019",
         "showlegend": true,
         "type": "scattergeo"
        },
        {
         "geo": "geo",
         "hovertemplate": "<b>%{hovertext}</b><br><br>AvgTone=-1.89075630252101<br>ActionGeo_Lat=%{lat}<br>ActionGeo_Long=%{lon}<extra></extra>",
         "hovertext": [
          "https://www.jungewelt.de/artikel/477570.atomares-wettr%C3%BCsten-atombomben-auf-scharf.html"
         ],
         "lat": [
          "59.3333"
         ],
         "legendgroup": "-1.89075630252101",
         "lon": [
          "18.05"
         ],
         "marker": {
          "color": "#FF6692",
          "symbol": "circle"
         },
         "mode": "markers",
         "name": "-1.89075630252101",
         "showlegend": true,
         "type": "scattergeo"
        },
        {
         "geo": "geo",
         "hovertemplate": "<b>%{hovertext}</b><br><br>AvgTone=4.0650406504065<br>ActionGeo_Lat=%{lat}<br>ActionGeo_Long=%{lon}<extra></extra>",
         "hovertext": [
          "https://www.ridus.ru/ushakov-putin-obsudit-s-kim-chen-ynom-sotrudnichestvo-v-sfere-bezopasnosti-440320.html",
          "https://www.ridus.ru/ushakov-putin-obsudit-s-kim-chen-ynom-sotrudnichestvo-v-sfere-bezopasnosti-440320.html",
          "https://www.ridus.ru/ushakov-putin-obsudit-s-kim-chen-ynom-sotrudnichestvo-v-sfere-bezopasnosti-440320.html"
         ],
         "lat": [
          "60.0",
          "60.0",
          "60.0"
         ],
         "legendgroup": "4.0650406504065",
         "lon": [
          "100.0",
          "100.0",
          "100.0"
         ],
         "marker": {
          "color": "#B6E880",
          "symbol": "circle"
         },
         "mode": "markers",
         "name": "4.0650406504065",
         "showlegend": true,
         "type": "scattergeo"
        },
        {
         "geo": "geo",
         "hovertemplate": "<b>%{hovertext}</b><br><br>AvgTone=0.13297872340426<br>ActionGeo_Lat=%{lat}<br>ActionGeo_Long=%{lon}<extra></extra>",
         "hovertext": [
          "https://www.ibtimes.com.au/putin-visit-n-korea-kremlin-floats-possible-strategic-treaty-1848706"
         ],
         "lat": [
          "37.5664"
         ],
         "legendgroup": "0.13297872340426",
         "lon": [
          "127.0"
         ],
         "marker": {
          "color": "#FF97FF",
          "symbol": "circle"
         },
         "mode": "markers",
         "name": "0.13297872340426",
         "showlegend": true,
         "type": "scattergeo"
        },
        {
         "geo": "geo",
         "hovertemplate": "<b>%{hovertext}</b><br><br>AvgTone=0.987654320987656<br>ActionGeo_Lat=%{lat}<br>ActionGeo_Long=%{lon}<extra></extra>",
         "hovertext": [
          "https://therealdeal.com/miami/2024/06/17/ken-griffins-citadel-expands-at-vlad-doronins-830-brickell/",
          "https://therealdeal.com/miami/2024/06/17/ken-griffins-citadel-expands-at-vlad-doronins-830-brickell/",
          "https://therealdeal.com/miami/2024/06/17/ken-griffins-citadel-expands-at-vlad-doronins-830-brickell/",
          "https://therealdeal.com/miami/2024/06/17/ken-griffins-citadel-expands-at-vlad-doronins-830-brickell/",
          "https://therealdeal.com/miami/2024/06/17/ken-griffins-citadel-expands-at-vlad-doronins-830-brickell/",
          "https://therealdeal.com/miami/2024/06/17/ken-griffins-citadel-expands-at-vlad-doronins-830-brickell/",
          "https://therealdeal.com/miami/2024/06/17/ken-griffins-citadel-expands-at-vlad-doronins-830-brickell/"
         ],
         "lat": [
          "26.3587",
          "41.85",
          "26.1223",
          "41.85",
          "26.3587",
          "26.3587",
          "1.366667"
         ],
         "legendgroup": "0.987654320987656",
         "lon": [
          "-80.0831",
          "-87.6501",
          "-80.1434",
          "-87.6501",
          "-80.0831",
          "-80.0831",
          "103.8"
         ],
         "marker": {
          "color": "#FECB52",
          "symbol": "circle"
         },
         "mode": "markers",
         "name": "0.987654320987656",
         "showlegend": true,
         "type": "scattergeo"
        },
        {
         "geo": "geo",
         "hovertemplate": "<b>%{hovertext}</b><br><br>AvgTone=1.953125<br>ActionGeo_Lat=%{lat}<br>ActionGeo_Long=%{lon}<extra></extra>",
         "hovertext": [
          "https://www.wagmtv.com/2024/06/17/young-eagles-presque-isle/",
          "https://www.wagmtv.com/2024/06/17/young-eagles-presque-isle/",
          "https://www.wagmtv.com/2024/06/17/young-eagles-presque-isle/",
          "https://www.wagmtv.com/2024/06/17/young-eagles-presque-isle/"
         ],
         "lat": [
          "46.6812",
          "46.6812",
          "46.6812",
          "46.6812"
         ],
         "legendgroup": "1.953125",
         "lon": [
          "-68.0159",
          "-68.0159",
          "-68.0159",
          "-68.0159"
         ],
         "marker": {
          "color": "#636efa",
          "symbol": "circle"
         },
         "mode": "markers",
         "name": "1.953125",
         "showlegend": true,
         "type": "scattergeo"
        },
        {
         "geo": "geo",
         "hovertemplate": "<b>%{hovertext}</b><br><br>AvgTone=2.20264317180617<br>ActionGeo_Lat=%{lat}<br>ActionGeo_Long=%{lon}<extra></extra>",
         "hovertext": [
          "https://exbulletin.com/tech/2748341/"
         ],
         "lat": [
          "17.0"
         ],
         "legendgroup": "2.20264317180617",
         "lon": [
          "-4.0"
         ],
         "marker": {
          "color": "#EF553B",
          "symbol": "circle"
         },
         "mode": "markers",
         "name": "2.20264317180617",
         "showlegend": true,
         "type": "scattergeo"
        },
        {
         "geo": "geo",
         "hovertemplate": "<b>%{hovertext}</b><br><br>AvgTone=-2.08835341365462<br>ActionGeo_Lat=%{lat}<br>ActionGeo_Long=%{lon}<extra></extra>",
         "hovertext": [
          "https://www.nzherald.co.nz/nz/public-sector-cuts-more-than-8-million-spent-on-one-government-ministrys-redundancy-plans/UUHME6MJZBG2DGUYPCC2Z6PKY4/",
          "https://www.nzherald.co.nz/nz/public-sector-cuts-more-than-8-million-spent-on-one-government-ministrys-redundancy-plans/UUHME6MJZBG2DGUYPCC2Z6PKY4/"
         ],
         "lat": [
          "-25.0",
          "-25.0"
         ],
         "legendgroup": "-2.08835341365462",
         "lon": [
          "135.0",
          "135.0"
         ],
         "marker": {
          "color": "#00cc96",
          "symbol": "circle"
         },
         "mode": "markers",
         "name": "-2.08835341365462",
         "showlegend": true,
         "type": "scattergeo"
        },
        {
         "geo": "geo",
         "hovertemplate": "<b>%{hovertext}</b><br><br>AvgTone=-5.47808764940239<br>ActionGeo_Lat=%{lat}<br>ActionGeo_Long=%{lon}<extra></extra>",
         "hovertext": [
          "https://www.breitbart.com/asia/2024/06/17/report-north-korea-added-20-nukes-to-its-arsenal-in-2023/",
          "https://www.breitbart.com/asia/2024/06/17/report-north-korea-added-20-nukes-to-its-arsenal-in-2023/",
          "https://www.breitbart.com/asia/2024/06/17/report-north-korea-added-20-nukes-to-its-arsenal-in-2023/",
          "https://www.breitbart.com/asia/2024/06/17/report-north-korea-added-20-nukes-to-its-arsenal-in-2023/"
         ],
         "lat": [
          "39.828175",
          "35.0",
          "35.0",
          "39.828175"
         ],
         "legendgroup": "-5.47808764940239",
         "lon": [
          "-98.5795",
          "105.0",
          "105.0",
          "-98.5795"
         ],
         "marker": {
          "color": "#ab63fa",
          "symbol": "circle"
         },
         "mode": "markers",
         "name": "-5.47808764940239",
         "showlegend": true,
         "type": "scattergeo"
        },
        {
         "geo": "geo",
         "hovertemplate": "<b>%{hovertext}</b><br><br>AvgTone=-7.03592814371257<br>ActionGeo_Lat=%{lat}<br>ActionGeo_Long=%{lon}<extra></extra>",
         "hovertext": [
          "https://www.devdiscourse.com/article/politics/2986045-sham-trial-beckons-for-wsj-reporter-evan-gershkovich-in-russia",
          "https://www.devdiscourse.com/article/politics/2986045-sham-trial-beckons-for-wsj-reporter-evan-gershkovich-in-russia",
          "https://www.devdiscourse.com/article/politics/2986045-sham-trial-beckons-for-wsj-reporter-evan-gershkovich-in-russia",
          "https://www.devdiscourse.com/article/politics/2986045-sham-trial-beckons-for-wsj-reporter-evan-gershkovich-in-russia",
          "https://www.devdiscourse.com/article/politics/2986045-sham-trial-beckons-for-wsj-reporter-evan-gershkovich-in-russia",
          "https://www.devdiscourse.com/article/politics/2986045-sham-trial-beckons-for-wsj-reporter-evan-gershkovich-in-russia",
          "https://www.devdiscourse.com/article/politics/2986045-sham-trial-beckons-for-wsj-reporter-evan-gershkovich-in-russia",
          "https://www.devdiscourse.com/article/politics/2986045-sham-trial-beckons-for-wsj-reporter-evan-gershkovich-in-russia"
         ],
         "lat": [
          "55.7522",
          "55.7522",
          "38.8951",
          "55.7522",
          "38.8951",
          "55.7522",
          "55.7522",
          "55.7522"
         ],
         "legendgroup": "-7.03592814371257",
         "lon": [
          "37.6156",
          "37.6156",
          "-77.0364",
          "37.6156",
          "-77.0364",
          "37.6156",
          "37.6156",
          "37.6156"
         ],
         "marker": {
          "color": "#FFA15A",
          "symbol": "circle"
         },
         "mode": "markers",
         "name": "-7.03592814371257",
         "showlegend": true,
         "type": "scattergeo"
        },
        {
         "geo": "geo",
         "hovertemplate": "<b>%{hovertext}</b><br><br>AvgTone=0.99667774086379<br>ActionGeo_Lat=%{lat}<br>ActionGeo_Long=%{lon}<extra></extra>",
         "hovertext": [
          "https://www.mprnews.org/story/2024/06/17/funeral-fallen-minneapolis-police-officer-jamal-mitchell",
          "https://www.mprnews.org/story/2024/06/17/funeral-fallen-minneapolis-police-officer-jamal-mitchell",
          "https://www.mprnews.org/story/2024/06/17/funeral-fallen-minneapolis-police-officer-jamal-mitchell",
          "https://www.mprnews.org/story/2024/06/17/funeral-fallen-minneapolis-police-officer-jamal-mitchell",
          "https://www.mprnews.org/story/2024/06/17/funeral-fallen-minneapolis-police-officer-jamal-mitchell",
          "https://www.mprnews.org/story/2024/06/17/funeral-fallen-minneapolis-police-officer-jamal-mitchell",
          "https://www.mprnews.org/story/2024/06/17/funeral-fallen-minneapolis-police-officer-jamal-mitchell",
          "https://www.mprnews.org/story/2024/06/17/funeral-fallen-minneapolis-police-officer-jamal-mitchell",
          "https://www.mprnews.org/story/2024/06/17/funeral-fallen-minneapolis-police-officer-jamal-mitchell",
          "https://www.mprnews.org/story/2024/06/17/funeral-fallen-minneapolis-police-officer-jamal-mitchell"
         ],
         "lat": [
          "41.3082",
          "45.0725",
          "40.314",
          "41.5834",
          "41.5834",
          "45.0725",
          "41.3082",
          "41.3082",
          "41.3082",
          "40.7357"
         ],
         "legendgroup": "0.99667774086379",
         "lon": [
          "-72.9282",
          "-93.4558",
          "-74.5089",
          "-72.7622",
          "-72.7622",
          "-93.4558",
          "-72.9282",
          "-72.9282",
          "-72.9282",
          "-74.1724"
         ],
         "marker": {
          "color": "#19d3f3",
          "symbol": "circle"
         },
         "mode": "markers",
         "name": "0.99667774086379",
         "showlegend": true,
         "type": "scattergeo"
        },
        {
         "geo": "geo",
         "hovertemplate": "<b>%{hovertext}</b><br><br>AvgTone=-1.34589502018842<br>ActionGeo_Lat=%{lat}<br>ActionGeo_Long=%{lon}<extra></extra>",
         "hovertext": [
          "https://www.argusobserver.com/breaking_news/search-for-missing-washington-man-continues-takes-another-twist/article_267430c0-2cbb-11ef-9e34-43c8e83b0e81.html",
          "https://www.argusobserver.com/breaking_news/search-for-missing-washington-man-continues-takes-another-twist/article_267430c0-2cbb-11ef-9e34-43c8e83b0e81.html"
         ],
         "lat": [
          "43.7446",
          "43.2502"
         ],
         "legendgroup": "-1.34589502018842",
         "lon": [
          "-118.08",
          "-117.668"
         ],
         "marker": {
          "color": "#FF6692",
          "symbol": "circle"
         },
         "mode": "markers",
         "name": "-1.34589502018842",
         "showlegend": true,
         "type": "scattergeo"
        },
        {
         "geo": "geo",
         "hovertemplate": "<b>%{hovertext}</b><br><br>AvgTone=-11.6219667943806<br>ActionGeo_Lat=%{lat}<br>ActionGeo_Long=%{lon}<extra></extra>",
         "hovertext": [
          "https://www.tillamookheadlightherald.com/news/tillamook-county-criminal-convictions/article_d400329c-1f79-11ef-9573-835dd6be2816.html"
         ],
         "lat": [
          "32.7831"
         ],
         "legendgroup": "-11.6219667943806",
         "lon": [
          "-96.8067"
         ],
         "marker": {
          "color": "#B6E880",
          "symbol": "circle"
         },
         "mode": "markers",
         "name": "-11.6219667943806",
         "showlegend": true,
         "type": "scattergeo"
        },
        {
         "geo": "geo",
         "hovertemplate": "<b>%{hovertext}</b><br><br>AvgTone=-0.75987841945289<br>ActionGeo_Lat=%{lat}<br>ActionGeo_Long=%{lon}<extra></extra>",
         "hovertext": [
          "https://www.yahoo.com/news/peace-summit-smart-way-combat-184529257.html"
         ],
         "lat": [
          "-25.0"
         ],
         "legendgroup": "-0.75987841945289",
         "lon": [
          "135.0"
         ],
         "marker": {
          "color": "#FF97FF",
          "symbol": "circle"
         },
         "mode": "markers",
         "name": "-0.75987841945289",
         "showlegend": true,
         "type": "scattergeo"
        },
        {
         "geo": "geo",
         "hovertemplate": "<b>%{hovertext}</b><br><br>AvgTone=-0.73710073710073<br>ActionGeo_Lat=%{lat}<br>ActionGeo_Long=%{lon}<extra></extra>",
         "hovertext": [
          "https://www.lesechos.fr/industrie-services/industrie-lourde/litalie-choquee-par-la-fin-brutale-du-general-graziano-president-de-fincantieri-et-soldat-majeur-2101957"
         ],
         "lat": [
          "45.4667"
         ],
         "legendgroup": "-0.73710073710073",
         "lon": [
          "9.2"
         ],
         "marker": {
          "color": "#FECB52",
          "symbol": "circle"
         },
         "mode": "markers",
         "name": "-0.73710073710073",
         "showlegend": true,
         "type": "scattergeo"
        },
        {
         "geo": "geo",
         "hovertemplate": "<b>%{hovertext}</b><br><br>AvgTone=-5.4679564406019<br>ActionGeo_Lat=%{lat}<br>ActionGeo_Long=%{lon}<extra></extra>",
         "hovertext": [
          "https://toronto.citynews.ca/2024/06/17/more-than-100-south-dakota-primary-ballots-shouldnt-have-been-rejected-elections-official-says/",
          "https://toronto.citynews.ca/2024/06/17/more-than-100-south-dakota-primary-ballots-shouldnt-have-been-rejected-elections-official-says/",
          "https://toronto.citynews.ca/2024/06/17/more-than-100-south-dakota-primary-ballots-shouldnt-have-been-rejected-elections-official-says/"
         ],
         "lat": [
          "43.6666",
          "44.2853",
          "44.2853"
         ],
         "legendgroup": "-5.4679564406019",
         "lon": [
          "-96.7587",
          "-99.4632",
          "-99.4632"
         ],
         "marker": {
          "color": "#636efa",
          "symbol": "circle"
         },
         "mode": "markers",
         "name": "-5.4679564406019",
         "showlegend": true,
         "type": "scattergeo"
        },
        {
         "geo": "geo",
         "hovertemplate": "<b>%{hovertext}</b><br><br>AvgTone=1.38888888888889<br>ActionGeo_Lat=%{lat}<br>ActionGeo_Long=%{lon}<extra></extra>",
         "hovertext": [
          "https://www.metronews.ru/novosti/glavnoe/reviews/naselenie-rossii-mozhet-obednet-iz-za-padeniya-mirovyh-cen-na-neft-posle-2030-goda-2170727/"
         ],
         "lat": [
          "60.0"
         ],
         "legendgroup": "1.38888888888889",
         "lon": [
          "100.0"
         ],
         "marker": {
          "color": "#EF553B",
          "symbol": "circle"
         },
         "mode": "markers",
         "name": "1.38888888888889",
         "showlegend": true,
         "type": "scattergeo"
        },
        {
         "geo": "geo",
         "hovertemplate": "<b>%{hovertext}</b><br><br>AvgTone=-4.77815699658703<br>ActionGeo_Lat=%{lat}<br>ActionGeo_Long=%{lon}<extra></extra>",
         "hovertext": [
          "https://www.wnp.pl/rynki-zagraniczne/rosja-putin-odwolal-czworo-wiceministrow-obrony-jednego-z-nich-zastapila-kuzynka-dyktatora,846214.html",
          "https://www.wnp.pl/rynki-zagraniczne/rosja-putin-odwolal-czworo-wiceministrow-obrony-jednego-z-nich-zastapila-kuzynka-dyktatora,846214.html",
          "https://www.wnp.pl/rynki-zagraniczne/rosja-putin-odwolal-czworo-wiceministrow-obrony-jednego-z-nich-zastapila-kuzynka-dyktatora,846214.html"
         ],
         "lat": [
          "55.7522",
          "55.7522",
          "55.7522"
         ],
         "legendgroup": "-4.77815699658703",
         "lon": [
          "37.6156",
          "37.6156",
          "37.6156"
         ],
         "marker": {
          "color": "#00cc96",
          "symbol": "circle"
         },
         "mode": "markers",
         "name": "-4.77815699658703",
         "showlegend": true,
         "type": "scattergeo"
        },
        {
         "geo": "geo",
         "hovertemplate": "<b>%{hovertext}</b><br><br>AvgTone=-0.35149384885765<br>ActionGeo_Lat=%{lat}<br>ActionGeo_Long=%{lon}<extra></extra>",
         "hovertext": [
          "https://cyprus-mail.com/2024/06/17/cyprus-taking-decisive-turn-towards-the-west-politico/",
          "https://cyprus-mail.com/2024/06/17/cyprus-taking-decisive-turn-towards-the-west-politico/",
          "https://cyprus-mail.com/2024/06/17/cyprus-taking-decisive-turn-towards-the-west-politico/",
          "https://cyprus-mail.com/2024/06/17/cyprus-taking-decisive-turn-towards-the-west-politico/"
         ],
         "lat": [
          "41.85",
          "35.0",
          "39.9272",
          "39.0"
         ],
         "legendgroup": "-0.35149384885765",
         "lon": [
          "-87.6501",
          "33.0",
          "32.8644",
          "22.0"
         ],
         "marker": {
          "color": "#ab63fa",
          "symbol": "circle"
         },
         "mode": "markers",
         "name": "-0.35149384885765",
         "showlegend": true,
         "type": "scattergeo"
        },
        {
         "geo": "geo",
         "hovertemplate": "<b>%{hovertext}</b><br><br>AvgTone=-2.31023102310231<br>ActionGeo_Lat=%{lat}<br>ActionGeo_Long=%{lon}<extra></extra>",
         "hovertext": [
          "https://www.yahoo.com/news/oops-lake-county-property-appraiser-165535649.html",
          "https://www.yahoo.com/news/oops-lake-county-property-appraiser-165535649.html",
          "https://www.yahoo.com/news/oops-lake-county-property-appraiser-165535649.html",
          "https://www.yahoo.com/news/oops-lake-county-property-appraiser-165535649.html",
          "https://www.yahoo.com/news/oops-lake-county-property-appraiser-165535649.html"
         ],
         "lat": [
          "28.7919",
          "28.7919",
          "28.7919",
          "28.7919",
          "26.182"
         ],
         "legendgroup": "-2.31023102310231",
         "lon": [
          "-81.7915",
          "-81.7915",
          "-81.7915",
          "-81.7915",
          "-80.1611"
         ],
         "marker": {
          "color": "#FFA15A",
          "symbol": "circle"
         },
         "mode": "markers",
         "name": "-2.31023102310231",
         "showlegend": true,
         "type": "scattergeo"
        },
        {
         "geo": "geo",
         "hovertemplate": "<b>%{hovertext}</b><br><br>AvgTone=-7.19895287958115<br>ActionGeo_Lat=%{lat}<br>ActionGeo_Long=%{lon}<extra></extra>",
         "hovertext": [
          "https://www.naturalnews.com/2024-06-17-burn-american-flag-deface-lgbt-flag-prison.html",
          "https://www.naturalnews.com/2024-06-17-burn-american-flag-deface-lgbt-flag-prison.html",
          "https://www.naturalnews.com/2024-06-17-burn-american-flag-deface-lgbt-flag-prison.html",
          "https://www.naturalnews.com/2024-06-17-burn-american-flag-deface-lgbt-flag-prison.html"
         ],
         "lat": [
          "27.8333",
          "27.8333",
          "27.8333",
          "27.8333"
         ],
         "legendgroup": "-7.19895287958115",
         "lon": [
          "-81.717",
          "-81.717",
          "-81.717",
          "-81.717"
         ],
         "marker": {
          "color": "#19d3f3",
          "symbol": "circle"
         },
         "mode": "markers",
         "name": "-7.19895287958115",
         "showlegend": true,
         "type": "scattergeo"
        },
        {
         "geo": "geo",
         "hovertemplate": "<b>%{hovertext}</b><br><br>AvgTone=-3.03030303030303<br>ActionGeo_Lat=%{lat}<br>ActionGeo_Long=%{lon}<extra></extra>",
         "hovertext": [
          "https://filtermag.org/vermont-safe-consumption-site-veto-override/",
          "https://filtermag.org/vermont-safe-consumption-site-veto-override/",
          "https://filtermag.org/vermont-safe-consumption-site-veto-override/"
         ],
         "lat": [
          "44.0407",
          "44.0407",
          "44.0407"
         ],
         "legendgroup": "-3.03030303030303",
         "lon": [
          "-72.7093",
          "-72.7093",
          "-72.7093"
         ],
         "marker": {
          "color": "#FF6692",
          "symbol": "circle"
         },
         "mode": "markers",
         "name": "-3.03030303030303",
         "showlegend": true,
         "type": "scattergeo"
        },
        {
         "geo": "geo",
         "hovertemplate": "<b>%{hovertext}</b><br><br>AvgTone=-5.38116591928251<br>ActionGeo_Lat=%{lat}<br>ActionGeo_Long=%{lon}<extra></extra>",
         "hovertext": [
          "https://www.voanews.com/a/state-department-condemns-china-s-sentencing-of-2-activists/7659273.html",
          "https://www.voanews.com/a/state-department-condemns-china-s-sentencing-of-2-activists/7659273.html"
         ],
         "lat": [
          "23.1167",
          "22.25"
         ],
         "legendgroup": "-5.38116591928251",
         "lon": [
          "113.25",
          "114.166667"
         ],
         "marker": {
          "color": "#B6E880",
          "symbol": "circle"
         },
         "mode": "markers",
         "name": "-5.38116591928251",
         "showlegend": true,
         "type": "scattergeo"
        },
        {
         "geo": "geo",
         "hovertemplate": "<b>%{hovertext}</b><br><br>AvgTone=3.22061191626409<br>ActionGeo_Lat=%{lat}<br>ActionGeo_Long=%{lon}<extra></extra>",
         "hovertext": [
          "https://cyprus-mail.com/2024/06/17/blinken-announces-strengthened-us-cyprus-relations/",
          "https://cyprus-mail.com/2024/06/17/blinken-announces-strengthened-us-cyprus-relations/",
          "https://cyprus-mail.com/2024/06/17/blinken-announces-strengthened-us-cyprus-relations/",
          "https://cyprus-mail.com/2024/06/17/blinken-announces-strengthened-us-cyprus-relations/",
          "https://cyprus-mail.com/2024/06/17/blinken-announces-strengthened-us-cyprus-relations/",
          "https://cyprus-mail.com/2024/06/17/blinken-announces-strengthened-us-cyprus-relations/",
          "https://cyprus-mail.com/2024/06/17/blinken-announces-strengthened-us-cyprus-relations/",
          "https://cyprus-mail.com/2024/06/17/blinken-announces-strengthened-us-cyprus-relations/",
          "https://cyprus-mail.com/2024/06/17/blinken-announces-strengthened-us-cyprus-relations/",
          "https://cyprus-mail.com/2024/06/17/blinken-announces-strengthened-us-cyprus-relations/"
         ],
         "lat": [
          "35.4",
          "35.4",
          "38.8951",
          "38.8951",
          "35.4",
          "35.4",
          "35.4",
          "31.4167",
          "38.8951",
          "35.4"
         ],
         "legendgroup": "3.22061191626409",
         "lon": [
          "34.0458",
          "34.0458",
          "-77.0364",
          "-77.0364",
          "34.0458",
          "34.0458",
          "34.0458",
          "34.3333",
          "-77.0364",
          "34.0458"
         ],
         "marker": {
          "color": "#FF97FF",
          "symbol": "circle"
         },
         "mode": "markers",
         "name": "3.22061191626409",
         "showlegend": true,
         "type": "scattergeo"
        },
        {
         "geo": "geo",
         "hovertemplate": "<b>%{hovertext}</b><br><br>AvgTone=-4.73766640563821<br>ActionGeo_Lat=%{lat}<br>ActionGeo_Long=%{lon}<extra></extra>",
         "hovertext": [
          "https://www.2news.com/news/national/the-latest-netanyahu-dissolves-war-cabinet-that-was-steering-war-in-gaza-israeli-officials-say/article_771b9d76-7a6b-51b4-afbf-306fdc7c65db.html",
          "https://www.2news.com/news/national/the-latest-netanyahu-dissolves-war-cabinet-that-was-steering-war-in-gaza-israeli-officials-say/article_771b9d76-7a6b-51b4-afbf-306fdc7c65db.html"
         ],
         "lat": [
          "31.3292",
          "31.3292"
         ],
         "legendgroup": "-4.73766640563821",
         "lon": [
          "34.2311",
          "34.2311"
         ],
         "marker": {
          "color": "#FECB52",
          "symbol": "circle"
         },
         "mode": "markers",
         "name": "-4.73766640563821",
         "showlegend": true,
         "type": "scattergeo"
        },
        {
         "geo": "geo",
         "hovertemplate": "<b>%{hovertext}</b><br><br>AvgTone=-3.30882352941176<br>ActionGeo_Lat=%{lat}<br>ActionGeo_Long=%{lon}<extra></extra>",
         "hovertext": [
          "http://www.myanmarmuslim.net/news/20240618419e599577.html",
          "http://www.myanmarmuslim.net/news/20240618419e599577.html",
          "http://www.myanmarmuslim.net/news/20240618419e599577.html",
          "http://www.myanmarmuslim.net/news/20240618419e599577.html",
          "http://www.myanmarmuslim.net/news/20240618419e599577.html",
          "http://www.myanmarmuslim.net/news/20240618419e599577.html",
          "http://www.myanmarmuslim.net/news/20240618419e599577.html",
          "http://www.myanmarmuslim.net/news/20240618419e599577.html",
          "http://www.myanmarmuslim.net/news/20240618419e599577.html",
          "http://www.myanmarmuslim.net/news/20240618419e599577.html",
          "http://www.myanmarmuslim.net/news/20240618419e599577.html",
          "http://www.myanmarmuslim.net/news/20240618419e599577.html",
          "http://www.myanmarmuslim.net/news/20240618419e599577.html"
         ],
         "lat": [
          "55.7522",
          "55.7522",
          "55.7522",
          "28.0",
          "22.0",
          "55.7522",
          "55.7522",
          "55.7522",
          "55.7522",
          "55.7522",
          "22.0",
          "2.0",
          "55.7522"
         ],
         "legendgroup": "-3.30882352941176",
         "lon": [
          "37.6156",
          "37.6156",
          "37.6156",
          "84.0",
          "-79.5",
          "37.6156",
          "37.6156",
          "37.6156",
          "37.6156",
          "37.6156",
          "-79.5",
          "33.0",
          "37.6156"
         ],
         "marker": {
          "color": "#636efa",
          "symbol": "circle"
         },
         "mode": "markers",
         "name": "-3.30882352941176",
         "showlegend": true,
         "type": "scattergeo"
        },
        {
         "geo": "geo",
         "hovertemplate": "<b>%{hovertext}</b><br><br>AvgTone=-3.59477124183007<br>ActionGeo_Lat=%{lat}<br>ActionGeo_Long=%{lon}<extra></extra>",
         "hovertext": [
          "https://www.thetrucker.com/trucking-news/the-nation/tennessee-police-seek-information-about-indicted-former-trucking-company-owner",
          "https://www.thetrucker.com/trucking-news/the-nation/tennessee-police-seek-information-about-indicted-former-trucking-company-owner",
          "https://www.thetrucker.com/trucking-news/the-nation/tennessee-police-seek-information-about-indicted-former-trucking-company-owner",
          "https://www.thetrucker.com/trucking-news/the-nation/tennessee-police-seek-information-about-indicted-former-trucking-company-owner",
          "https://www.thetrucker.com/trucking-news/the-nation/tennessee-police-seek-information-about-indicted-former-trucking-company-owner",
          "https://www.thetrucker.com/trucking-news/the-nation/tennessee-police-seek-information-about-indicted-former-trucking-company-owner",
          "https://www.thetrucker.com/trucking-news/the-nation/tennessee-police-seek-information-about-indicted-former-trucking-company-owner",
          "https://www.thetrucker.com/trucking-news/the-nation/tennessee-police-seek-information-about-indicted-former-trucking-company-owner"
         ],
         "lat": [
          "34.2284",
          "35.7449",
          "35.7449",
          "34.2284",
          "34.2284",
          "35.7449",
          "35.7449",
          "35.7449"
         ],
         "legendgroup": "-3.59477124183007",
         "lon": [
          "-92.0032",
          "-86.7489",
          "-86.7489",
          "-92.0032",
          "-92.0032",
          "-86.7489",
          "-86.7489",
          "-86.7489"
         ],
         "marker": {
          "color": "#EF553B",
          "symbol": "circle"
         },
         "mode": "markers",
         "name": "-3.59477124183007",
         "showlegend": true,
         "type": "scattergeo"
        },
        {
         "geo": "geo",
         "hovertemplate": "<b>%{hovertext}</b><br><br>AvgTone=-5.1063829787234<br>ActionGeo_Lat=%{lat}<br>ActionGeo_Long=%{lon}<extra></extra>",
         "hovertext": [
          "https://gazette.com/news/7-injured-in-fiery-head-on-crash-in-arapahoe-county/article_8c8b68b2-3af3-51bc-8212-541f6b1627aa.html",
          "https://gazette.com/news/7-injured-in-fiery-head-on-crash-in-arapahoe-county/article_8c8b68b2-3af3-51bc-8212-541f6b1627aa.html"
         ],
         "lat": [
          "39.7392",
          "39.7392"
         ],
         "legendgroup": "-5.1063829787234",
         "lon": [
          "-104.985",
          "-104.985"
         ],
         "marker": {
          "color": "#00cc96",
          "symbol": "circle"
         },
         "mode": "markers",
         "name": "-5.1063829787234",
         "showlegend": true,
         "type": "scattergeo"
        },
        {
         "geo": "geo",
         "hovertemplate": "<b>%{hovertext}</b><br><br>AvgTone=-7.00757575757576<br>ActionGeo_Lat=%{lat}<br>ActionGeo_Long=%{lon}<extra></extra>",
         "hovertext": [
          "https://www.fox43.com/article/news/crime/judge-trial-date-university-idaho-student-murders-bryan-kohberger/521-a23ec470-b989-4475-b3c4-f7d43834b9aa",
          "https://www.fox43.com/article/news/crime/judge-trial-date-university-idaho-student-murders-bryan-kohberger/521-a23ec470-b989-4475-b3c4-f7d43834b9aa"
         ],
         "lat": [
          "46.7257",
          "46.7257"
         ],
         "legendgroup": "-7.00757575757576",
         "lon": [
          "-117.011",
          "-117.011"
         ],
         "marker": {
          "color": "#ab63fa",
          "symbol": "circle"
         },
         "mode": "markers",
         "name": "-7.00757575757576",
         "showlegend": true,
         "type": "scattergeo"
        },
        {
         "geo": "geo",
         "hovertemplate": "<b>%{hovertext}</b><br><br>AvgTone=-10.3448275862069<br>ActionGeo_Lat=%{lat}<br>ActionGeo_Long=%{lon}<extra></extra>",
         "hovertext": [
          "https://biztoc.com/x/b073395df4e2f4b7"
         ],
         "lat": [
          "42.2373"
         ],
         "legendgroup": "-10.3448275862069",
         "lon": [
          "-71.5314"
         ],
         "marker": {
          "color": "#FFA15A",
          "symbol": "circle"
         },
         "mode": "markers",
         "name": "-10.3448275862069",
         "showlegend": true,
         "type": "scattergeo"
        },
        {
         "geo": "geo",
         "hovertemplate": "<b>%{hovertext}</b><br><br>AvgTone=-2.19298245614035<br>ActionGeo_Lat=%{lat}<br>ActionGeo_Long=%{lon}<extra></extra>",
         "hovertext": [
          "https://www.voanews.com/a/report-number-of-college-drop-outs-remains-high/7646532.html"
         ],
         "lat": [
          "43.3504"
         ],
         "legendgroup": "-2.19298245614035",
         "lon": [
          "-84.5603"
         ],
         "marker": {
          "color": "#19d3f3",
          "symbol": "circle"
         },
         "mode": "markers",
         "name": "-2.19298245614035",
         "showlegend": true,
         "type": "scattergeo"
        },
        {
         "geo": "geo",
         "hovertemplate": "<b>%{hovertext}</b><br><br>AvgTone=-3.40909090909091<br>ActionGeo_Lat=%{lat}<br>ActionGeo_Long=%{lon}<extra></extra>",
         "hovertext": [
          "https://www.usnews.com/news/us/articles/2024-06-17/new-jerseys-attorney-general-charges-an-influential-democratic-power-broker-with-racketeering",
          "https://www.usnews.com/news/us/articles/2024-06-17/new-jerseys-attorney-general-charges-an-influential-democratic-power-broker-with-racketeering",
          "https://www.usnews.com/news/us/articles/2024-06-17/new-jerseys-attorney-general-charges-an-influential-democratic-power-broker-with-racketeering",
          "https://www.usnews.com/news/us/articles/2024-06-17/new-jerseys-attorney-general-charges-an-influential-democratic-power-broker-with-racketeering"
         ],
         "lat": [
          "40.314",
          "40.314",
          "48.8667",
          "48.8667"
         ],
         "legendgroup": "-3.40909090909091",
         "lon": [
          "-74.5089",
          "-74.5089",
          "2.33333",
          "2.33333"
         ],
         "marker": {
          "color": "#FF6692",
          "symbol": "circle"
         },
         "mode": "markers",
         "name": "-3.40909090909091",
         "showlegend": true,
         "type": "scattergeo"
        },
        {
         "geo": "geo",
         "hovertemplate": "<b>%{hovertext}</b><br><br>AvgTone=1.08374384236454<br>ActionGeo_Lat=%{lat}<br>ActionGeo_Long=%{lon}<extra></extra>",
         "hovertext": [
          "https://thetablet.org/key-discussions-at-u-s-bishops-spring-meeting-eucharistic-revival-indigenous-ministry-immigration-addressing-abuse/",
          "https://thetablet.org/key-discussions-at-u-s-bishops-spring-meeting-eucharistic-revival-indigenous-ministry-immigration-addressing-abuse/",
          "https://thetablet.org/key-discussions-at-u-s-bishops-spring-meeting-eucharistic-revival-indigenous-ministry-immigration-addressing-abuse/"
         ],
         "lat": [
          "32.7831",
          "31.7587",
          "31.7587"
         ],
         "legendgroup": "1.08374384236454",
         "lon": [
          "-96.8067",
          "-106.487",
          "-106.487"
         ],
         "marker": {
          "color": "#B6E880",
          "symbol": "circle"
         },
         "mode": "markers",
         "name": "1.08374384236454",
         "showlegend": true,
         "type": "scattergeo"
        },
        {
         "geo": "geo",
         "hovertemplate": "<b>%{hovertext}</b><br><br>AvgTone=-3.6101083032491<br>ActionGeo_Lat=%{lat}<br>ActionGeo_Long=%{lon}<extra></extra>",
         "hovertext": [
          "https://vermontbiz.com/news/2024/june/17/nurses-uvm-medical-center-hold-strike-vote-today",
          "https://vermontbiz.com/news/2024/june/17/nurses-uvm-medical-center-hold-strike-vote-today"
         ],
         "lat": [
          "44.0407",
          "44.0407"
         ],
         "legendgroup": "-3.6101083032491",
         "lon": [
          "-72.7093",
          "-72.7093"
         ],
         "marker": {
          "color": "#FF97FF",
          "symbol": "circle"
         },
         "mode": "markers",
         "name": "-3.6101083032491",
         "showlegend": true,
         "type": "scattergeo"
        },
        {
         "geo": "geo",
         "hovertemplate": "<b>%{hovertext}</b><br><br>AvgTone=-4.24836601307189<br>ActionGeo_Lat=%{lat}<br>ActionGeo_Long=%{lon}<extra></extra>",
         "hovertext": [
          "http://www.hngn.com/articles/261089/20240530/native-americans-catholic-church-child-abuse-sex-decades.htm",
          "http://www.hngn.com/articles/261089/20240530/native-americans-catholic-church-child-abuse-sex-decades.htm",
          "http://www.hngn.com/articles/261089/20240530/native-americans-catholic-church-child-abuse-sex-decades.htm",
          "http://www.hngn.com/articles/261089/20240530/native-americans-catholic-church-child-abuse-sex-decades.htm"
         ],
         "lat": [
          "48.0684",
          "61.385",
          "48.0684",
          "61.385"
         ],
         "legendgroup": "-4.24836601307189",
         "lon": [
          "-122.292",
          "-152.268",
          "-122.292",
          "-152.268"
         ],
         "marker": {
          "color": "#FECB52",
          "symbol": "circle"
         },
         "mode": "markers",
         "name": "-4.24836601307189",
         "showlegend": true,
         "type": "scattergeo"
        },
        {
         "geo": "geo",
         "hovertemplate": "<b>%{hovertext}</b><br><br>AvgTone=-2.29885057471265<br>ActionGeo_Lat=%{lat}<br>ActionGeo_Long=%{lon}<extra></extra>",
         "hovertext": [
          "https://www.justmedia.ru/news/russiaandworld/putin-naznachil-tsivilevu-i-fradkova-zamestitelyami-ministra-oborony-rf"
         ],
         "lat": [
          null
         ],
         "legendgroup": "-2.29885057471265",
         "lon": [
          null
         ],
         "marker": {
          "color": "#636efa",
          "symbol": "circle"
         },
         "mode": "markers",
         "name": "-2.29885057471265",
         "showlegend": true,
         "type": "scattergeo"
        },
        {
         "geo": "geo",
         "hovertemplate": "<b>%{hovertext}</b><br><br>AvgTone=2.3972602739726<br>ActionGeo_Lat=%{lat}<br>ActionGeo_Long=%{lon}<extra></extra>",
         "hovertext": [
          "https://www.rfi.fr/fr/europe/20240617-vladimir-poutine-%C3%A0-pyongyang-premi%C3%A8re-visite-d-un-chef-d-%C3%A9tat-russe-depuis-pr%C3%A8s-d-un-quart-de-si%C3%A8cle"
         ],
         "lat": [
          "39.0194"
         ],
         "legendgroup": "2.3972602739726",
         "lon": [
          "125.755"
         ],
         "marker": {
          "color": "#EF553B",
          "symbol": "circle"
         },
         "mode": "markers",
         "name": "2.3972602739726",
         "showlegend": true,
         "type": "scattergeo"
        },
        {
         "geo": "geo",
         "hovertemplate": "<b>%{hovertext}</b><br><br>AvgTone=-5.12249443207127<br>ActionGeo_Lat=%{lat}<br>ActionGeo_Long=%{lon}<extra></extra>",
         "hovertext": [
          "https://france3-regions.francetvinfo.fr/auvergne-rhone-alpes/rhone/lyon/pfas-nous-essayons-de-proteger-la-sante-de-tout-le-monde-temoigne-une-militante-ecologiste-en-proces-pour-avoir-envahi-le-site-d-arkema-2988446.html"
         ],
         "lat": [
          "33.2343"
         ],
         "legendgroup": "-5.12249443207127",
         "lon": [
          "-97.5861"
         ],
         "marker": {
          "color": "#00cc96",
          "symbol": "circle"
         },
         "mode": "markers",
         "name": "-5.12249443207127",
         "showlegend": true,
         "type": "scattergeo"
        },
        {
         "geo": "geo",
         "hovertemplate": "<b>%{hovertext}</b><br><br>AvgTone=-6.37191157347204<br>ActionGeo_Lat=%{lat}<br>ActionGeo_Long=%{lon}<extra></extra>",
         "hovertext": [
          "https://ekstrabladet.dk/nyheder/krigogkatastrofer/grusom-beretning-100-gik-ind-kun-12-kom-tilbage/10270132",
          "https://ekstrabladet.dk/nyheder/krigogkatastrofer/grusom-beretning-100-gik-ind-kun-12-kom-tilbage/10270132",
          "https://ekstrabladet.dk/nyheder/krigogkatastrofer/grusom-beretning-100-gik-ind-kun-12-kom-tilbage/10270132"
         ],
         "lat": [
          "59.8944",
          "59.8944",
          "49.0"
         ],
         "legendgroup": "-6.37191157347204",
         "lon": [
          "30.2642",
          "30.2642",
          "32.0"
         ],
         "marker": {
          "color": "#ab63fa",
          "symbol": "circle"
         },
         "mode": "markers",
         "name": "-6.37191157347204",
         "showlegend": true,
         "type": "scattergeo"
        },
        {
         "geo": "geo",
         "hovertemplate": "<b>%{hovertext}</b><br><br>AvgTone=-1.96078431372549<br>ActionGeo_Lat=%{lat}<br>ActionGeo_Long=%{lon}<extra></extra>",
         "hovertext": [
          "https://www.ridus.ru/mid-indoneziya-ne-podpisala-deklaraciyu-po-ukraine-iz-za-otsutstviya-rf-440311.html",
          "https://www.ridus.ru/mid-indoneziya-ne-podpisala-deklaraciyu-po-ukraine-iz-za-otsutstviya-rf-440311.html",
          "https://www.ridus.ru/mid-indoneziya-ne-podpisala-deklaraciyu-po-ukraine-iz-za-otsutstviya-rf-440311.html"
         ],
         "lat": [
          "60.0",
          "60.0",
          "49.0"
         ],
         "legendgroup": "-1.96078431372549",
         "lon": [
          "100.0",
          "100.0",
          "32.0"
         ],
         "marker": {
          "color": "#FFA15A",
          "symbol": "circle"
         },
         "mode": "markers",
         "name": "-1.96078431372549",
         "showlegend": true,
         "type": "scattergeo"
        },
        {
         "geo": "geo",
         "hovertemplate": "<b>%{hovertext}</b><br><br>AvgTone=-1.0126582278481<br>ActionGeo_Lat=%{lat}<br>ActionGeo_Long=%{lon}<extra></extra>",
         "hovertext": [
          "https://www.yahoo.com/tech/background-process-may-consume-20-171621803.html"
         ],
         "lat": [
          null
         ],
         "legendgroup": "-1.0126582278481",
         "lon": [
          null
         ],
         "marker": {
          "color": "#19d3f3",
          "symbol": "circle"
         },
         "mode": "markers",
         "name": "-1.0126582278481",
         "showlegend": true,
         "type": "scattergeo"
        },
        {
         "geo": "geo",
         "hovertemplate": "<b>%{hovertext}</b><br><br>AvgTone=3.58565737051793<br>ActionGeo_Lat=%{lat}<br>ActionGeo_Long=%{lon}<extra></extra>",
         "hovertext": [
          "https://journalrecord.com/2024/06/senator-thompson-resigns-triggers-special-election/",
          "https://journalrecord.com/2024/06/senator-thompson-resigns-triggers-special-election/",
          "https://journalrecord.com/2024/06/senator-thompson-resigns-triggers-special-election/",
          "https://journalrecord.com/2024/06/senator-thompson-resigns-triggers-special-election/"
         ],
         "lat": [
          "35.4326",
          "35.4326",
          "35.4326",
          "35.4326"
         ],
         "legendgroup": "3.58565737051793",
         "lon": [
          "-96.305",
          "-96.305",
          "-96.305",
          "-96.305"
         ],
         "marker": {
          "color": "#FF6692",
          "symbol": "circle"
         },
         "mode": "markers",
         "name": "3.58565737051793",
         "showlegend": true,
         "type": "scattergeo"
        },
        {
         "geo": "geo",
         "hovertemplate": "<b>%{hovertext}</b><br><br>AvgTone=-0.15159171298636<br>ActionGeo_Lat=%{lat}<br>ActionGeo_Long=%{lon}<extra></extra>",
         "hovertext": [
          "https://www.yahoo.com/news/biden-campaign-eyes-disaffected-republicans-165743717.html",
          "https://www.yahoo.com/news/biden-campaign-eyes-disaffected-republicans-165743717.html",
          "https://www.yahoo.com/news/biden-campaign-eyes-disaffected-republicans-165743717.html",
          "https://www.yahoo.com/news/biden-campaign-eyes-disaffected-republicans-165743717.html",
          "https://www.yahoo.com/news/biden-campaign-eyes-disaffected-republicans-165743717.html"
         ],
         "lat": [
          "37.5538",
          "49.0",
          "37.768",
          "49.0",
          "31.1801"
         ],
         "legendgroup": "-0.15159171298636",
         "lon": [
          "-77.4603",
          "32.0",
          "-78.2057",
          "32.0",
          "-91.8749"
         ],
         "marker": {
          "color": "#B6E880",
          "symbol": "circle"
         },
         "mode": "markers",
         "name": "-0.15159171298636",
         "showlegend": true,
         "type": "scattergeo"
        },
        {
         "geo": "geo",
         "hovertemplate": "<b>%{hovertext}</b><br><br>AvgTone=-7.9582875960483<br>ActionGeo_Lat=%{lat}<br>ActionGeo_Long=%{lon}<extra></extra>",
         "hovertext": [
          "https://theweek.com/donald-trump/1022309/donald-trumps-biggest-legal-threats",
          "https://theweek.com/donald-trump/1022309/donald-trumps-biggest-legal-threats",
          "https://theweek.com/donald-trump/1022309/donald-trumps-biggest-legal-threats",
          "https://theweek.com/donald-trump/1022309/donald-trumps-biggest-legal-threats"
         ],
         "lat": [
          "33.7759",
          "33.7759",
          "32.9866",
          "40.7834"
         ],
         "legendgroup": "-7.9582875960483",
         "lon": [
          "-84.4244",
          "-84.4244",
          "-83.6487",
          "-73.9662"
         ],
         "marker": {
          "color": "#FF97FF",
          "symbol": "circle"
         },
         "mode": "markers",
         "name": "-7.9582875960483",
         "showlegend": true,
         "type": "scattergeo"
        },
        {
         "geo": "geo",
         "hovertemplate": "<b>%{hovertext}</b><br><br>AvgTone=3.96039603960396<br>ActionGeo_Lat=%{lat}<br>ActionGeo_Long=%{lon}<extra></extra>",
         "hovertext": [
          "https://www.kfvs12.com/2024/06/17/carbondale-pizza-restaurant-announces-closure/"
         ],
         "lat": [
          "37.7273"
         ],
         "legendgroup": "3.96039603960396",
         "lon": [
          "-89.2168"
         ],
         "marker": {
          "color": "#FECB52",
          "symbol": "circle"
         },
         "mode": "markers",
         "name": "3.96039603960396",
         "showlegend": true,
         "type": "scattergeo"
        },
        {
         "geo": "geo",
         "hovertemplate": "<b>%{hovertext}</b><br><br>AvgTone=-3.05810397553516<br>ActionGeo_Lat=%{lat}<br>ActionGeo_Long=%{lon}<extra></extra>",
         "hovertext": [
          "https://therealdeal.com/new-york/2024/06/17/co-founder-sues-to-dissolve-ddg-partners/"
         ],
         "lat": [
          "36.17"
         ],
         "legendgroup": "-3.05810397553516",
         "lon": [
          "-119.746"
         ],
         "marker": {
          "color": "#636efa",
          "symbol": "circle"
         },
         "mode": "markers",
         "name": "-3.05810397553516",
         "showlegend": true,
         "type": "scattergeo"
        },
        {
         "geo": "geo",
         "hovertemplate": "<b>%{hovertext}</b><br><br>AvgTone=-6.73076923076925<br>ActionGeo_Lat=%{lat}<br>ActionGeo_Long=%{lon}<extra></extra>",
         "hovertext": [
          "https://ground.news/article/south-jersey-power-broker-george-norcross-allies-charged-in-sweeping-racketeering-case",
          "https://ground.news/article/south-jersey-power-broker-george-norcross-allies-charged-in-sweeping-racketeering-case",
          "https://ground.news/article/south-jersey-power-broker-george-norcross-allies-charged-in-sweeping-racketeering-case"
         ],
         "lat": [
          "40.314",
          "40.2171",
          "40.2171"
         ],
         "legendgroup": "-6.73076923076925",
         "lon": [
          "-74.5089",
          "-74.7429",
          "-74.7429"
         ],
         "marker": {
          "color": "#EF553B",
          "symbol": "circle"
         },
         "mode": "markers",
         "name": "-6.73076923076925",
         "showlegend": true,
         "type": "scattergeo"
        },
        {
         "geo": "geo",
         "hovertemplate": "<b>%{hovertext}</b><br><br>AvgTone=1.2779552715655<br>ActionGeo_Lat=%{lat}<br>ActionGeo_Long=%{lon}<extra></extra>",
         "hovertext": [
          "https://retailtimes.co.uk/antler-lands-in-us-first-residency-retail-experience-in-soho-ny/",
          "https://retailtimes.co.uk/antler-lands-in-us-first-residency-retail-experience-in-soho-ny/",
          "https://retailtimes.co.uk/antler-lands-in-us-first-residency-retail-experience-in-soho-ny/",
          "https://retailtimes.co.uk/antler-lands-in-us-first-residency-retail-experience-in-soho-ny/"
         ],
         "lat": [
          "42.1497",
          "54.0",
          "-25.0",
          "42.1497"
         ],
         "legendgroup": "1.2779552715655",
         "lon": [
          "-74.9384",
          "-4.0",
          "135.0",
          "-74.9384"
         ],
         "marker": {
          "color": "#00cc96",
          "symbol": "circle"
         },
         "mode": "markers",
         "name": "1.2779552715655",
         "showlegend": true,
         "type": "scattergeo"
        },
        {
         "geo": "geo",
         "hovertemplate": "<b>%{hovertext}</b><br><br>AvgTone=1.71755725190839<br>ActionGeo_Lat=%{lat}<br>ActionGeo_Long=%{lon}<extra></extra>",
         "hovertext": [
          "https://www.winnipegfreepress.com/arts-and-life/entertainment/celebrities/2024/06/17/francis-ford-coppolas-megalopolis-will-hit-us-theaters-in-september"
         ],
         "lat": [
          "49.8833"
         ],
         "legendgroup": "1.71755725190839",
         "lon": [
          "-97.1667"
         ],
         "marker": {
          "color": "#ab63fa",
          "symbol": "circle"
         },
         "mode": "markers",
         "name": "1.71755725190839",
         "showlegend": true,
         "type": "scattergeo"
        },
        {
         "geo": "geo",
         "hovertemplate": "<b>%{hovertext}</b><br><br>AvgTone=2.25225225225225<br>ActionGeo_Lat=%{lat}<br>ActionGeo_Long=%{lon}<extra></extra>",
         "hovertext": [
          "https://www.irishtimes.com/politics/2024/06/17/harris-and-biden-discuss-humanitarian-crisis-in-gaza-and-need-for-immediate-ceasefire/",
          "https://www.irishtimes.com/politics/2024/06/17/harris-and-biden-discuss-humanitarian-crisis-in-gaza-and-need-for-immediate-ceasefire/",
          "https://www.irishtimes.com/politics/2024/06/17/harris-and-biden-discuss-humanitarian-crisis-in-gaza-and-need-for-immediate-ceasefire/"
         ],
         "lat": [
          "53.0",
          "53.0",
          "53.0"
         ],
         "legendgroup": "2.25225225225225",
         "lon": [
          "-8.0",
          "-8.0",
          "-8.0"
         ],
         "marker": {
          "color": "#FFA15A",
          "symbol": "circle"
         },
         "mode": "markers",
         "name": "2.25225225225225",
         "showlegend": true,
         "type": "scattergeo"
        },
        {
         "geo": "geo",
         "hovertemplate": "<b>%{hovertext}</b><br><br>AvgTone=-1.13636363636364<br>ActionGeo_Lat=%{lat}<br>ActionGeo_Long=%{lon}<extra></extra>",
         "hovertext": [
          "https://www.military.com/daily-news/2024/06/17/uss-neighbors-brace-trump-second-term-after-trauma-of-first.html",
          "https://www.military.com/daily-news/2024/06/17/uss-neighbors-brace-trump-second-term-after-trauma-of-first.html",
          "https://www.military.com/daily-news/2024/06/17/uss-neighbors-brace-trump-second-term-after-trauma-of-first.html"
         ],
         "lat": [
          "45.4167",
          "23.0",
          "38.8951"
         ],
         "legendgroup": "-1.13636363636364",
         "lon": [
          "-75.7",
          "-102.0",
          "-77.0364"
         ],
         "marker": {
          "color": "#19d3f3",
          "symbol": "circle"
         },
         "mode": "markers",
         "name": "-1.13636363636364",
         "showlegend": true,
         "type": "scattergeo"
        },
        {
         "geo": "geo",
         "hovertemplate": "<b>%{hovertext}</b><br><br>AvgTone=1.44927536231884<br>ActionGeo_Lat=%{lat}<br>ActionGeo_Long=%{lon}<extra></extra>",
         "hovertext": [
          "https://tass.com/politics/1804595",
          "https://tass.com/politics/1804595",
          "https://tass.com/politics/1804595",
          "https://tass.com/politics/1804595",
          "https://tass.com/politics/1804595",
          "https://tass.com/politics/1804595",
          "https://tass.com/politics/1804595",
          "https://tass.com/politics/1804595",
          "https://tass.com/politics/1804595"
         ],
         "lat": [
          "39.0194",
          "50.9265",
          "50.9265",
          "50.9265",
          "50.9265",
          "39.0194",
          "39.0194",
          "50.9265",
          "50.9265"
         ],
         "legendgroup": "1.44927536231884",
         "lon": [
          "125.755",
          "38.971",
          "38.971",
          "38.971",
          "38.971",
          "125.755",
          "125.755",
          "38.971",
          "38.971"
         ],
         "marker": {
          "color": "#FF6692",
          "symbol": "circle"
         },
         "mode": "markers",
         "name": "1.44927536231884",
         "showlegend": true,
         "type": "scattergeo"
        },
        {
         "geo": "geo",
         "hovertemplate": "<b>%{hovertext}</b><br><br>AvgTone=-3.63636363636364<br>ActionGeo_Lat=%{lat}<br>ActionGeo_Long=%{lon}<extra></extra>",
         "hovertext": [
          "https://www.bbc.com/news/articles/cl5502l2vyno"
         ],
         "lat": [
          "51.6"
         ],
         "legendgroup": "-3.63636363636364",
         "lon": [
          "-3.78333"
         ],
         "marker": {
          "color": "#B6E880",
          "symbol": "circle"
         },
         "mode": "markers",
         "name": "-3.63636363636364",
         "showlegend": true,
         "type": "scattergeo"
        },
        {
         "geo": "geo",
         "hovertemplate": "<b>%{hovertext}</b><br><br>AvgTone=-2.83757338551859<br>ActionGeo_Lat=%{lat}<br>ActionGeo_Long=%{lon}<extra></extra>",
         "hovertext": [
          "https://www.yahoo.com/news/l-pay-activist-group-300-173735132.html",
          "https://www.yahoo.com/news/l-pay-activist-group-300-173735132.html",
          "https://www.yahoo.com/news/l-pay-activist-group-300-173735132.html",
          "https://www.yahoo.com/news/l-pay-activist-group-300-173735132.html",
          "https://www.yahoo.com/news/l-pay-activist-group-300-173735132.html",
          "https://www.yahoo.com/news/l-pay-activist-group-300-173735132.html"
         ],
         "lat": [
          "34.0522",
          "34.0522",
          "34.0522",
          "34.0522",
          "34.0522",
          "34.0522"
         ],
         "legendgroup": "-2.83757338551859",
         "lon": [
          "-118.244",
          "-118.244",
          "-118.244",
          "-118.244",
          "-118.244",
          "-118.244"
         ],
         "marker": {
          "color": "#FF97FF",
          "symbol": "circle"
         },
         "mode": "markers",
         "name": "-2.83757338551859",
         "showlegend": true,
         "type": "scattergeo"
        },
        {
         "geo": "geo",
         "hovertemplate": "<b>%{hovertext}</b><br><br>AvgTone=-2.36220472440945<br>ActionGeo_Lat=%{lat}<br>ActionGeo_Long=%{lon}<extra></extra>",
         "hovertext": [
          "https://www.yahoo.com/news/memorial-emanuel-9-close-charleston-170200209.html",
          "https://www.yahoo.com/news/memorial-emanuel-9-close-charleston-170200209.html",
          "https://www.yahoo.com/news/memorial-emanuel-9-close-charleston-170200209.html",
          "https://www.yahoo.com/news/memorial-emanuel-9-close-charleston-170200209.html",
          "https://www.yahoo.com/news/memorial-emanuel-9-close-charleston-170200209.html",
          "https://www.yahoo.com/news/memorial-emanuel-9-close-charleston-170200209.html",
          "https://www.yahoo.com/news/memorial-emanuel-9-close-charleston-170200209.html"
         ],
         "lat": [
          "32.7766",
          "32.7766",
          "32.7766",
          "32.7766",
          "32.7766",
          "32.7766",
          "32.7766"
         ],
         "legendgroup": "-2.36220472440945",
         "lon": [
          "-79.9309",
          "-79.9309",
          "-79.9309",
          "-79.9309",
          "-79.9309",
          "-79.9309",
          "-79.9309"
         ],
         "marker": {
          "color": "#FECB52",
          "symbol": "circle"
         },
         "mode": "markers",
         "name": "-2.36220472440945",
         "showlegend": true,
         "type": "scattergeo"
        },
        {
         "geo": "geo",
         "hovertemplate": "<b>%{hovertext}</b><br><br>AvgTone=-0.97680097680098<br>ActionGeo_Lat=%{lat}<br>ActionGeo_Long=%{lon}<extra></extra>",
         "hovertext": [
          "https://www.ekhokavkaza.com/a/32996879.html"
         ],
         "lat": [
          "42.75"
         ],
         "legendgroup": "-0.97680097680098",
         "lon": [
          "44.0"
         ],
         "marker": {
          "color": "#636efa",
          "symbol": "circle"
         },
         "mode": "markers",
         "name": "-0.97680097680098",
         "showlegend": true,
         "type": "scattergeo"
        },
        {
         "geo": "geo",
         "hovertemplate": "<b>%{hovertext}</b><br><br>AvgTone=-2.15827338129496<br>ActionGeo_Lat=%{lat}<br>ActionGeo_Long=%{lon}<extra></extra>",
         "hovertext": [
          "https://www.bnr.nl/nieuws/internationaal/10550291/navo-baas-stoltenberg-de-weg-naar-vrede-is-met-meer-wapens",
          "https://www.bnr.nl/nieuws/internationaal/10550291/navo-baas-stoltenberg-de-weg-naar-vrede-is-met-meer-wapens"
         ],
         "lat": [
          "55.7522",
          "55.7522"
         ],
         "legendgroup": "-2.15827338129496",
         "lon": [
          "37.6156",
          "37.6156"
         ],
         "marker": {
          "color": "#EF553B",
          "symbol": "circle"
         },
         "mode": "markers",
         "name": "-2.15827338129496",
         "showlegend": true,
         "type": "scattergeo"
        },
        {
         "geo": "geo",
         "hovertemplate": "<b>%{hovertext}</b><br><br>AvgTone=-1.18694362017804<br>ActionGeo_Lat=%{lat}<br>ActionGeo_Long=%{lon}<extra></extra>",
         "hovertext": [
          "https://www.wlwt.com/article/how-to-know-signs-of-heat-related-illness-2024/61143273"
         ],
         "lat": [
          "40.1259"
         ],
         "legendgroup": "-1.18694362017804",
         "lon": [
          "-80.8087"
         ],
         "marker": {
          "color": "#00cc96",
          "symbol": "circle"
         },
         "mode": "markers",
         "name": "-1.18694362017804",
         "showlegend": true,
         "type": "scattergeo"
        },
        {
         "geo": "geo",
         "hovertemplate": "<b>%{hovertext}</b><br><br>AvgTone=-5.04854368932039<br>ActionGeo_Lat=%{lat}<br>ActionGeo_Long=%{lon}<extra></extra>",
         "hovertext": [
          "https://www.fox13memphis.com/news/shelby-county-district-attorney-abandons-idea-of-diversion-for-felons-with-gun-crimes/article_84d5892e-2cda-11ef-9b9d-6f0a978e1b0b.html"
         ],
         "lat": [
          "35.2001"
         ],
         "legendgroup": "-5.04854368932039",
         "lon": [
          "-89.8668"
         ],
         "marker": {
          "color": "#ab63fa",
          "symbol": "circle"
         },
         "mode": "markers",
         "name": "-5.04854368932039",
         "showlegend": true,
         "type": "scattergeo"
        },
        {
         "geo": "geo",
         "hovertemplate": "<b>%{hovertext}</b><br><br>AvgTone=-0.71942446043165<br>ActionGeo_Lat=%{lat}<br>ActionGeo_Long=%{lon}<extra></extra>",
         "hovertext": [
          "https://www.nin.rs/svet/vesti/51355/mirovni-pregovori-rusije-i-ukrajine-objavljena-tajna-dokumenta-o-sastancima-dve-strane",
          "https://www.nin.rs/svet/vesti/51355/mirovni-pregovori-rusije-i-ukrajine-objavljena-tajna-dokumenta-o-sastancima-dve-strane",
          "https://www.nin.rs/svet/vesti/51355/mirovni-pregovori-rusije-i-ukrajine-objavljena-tajna-dokumenta-o-sastancima-dve-strane",
          "https://www.nin.rs/svet/vesti/51355/mirovni-pregovori-rusije-i-ukrajine-objavljena-tajna-dokumenta-o-sastancima-dve-strane",
          "https://www.nin.rs/svet/vesti/51355/mirovni-pregovori-rusije-i-ukrajine-objavljena-tajna-dokumenta-o-sastancima-dve-strane"
         ],
         "lat": [
          "50.4333",
          "55.7522",
          "55.7522",
          "55.7522",
          "50.4333"
         ],
         "legendgroup": "-0.71942446043165",
         "lon": [
          "30.5167",
          "37.6156",
          "37.6156",
          "37.6156",
          "30.5167"
         ],
         "marker": {
          "color": "#FFA15A",
          "symbol": "circle"
         },
         "mode": "markers",
         "name": "-0.71942446043165",
         "showlegend": true,
         "type": "scattergeo"
        },
        {
         "geo": "geo",
         "hovertemplate": "<b>%{hovertext}</b><br><br>AvgTone=-6.50887573964497<br>ActionGeo_Lat=%{lat}<br>ActionGeo_Long=%{lon}<extra></extra>",
         "hovertext": [
          "https://www.nytimes.com/2024/06/17/realestate/oren-alon-alexander-sexual-assault-allegations.html",
          "https://www.nytimes.com/2024/06/17/realestate/oren-alon-alexander-sexual-assault-allegations.html"
         ],
         "lat": [
          "25.7743",
          "25.7743"
         ],
         "legendgroup": "-6.50887573964497",
         "lon": [
          "-80.1937",
          "-80.1937"
         ],
         "marker": {
          "color": "#19d3f3",
          "symbol": "circle"
         },
         "mode": "markers",
         "name": "-6.50887573964497",
         "showlegend": true,
         "type": "scattergeo"
        },
        {
         "geo": "geo",
         "hovertemplate": "<b>%{hovertext}</b><br><br>AvgTone=-16.1676646706587<br>ActionGeo_Lat=%{lat}<br>ActionGeo_Long=%{lon}<extra></extra>",
         "hovertext": [
          "https://www.kwtx.com/2024/06/17/mclennan-county-man-arrested-after-assaulting-two-his-children-affidavit-alleges/",
          "https://www.kwtx.com/2024/06/17/mclennan-county-man-arrested-after-assaulting-two-his-children-affidavit-alleges/"
         ],
         "lat": [
          "31.5502",
          "31.5502"
         ],
         "legendgroup": "-16.1676646706587",
         "lon": [
          "-97.1836",
          "-97.1836"
         ],
         "marker": {
          "color": "#FF6692",
          "symbol": "circle"
         },
         "mode": "markers",
         "name": "-16.1676646706587",
         "showlegend": true,
         "type": "scattergeo"
        },
        {
         "geo": "geo",
         "hovertemplate": "<b>%{hovertext}</b><br><br>AvgTone=2.56410256410257<br>ActionGeo_Lat=%{lat}<br>ActionGeo_Long=%{lon}<extra></extra>",
         "hovertext": [
          "https://www.nezavisne.com/novosti/svijet/Putin-putuje-u-Sjevernu-Koreju-potpisati-vazne-dokumente/840343",
          "https://www.nezavisne.com/novosti/svijet/Putin-putuje-u-Sjevernu-Koreju-potpisati-vazne-dokumente/840343"
         ],
         "lat": [
          "50.9265",
          "50.9265"
         ],
         "legendgroup": "2.56410256410257",
         "lon": [
          "38.971",
          "38.971"
         ],
         "marker": {
          "color": "#B6E880",
          "symbol": "circle"
         },
         "mode": "markers",
         "name": "2.56410256410257",
         "showlegend": true,
         "type": "scattergeo"
        },
        {
         "geo": "geo",
         "hovertemplate": "<b>%{hovertext}</b><br><br>AvgTone=-4.63917525773196<br>ActionGeo_Lat=%{lat}<br>ActionGeo_Long=%{lon}<extra></extra>",
         "hovertext": [
          "https://regnum.ru/news/3896189",
          "https://regnum.ru/news/3896189"
         ],
         "lat": [
          "49.0",
          "53.9906"
         ],
         "legendgroup": "-4.63917525773196",
         "lon": [
          "32.0",
          "78.5525"
         ],
         "marker": {
          "color": "#FF97FF",
          "symbol": "circle"
         },
         "mode": "markers",
         "name": "-4.63917525773196",
         "showlegend": true,
         "type": "scattergeo"
        },
        {
         "geo": "geo",
         "hovertemplate": "<b>%{hovertext}</b><br><br>AvgTone=-1.43884892086331<br>ActionGeo_Lat=%{lat}<br>ActionGeo_Long=%{lon}<extra></extra>",
         "hovertext": [
          "https://www.kait8.com/2024/06/17/evacuations-underway-following-hazmat-incident/",
          "https://www.kait8.com/2024/06/17/evacuations-underway-following-hazmat-incident/"
         ],
         "lat": [
          null,
          null
         ],
         "legendgroup": "-1.43884892086331",
         "lon": [
          null,
          null
         ],
         "marker": {
          "color": "#FECB52",
          "symbol": "circle"
         },
         "mode": "markers",
         "name": "-1.43884892086331",
         "showlegend": true,
         "type": "scattergeo"
        },
        {
         "geo": "geo",
         "hovertemplate": "<b>%{hovertext}</b><br><br>AvgTone=1.98675496688742<br>ActionGeo_Lat=%{lat}<br>ActionGeo_Long=%{lon}<extra></extra>",
         "hovertext": [
          "https://www.fox4news.com/news/dallas-mavericks-barrel-bones-farmers-branch-free-meal",
          "https://www.fox4news.com/news/dallas-mavericks-barrel-bones-farmers-branch-free-meal",
          "https://www.fox4news.com/news/dallas-mavericks-barrel-bones-farmers-branch-free-meal"
         ],
         "lat": [
          "32.7831",
          "32.7831",
          "32.7831"
         ],
         "legendgroup": "1.98675496688742",
         "lon": [
          "-96.8067",
          "-96.8067",
          "-96.8067"
         ],
         "marker": {
          "color": "#636efa",
          "symbol": "circle"
         },
         "mode": "markers",
         "name": "1.98675496688742",
         "showlegend": true,
         "type": "scattergeo"
        },
        {
         "geo": "geo",
         "hovertemplate": "<b>%{hovertext}</b><br><br>AvgTone=-3.2967032967033<br>ActionGeo_Lat=%{lat}<br>ActionGeo_Long=%{lon}<extra></extra>",
         "hovertext": [
          "https://www.wtvy.com/2024/06/17/missing-81-year-old-holmes-county-man-found/"
         ],
         "lat": [
          "31.8296"
         ],
         "legendgroup": "-3.2967032967033",
         "lon": [
          "-86.6178"
         ],
         "marker": {
          "color": "#EF553B",
          "symbol": "circle"
         },
         "mode": "markers",
         "name": "-3.2967032967033",
         "showlegend": true,
         "type": "scattergeo"
        },
        {
         "geo": "geo",
         "hovertemplate": "<b>%{hovertext}</b><br><br>AvgTone=0.34602076124567<br>ActionGeo_Lat=%{lat}<br>ActionGeo_Long=%{lon}<extra></extra>",
         "hovertext": [
          "https://www.lancashiretelegraph.co.uk/news/24392608.i-stabbed-back-says-workers-party-blackburn-candidate/",
          "https://www.lancashiretelegraph.co.uk/news/24392608.i-stabbed-back-says-workers-party-blackburn-candidate/",
          "https://www.lancashiretelegraph.co.uk/news/24392608.i-stabbed-back-says-workers-party-blackburn-candidate/",
          "https://www.lancashiretelegraph.co.uk/news/24392608.i-stabbed-back-says-workers-party-blackburn-candidate/",
          "https://www.lancashiretelegraph.co.uk/news/24392608.i-stabbed-back-says-workers-party-blackburn-candidate/",
          "https://www.lancashiretelegraph.co.uk/news/24392608.i-stabbed-back-says-workers-party-blackburn-candidate/"
         ],
         "lat": [
          "41.707542",
          "41.707542",
          "41.707542",
          "41.707542",
          "41.707542",
          "41.707542"
         ],
         "legendgroup": "0.34602076124567",
         "lon": [
          "63.84911",
          "63.84911",
          "63.84911",
          "63.84911",
          "63.84911",
          "63.84911"
         ],
         "marker": {
          "color": "#00cc96",
          "symbol": "circle"
         },
         "mode": "markers",
         "name": "0.34602076124567",
         "showlegend": true,
         "type": "scattergeo"
        },
        {
         "geo": "geo",
         "hovertemplate": "<b>%{hovertext}</b><br><br>AvgTone=1.86480186480186<br>ActionGeo_Lat=%{lat}<br>ActionGeo_Long=%{lon}<extra></extra>",
         "hovertext": [
          "https://www.wisbusiness.com/2024/gov-evers-announces-request-for-services-to-conduct-independent-operational-audit-of-mps/"
         ],
         "lat": [
          "43.0389"
         ],
         "legendgroup": "1.86480186480186",
         "lon": [
          "-87.9065"
         ],
         "marker": {
          "color": "#ab63fa",
          "symbol": "circle"
         },
         "mode": "markers",
         "name": "1.86480186480186",
         "showlegend": true,
         "type": "scattergeo"
        },
        {
         "geo": "geo",
         "hovertemplate": "<b>%{hovertext}</b><br><br>AvgTone=-5.17241379310345<br>ActionGeo_Lat=%{lat}<br>ActionGeo_Long=%{lon}<extra></extra>",
         "hovertext": [
          "https://www.tanjug.rs/svet/politika/94581/zaharova-konferencija-o-ukrajini-potpuni-fijasko/vest"
         ],
         "lat": [
          "47.0"
         ],
         "legendgroup": "-5.17241379310345",
         "lon": [
          "8.0"
         ],
         "marker": {
          "color": "#FFA15A",
          "symbol": "circle"
         },
         "mode": "markers",
         "name": "-5.17241379310345",
         "showlegend": true,
         "type": "scattergeo"
        },
        {
         "geo": "geo",
         "hovertemplate": "<b>%{hovertext}</b><br><br>AvgTone=-0.29585798816568<br>ActionGeo_Lat=%{lat}<br>ActionGeo_Long=%{lon}<extra></extra>",
         "hovertext": [
          "https://www.paloaltoonline.com/santa-clara-county/2024/06/17/santa-clara-county-will-offer-short-term-relief-to-family-caregivers/"
         ],
         "lat": [
          "37.2333"
         ],
         "legendgroup": "-0.29585798816568",
         "lon": [
          "-121.768"
         ],
         "marker": {
          "color": "#19d3f3",
          "symbol": "circle"
         },
         "mode": "markers",
         "name": "-0.29585798816568",
         "showlegend": true,
         "type": "scattergeo"
        },
        {
         "geo": "geo",
         "hovertemplate": "<b>%{hovertext}</b><br><br>AvgTone=-3.33633904418395<br>ActionGeo_Lat=%{lat}<br>ActionGeo_Long=%{lon}<extra></extra>",
         "hovertext": [
          "https://gazette.com/news/us-world/artillery-hunger-feeds-ukraine-fear-that-biden-won-t-back-victory/article_239ec442-735b-5199-9f37-d60ff671b3ae.html",
          "https://gazette.com/news/us-world/artillery-hunger-feeds-ukraine-fear-that-biden-won-t-back-victory/article_239ec442-735b-5199-9f37-d60ff671b3ae.html"
         ],
         "lat": [
          "46.4639",
          "46.4639"
         ],
         "legendgroup": "-3.33633904418395",
         "lon": [
          "30.7386",
          "30.7386"
         ],
         "marker": {
          "color": "#FF6692",
          "symbol": "circle"
         },
         "mode": "markers",
         "name": "-3.33633904418395",
         "showlegend": true,
         "type": "scattergeo"
        },
        {
         "geo": "geo",
         "hovertemplate": "<b>%{hovertext}</b><br><br>AvgTone=-1.98019801980198<br>ActionGeo_Lat=%{lat}<br>ActionGeo_Long=%{lon}<extra></extra>",
         "hovertext": [
          "https://www.ajc.com/news/nation-world/3-nixon-justices-helped-end-his-presidency-will-the-3-trump-appointees-force-him-to-stand-trial/335CWTWAMVCG7EHODT3PD26MTA/",
          "https://www.ajc.com/news/nation-world/3-nixon-justices-helped-end-his-presidency-will-the-3-trump-appointees-force-him-to-stand-trial/335CWTWAMVCG7EHODT3PD26MTA/",
          "https://www.ajc.com/news/nation-world/3-nixon-justices-helped-end-his-presidency-will-the-3-trump-appointees-force-him-to-stand-trial/335CWTWAMVCG7EHODT3PD26MTA/"
         ],
         "lat": [
          "40.314",
          "40.314",
          "37.768"
         ],
         "legendgroup": "-1.98019801980198",
         "lon": [
          "-74.5089",
          "-74.5089",
          "-78.2057"
         ],
         "marker": {
          "color": "#B6E880",
          "symbol": "circle"
         },
         "mode": "markers",
         "name": "-1.98019801980198",
         "showlegend": true,
         "type": "scattergeo"
        },
        {
         "geo": "geo",
         "hovertemplate": "<b>%{hovertext}</b><br><br>AvgTone=-3.53697749196141<br>ActionGeo_Lat=%{lat}<br>ActionGeo_Long=%{lon}<extra></extra>",
         "hovertext": [
          "https://www.yahoo.com/news/st-paul-city-planners-weigh-174600283.html",
          "https://www.yahoo.com/news/st-paul-city-planners-weigh-174600283.html",
          "https://www.yahoo.com/news/st-paul-city-planners-weigh-174600283.html",
          "https://www.yahoo.com/news/st-paul-city-planners-weigh-174600283.html"
         ],
         "lat": [
          "40.7834",
          "40.7834",
          "45.7326",
          "45.7326"
         ],
         "legendgroup": "-3.53697749196141",
         "lon": [
          "-73.9662",
          "-73.9662",
          "-93.9196",
          "-93.9196"
         ],
         "marker": {
          "color": "#FF97FF",
          "symbol": "circle"
         },
         "mode": "markers",
         "name": "-3.53697749196141",
         "showlegend": true,
         "type": "scattergeo"
        },
        {
         "geo": "geo",
         "hovertemplate": "<b>%{hovertext}</b><br><br>AvgTone=-3.8961038961039<br>ActionGeo_Lat=%{lat}<br>ActionGeo_Long=%{lon}<extra></extra>",
         "hovertext": [
          "https://article.wn.com/view/2024/06/17/Grand_Teton_National_Park_searching_for_St_Paul_man_missing_/"
         ],
         "lat": [
          "43.8333"
         ],
         "legendgroup": "-3.8961038961039",
         "lon": [
          "-110.701"
         ],
         "marker": {
          "color": "#FECB52",
          "symbol": "circle"
         },
         "mode": "markers",
         "name": "-3.8961038961039",
         "showlegend": true,
         "type": "scattergeo"
        },
        {
         "geo": "geo",
         "hovertemplate": "<b>%{hovertext}</b><br><br>AvgTone=-1.67597765363129<br>ActionGeo_Lat=%{lat}<br>ActionGeo_Long=%{lon}<extra></extra>",
         "hovertext": [
          "https://www.yahoo.com/news/chief-russian-drone-designer-still-145120027.html",
          "https://www.yahoo.com/news/chief-russian-drone-designer-still-145120027.html",
          "https://www.yahoo.com/news/chief-russian-drone-designer-still-145120027.html",
          "https://www.yahoo.com/news/chief-russian-drone-designer-still-145120027.html"
         ],
         "lat": [
          "49.0",
          "52.2953",
          "60.0",
          "60.0"
         ],
         "legendgroup": "-1.67597765363129",
         "lon": [
          "32.0",
          "104.275",
          "100.0",
          "100.0"
         ],
         "marker": {
          "color": "#636efa",
          "symbol": "circle"
         },
         "mode": "markers",
         "name": "-1.67597765363129",
         "showlegend": true,
         "type": "scattergeo"
        },
        {
         "geo": "geo",
         "hovertemplate": "<b>%{hovertext}</b><br><br>AvgTone=-7.92079207920792<br>ActionGeo_Lat=%{lat}<br>ActionGeo_Long=%{lon}<extra></extra>",
         "hovertext": [
          "https://www.christianpost.com/news/pregnancy-center-vandal-not-charged-with-violating-face-act.html",
          "https://www.christianpost.com/news/pregnancy-center-vandal-not-charged-with-violating-face-act.html",
          "https://www.christianpost.com/news/pregnancy-center-vandal-not-charged-with-violating-face-act.html",
          "https://www.christianpost.com/news/pregnancy-center-vandal-not-charged-with-violating-face-act.html"
         ],
         "lat": [
          "44.2563",
          "44.2563",
          "27.8333",
          "38.8951"
         ],
         "legendgroup": "-7.92079207920792",
         "lon": [
          "-89.6385",
          "-89.6385",
          "-81.717",
          "-77.0364"
         ],
         "marker": {
          "color": "#EF553B",
          "symbol": "circle"
         },
         "mode": "markers",
         "name": "-7.92079207920792",
         "showlegend": true,
         "type": "scattergeo"
        },
        {
         "geo": "geo",
         "hovertemplate": "<b>%{hovertext}</b><br><br>AvgTone=-3.16742081447963<br>ActionGeo_Lat=%{lat}<br>ActionGeo_Long=%{lon}<extra></extra>",
         "hovertext": [
          "https://www.usnews.com/news/best-states/michigan/articles/2024-06-17/sheriff-plans-to-give-update-in-michigan-mass-shooting-as-investigators-search-for-motive",
          "https://www.usnews.com/news/best-states/michigan/articles/2024-06-17/sheriff-plans-to-give-update-in-michigan-mass-shooting-as-investigators-search-for-motive"
         ],
         "lat": [
          "48.8667",
          "48.8667"
         ],
         "legendgroup": "-3.16742081447963",
         "lon": [
          "2.33333",
          "2.33333"
         ],
         "marker": {
          "color": "#00cc96",
          "symbol": "circle"
         },
         "mode": "markers",
         "name": "-3.16742081447963",
         "showlegend": true,
         "type": "scattergeo"
        },
        {
         "geo": "geo",
         "hovertemplate": "<b>%{hovertext}</b><br><br>AvgTone=-2.96191819464034<br>ActionGeo_Lat=%{lat}<br>ActionGeo_Long=%{lon}<extra></extra>",
         "hovertext": [
          "https://www.naturalnews.com/2024-06-17-israel-deadly-nuseirat-massacre-hostage-rescue.html"
         ],
         "lat": [
          "31.4167"
         ],
         "legendgroup": "-2.96191819464034",
         "lon": [
          "34.3333"
         ],
         "marker": {
          "color": "#ab63fa",
          "symbol": "circle"
         },
         "mode": "markers",
         "name": "-2.96191819464034",
         "showlegend": true,
         "type": "scattergeo"
        },
        {
         "geo": "geo",
         "hovertemplate": "<b>%{hovertext}</b><br><br>AvgTone=-5.73012939001848<br>ActionGeo_Lat=%{lat}<br>ActionGeo_Long=%{lon}<extra></extra>",
         "hovertext": [
          "https://www.the-sun.com/news/11650499/putin-online-army-fake-messi-jennifer-aniston-propaganda-campaign/",
          "https://www.the-sun.com/news/11650499/putin-online-army-fake-messi-jennifer-aniston-propaganda-campaign/",
          "https://www.the-sun.com/news/11650499/putin-online-army-fake-messi-jennifer-aniston-propaganda-campaign/",
          "https://www.the-sun.com/news/11650499/putin-online-army-fake-messi-jennifer-aniston-propaganda-campaign/",
          "https://www.the-sun.com/news/11650499/putin-online-army-fake-messi-jennifer-aniston-propaganda-campaign/",
          "https://www.the-sun.com/news/11650499/putin-online-army-fake-messi-jennifer-aniston-propaganda-campaign/"
         ],
         "lat": [
          "55.7522",
          "50.4333",
          "55.7522",
          "55.7522",
          "50.4333",
          "55.7522"
         ],
         "legendgroup": "-5.73012939001848",
         "lon": [
          "37.6156",
          "30.5167",
          "37.6156",
          "37.6156",
          "30.5167",
          "37.6156"
         ],
         "marker": {
          "color": "#FFA15A",
          "symbol": "circle"
         },
         "mode": "markers",
         "name": "-5.73012939001848",
         "showlegend": true,
         "type": "scattergeo"
        },
        {
         "geo": "geo",
         "hovertemplate": "<b>%{hovertext}</b><br><br>AvgTone=1.05263157894737<br>ActionGeo_Lat=%{lat}<br>ActionGeo_Long=%{lon}<extra></extra>",
         "hovertext": [
          "https://vegnews.com/adam-scott-snack-habits",
          "https://vegnews.com/adam-scott-snack-habits"
         ],
         "lat": [
          "34.1128",
          "34.1128"
         ],
         "legendgroup": "1.05263157894737",
         "lon": [
          "-118.339",
          "-118.339"
         ],
         "marker": {
          "color": "#19d3f3",
          "symbol": "circle"
         },
         "mode": "markers",
         "name": "1.05263157894737",
         "showlegend": true,
         "type": "scattergeo"
        },
        {
         "geo": "geo",
         "hovertemplate": "<b>%{hovertext}</b><br><br>AvgTone=-2.20048899755501<br>ActionGeo_Lat=%{lat}<br>ActionGeo_Long=%{lon}<extra></extra>",
         "hovertext": [
          "https://gazette.com/seniors/nursing-homes-go-dark-as-more-utilities-cut-power-to-prevent-wildfires/article_614dc38e-2a6b-11ef-902c-2f49002f3fe7.html",
          "https://gazette.com/seniors/nursing-homes-go-dark-as-more-utilities-cut-power-to-prevent-wildfires/article_614dc38e-2a6b-11ef-902c-2f49002f3fe7.html"
         ],
         "lat": [
          "39.0646",
          "39.0646"
         ],
         "legendgroup": "-2.20048899755501",
         "lon": [
          "-105.327",
          "-105.327"
         ],
         "marker": {
          "color": "#FF6692",
          "symbol": "circle"
         },
         "mode": "markers",
         "name": "-2.20048899755501",
         "showlegend": true,
         "type": "scattergeo"
        },
        {
         "geo": "geo",
         "hovertemplate": "<b>%{hovertext}</b><br><br>AvgTone=-0.59405940594059<br>ActionGeo_Lat=%{lat}<br>ActionGeo_Long=%{lon}<extra></extra>",
         "hovertext": [
          "https://nypost.com/2024/06/17/us-news/tennessee-star-editor-heads-to-court-to-defend-1st-amendment-rights-in-covenant-school-shootings-case/",
          "https://nypost.com/2024/06/17/us-news/tennessee-star-editor-heads-to-court-to-defend-1st-amendment-rights-in-covenant-school-shootings-case/"
         ],
         "lat": [
          "36.1659",
          "36.1659"
         ],
         "legendgroup": "-0.59405940594059",
         "lon": [
          "-86.7844",
          "-86.7844"
         ],
         "marker": {
          "color": "#B6E880",
          "symbol": "circle"
         },
         "mode": "markers",
         "name": "-0.59405940594059",
         "showlegend": true,
         "type": "scattergeo"
        },
        {
         "geo": "geo",
         "hovertemplate": "<b>%{hovertext}</b><br><br>AvgTone=-4.82573726541555<br>ActionGeo_Lat=%{lat}<br>ActionGeo_Long=%{lon}<extra></extra>",
         "hovertext": [
          "http://www.myanmarmuslim.net/news/20240618910e599086.html",
          "http://www.myanmarmuslim.net/news/20240618910e599086.html",
          "http://www.myanmarmuslim.net/news/20240618910e599086.html"
         ],
         "lat": [
          "42.0046",
          "41.6833",
          "41.6833"
         ],
         "legendgroup": "-4.82573726541555",
         "lon": [
          "-93.214",
          "-94.0502",
          "-94.0502"
         ],
         "marker": {
          "color": "#FF97FF",
          "symbol": "circle"
         },
         "mode": "markers",
         "name": "-4.82573726541555",
         "showlegend": true,
         "type": "scattergeo"
        },
        {
         "geo": "geo",
         "hovertemplate": "<b>%{hovertext}</b><br><br>AvgTone=3.38389731621937<br>ActionGeo_Lat=%{lat}<br>ActionGeo_Long=%{lon}<extra></extra>",
         "hovertext": [
          "https://www.carwash.com/proovstation-expands-in-us/"
         ],
         "lat": [
          "27.8333"
         ],
         "legendgroup": "3.38389731621937",
         "lon": [
          "-81.717"
         ],
         "marker": {
          "color": "#FECB52",
          "symbol": "circle"
         },
         "mode": "markers",
         "name": "3.38389731621937",
         "showlegend": true,
         "type": "scattergeo"
        },
        {
         "geo": "geo",
         "hovertemplate": "<b>%{hovertext}</b><br><br>AvgTone=-3.11004784688995<br>ActionGeo_Lat=%{lat}<br>ActionGeo_Long=%{lon}<extra></extra>",
         "hovertext": [
          "https://localnews8.com/politics/cnn-us-politics/2024/06/17/biden-administrations-new-protections-for-lgbtq-students-blocked-in-6-more-states/",
          "https://localnews8.com/politics/cnn-us-politics/2024/06/17/biden-administrations-new-protections-for-lgbtq-students-blocked-in-6-more-states/"
         ],
         "lat": [
          "44.2394",
          "44.2394"
         ],
         "legendgroup": "-3.11004784688995",
         "lon": [
          "-114.51",
          "-114.51"
         ],
         "marker": {
          "color": "#636efa",
          "symbol": "circle"
         },
         "mode": "markers",
         "name": "-3.11004784688995",
         "showlegend": true,
         "type": "scattergeo"
        },
        {
         "geo": "geo",
         "hovertemplate": "<b>%{hovertext}</b><br><br>AvgTone=-4.44444444444444<br>ActionGeo_Lat=%{lat}<br>ActionGeo_Long=%{lon}<extra></extra>",
         "hovertext": [
          "https://www.kshb.com/news/crime/court-documents-reveal-details-in-missouri-mans-murder-of-wife",
          "https://www.kshb.com/news/crime/court-documents-reveal-details-in-missouri-mans-murder-of-wife",
          "https://www.kshb.com/news/crime/court-documents-reveal-details-in-missouri-mans-murder-of-wife",
          "https://medicinehatnews.com/business/2024/06/17/new-jerseys-attorney-general-charges-an-influential-democratic-power-broker-with-racketeering/",
          "https://www.kshb.com/news/crime/court-documents-reveal-details-in-missouri-mans-murder-of-wife"
         ],
         "lat": [
          "38.5833",
          "38.5833",
          "38.5833",
          "40.314",
          "38.4623"
         ],
         "legendgroup": "-4.44444444444444",
         "lon": [
          "-94.8502",
          "-94.8502",
          "-94.8502",
          "-74.5089",
          "-92.302"
         ],
         "marker": {
          "color": "#EF553B",
          "symbol": "circle"
         },
         "mode": "markers",
         "name": "-4.44444444444444",
         "showlegend": true,
         "type": "scattergeo"
        },
        {
         "geo": "geo",
         "hovertemplate": "<b>%{hovertext}</b><br><br>AvgTone=-0.53691275167786<br>ActionGeo_Lat=%{lat}<br>ActionGeo_Long=%{lon}<extra></extra>",
         "hovertext": [
          "https://www.christianpost.com/news/detroit-pastor-thanks-trump-for-visiting-the-hood.html",
          "https://www.christianpost.com/news/detroit-pastor-thanks-trump-for-visiting-the-hood.html",
          "https://www.christianpost.com/news/detroit-pastor-thanks-trump-for-visiting-the-hood.html",
          "https://www.christianpost.com/news/detroit-pastor-thanks-trump-for-visiting-the-hood.html",
          "https://www.christianpost.com/news/detroit-pastor-thanks-trump-for-visiting-the-hood.html",
          "https://www.christianpost.com/news/detroit-pastor-thanks-trump-for-visiting-the-hood.html",
          "https://www.christianpost.com/news/detroit-pastor-thanks-trump-for-visiting-the-hood.html",
          "https://www.christianpost.com/news/detroit-pastor-thanks-trump-for-visiting-the-hood.html",
          "https://www.christianpost.com/news/detroit-pastor-thanks-trump-for-visiting-the-hood.html",
          "https://www.christianpost.com/news/detroit-pastor-thanks-trump-for-visiting-the-hood.html"
         ],
         "lat": [
          "38.7826",
          "43.3504",
          "38.7826",
          "43.3504",
          "38.7826",
          "38.7826",
          "38.7826",
          "39.9523",
          "38.7826",
          "38.7826"
         ],
         "legendgroup": "-0.53691275167786",
         "lon": [
          "-77.0151",
          "-84.5603",
          "-77.0151",
          "-84.5603",
          "-77.0151",
          "-77.0151",
          "-77.0151",
          "-75.1638",
          "-77.0151",
          "-77.0151"
         ],
         "marker": {
          "color": "#00cc96",
          "symbol": "circle"
         },
         "mode": "markers",
         "name": "-0.53691275167786",
         "showlegend": true,
         "type": "scattergeo"
        },
        {
         "geo": "geo",
         "hovertemplate": "<b>%{hovertext}</b><br><br>AvgTone=-0.95693779904307<br>ActionGeo_Lat=%{lat}<br>ActionGeo_Long=%{lon}<extra></extra>",
         "hovertext": [
          "https://www.yahoo.com/news/adult-cannabis-legalized-maryland-states-180352269.html"
         ],
         "lat": [
          "39.2904"
         ],
         "legendgroup": "-0.95693779904307",
         "lon": [
          "-76.6122"
         ],
         "marker": {
          "color": "#ab63fa",
          "symbol": "circle"
         },
         "mode": "markers",
         "name": "-0.95693779904307",
         "showlegend": true,
         "type": "scattergeo"
        },
        {
         "geo": "geo",
         "hovertemplate": "<b>%{hovertext}</b><br><br>AvgTone=-9.02111324376199<br>ActionGeo_Lat=%{lat}<br>ActionGeo_Long=%{lon}<extra></extra>",
         "hovertext": [
          "https://www.yahoo.com/news/tennessee-governor-oks-bill-allowing-160218855.html",
          "https://www.yahoo.com/news/tennessee-governor-oks-bill-allowing-160218855.html",
          "https://www.yahoo.com/news/tennessee-governor-oks-bill-allowing-160218855.html",
          "https://www.yahoo.com/news/tennessee-governor-oks-bill-allowing-160218855.html"
         ],
         "lat": [
          "35.7449",
          "35.7449",
          "35.7449",
          "35.7449"
         ],
         "legendgroup": "-9.02111324376199",
         "lon": [
          "-86.7489",
          "-86.7489",
          "-86.7489",
          "-86.7489"
         ],
         "marker": {
          "color": "#FFA15A",
          "symbol": "circle"
         },
         "mode": "markers",
         "name": "-9.02111324376199",
         "showlegend": true,
         "type": "scattergeo"
        },
        {
         "geo": "geo",
         "hovertemplate": "<b>%{hovertext}</b><br><br>AvgTone=-2.82258064516129<br>ActionGeo_Lat=%{lat}<br>ActionGeo_Long=%{lon}<extra></extra>",
         "hovertext": [
          "https://www.hngn.com/articles/261506/20240617/mother-texas-navy-vet-dead-last-call-chilling-park-found.htm",
          "https://www.hngn.com/articles/261506/20240617/mother-texas-navy-vet-dead-last-call-chilling-park-found.htm",
          "https://www.hngn.com/articles/261506/20240617/mother-texas-navy-vet-dead-last-call-chilling-park-found.htm",
          "https://www.hngn.com/articles/261506/20240617/mother-texas-navy-vet-dead-last-call-chilling-park-found.htm"
         ],
         "lat": [
          "29.4502",
          "29.4502",
          "29.4502",
          "29.4502"
         ],
         "legendgroup": "-2.82258064516129",
         "lon": [
          "-98.517",
          "-98.517",
          "-98.517",
          "-98.517"
         ],
         "marker": {
          "color": "#19d3f3",
          "symbol": "circle"
         },
         "mode": "markers",
         "name": "-2.82258064516129",
         "showlegend": true,
         "type": "scattergeo"
        },
        {
         "geo": "geo",
         "hovertemplate": "<b>%{hovertext}</b><br><br>AvgTone=-8.1992337164751<br>ActionGeo_Lat=%{lat}<br>ActionGeo_Long=%{lon}<extra></extra>",
         "hovertext": [
          "https://www.chronline.com/stories/washington-police-officer-accused-of-tombstone-tactics-in-rare-murder-trial,342102",
          "https://www.chronline.com/stories/washington-police-officer-accused-of-tombstone-tactics-in-rare-murder-trial,342102",
          "https://www.chronline.com/stories/washington-police-officer-accused-of-tombstone-tactics-in-rare-murder-trial,342102",
          "https://www.chronline.com/stories/washington-police-officer-accused-of-tombstone-tactics-in-rare-murder-trial,342102",
          "https://www.chronline.com/stories/washington-police-officer-accused-of-tombstone-tactics-in-rare-murder-trial,342102"
         ],
         "lat": [
          "47.6062",
          "47.6062",
          "47.6062",
          "47.6062",
          "47.6062"
         ],
         "legendgroup": "-8.1992337164751",
         "lon": [
          "-122.332",
          "-122.332",
          "-122.332",
          "-122.332",
          "-122.332"
         ],
         "marker": {
          "color": "#FF6692",
          "symbol": "circle"
         },
         "mode": "markers",
         "name": "-8.1992337164751",
         "showlegend": true,
         "type": "scattergeo"
        },
        {
         "geo": "geo",
         "hovertemplate": "<b>%{hovertext}</b><br><br>AvgTone=3.55603448275862<br>ActionGeo_Lat=%{lat}<br>ActionGeo_Long=%{lon}<extra></extra>",
         "hovertext": [
          "https://vermontbiz.com/news/2024/june/17/welch-aims-permanently-extend-provisions-relating-able-accounts"
         ],
         "lat": [
          "44.0407"
         ],
         "legendgroup": "3.55603448275862",
         "lon": [
          "-72.7093"
         ],
         "marker": {
          "color": "#B6E880",
          "symbol": "circle"
         },
         "mode": "markers",
         "name": "3.55603448275862",
         "showlegend": true,
         "type": "scattergeo"
        },
        {
         "geo": "geo",
         "hovertemplate": "<b>%{hovertext}</b><br><br>AvgTone=-8.78612716763006<br>ActionGeo_Lat=%{lat}<br>ActionGeo_Long=%{lon}<extra></extra>",
         "hovertext": [
          "https://www.chronline.com/stories/lawsuit-over-pierce-county-infant-who-was-shot-dismissed-with-confidential-settlements,342100"
         ],
         "lat": [
          "47.0332"
         ],
         "legendgroup": "-8.78612716763006",
         "lon": [
          "-122.118"
         ],
         "marker": {
          "color": "#FF97FF",
          "symbol": "circle"
         },
         "mode": "markers",
         "name": "-8.78612716763006",
         "showlegend": true,
         "type": "scattergeo"
        },
        {
         "geo": "geo",
         "hovertemplate": "<b>%{hovertext}</b><br><br>AvgTone=-2.21238938053098<br>ActionGeo_Lat=%{lat}<br>ActionGeo_Long=%{lon}<extra></extra>",
         "hovertext": [
          "https://war.obozrevatel.com/esche-odna-organizatsiya-podderzhala-kommyunike-sammita-mira-protsess-prodolzhaetsya.htm"
         ],
         "lat": [
          "25.0"
         ],
         "legendgroup": "-2.21238938053098",
         "lon": [
          "45.0"
         ],
         "marker": {
          "color": "#FECB52",
          "symbol": "circle"
         },
         "mode": "markers",
         "name": "-2.21238938053098",
         "showlegend": true,
         "type": "scattergeo"
        },
        {
         "geo": "geo",
         "hovertemplate": "<b>%{hovertext}</b><br><br>AvgTone=-2.38095238095239<br>ActionGeo_Lat=%{lat}<br>ActionGeo_Long=%{lon}<extra></extra>",
         "hovertext": [
          "https://www.noticiasaominuto.com/mundo/2581650/russia-retira-se-de-processo-litigioso-sobre-derrube-do-voo-mh17-em-2014"
         ],
         "lat": [
          "49.0"
         ],
         "legendgroup": "-2.38095238095239",
         "lon": [
          "32.0"
         ],
         "marker": {
          "color": "#636efa",
          "symbol": "circle"
         },
         "mode": "markers",
         "name": "-2.38095238095239",
         "showlegend": true,
         "type": "scattergeo"
        },
        {
         "geo": "geo",
         "hovertemplate": "<b>%{hovertext}</b><br><br>AvgTone=-3.75<br>ActionGeo_Lat=%{lat}<br>ActionGeo_Long=%{lon}<extra></extra>",
         "hovertext": [
          "https://www.ziarelive.ro/stiri/china-declara-razboi-celor-mai-puternice-tari-de-pe-planeta-aroganta-prejudecati-si-minciuni.html"
         ],
         "lat": [
          "55.7522"
         ],
         "legendgroup": "-3.75",
         "lon": [
          "37.6156"
         ],
         "marker": {
          "color": "#EF553B",
          "symbol": "circle"
         },
         "mode": "markers",
         "name": "-3.75",
         "showlegend": true,
         "type": "scattergeo"
        },
        {
         "geo": "geo",
         "hovertemplate": "<b>%{hovertext}</b><br><br>AvgTone=-1.25<br>ActionGeo_Lat=%{lat}<br>ActionGeo_Long=%{lon}<extra></extra>",
         "hovertext": [
          "https://www.footmercato.net/a4641855377066017559-psg-naples-khvicha-kvaratskhelia-sort-du-silence-pour-son-avenir"
         ],
         "lat": [
          "32.9866"
         ],
         "legendgroup": "-1.25",
         "lon": [
          "-83.6487"
         ],
         "marker": {
          "color": "#00cc96",
          "symbol": "circle"
         },
         "mode": "markers",
         "name": "-1.25",
         "showlegend": true,
         "type": "scattergeo"
        },
        {
         "geo": "geo",
         "hovertemplate": "<b>%{hovertext}</b><br><br>AvgTone=0.85714285714286<br>ActionGeo_Lat=%{lat}<br>ActionGeo_Long=%{lon}<extra></extra>",
         "hovertext": [
          "https://mynewsla.com/weather/2024/06/17/santa-anita-officials-tout-safest-year-on-record-as-winter-spring-meet-ends/"
         ],
         "lat": [
          "34.1456"
         ],
         "legendgroup": "0.85714285714286",
         "lon": [
          "-118.05"
         ],
         "marker": {
          "color": "#ab63fa",
          "symbol": "circle"
         },
         "mode": "markers",
         "name": "0.85714285714286",
         "showlegend": true,
         "type": "scattergeo"
        },
        {
         "geo": "geo",
         "hovertemplate": "<b>%{hovertext}</b><br><br>AvgTone=-4.6218487394958<br>ActionGeo_Lat=%{lat}<br>ActionGeo_Long=%{lon}<extra></extra>",
         "hovertext": [
          "https://www.blick.ch/ausland/fluechtlings-drama-an-grenze-zu-russland-eskaliert-europarat-warnt-finnland-vor-menschenrechtsverletzungen-id19855052.html"
         ],
         "lat": [
          "60.1756"
         ],
         "legendgroup": "-4.6218487394958",
         "lon": [
          "24.9342"
         ],
         "marker": {
          "color": "#FFA15A",
          "symbol": "circle"
         },
         "mode": "markers",
         "name": "-4.6218487394958",
         "showlegend": true,
         "type": "scattergeo"
        },
        {
         "geo": "geo",
         "hovertemplate": "<b>%{hovertext}</b><br><br>AvgTone=5.26315789473684<br>ActionGeo_Lat=%{lat}<br>ActionGeo_Long=%{lon}<extra></extra>",
         "hovertext": [
          "https://revistasumma.com/costa-rica-sera-sede-de-la-principal-feria-de-congresos-y-convenciones-de-america-latina/"
         ],
         "lat": [
          "10.0"
         ],
         "legendgroup": "5.26315789473684",
         "lon": [
          "-84.0"
         ],
         "marker": {
          "color": "#19d3f3",
          "symbol": "circle"
         },
         "mode": "markers",
         "name": "5.26315789473684",
         "showlegend": true,
         "type": "scattergeo"
        },
        {
         "geo": "geo",
         "hovertemplate": "<b>%{hovertext}</b><br><br>AvgTone=-8.72727272727273<br>ActionGeo_Lat=%{lat}<br>ActionGeo_Long=%{lon}<extra></extra>",
         "hovertext": [
          "https://focus.ua/voennye-novosti/652752-intensivnost-ne-umenshaetsya-v-vsu-opisali-situaciyu-na-samyh-slozhnyh-napravleniyah-donbassa",
          "https://focus.ua/voennye-novosti/652752-intensivnost-ne-umenshaetsya-v-vsu-opisali-situaciyu-na-samyh-slozhnyh-napravleniyah-donbassa"
         ],
         "lat": [
          "60.0",
          "48.5"
         ],
         "legendgroup": "-8.72727272727273",
         "lon": [
          "100.0",
          "38.5"
         ],
         "marker": {
          "color": "#FF6692",
          "symbol": "circle"
         },
         "mode": "markers",
         "name": "-8.72727272727273",
         "showlegend": true,
         "type": "scattergeo"
        },
        {
         "geo": "geo",
         "hovertemplate": "<b>%{hovertext}</b><br><br>AvgTone=-1.35593220338983<br>ActionGeo_Lat=%{lat}<br>ActionGeo_Long=%{lon}<extra></extra>",
         "hovertext": [
          "https://www.charentelibre.fr:443/international/en-pleine-purge-des-generaux-poutine-place-une-cousine-au-ministere-de-la-defense-20174757.php",
          "https://www.charentelibre.fr:443/international/en-pleine-purge-des-generaux-poutine-place-une-cousine-au-ministere-de-la-defense-20174757.php",
          "https://www.charentelibre.fr:443/international/en-pleine-purge-des-generaux-poutine-place-une-cousine-au-ministere-de-la-defense-20174757.php",
          "https://www.charentelibre.fr:443/international/en-pleine-purge-des-generaux-poutine-place-une-cousine-au-ministere-de-la-defense-20174757.php"
         ],
         "lat": [
          "55.7522",
          "55.7522",
          "55.7522",
          "49.0"
         ],
         "legendgroup": "-1.35593220338983",
         "lon": [
          "37.6156",
          "37.6156",
          "37.6156",
          "32.0"
         ],
         "marker": {
          "color": "#B6E880",
          "symbol": "circle"
         },
         "mode": "markers",
         "name": "-1.35593220338983",
         "showlegend": true,
         "type": "scattergeo"
        },
        {
         "geo": "geo",
         "hovertemplate": "<b>%{hovertext}</b><br><br>AvgTone=-3.17460317460318<br>ActionGeo_Lat=%{lat}<br>ActionGeo_Long=%{lon}<extra></extra>",
         "hovertext": [
          "https://www.ridus.ru/opros-30-ukraincev-schitayut-chto-zelenskij-dolzhen-ujti-s-posta-prezidenta-440333.html",
          "https://www.ridus.ru/opros-30-ukraincev-schitayut-chto-zelenskij-dolzhen-ujti-s-posta-prezidenta-440333.html",
          "https://www.ridus.ru/opros-30-ukraincev-schitayut-chto-zelenskij-dolzhen-ujti-s-posta-prezidenta-440333.html"
         ],
         "lat": [
          "50.4333",
          "48.2907",
          "50.4333"
         ],
         "legendgroup": "-3.17460317460318",
         "lon": [
          "30.5167",
          "46.5039",
          "30.5167"
         ],
         "marker": {
          "color": "#FF97FF",
          "symbol": "circle"
         },
         "mode": "markers",
         "name": "-3.17460317460318",
         "showlegend": true,
         "type": "scattergeo"
        },
        {
         "geo": "geo",
         "hovertemplate": "<b>%{hovertext}</b><br><br>AvgTone=-8.72727272727268<br>ActionGeo_Lat=%{lat}<br>ActionGeo_Long=%{lon}<extra></extra>",
         "hovertext": [
          "https://pda.spb.kp.ru/daily/27595/4947006/",
          "https://pda.spb.kp.ru/daily/27595/4947006/"
         ],
         "lat": [
          "40.5",
          "59.8944"
         ],
         "legendgroup": "-8.72727272727268",
         "lon": [
          "47.5",
          "30.2642"
         ],
         "marker": {
          "color": "#FECB52",
          "symbol": "circle"
         },
         "mode": "markers",
         "name": "-8.72727272727268",
         "showlegend": true,
         "type": "scattergeo"
        },
        {
         "geo": "geo",
         "hovertemplate": "<b>%{hovertext}</b><br><br>AvgTone=-2.11864406779661<br>ActionGeo_Lat=%{lat}<br>ActionGeo_Long=%{lon}<extra></extra>",
         "hovertext": [
          "https://fakty.ua/439091-neozhidanno-smi-nazvali-stranu-kotoraya-tajno-peredala-ukraine-partiyu-oruzhiya-vo-vremya-zaderzhki-paketa-pomocshi-ot-ssha"
         ],
         "lat": [
          "39.828175"
         ],
         "legendgroup": "-2.11864406779661",
         "lon": [
          "-98.5795"
         ],
         "marker": {
          "color": "#636efa",
          "symbol": "circle"
         },
         "mode": "markers",
         "name": "-2.11864406779661",
         "showlegend": true,
         "type": "scattergeo"
        },
        {
         "geo": "geo",
         "hovertemplate": "<b>%{hovertext}</b><br><br>AvgTone=1.41129032258065<br>ActionGeo_Lat=%{lat}<br>ActionGeo_Long=%{lon}<extra></extra>",
         "hovertext": [
          "https://indianapolisrecorder.com/lgbtq-yoga-group-encourages-mental-and-physical-wellness/"
         ],
         "lat": [
          null
         ],
         "legendgroup": "1.41129032258065",
         "lon": [
          null
         ],
         "marker": {
          "color": "#EF553B",
          "symbol": "circle"
         },
         "mode": "markers",
         "name": "1.41129032258065",
         "showlegend": true,
         "type": "scattergeo"
        },
        {
         "geo": "geo",
         "hovertemplate": "<b>%{hovertext}</b><br><br>AvgTone=-0.22371364653244<br>ActionGeo_Lat=%{lat}<br>ActionGeo_Long=%{lon}<extra></extra>",
         "hovertext": [
          "https://www.reviewjournal.com/news/nation-and-world/yellowstone-visitors-hope-to-catch-a-glimpse-of-rare-white-buffalo-3070095/"
         ],
         "lat": [
          "41.14"
         ],
         "legendgroup": "-0.22371364653244",
         "lon": [
          "-104.82"
         ],
         "marker": {
          "color": "#00cc96",
          "symbol": "circle"
         },
         "mode": "markers",
         "name": "-0.22371364653244",
         "showlegend": true,
         "type": "scattergeo"
        },
        {
         "geo": "geo",
         "hovertemplate": "<b>%{hovertext}</b><br><br>AvgTone=3.30434782608696<br>ActionGeo_Lat=%{lat}<br>ActionGeo_Long=%{lon}<extra></extra>",
         "hovertext": [
          "https://mynewsla.com/government/2024/06/17/intersection-to-be-dedicated-in-honor-of-watts-activist/",
          "https://mynewsla.com/government/2024/06/17/intersection-to-be-dedicated-in-honor-of-watts-activist/"
         ],
         "lat": [
          "34.0522",
          "34.0522"
         ],
         "legendgroup": "3.30434782608696",
         "lon": [
          "-118.244",
          "-118.244"
         ],
         "marker": {
          "color": "#ab63fa",
          "symbol": "circle"
         },
         "mode": "markers",
         "name": "3.30434782608696",
         "showlegend": true,
         "type": "scattergeo"
        },
        {
         "geo": "geo",
         "hovertemplate": "<b>%{hovertext}</b><br><br>AvgTone=2.05949656750572<br>ActionGeo_Lat=%{lat}<br>ActionGeo_Long=%{lon}<extra></extra>",
         "hovertext": [
          "https://khak.com/edgar-allen-poe-speakeasy-des-moines/",
          "https://khak.com/edgar-allen-poe-speakeasy-des-moines/",
          "https://khak.com/edgar-allen-poe-speakeasy-des-moines/",
          "https://khak.com/edgar-allen-poe-speakeasy-des-moines/",
          "https://khak.com/edgar-allen-poe-speakeasy-des-moines/"
         ],
         "lat": [
          "41.6005",
          "42.0046",
          "41.6005",
          "41.6005",
          "41.6005"
         ],
         "legendgroup": "2.05949656750572",
         "lon": [
          "-93.6091",
          "-93.214",
          "-93.6091",
          "-93.6091",
          "-93.6091"
         ],
         "marker": {
          "color": "#FFA15A",
          "symbol": "circle"
         },
         "mode": "markers",
         "name": "2.05949656750572",
         "showlegend": true,
         "type": "scattergeo"
        },
        {
         "geo": "geo",
         "hovertemplate": "<b>%{hovertext}</b><br><br>AvgTone=1.20481927710843<br>ActionGeo_Lat=%{lat}<br>ActionGeo_Long=%{lon}<extra></extra>",
         "hovertext": [
          "https://www.channelnewsasia.com/singapore/cambodia-pm-hun-manet-first-official-visit-singapore-4416026",
          "https://www.channelnewsasia.com/singapore/cambodia-pm-hun-manet-first-official-visit-singapore-4416026",
          "https://www.channelnewsasia.com/singapore/cambodia-pm-hun-manet-first-official-visit-singapore-4416026",
          "https://www.channelnewsasia.com/singapore/cambodia-pm-hun-manet-first-official-visit-singapore-4416026"
         ],
         "lat": [
          "13.0",
          "1.366667",
          "1.366667",
          "13.0"
         ],
         "legendgroup": "1.20481927710843",
         "lon": [
          "105.0",
          "103.8",
          "103.8",
          "105.0"
         ],
         "marker": {
          "color": "#19d3f3",
          "symbol": "circle"
         },
         "mode": "markers",
         "name": "1.20481927710843",
         "showlegend": true,
         "type": "scattergeo"
        },
        {
         "geo": "geo",
         "hovertemplate": "<b>%{hovertext}</b><br><br>AvgTone=2.54777070063694<br>ActionGeo_Lat=%{lat}<br>ActionGeo_Long=%{lon}<extra></extra>",
         "hovertext": [
          "https://article.wn.com/view/2024/06/17/How_Apple_Outperformed_Google_and_Microsoft_in_AI_Rollout_m/",
          "https://article.wn.com/view/2024/06/17/How_Apple_Outperformed_Google_and_Microsoft_in_AI_Rollout_m/",
          "https://article.wn.com/view/2024/06/17/How_Apple_Outperformed_Google_and_Microsoft_in_AI_Rollout_m/",
          "https://article.wn.com/view/2024/06/17/How_Apple_Outperformed_Google_and_Microsoft_in_AI_Rollout_m/"
         ],
         "lat": [
          "22.25",
          "39.9289",
          "39.9289",
          "22.25"
         ],
         "legendgroup": "2.54777070063694",
         "lon": [
          "114.166667",
          "116.388",
          "116.388",
          "114.166667"
         ],
         "marker": {
          "color": "#FF6692",
          "symbol": "circle"
         },
         "mode": "markers",
         "name": "2.54777070063694",
         "showlegend": true,
         "type": "scattergeo"
        },
        {
         "geo": "geo",
         "hovertemplate": "<b>%{hovertext}</b><br><br>AvgTone=-6.10236220472441<br>ActionGeo_Lat=%{lat}<br>ActionGeo_Long=%{lon}<extra></extra>",
         "hovertext": [
          "https://therealdeal.com/national/2024/06/17/alexanders-attorney-in-rape-lawsuits-withdraws-as-counsel/",
          "https://therealdeal.com/national/2024/06/17/alexanders-attorney-in-rape-lawsuits-withdraws-as-counsel/",
          "https://therealdeal.com/national/2024/06/17/alexanders-attorney-in-rape-lawsuits-withdraws-as-counsel/",
          "https://therealdeal.com/national/2024/06/17/alexanders-attorney-in-rape-lawsuits-withdraws-as-counsel/"
         ],
         "lat": [
          "42.1497",
          "25.7743",
          "42.1497",
          "27.8333"
         ],
         "legendgroup": "-6.10236220472441",
         "lon": [
          "-74.9384",
          "-80.1937",
          "-74.9384",
          "-81.717"
         ],
         "marker": {
          "color": "#B6E880",
          "symbol": "circle"
         },
         "mode": "markers",
         "name": "-6.10236220472441",
         "showlegend": true,
         "type": "scattergeo"
        },
        {
         "geo": "geo",
         "hovertemplate": "<b>%{hovertext}</b><br><br>AvgTone=-4.66321243523316<br>ActionGeo_Lat=%{lat}<br>ActionGeo_Long=%{lon}<extra></extra>",
         "hovertext": [
          "https://nj1015.com/woman-stabbed-cnbc-headquarters-englewood/",
          "https://nj1015.com/woman-stabbed-cnbc-headquarters-englewood/",
          "https://pmnewsnigeria.com/2024/06/17/u-s-condemns-sentencing-of-activists-huang-wang-in-china/"
         ],
         "lat": [
          "40.314",
          "40.314",
          "35.0"
         ],
         "legendgroup": "-4.66321243523316",
         "lon": [
          "-74.5089",
          "-74.5089",
          "105.0"
         ],
         "marker": {
          "color": "#FF97FF",
          "symbol": "circle"
         },
         "mode": "markers",
         "name": "-4.66321243523316",
         "showlegend": true,
         "type": "scattergeo"
        },
        {
         "geo": "geo",
         "hovertemplate": "<b>%{hovertext}</b><br><br>AvgTone=5.41666666666667<br>ActionGeo_Lat=%{lat}<br>ActionGeo_Long=%{lon}<extra></extra>",
         "hovertext": [
          "https://www.enidnews.com/news/enid-native-named-ceo-for-st-marys-regional-medical-center/article_23e3b6de-2cc8-11ef-a516-1fefd11f3a28.html"
         ],
         "lat": [
          "35.5376"
         ],
         "legendgroup": "5.41666666666667",
         "lon": [
          "-96.9247"
         ],
         "marker": {
          "color": "#FECB52",
          "symbol": "circle"
         },
         "mode": "markers",
         "name": "5.41666666666667",
         "showlegend": true,
         "type": "scattergeo"
        },
        {
         "geo": "geo",
         "hovertemplate": "<b>%{hovertext}</b><br><br>AvgTone=-0.56980056980057<br>ActionGeo_Lat=%{lat}<br>ActionGeo_Long=%{lon}<extra></extra>",
         "hovertext": [
          "https://kfyo.com/top-20-worst-cities-for-summer-travel-texas-has-three/",
          "https://kfyo.com/top-20-worst-cities-for-summer-travel-texas-has-three/"
         ],
         "lat": [
          "31.106",
          "31.106"
         ],
         "legendgroup": "-0.56980056980057",
         "lon": [
          "-97.6475",
          "-97.6475"
         ],
         "marker": {
          "color": "#636efa",
          "symbol": "circle"
         },
         "mode": "markers",
         "name": "-0.56980056980057",
         "showlegend": true,
         "type": "scattergeo"
        },
        {
         "geo": "geo",
         "hovertemplate": "<b>%{hovertext}</b><br><br>AvgTone=-1.07836089144501<br>ActionGeo_Lat=%{lat}<br>ActionGeo_Long=%{lon}<extra></extra>",
         "hovertext": [
          "https://torontosun.com/entertainment/celebrity/armie-hammer-grateful-for-cannibal-rumours-that-killed-career",
          "https://torontosun.com/entertainment/celebrity/armie-hammer-grateful-for-cannibal-rumours-that-killed-career"
         ],
         "lat": [
          "43.6667",
          "43.6667"
         ],
         "legendgroup": "-1.07836089144501",
         "lon": [
          "-79.4167",
          "-79.4167"
         ],
         "marker": {
          "color": "#EF553B",
          "symbol": "circle"
         },
         "mode": "markers",
         "name": "-1.07836089144501",
         "showlegend": true,
         "type": "scattergeo"
        },
        {
         "geo": "geo",
         "hovertemplate": "<b>%{hovertext}</b><br><br>AvgTone=4.86111111111111<br>ActionGeo_Lat=%{lat}<br>ActionGeo_Long=%{lon}<extra></extra>",
         "hovertext": [
          "https://www.radiokerry.ie/news/local-radio-scores-highly-for-trust-388442"
         ],
         "lat": [
          "53.0"
         ],
         "legendgroup": "4.86111111111111",
         "lon": [
          "-8.0"
         ],
         "marker": {
          "color": "#00cc96",
          "symbol": "circle"
         },
         "mode": "markers",
         "name": "4.86111111111111",
         "showlegend": true,
         "type": "scattergeo"
        },
        {
         "geo": "geo",
         "hovertemplate": "<b>%{hovertext}</b><br><br>AvgTone=0.360360360360359<br>ActionGeo_Lat=%{lat}<br>ActionGeo_Long=%{lon}<extra></extra>",
         "hovertext": [
          "https://www.thelocal.de/20240617/how-much-should-tourists-really-tip-in-germany"
         ],
         "lat": [
          "51.5"
         ],
         "legendgroup": "0.360360360360359",
         "lon": [
          "10.5"
         ],
         "marker": {
          "color": "#ab63fa",
          "symbol": "circle"
         },
         "mode": "markers",
         "name": "0.360360360360359",
         "showlegend": true,
         "type": "scattergeo"
        },
        {
         "geo": "geo",
         "hovertemplate": "<b>%{hovertext}</b><br><br>AvgTone=-1.08695652173913<br>ActionGeo_Lat=%{lat}<br>ActionGeo_Long=%{lon}<extra></extra>",
         "hovertext": [
          "https://www.channelstv.com/2024/06/17/putin-promotes-cousin-in-latest-military-shake-up/",
          "https://www.channelstv.com/2024/06/17/putin-promotes-cousin-in-latest-military-shake-up/"
         ],
         "lat": [
          "50.4333",
          "50.4333"
         ],
         "legendgroup": "-1.08695652173913",
         "lon": [
          "30.5167",
          "30.5167"
         ],
         "marker": {
          "color": "#FFA15A",
          "symbol": "circle"
         },
         "mode": "markers",
         "name": "-1.08695652173913",
         "showlegend": true,
         "type": "scattergeo"
        },
        {
         "geo": "geo",
         "hovertemplate": "<b>%{hovertext}</b><br><br>AvgTone=0.352112676056341<br>ActionGeo_Lat=%{lat}<br>ActionGeo_Long=%{lon}<extra></extra>",
         "hovertext": [
          "https://www.producer.com/market_update/global-markets-peace-summit-ends-with-disunity/"
         ],
         "lat": [
          "-30.0"
         ],
         "legendgroup": "0.352112676056341",
         "lon": [
          "26.0"
         ],
         "marker": {
          "color": "#19d3f3",
          "symbol": "circle"
         },
         "mode": "markers",
         "name": "0.352112676056341",
         "showlegend": true,
         "type": "scattergeo"
        },
        {
         "geo": "geo",
         "hovertemplate": "<b>%{hovertext}</b><br><br>AvgTone=-1.11583421891605<br>ActionGeo_Lat=%{lat}<br>ActionGeo_Long=%{lon}<extra></extra>",
         "hovertext": [
          "https://torontosun.com/news/world/so-embarrassing-bumbling-biden-dragged-off-stage-by-obama-at-glitzy-fundraiser"
         ],
         "lat": [
          "34.0983"
         ],
         "legendgroup": "-1.11583421891605",
         "lon": [
          "-118.327"
         ],
         "marker": {
          "color": "#FF6692",
          "symbol": "circle"
         },
         "mode": "markers",
         "name": "-1.11583421891605",
         "showlegend": true,
         "type": "scattergeo"
        },
        {
         "geo": "geo",
         "hovertemplate": "<b>%{hovertext}</b><br><br>AvgTone=5.17241379310345<br>ActionGeo_Lat=%{lat}<br>ActionGeo_Long=%{lon}<extra></extra>",
         "hovertext": [
          "https://georgetowner.com/articles/2024/06/17/the-77th-tony-awards-the-outsiders-merrily-we-roll-along-win-big/",
          "https://georgetowner.com/articles/2024/06/17/the-77th-tony-awards-the-outsiders-merrily-we-roll-along-win-big/",
          "https://georgetowner.com/articles/2024/06/17/the-77th-tony-awards-the-outsiders-merrily-we-roll-along-win-big/",
          "https://georgetowner.com/articles/2024/06/17/the-77th-tony-awards-the-outsiders-merrily-we-roll-along-win-big/"
         ],
         "lat": [
          "34.9513",
          "34.9513",
          "34.9513",
          "34.9513"
         ],
         "legendgroup": "5.17241379310345",
         "lon": [
          "-92.3809",
          "-92.3809",
          "-92.3809",
          "-92.3809"
         ],
         "marker": {
          "color": "#B6E880",
          "symbol": "circle"
         },
         "mode": "markers",
         "name": "5.17241379310345",
         "showlegend": true,
         "type": "scattergeo"
        },
        {
         "geo": "geo",
         "hovertemplate": "<b>%{hovertext}</b><br><br>AvgTone=-0.78817810495582<br>ActionGeo_Lat=%{lat}<br>ActionGeo_Long=%{lon}<extra></extra>",
         "hovertext": [
          "https://mynewsla.com/weather/2024/06/17/gorman-brush-fire-burns-over-14625-acres-with-strong-winds-coming-3/",
          "https://mynewsla.com/weather/2024/06/17/gorman-brush-fire-burns-over-14625-acres-with-strong-winds-coming-3/"
         ],
         "lat": [
          "36.17",
          "36.17"
         ],
         "legendgroup": "-0.78817810495582",
         "lon": [
          "-119.746",
          "-119.746"
         ],
         "marker": {
          "color": "#FF97FF",
          "symbol": "circle"
         },
         "mode": "markers",
         "name": "-0.78817810495582",
         "showlegend": true,
         "type": "scattergeo"
        },
        {
         "geo": "geo",
         "hovertemplate": "<b>%{hovertext}</b><br><br>AvgTone=-2.78481012658228<br>ActionGeo_Lat=%{lat}<br>ActionGeo_Long=%{lon}<extra></extra>",
         "hovertext": [
          "https://www.breitbart.com/entertainment/2024/06/17/chrissy-teigen-fears-trump-will-come-after-her-if-he-wins-election/",
          "https://www.breitbart.com/entertainment/2024/06/17/chrissy-teigen-fears-trump-will-come-after-her-if-he-wins-election/",
          "https://www.breitbart.com/entertainment/2024/06/17/chrissy-teigen-fears-trump-will-come-after-her-if-he-wins-election/",
          "https://www.breitbart.com/entertainment/2024/06/17/chrissy-teigen-fears-trump-will-come-after-her-if-he-wins-election/",
          "https://www.breitbart.com/entertainment/2024/06/17/chrissy-teigen-fears-trump-will-come-after-her-if-he-wins-election/"
         ],
         "lat": [
          "38.8951",
          "60.0",
          "60.0",
          "60.0",
          "38.8951"
         ],
         "legendgroup": "-2.78481012658228",
         "lon": [
          "-77.0364",
          "100.0",
          "100.0",
          "100.0",
          "-77.0364"
         ],
         "marker": {
          "color": "#FECB52",
          "symbol": "circle"
         },
         "mode": "markers",
         "name": "-2.78481012658228",
         "showlegend": true,
         "type": "scattergeo"
        },
        {
         "geo": "geo",
         "hovertemplate": "<b>%{hovertext}</b><br><br>AvgTone=1.65562913907285<br>ActionGeo_Lat=%{lat}<br>ActionGeo_Long=%{lon}<extra></extra>",
         "hovertext": [
          "https://www.hometownregister.com/news/several-area-board-meetings-set-for-this-week/article_e375773e-457c-5f0b-b2fe-a779dabf6848.html",
          "https://www.hometownregister.com/news/several-area-board-meetings-set-for-this-week/article_e375773e-457c-5f0b-b2fe-a779dabf6848.html",
          "https://www.hometownregister.com/news/several-area-board-meetings-set-for-this-week/article_e375773e-457c-5f0b-b2fe-a779dabf6848.html"
         ],
         "lat": [
          "39.0006",
          "39.0006",
          "38.7167"
         ],
         "legendgroup": "1.65562913907285",
         "lon": [
          "-88.1667",
          "-88.1667",
          "-88.1"
         ],
         "marker": {
          "color": "#636efa",
          "symbol": "circle"
         },
         "mode": "markers",
         "name": "1.65562913907285",
         "showlegend": true,
         "type": "scattergeo"
        },
        {
         "geo": "geo",
         "hovertemplate": "<b>%{hovertext}</b><br><br>AvgTone=1.21951219512195<br>ActionGeo_Lat=%{lat}<br>ActionGeo_Long=%{lon}<extra></extra>",
         "hovertext": [
          "https://www.rfdtv.com/growers-need-to-be-out-scouting-that-is-according-to-one-expert-following-indianas-detection-of-tar-spot",
          "https://www.rfdtv.com/growers-need-to-be-out-scouting-that-is-according-to-one-expert-following-indianas-detection-of-tar-spot",
          "https://www.rfdtv.com/growers-need-to-be-out-scouting-that-is-according-to-one-expert-following-indianas-detection-of-tar-spot"
         ],
         "lat": [
          "40.4281",
          "40.4281",
          "40.4281"
         ],
         "legendgroup": "1.21951219512195",
         "lon": [
          "-86.9225",
          "-86.9225",
          "-86.9225"
         ],
         "marker": {
          "color": "#EF553B",
          "symbol": "circle"
         },
         "mode": "markers",
         "name": "1.21951219512195",
         "showlegend": true,
         "type": "scattergeo"
        },
        {
         "geo": "geo",
         "hovertemplate": "<b>%{hovertext}</b><br><br>AvgTone=3.87596899224806<br>ActionGeo_Lat=%{lat}<br>ActionGeo_Long=%{lon}<extra></extra>",
         "hovertext": [
          "https://www.yahoo.com/news/local-employers-look-kick-start-160710606.html",
          "https://www.yahoo.com/news/local-employers-look-kick-start-160710606.html"
         ],
         "lat": [
          "35.5376",
          "35.5376"
         ],
         "legendgroup": "3.87596899224806",
         "lon": [
          "-96.9247",
          "-96.9247"
         ],
         "marker": {
          "color": "#00cc96",
          "symbol": "circle"
         },
         "mode": "markers",
         "name": "3.87596899224806",
         "showlegend": true,
         "type": "scattergeo"
        },
        {
         "geo": "geo",
         "hovertemplate": "<b>%{hovertext}</b><br><br>AvgTone=-4.79896238651103<br>ActionGeo_Lat=%{lat}<br>ActionGeo_Long=%{lon}<extra></extra>",
         "hovertext": [
          "https://religionnews.com/2024/06/17/judge-rejects-effort-by-missouri-clergy-to-fight-abortion-ban/",
          "https://religionnews.com/2024/06/17/judge-rejects-effort-by-missouri-clergy-to-fight-abortion-ban/",
          "https://religionnews.com/2024/06/17/judge-rejects-effort-by-missouri-clergy-to-fight-abortion-ban/"
         ],
         "lat": [
          "38.4623",
          "38.4623",
          "38.4623"
         ],
         "legendgroup": "-4.79896238651103",
         "lon": [
          "-92.302",
          "-92.302",
          "-92.302"
         ],
         "marker": {
          "color": "#ab63fa",
          "symbol": "circle"
         },
         "mode": "markers",
         "name": "-4.79896238651103",
         "showlegend": true,
         "type": "scattergeo"
        },
        {
         "geo": "geo",
         "hovertemplate": "<b>%{hovertext}</b><br><br>AvgTone=-6.36942675159235<br>ActionGeo_Lat=%{lat}<br>ActionGeo_Long=%{lon}<extra></extra>",
         "hovertext": [
          "https://www.nytimes.com/2024/06/17/us/politics/michigan-cuny-discrimination-complaints.html",
          "https://www.nytimes.com/2024/06/17/us/politics/michigan-cuny-discrimination-complaints.html",
          "https://www.nytimes.com/2024/06/17/us/politics/michigan-cuny-discrimination-complaints.html",
          "https://www.nytimes.com/2024/06/17/us/politics/michigan-cuny-discrimination-complaints.html"
         ],
         "lat": [
          "42.1497",
          "31.4167",
          "31.4167",
          "42.1497"
         ],
         "legendgroup": "-6.36942675159235",
         "lon": [
          "-74.9384",
          "34.3333",
          "34.3333",
          "-74.9384"
         ],
         "marker": {
          "color": "#FFA15A",
          "symbol": "circle"
         },
         "mode": "markers",
         "name": "-6.36942675159235",
         "showlegend": true,
         "type": "scattergeo"
        },
        {
         "geo": "geo",
         "hovertemplate": "<b>%{hovertext}</b><br><br>AvgTone=1.50375939849624<br>ActionGeo_Lat=%{lat}<br>ActionGeo_Long=%{lon}<extra></extra>",
         "hovertext": [
          "https://www.jpost.com/israel-hamas-war/article-806613",
          "https://www.jpost.com/israel-hamas-war/article-806613",
          "https://www.jpost.com/israel-hamas-war/article-806613",
          "https://www.jpost.com/israel-hamas-war/article-806613"
         ],
         "lat": [
          "33.8191",
          "31.3292",
          "33.8191",
          "33.8191"
         ],
         "legendgroup": "1.50375939849624",
         "lon": [
          "-80.9066",
          "34.2311",
          "-80.9066",
          "-80.9066"
         ],
         "marker": {
          "color": "#19d3f3",
          "symbol": "circle"
         },
         "mode": "markers",
         "name": "1.50375939849624",
         "showlegend": true,
         "type": "scattergeo"
        },
        {
         "geo": "geo",
         "hovertemplate": "<b>%{hovertext}</b><br><br>AvgTone=1.61943319838057<br>ActionGeo_Lat=%{lat}<br>ActionGeo_Long=%{lon}<extra></extra>",
         "hovertext": [
          "https://1025thebull.iheart.com/content/2024-06-17-kenny-chesney-reveals-the-unexpected-way-he-used-to-try-to-impress-girls/",
          "https://b939country.iheart.com/content/2024-06-17-kenny-chesney-reveals-the-unexpected-way-he-used-to-try-to-impress-girls/",
          "https://b939country.iheart.com/content/2024-06-17-kenny-chesney-reveals-the-unexpected-way-he-used-to-try-to-impress-girls/",
          "https://b939country.iheart.com/content/2024-06-17-kenny-chesney-reveals-the-unexpected-way-he-used-to-try-to-impress-girls/",
          "https://1025thebull.iheart.com/content/2024-06-17-kenny-chesney-reveals-the-unexpected-way-he-used-to-try-to-impress-girls/"
         ],
         "lat": [
          "36.3134",
          "36.3034",
          "36.3034",
          "36.3134",
          "35.7449"
         ],
         "legendgroup": "1.61943319838057",
         "lon": [
          "-82.3535",
          "-82.369",
          "-82.369",
          "-82.3535",
          "-86.7489"
         ],
         "marker": {
          "color": "#FF6692",
          "symbol": "circle"
         },
         "mode": "markers",
         "name": "1.61943319838057",
         "showlegend": true,
         "type": "scattergeo"
        },
        {
         "geo": "geo",
         "hovertemplate": "<b>%{hovertext}</b><br><br>AvgTone=-2.03488372093024<br>ActionGeo_Lat=%{lat}<br>ActionGeo_Long=%{lon}<extra></extra>",
         "hovertext": [
          "https://news.bg/int-politics/ruskite-voenni-korabi-napusnaha-kuba.html"
         ],
         "lat": [
          "55.7522"
         ],
         "legendgroup": "-2.03488372093024",
         "lon": [
          "37.6156"
         ],
         "marker": {
          "color": "#B6E880",
          "symbol": "circle"
         },
         "mode": "markers",
         "name": "-2.03488372093024",
         "showlegend": true,
         "type": "scattergeo"
        },
        {
         "geo": "geo",
         "hovertemplate": "<b>%{hovertext}</b><br><br>AvgTone=-6.18556701030928<br>ActionGeo_Lat=%{lat}<br>ActionGeo_Long=%{lon}<extra></extra>",
         "hovertext": [
          "https://drimble.nl/economie/97095872/russische-miljardair-klaagt-ubs-aan-om-antiwitwasrapporten.html"
         ],
         "lat": [
          "49.0"
         ],
         "legendgroup": "-6.18556701030928",
         "lon": [
          "32.0"
         ],
         "marker": {
          "color": "#FF97FF",
          "symbol": "circle"
         },
         "mode": "markers",
         "name": "-6.18556701030928",
         "showlegend": true,
         "type": "scattergeo"
        },
        {
         "geo": "geo",
         "hovertemplate": "<b>%{hovertext}</b><br><br>AvgTone=-1.95852534562212<br>ActionGeo_Lat=%{lat}<br>ActionGeo_Long=%{lon}<extra></extra>",
         "hovertext": [
          "https://www.ziuanews.ro/editorial/summitul-de-pace-pentru-ucraina-o-arad-inutil-i-e-uat-1583224",
          "https://www.ziuanews.ro/editorial/summitul-de-pace-pentru-ucraina-o-arad-inutil-i-e-uat-1583224"
         ],
         "lat": [
          "47.0",
          "55.7522"
         ],
         "legendgroup": "-1.95852534562212",
         "lon": [
          "8.0",
          "37.6156"
         ],
         "marker": {
          "color": "#FECB52",
          "symbol": "circle"
         },
         "mode": "markers",
         "name": "-1.95852534562212",
         "showlegend": true,
         "type": "scattergeo"
        },
        {
         "geo": "geo",
         "hovertemplate": "<b>%{hovertext}</b><br><br>AvgTone=-5.26315789473685<br>ActionGeo_Lat=%{lat}<br>ActionGeo_Long=%{lon}<extra></extra>",
         "hovertext": [
          "https://www.blackseanews.net/read/218646"
         ],
         "lat": [
          "62.9606"
         ],
         "legendgroup": "-5.26315789473685",
         "lon": [
          "46.0952"
         ],
         "marker": {
          "color": "#636efa",
          "symbol": "circle"
         },
         "mode": "markers",
         "name": "-5.26315789473685",
         "showlegend": true,
         "type": "scattergeo"
        },
        {
         "geo": "geo",
         "hovertemplate": "<b>%{hovertext}</b><br><br>AvgTone=-0.3257328990228<br>ActionGeo_Lat=%{lat}<br>ActionGeo_Long=%{lon}<extra></extra>",
         "hovertext": [
          "https://www.ekhokavkaza.com/a/32996808.html"
         ],
         "lat": [
          "43.5992"
         ],
         "legendgroup": "-0.3257328990228",
         "lon": [
          "39.7257"
         ],
         "marker": {
          "color": "#EF553B",
          "symbol": "circle"
         },
         "mode": "markers",
         "name": "-0.3257328990228",
         "showlegend": true,
         "type": "scattergeo"
        },
        {
         "geo": "geo",
         "hovertemplate": "<b>%{hovertext}</b><br><br>AvgTone=3.22580645161291<br>ActionGeo_Lat=%{lat}<br>ActionGeo_Long=%{lon}<extra></extra>",
         "hovertext": [
          "https://canaltech.com.br/games/avante-vingadores-herois-da-marvel-chegam-a-fall-guys-em-nova-atualizacao-293077/"
         ],
         "lat": [
          "39.828175"
         ],
         "legendgroup": "3.22580645161291",
         "lon": [
          "-98.5795"
         ],
         "marker": {
          "color": "#00cc96",
          "symbol": "circle"
         },
         "mode": "markers",
         "name": "3.22580645161291",
         "showlegend": true,
         "type": "scattergeo"
        },
        {
         "geo": "geo",
         "hovertemplate": "<b>%{hovertext}</b><br><br>AvgTone=-2.16021602160216<br>ActionGeo_Lat=%{lat}<br>ActionGeo_Long=%{lon}<extra></extra>",
         "hovertext": [
          "https://www.yahoo.com/news/homophobic-racist-commenters-bombard-california-191547216.html"
         ],
         "lat": [
          "35.4823"
         ],
         "legendgroup": "-2.16021602160216",
         "lon": [
          "-120.686"
         ],
         "marker": {
          "color": "#ab63fa",
          "symbol": "circle"
         },
         "mode": "markers",
         "name": "-2.16021602160216",
         "showlegend": true,
         "type": "scattergeo"
        },
        {
         "geo": "geo",
         "hovertemplate": "<b>%{hovertext}</b><br><br>AvgTone=1.94986072423398<br>ActionGeo_Lat=%{lat}<br>ActionGeo_Long=%{lon}<extra></extra>",
         "hovertext": [
          "https://www.inform.kz/ru/internet-provedut-na-trassah-v-aktyubinskoy-oblasti-825322"
         ],
         "lat": [
          "46.4137"
         ],
         "legendgroup": "1.94986072423398",
         "lon": [
          "48.4442"
         ],
         "marker": {
          "color": "#FFA15A",
          "symbol": "circle"
         },
         "mode": "markers",
         "name": "1.94986072423398",
         "showlegend": true,
         "type": "scattergeo"
        },
        {
         "geo": "geo",
         "hovertemplate": "<b>%{hovertext}</b><br><br>AvgTone=-6.45161290322581<br>ActionGeo_Lat=%{lat}<br>ActionGeo_Long=%{lon}<extra></extra>",
         "hovertext": [
          "https://www.rbc.ua/rus/news/viyni-ukrayini-likviduvali-rosiyskogo-eks-1718650149.html"
         ],
         "lat": [
          "52.5"
         ],
         "legendgroup": "-6.45161290322581",
         "lon": [
          "5.75"
         ],
         "marker": {
          "color": "#19d3f3",
          "symbol": "circle"
         },
         "mode": "markers",
         "name": "-6.45161290322581",
         "showlegend": true,
         "type": "scattergeo"
        },
        {
         "geo": "geo",
         "hovertemplate": "<b>%{hovertext}</b><br><br>AvgTone=-0.87912087912088<br>ActionGeo_Lat=%{lat}<br>ActionGeo_Long=%{lon}<extra></extra>",
         "hovertext": [
          "https://ua.korrespondent.net/ukraine/4695045-myr-u-kozhnoho-svii-pidsumky-samitu-u-shveitsarii"
         ],
         "lat": [
          "50.4333"
         ],
         "legendgroup": "-0.87912087912088",
         "lon": [
          "30.5167"
         ],
         "marker": {
          "color": "#FF6692",
          "symbol": "circle"
         },
         "mode": "markers",
         "name": "-0.87912087912088",
         "showlegend": true,
         "type": "scattergeo"
        },
        {
         "geo": "geo",
         "hovertemplate": "<b>%{hovertext}</b><br><br>AvgTone=-0.10245901639344<br>ActionGeo_Lat=%{lat}<br>ActionGeo_Long=%{lon}<extra></extra>",
         "hovertext": [
          "https://www.asiatoday.co.kr/view.php?key=20240618010009050",
          "https://www.asiatoday.co.kr/view.php?key=20240618010009050"
         ],
         "lat": [
          "49.0",
          "39.0194"
         ],
         "legendgroup": "-0.10245901639344",
         "lon": [
          "32.0",
          "125.755"
         ],
         "marker": {
          "color": "#B6E880",
          "symbol": "circle"
         },
         "mode": "markers",
         "name": "-0.10245901639344",
         "showlegend": true,
         "type": "scattergeo"
        },
        {
         "geo": "geo",
         "hovertemplate": "<b>%{hovertext}</b><br><br>AvgTone=-9.25925925925926<br>ActionGeo_Lat=%{lat}<br>ActionGeo_Long=%{lon}<extra></extra>",
         "hovertext": [
          "https://24tv.ua/rosiya-atakuvala-herson-minometiv-shho-vidomo-pro-naslidki-ataki_n2577781"
         ],
         "lat": [
          "60.0"
         ],
         "legendgroup": "-9.25925925925926",
         "lon": [
          "100.0"
         ],
         "marker": {
          "color": "#FF97FF",
          "symbol": "circle"
         },
         "mode": "markers",
         "name": "-9.25925925925926",
         "showlegend": true,
         "type": "scattergeo"
        },
        {
         "geo": "geo",
         "hovertemplate": "<b>%{hovertext}</b><br><br>AvgTone=1.68539325842697<br>ActionGeo_Lat=%{lat}<br>ActionGeo_Long=%{lon}<extra></extra>",
         "hovertext": [
          "https://sputnikportal.rs/20240617/putin-prvi-put-posle-2000-godine-ide-u-posetu-severnoj-koreji-potpisuju-se-vazna-dokumenta-1173755815.html",
          "https://sputnikportal.rs/20240617/putin-prvi-put-posle-2000-godine-ide-u-posetu-severnoj-koreji-potpisuju-se-vazna-dokumenta-1173755815.html",
          "https://sputnikportal.rs/20240617/putin-prvi-put-posle-2000-godine-ide-u-posetu-severnoj-koreji-potpisuju-se-vazna-dokumenta-1173755815.html"
         ],
         "lat": [
          "55.7522",
          "55.7522",
          "50.9265"
         ],
         "legendgroup": "1.68539325842697",
         "lon": [
          "37.6156",
          "37.6156",
          "38.971"
         ],
         "marker": {
          "color": "#FECB52",
          "symbol": "circle"
         },
         "mode": "markers",
         "name": "1.68539325842697",
         "showlegend": true,
         "type": "scattergeo"
        },
        {
         "geo": "geo",
         "hovertemplate": "<b>%{hovertext}</b><br><br>AvgTone=-1.75<br>ActionGeo_Lat=%{lat}<br>ActionGeo_Long=%{lon}<extra></extra>",
         "hovertext": [
          "https://www.infosecurity-magazine.com/news/los-angeles-health-data-breach/"
         ],
         "lat": [
          "34.0522"
         ],
         "legendgroup": "-1.75",
         "lon": [
          "-118.244"
         ],
         "marker": {
          "color": "#636efa",
          "symbol": "circle"
         },
         "mode": "markers",
         "name": "-1.75",
         "showlegend": true,
         "type": "scattergeo"
        },
        {
         "geo": "geo",
         "hovertemplate": "<b>%{hovertext}</b><br><br>AvgTone=-0.25510204081633<br>ActionGeo_Lat=%{lat}<br>ActionGeo_Long=%{lon}<extra></extra>",
         "hovertext": [
          "https://overclockers.ru/blog/Nacvark/show/163806/Itogi-Global-nogo-sammita-mira-v-Shvejcarii-16-17-ijunya",
          "https://overclockers.ru/blog/Nacvark/show/163806/Itogi-Global-nogo-sammita-mira-v-Shvejcarii-16-17-ijunya",
          "https://overclockers.ru/blog/Nacvark/show/163806/Itogi-Global-nogo-sammita-mira-v-Shvejcarii-16-17-ijunya"
         ],
         "lat": [
          "50.4333",
          "55.7522",
          "50.4333"
         ],
         "legendgroup": "-0.25510204081633",
         "lon": [
          "30.5167",
          "37.6156",
          "30.5167"
         ],
         "marker": {
          "color": "#EF553B",
          "symbol": "circle"
         },
         "mode": "markers",
         "name": "-0.25510204081633",
         "showlegend": true,
         "type": "scattergeo"
        },
        {
         "geo": "geo",
         "hovertemplate": "<b>%{hovertext}</b><br><br>AvgTone=-0.38167938931298<br>ActionGeo_Lat=%{lat}<br>ActionGeo_Long=%{lon}<extra></extra>",
         "hovertext": [
          "https://jang.com.pk/news/1361481",
          "https://jang.com.pk/news/1361481"
         ],
         "lat": [
          "31.106",
          "31.106"
         ],
         "legendgroup": "-0.38167938931298",
         "lon": [
          "-97.6475",
          "-97.6475"
         ],
         "marker": {
          "color": "#00cc96",
          "symbol": "circle"
         },
         "mode": "markers",
         "name": "-0.38167938931298",
         "showlegend": true,
         "type": "scattergeo"
        },
        {
         "geo": "geo",
         "hovertemplate": "<b>%{hovertext}</b><br><br>AvgTone=-4.50450450450451<br>ActionGeo_Lat=%{lat}<br>ActionGeo_Long=%{lon}<extra></extra>",
         "hovertext": [
          "https://www.silive.com/news/2024/06/new-york-man-drowned-after-he-jumped-into-lake-for-lost-keys-officials-say.html",
          "https://www.silive.com/news/2024/06/new-york-man-drowned-after-he-jumped-into-lake-for-lost-keys-officials-say.html"
         ],
         "lat": [
          "43.0417",
          "43.4501"
         ],
         "legendgroup": "-4.50450450450451",
         "lon": [
          "-76.14",
          "-76.1497"
         ],
         "marker": {
          "color": "#ab63fa",
          "symbol": "circle"
         },
         "mode": "markers",
         "name": "-4.50450450450451",
         "showlegend": true,
         "type": "scattergeo"
        },
        {
         "geo": "geo",
         "hovertemplate": "<b>%{hovertext}</b><br><br>AvgTone=-5.11811023622047<br>ActionGeo_Lat=%{lat}<br>ActionGeo_Long=%{lon}<extra></extra>",
         "hovertext": [
          "https://news.bg/int-politics/erdogan-prizova-za-mezhdunaroden-natisk-sreshtu-izrael-za-gaza.html"
         ],
         "lat": [
          "32.0667"
         ],
         "legendgroup": "-5.11811023622047",
         "lon": [
          "34.7667"
         ],
         "marker": {
          "color": "#FFA15A",
          "symbol": "circle"
         },
         "mode": "markers",
         "name": "-5.11811023622047",
         "showlegend": true,
         "type": "scattergeo"
        },
        {
         "geo": "geo",
         "hovertemplate": "<b>%{hovertext}</b><br><br>AvgTone=1.82926829268292<br>ActionGeo_Lat=%{lat}<br>ActionGeo_Long=%{lon}<extra></extra>",
         "hovertext": [
          "https://www.canplastics.com/human-resources/resin-distributor-nexeo-plastics-appoints-new-president-ceo/1003464186/",
          "https://www.canplastics.com/human-resources/resin-distributor-nexeo-plastics-appoints-new-president-ceo/1003464186/"
         ],
         "lat": [
          "60.0",
          "39.828175"
         ],
         "legendgroup": "1.82926829268292",
         "lon": [
          "-96.0",
          "-98.5795"
         ],
         "marker": {
          "color": "#19d3f3",
          "symbol": "circle"
         },
         "mode": "markers",
         "name": "1.82926829268292",
         "showlegend": true,
         "type": "scattergeo"
        },
        {
         "geo": "geo",
         "hovertemplate": "<b>%{hovertext}</b><br><br>AvgTone=-1.84049079754601<br>ActionGeo_Lat=%{lat}<br>ActionGeo_Long=%{lon}<extra></extra>",
         "hovertext": [
          "https://pda.kp.ru/online/news/5858412/"
         ],
         "lat": [
          "55.7522"
         ],
         "legendgroup": "-1.84049079754601",
         "lon": [
          "37.6156"
         ],
         "marker": {
          "color": "#FF6692",
          "symbol": "circle"
         },
         "mode": "markers",
         "name": "-1.84049079754601",
         "showlegend": true,
         "type": "scattergeo"
        },
        {
         "geo": "geo",
         "hovertemplate": "<b>%{hovertext}</b><br><br>AvgTone=-0.36630036630036<br>ActionGeo_Lat=%{lat}<br>ActionGeo_Long=%{lon}<extra></extra>",
         "hovertext": [
          "https://www.usnews.com/news/world/articles/2024-06-17/canada-holds-off-on-sending-military-trainers-back-to-ukraine",
          "https://www.usnews.com/news/world/articles/2024-06-17/canada-holds-off-on-sending-military-trainers-back-to-ukraine"
         ],
         "lat": [
          "48.8667",
          "48.8667"
         ],
         "legendgroup": "-0.36630036630036",
         "lon": [
          "2.33333",
          "2.33333"
         ],
         "marker": {
          "color": "#B6E880",
          "symbol": "circle"
         },
         "mode": "markers",
         "name": "-0.36630036630036",
         "showlegend": true,
         "type": "scattergeo"
        },
        {
         "geo": "geo",
         "hovertemplate": "<b>%{hovertext}</b><br><br>AvgTone=-3.4816247582205<br>ActionGeo_Lat=%{lat}<br>ActionGeo_Long=%{lon}<extra></extra>",
         "hovertext": [
          "https://www.clarin.com/internacional/segundos-desastre-avion-100-metros-estrellarse-agua_0_PHeujpE86m.html"
         ],
         "lat": [
          "52.5"
         ],
         "legendgroup": "-3.4816247582205",
         "lon": [
          "5.75"
         ],
         "marker": {
          "color": "#FF97FF",
          "symbol": "circle"
         },
         "mode": "markers",
         "name": "-3.4816247582205",
         "showlegend": true,
         "type": "scattergeo"
        },
        {
         "geo": "geo",
         "hovertemplate": "<b>%{hovertext}</b><br><br>AvgTone=2.07612456747405<br>ActionGeo_Lat=%{lat}<br>ActionGeo_Long=%{lon}<extra></extra>",
         "hovertext": [
          "https://www.monstersandcritics.com/tv/pat-sajak-to-appear-in-acting-role-following-wheel-of-fortune-retirement/",
          "https://www.monstersandcritics.com/tv/pat-sajak-to-appear-in-acting-role-following-wheel-of-fortune-retirement/",
          "https://www.monstersandcritics.com/tv/pat-sajak-to-appear-in-acting-role-following-wheel-of-fortune-retirement/"
         ],
         "lat": [
          "21.3142",
          "21.3142",
          "21.3142"
         ],
         "legendgroup": "2.07612456747405",
         "lon": [
          "-157.864",
          "-157.864",
          "-157.864"
         ],
         "marker": {
          "color": "#FECB52",
          "symbol": "circle"
         },
         "mode": "markers",
         "name": "2.07612456747405",
         "showlegend": true,
         "type": "scattergeo"
        },
        {
         "geo": "geo",
         "hovertemplate": "<b>%{hovertext}</b><br><br>AvgTone=-5.76<br>ActionGeo_Lat=%{lat}<br>ActionGeo_Long=%{lon}<extra></extra>",
         "hovertext": [
          "https://www.washingtontimes.com/news/2024/jun/17/evan-gershkovich-trial-of-us-reporter-charged-with/",
          "https://www.washingtontimes.com/news/2024/jun/17/evan-gershkovich-trial-of-us-reporter-charged-with/",
          "https://www.washingtontimes.com/news/2024/jun/17/evan-gershkovich-trial-of-us-reporter-charged-with/"
         ],
         "lat": [
          "55.7522",
          "55.7522",
          "55.7522"
         ],
         "legendgroup": "-5.76",
         "lon": [
          "37.6156",
          "37.6156",
          "37.6156"
         ],
         "marker": {
          "color": "#636efa",
          "symbol": "circle"
         },
         "mode": "markers",
         "name": "-5.76",
         "showlegend": true,
         "type": "scattergeo"
        },
        {
         "geo": "geo",
         "hovertemplate": "<b>%{hovertext}</b><br><br>AvgTone=0.43415340086831<br>ActionGeo_Lat=%{lat}<br>ActionGeo_Long=%{lon}<extra></extra>",
         "hovertext": [
          "https://edition.cnn.com/2024/06/16/us/maryland-marijuana-pardons/",
          "https://edition.cnn.com/2024/06/16/us/maryland-marijuana-pardons/",
          "https://edition.cnn.com/2024/06/16/us/maryland-marijuana-pardons/"
         ],
         "lat": [
          "39.0724",
          "38.8951",
          "39.0724"
         ],
         "legendgroup": "0.43415340086831",
         "lon": [
          "-76.7902",
          "-77.0364",
          "-76.7902"
         ],
         "marker": {
          "color": "#EF553B",
          "symbol": "circle"
         },
         "mode": "markers",
         "name": "0.43415340086831",
         "showlegend": true,
         "type": "scattergeo"
        },
        {
         "geo": "geo",
         "hovertemplate": "<b>%{hovertext}</b><br><br>AvgTone=3.584229390681<br>ActionGeo_Lat=%{lat}<br>ActionGeo_Long=%{lon}<extra></extra>",
         "hovertext": [
          "https://www.cbs19.tv/article/news/local/lake-palestine-resort-bonfire-tornado-relief/501-02ff271a-fd9f-4a52-b9f7-2a01755c556a",
          "https://www.cbs19.tv/article/news/local/lake-palestine-resort-bonfire-tornado-relief/501-02ff271a-fd9f-4a52-b9f7-2a01755c556a",
          "https://www.cbs19.tv/article/news/local/lake-palestine-resort-bonfire-tornado-relief/501-02ff271a-fd9f-4a52-b9f7-2a01755c556a"
         ],
         "lat": [
          "32.0579",
          "32.0579",
          "32.0579"
         ],
         "legendgroup": "3.584229390681",
         "lon": [
          "-95.4311",
          "-95.4311",
          "-95.4311"
         ],
         "marker": {
          "color": "#00cc96",
          "symbol": "circle"
         },
         "mode": "markers",
         "name": "3.584229390681",
         "showlegend": true,
         "type": "scattergeo"
        },
        {
         "geo": "geo",
         "hovertemplate": "<b>%{hovertext}</b><br><br>AvgTone=-7.38813735691987<br>ActionGeo_Lat=%{lat}<br>ActionGeo_Long=%{lon}<extra></extra>",
         "hovertext": [
          "https://www.chronline.com/stories/washington-man-spent-years-stalking-60-women-police-say,342103",
          "https://www.chronline.com/stories/washington-man-spent-years-stalking-60-women-police-say,342103",
          "https://www.chronline.com/stories/washington-man-spent-years-stalking-60-women-police-say,342103",
          "https://www.chronline.com/stories/washington-man-spent-years-stalking-60-women-police-say,342103"
         ],
         "lat": [
          "47.3917",
          "47.3917",
          "46.2665",
          "47.3917"
         ],
         "legendgroup": "-7.38813735691987",
         "lon": [
          "-121.571",
          "-121.571",
          "-119.484",
          "-121.571"
         ],
         "marker": {
          "color": "#ab63fa",
          "symbol": "circle"
         },
         "mode": "markers",
         "name": "-7.38813735691987",
         "showlegend": true,
         "type": "scattergeo"
        },
        {
         "geo": "geo",
         "hovertemplate": "<b>%{hovertext}</b><br><br>AvgTone=-10.3092783505155<br>ActionGeo_Lat=%{lat}<br>ActionGeo_Long=%{lon}<extra></extra>",
         "hovertext": [
          "https://www.yahoo.com/news/russian-troops-attack-nikopol-injuring-155227276.html"
         ],
         "lat": [
          "56.1781"
         ],
         "legendgroup": "-10.3092783505155",
         "lon": [
          "32.0898"
         ],
         "marker": {
          "color": "#FFA15A",
          "symbol": "circle"
         },
         "mode": "markers",
         "name": "-10.3092783505155",
         "showlegend": true,
         "type": "scattergeo"
        },
        {
         "geo": "geo",
         "hovertemplate": "<b>%{hovertext}</b><br><br>AvgTone=0.540540540540541<br>ActionGeo_Lat=%{lat}<br>ActionGeo_Long=%{lon}<extra></extra>",
         "hovertext": [
          "https://www.businessnorth.com/daily_briefing/grand-re-opening-held-for-widseth/article_0ecd7d98-2cc8-11ef-bf6e-7f04867ded6d.html"
         ],
         "lat": [
          "45.7326"
         ],
         "legendgroup": "0.540540540540541",
         "lon": [
          "-93.9196"
         ],
         "marker": {
          "color": "#19d3f3",
          "symbol": "circle"
         },
         "mode": "markers",
         "name": "0.540540540540541",
         "showlegend": true,
         "type": "scattergeo"
        },
        {
         "geo": "geo",
         "hovertemplate": "<b>%{hovertext}</b><br><br>AvgTone=0.177935943060501<br>ActionGeo_Lat=%{lat}<br>ActionGeo_Long=%{lon}<extra></extra>",
         "hovertext": [
          "https://www.radioseoul1650.com/archives/23694",
          "https://www.radioseoul1650.com/archives/23694"
         ],
         "lat": [
          "60.0",
          "60.0"
         ],
         "legendgroup": "0.177935943060501",
         "lon": [
          "100.0",
          "100.0"
         ],
         "marker": {
          "color": "#FF6692",
          "symbol": "circle"
         },
         "mode": "markers",
         "name": "0.177935943060501",
         "showlegend": true,
         "type": "scattergeo"
        },
        {
         "geo": "geo",
         "hovertemplate": "<b>%{hovertext}</b><br><br>AvgTone=-3.30097087378641<br>ActionGeo_Lat=%{lat}<br>ActionGeo_Long=%{lon}<extra></extra>",
         "hovertext": [
          "https://www.fox26houston.com/news/convicted-con-man-shares-insights-growing-crime-title-theft"
         ],
         "lat": [
          "29.8336"
         ],
         "legendgroup": "-3.30097087378641",
         "lon": [
          "-95.4002"
         ],
         "marker": {
          "color": "#B6E880",
          "symbol": "circle"
         },
         "mode": "markers",
         "name": "-3.30097087378641",
         "showlegend": true,
         "type": "scattergeo"
        },
        {
         "geo": "geo",
         "hovertemplate": "<b>%{hovertext}</b><br><br>AvgTone=-2.14285714285715<br>ActionGeo_Lat=%{lat}<br>ActionGeo_Long=%{lon}<extra></extra>",
         "hovertext": [
          "https://www.khq.com/news/kootenai-county-sheriff-s-office-searching-for-missing-woman/article_08426eae-2cb2-11ef-b032-47ee0d0c80fd.html",
          "https://www.khq.com/news/kootenai-county-sheriff-s-office-searching-for-missing-woman/article_08426eae-2cb2-11ef-b032-47ee0d0c80fd.html",
          "https://www.khq.com/news/kootenai-county-sheriff-s-office-searching-for-missing-woman/article_08426eae-2cb2-11ef-b032-47ee0d0c80fd.html"
         ],
         "lat": [
          "47.7082",
          "47.7082",
          "47.7082"
         ],
         "legendgroup": "-2.14285714285715",
         "lon": [
          "-116.626",
          "-116.626",
          "-116.626"
         ],
         "marker": {
          "color": "#FF97FF",
          "symbol": "circle"
         },
         "mode": "markers",
         "name": "-2.14285714285715",
         "showlegend": true,
         "type": "scattergeo"
        },
        {
         "geo": "geo",
         "hovertemplate": "<b>%{hovertext}</b><br><br>AvgTone=-2.60115606936416<br>ActionGeo_Lat=%{lat}<br>ActionGeo_Long=%{lon}<extra></extra>",
         "hovertext": [
          "https://www.businesstimes.com.sg/companies-markets/us-supreme-court-hear-nvidia-bid-scuttle-shareholder-lawsuit",
          "https://www.businesstimes.com.sg/companies-markets/us-supreme-court-hear-nvidia-bid-scuttle-shareholder-lawsuit",
          "https://www.businesstimes.com.sg/companies-markets/us-supreme-court-hear-nvidia-bid-scuttle-shareholder-lawsuit",
          "https://www.businesstimes.com.sg/companies-markets/us-supreme-court-hear-nvidia-bid-scuttle-shareholder-lawsuit"
         ],
         "lat": [
          "36.17",
          "59.3333",
          "36.17",
          "36.17"
         ],
         "legendgroup": "-2.60115606936416",
         "lon": [
          "-119.746",
          "18.05",
          "-119.746",
          "-119.746"
         ],
         "marker": {
          "color": "#FECB52",
          "symbol": "circle"
         },
         "mode": "markers",
         "name": "-2.60115606936416",
         "showlegend": true,
         "type": "scattergeo"
        },
        {
         "geo": "geo",
         "hovertemplate": "<b>%{hovertext}</b><br><br>AvgTone=0.970873786407771<br>ActionGeo_Lat=%{lat}<br>ActionGeo_Long=%{lon}<extra></extra>",
         "hovertext": [
          "https://www.eteknix.com/zephyr-launches-nvidia-rtx-4070-itx-card/"
         ],
         "lat": [
          "35.0"
         ],
         "legendgroup": "0.970873786407771",
         "lon": [
          "105.0"
         ],
         "marker": {
          "color": "#636efa",
          "symbol": "circle"
         },
         "mode": "markers",
         "name": "0.970873786407771",
         "showlegend": true,
         "type": "scattergeo"
        },
        {
         "geo": "geo",
         "hovertemplate": "<b>%{hovertext}</b><br><br>AvgTone=0.16313213703099<br>ActionGeo_Lat=%{lat}<br>ActionGeo_Long=%{lon}<extra></extra>",
         "hovertext": [
          "https://pronedra.ru/18-iyunya-etot-den-v-istorii-rossii-485569.html"
         ],
         "lat": [
          "44.7244"
         ],
         "legendgroup": "0.16313213703099",
         "lon": [
          "37.7675"
         ],
         "marker": {
          "color": "#EF553B",
          "symbol": "circle"
         },
         "mode": "markers",
         "name": "0.16313213703099",
         "showlegend": true,
         "type": "scattergeo"
        },
        {
         "geo": "geo",
         "hovertemplate": "<b>%{hovertext}</b><br><br>AvgTone=-6.67701863354037<br>ActionGeo_Lat=%{lat}<br>ActionGeo_Long=%{lon}<extra></extra>",
         "hovertext": [
          "https://www.usnews.com/news/best-states/oklahoma/articles/2024-06-17/oklahoma-panel-denies-clemency-for-man-convicted-of-1984-slaying-7-year-old-girl",
          "https://www.usnews.com/news/best-states/oklahoma/articles/2024-06-17/oklahoma-panel-denies-clemency-for-man-convicted-of-1984-slaying-7-year-old-girl",
          "https://www.usnews.com/news/best-states/oklahoma/articles/2024-06-17/oklahoma-panel-denies-clemency-for-man-convicted-of-1984-slaying-7-year-old-girl",
          "https://www.usnews.com/news/best-states/oklahoma/articles/2024-06-17/oklahoma-panel-denies-clemency-for-man-convicted-of-1984-slaying-7-year-old-girl"
         ],
         "lat": [
          "35.3001",
          "48.8667",
          "48.8667",
          "35.3001"
         ],
         "legendgroup": "-6.67701863354037",
         "lon": [
          "-99.0009",
          "2.33333",
          "2.33333",
          "-99.0009"
         ],
         "marker": {
          "color": "#00cc96",
          "symbol": "circle"
         },
         "mode": "markers",
         "name": "-6.67701863354037",
         "showlegend": true,
         "type": "scattergeo"
        },
        {
         "geo": "geo",
         "hovertemplate": "<b>%{hovertext}</b><br><br>AvgTone=-3.96618985695709<br>ActionGeo_Lat=%{lat}<br>ActionGeo_Long=%{lon}<extra></extra>",
         "hovertext": [
          "https://www.usnews.com/news/best-states/michigan/articles/2024-06-17/editorial-roundup-michigan",
          "https://www.usnews.com/news/best-states/michigan/articles/2024-06-17/editorial-roundup-michigan",
          "https://www.usnews.com/news/best-states/michigan/articles/2024-06-17/editorial-roundup-michigan",
          "https://www.usnews.com/news/best-states/michigan/articles/2024-06-17/editorial-roundup-michigan",
          "https://www.usnews.com/news/best-states/michigan/articles/2024-06-17/editorial-roundup-michigan"
         ],
         "lat": [
          "43.3504",
          "43.3504",
          "43.3504",
          "43.3504",
          "43.3504"
         ],
         "legendgroup": "-3.96618985695709",
         "lon": [
          "-84.5603",
          "-84.5603",
          "-84.5603",
          "-84.5603",
          "-84.5603"
         ],
         "marker": {
          "color": "#ab63fa",
          "symbol": "circle"
         },
         "mode": "markers",
         "name": "-3.96618985695709",
         "showlegend": true,
         "type": "scattergeo"
        },
        {
         "geo": "geo",
         "hovertemplate": "<b>%{hovertext}</b><br><br>AvgTone=-2.20588235294117<br>ActionGeo_Lat=%{lat}<br>ActionGeo_Long=%{lon}<extra></extra>",
         "hovertext": [
          "https://www.wcax.com/2024/06/17/vt-lawmaker-caught-camera-harassing-colleague-apologizes/"
         ],
         "lat": [
          "44.0407"
         ],
         "legendgroup": "-2.20588235294117",
         "lon": [
          "-72.7093"
         ],
         "marker": {
          "color": "#FFA15A",
          "symbol": "circle"
         },
         "mode": "markers",
         "name": "-2.20588235294117",
         "showlegend": true,
         "type": "scattergeo"
        },
        {
         "geo": "geo",
         "hovertemplate": "<b>%{hovertext}</b><br><br>AvgTone=7.56302521008404<br>ActionGeo_Lat=%{lat}<br>ActionGeo_Long=%{lon}<extra></extra>",
         "hovertext": [
          "https://hpj.com/2024/06/17/rural-kansas-community-gets-300000-grant/",
          "https://hpj.com/2024/06/17/rural-kansas-community-gets-300000-grant/",
          "https://hpj.com/2024/06/17/rural-kansas-community-gets-300000-grant/"
         ],
         "lat": [
          "38.5111",
          "38.5111",
          "38.5111"
         ],
         "legendgroup": "7.56302521008404",
         "lon": [
          "-96.8005",
          "-96.8005",
          "-96.8005"
         ],
         "marker": {
          "color": "#19d3f3",
          "symbol": "circle"
         },
         "mode": "markers",
         "name": "7.56302521008404",
         "showlegend": true,
         "type": "scattergeo"
        },
        {
         "geo": "geo",
         "hovertemplate": "<b>%{hovertext}</b><br><br>AvgTone=-1.869918699187<br>ActionGeo_Lat=%{lat}<br>ActionGeo_Long=%{lon}<extra></extra>",
         "hovertext": [
          "https://www.ng.ru/vision/2024-06-17/8_9029_kosygin.html",
          "https://www.ng.ru/vision/2024-06-17/8_9029_kosygin.html",
          "https://www.ng.ru/vision/2024-06-17/8_9029_kosygin.html"
         ],
         "lat": [
          "56.3882",
          "59.8944",
          "59.8944"
         ],
         "legendgroup": "-1.869918699187",
         "lon": [
          "44.3371",
          "30.2642",
          "30.2642"
         ],
         "marker": {
          "color": "#FF6692",
          "symbol": "circle"
         },
         "mode": "markers",
         "name": "-1.869918699187",
         "showlegend": true,
         "type": "scattergeo"
        },
        {
         "geo": "geo",
         "hovertemplate": "<b>%{hovertext}</b><br><br>AvgTone=-2.43902439024391<br>ActionGeo_Lat=%{lat}<br>ActionGeo_Long=%{lon}<extra></extra>",
         "hovertext": [
          "https://www.wbrz.com/news/gov-landry-signs-law-to-reduce-unemployment-to-20-weeks-takes-effect-start-of-next-year",
          "https://www.wbrz.com/news/gov-landry-signs-law-to-reduce-unemployment-to-20-weeks-takes-effect-start-of-next-year",
          "https://www.wbrz.com/news/gov-landry-signs-law-to-reduce-unemployment-to-20-weeks-takes-effect-start-of-next-year",
          "https://www.wbrz.com/news/gov-landry-signs-law-to-reduce-unemployment-to-20-weeks-takes-effect-start-of-next-year",
          "https://www.wbrz.com/news/gov-landry-signs-law-to-reduce-unemployment-to-20-weeks-takes-effect-start-of-next-year"
         ],
         "lat": [
          "30.4507",
          "30.4507",
          "31.1801",
          "31.1801",
          "30.4507"
         ],
         "legendgroup": "-2.43902439024391",
         "lon": [
          "-91.1545",
          "-91.1545",
          "-91.8749",
          "-91.8749",
          "-91.1545"
         ],
         "marker": {
          "color": "#B6E880",
          "symbol": "circle"
         },
         "mode": "markers",
         "name": "-2.43902439024391",
         "showlegend": true,
         "type": "scattergeo"
        },
        {
         "geo": "geo",
         "hovertemplate": "<b>%{hovertext}</b><br><br>AvgTone=-1.48221343873517<br>ActionGeo_Lat=%{lat}<br>ActionGeo_Long=%{lon}<extra></extra>",
         "hovertext": [
          "https://www.dailymail.co.uk/news/article-13538963/buffalo-bar-old-pink-fire-destroyed-devastated-residents.html",
          "https://www.dailymail.co.uk/news/article-13538963/buffalo-bar-old-pink-fire-destroyed-devastated-residents.html"
         ],
         "lat": [
          "52.5",
          "42.1497"
         ],
         "legendgroup": "-1.48221343873517",
         "lon": [
          "5.75",
          "-74.9384"
         ],
         "marker": {
          "color": "#FF97FF",
          "symbol": "circle"
         },
         "mode": "markers",
         "name": "-1.48221343873517",
         "showlegend": true,
         "type": "scattergeo"
        },
        {
         "geo": "geo",
         "hovertemplate": "<b>%{hovertext}</b><br><br>AvgTone=0.88141025641025<br>ActionGeo_Lat=%{lat}<br>ActionGeo_Long=%{lon}<extra></extra>",
         "hovertext": [
          "https://www.usnews.com/news/best-states/hawaii/articles/2024-06-17/staffing-shortages-persist-as-hawaiis-effort-to-expand-preschool-moves-forward",
          "https://www.usnews.com/news/best-states/hawaii/articles/2024-06-17/staffing-shortages-persist-as-hawaiis-effort-to-expand-preschool-moves-forward"
         ],
         "lat": [
          "21.3069",
          "48.8667"
         ],
         "legendgroup": "0.88141025641025",
         "lon": [
          "-157.858",
          "2.33333"
         ],
         "marker": {
          "color": "#FECB52",
          "symbol": "circle"
         },
         "mode": "markers",
         "name": "0.88141025641025",
         "showlegend": true,
         "type": "scattergeo"
        },
        {
         "geo": "geo",
         "hovertemplate": "<b>%{hovertext}</b><br><br>AvgTone=-1.63934426229508<br>ActionGeo_Lat=%{lat}<br>ActionGeo_Long=%{lon}<extra></extra>",
         "hovertext": [
          "https://www.thedailystar.net/news/world/europe/news/putin-visit-north-korea-first-time-24-years-3636236",
          "https://www.thedailystar.net/news/world/europe/news/putin-visit-north-korea-first-time-24-years-3636236",
          "https://www.thedailystar.net/news/world/europe/news/putin-visit-north-korea-first-time-24-years-3636236",
          "https://www.thedailystar.net/news/world/europe/news/putin-visit-north-korea-first-time-24-years-3636236",
          "https://www.thedailystar.net/news/world/europe/news/putin-visit-north-korea-first-time-24-years-3636236",
          "https://www.thedailystar.net/news/world/europe/news/putin-visit-north-korea-first-time-24-years-3636236"
         ],
         "lat": [
          "38.8951",
          "37.5664",
          "37.5664",
          "55.7522",
          "55.7522",
          "55.7522"
         ],
         "legendgroup": "-1.63934426229508",
         "lon": [
          "-77.0364",
          "127.0",
          "127.0",
          "37.6156",
          "37.6156",
          "37.6156"
         ],
         "marker": {
          "color": "#636efa",
          "symbol": "circle"
         },
         "mode": "markers",
         "name": "-1.63934426229508",
         "showlegend": true,
         "type": "scattergeo"
        },
        {
         "geo": "geo",
         "hovertemplate": "<b>%{hovertext}</b><br><br>AvgTone=-1.60965794768612<br>ActionGeo_Lat=%{lat}<br>ActionGeo_Long=%{lon}<extra></extra>",
         "hovertext": [
          "https://worldoffinewine.com/tasting-notes/ramey-rochioli-vineyard-chardonnay"
         ],
         "lat": [
          "60.0"
         ],
         "legendgroup": "-1.60965794768612",
         "lon": [
          "100.0"
         ],
         "marker": {
          "color": "#EF553B",
          "symbol": "circle"
         },
         "mode": "markers",
         "name": "-1.60965794768612",
         "showlegend": true,
         "type": "scattergeo"
        },
        {
         "geo": "geo",
         "hovertemplate": "<b>%{hovertext}</b><br><br>AvgTone=-4.5822102425876<br>ActionGeo_Lat=%{lat}<br>ActionGeo_Long=%{lon}<extra></extra>",
         "hovertext": [
          "https://www.carolinajournal.com/opinion/sorry-climate-grifters-our-burgers-and-cars-arent-to-blame-for-busy-hurricane-season/",
          "https://www.carolinajournal.com/opinion/sorry-climate-grifters-our-burgers-and-cars-arent-to-blame-for-busy-hurricane-season/",
          "https://www.carolinajournal.com/opinion/sorry-climate-grifters-our-burgers-and-cars-arent-to-blame-for-busy-hurricane-season/"
         ],
         "lat": [
          "35.6411",
          "35.6411",
          "35.6411"
         ],
         "legendgroup": "-4.5822102425876",
         "lon": [
          "-79.8431",
          "-79.8431",
          "-79.8431"
         ],
         "marker": {
          "color": "#00cc96",
          "symbol": "circle"
         },
         "mode": "markers",
         "name": "-4.5822102425876",
         "showlegend": true,
         "type": "scattergeo"
        },
        {
         "geo": "geo",
         "hovertemplate": "<b>%{hovertext}</b><br><br>AvgTone=-4.66926070038911<br>ActionGeo_Lat=%{lat}<br>ActionGeo_Long=%{lon}<extra></extra>",
         "hovertext": [
          "https://www.naturalnews.com/2024-06-17-mtg-niaid-funded-animal-testing-on-beagles.html"
         ],
         "lat": [
          "36.8028"
         ],
         "legendgroup": "-4.66926070038911",
         "lon": [
          "10.1797"
         ],
         "marker": {
          "color": "#ab63fa",
          "symbol": "circle"
         },
         "mode": "markers",
         "name": "-4.66926070038911",
         "showlegend": true,
         "type": "scattergeo"
        },
        {
         "geo": "geo",
         "hovertemplate": "<b>%{hovertext}</b><br><br>AvgTone=-10.8910891089109<br>ActionGeo_Lat=%{lat}<br>ActionGeo_Long=%{lon}<extra></extra>",
         "hovertext": [
          "https://menafn.com/1108342243/Israeli-PM-Benjamin-Netanyahu-Dissolves-War-Cabinet-Amid-Political-Turmoil-Check-Details"
         ],
         "lat": [
          "39.828175"
         ],
         "legendgroup": "-10.8910891089109",
         "lon": [
          "-98.5795"
         ],
         "marker": {
          "color": "#FFA15A",
          "symbol": "circle"
         },
         "mode": "markers",
         "name": "-10.8910891089109",
         "showlegend": true,
         "type": "scattergeo"
        },
        {
         "geo": "geo",
         "hovertemplate": "<b>%{hovertext}</b><br><br>AvgTone=1.27118644067797<br>ActionGeo_Lat=%{lat}<br>ActionGeo_Long=%{lon}<extra></extra>",
         "hovertext": [
          "https://www.bloodhorse.com/horse-racing/articles/277636/racing-post-sizes-up-americas-royal-ascot-runners"
         ],
         "lat": [
          "39.828175"
         ],
         "legendgroup": "1.27118644067797",
         "lon": [
          "-98.5795"
         ],
         "marker": {
          "color": "#19d3f3",
          "symbol": "circle"
         },
         "mode": "markers",
         "name": "1.27118644067797",
         "showlegend": true,
         "type": "scattergeo"
        },
        {
         "geo": "geo",
         "hovertemplate": "<b>%{hovertext}</b><br><br>AvgTone=-13.4920634920635<br>ActionGeo_Lat=%{lat}<br>ActionGeo_Long=%{lon}<extra></extra>",
         "hovertext": [
          "https://www.wtvy.com/2024/06/17/former-high-ranking-officer-zapped-again-child-sex-crimes/",
          "https://www.wtvy.com/2024/06/17/former-high-ranking-officer-zapped-again-child-sex-crimes/",
          "https://www.wtvy.com/2024/06/17/former-high-ranking-officer-zapped-again-child-sex-crimes/",
          "https://www.wtvy.com/2024/06/17/former-high-ranking-officer-zapped-again-child-sex-crimes/",
          "https://www.wtvy.com/2024/06/17/former-high-ranking-officer-zapped-again-child-sex-crimes/",
          "https://www.wtvy.com/2024/06/17/former-high-ranking-officer-zapped-again-child-sex-crimes/"
         ],
         "lat": [
          "31.4502",
          "31.4502",
          "31.4502",
          "31.4502",
          "31.4502",
          "31.4502"
         ],
         "legendgroup": "-13.4920634920635",
         "lon": [
          "-85.6499",
          "-85.6499",
          "-85.6499",
          "-85.6499",
          "-85.6499",
          "-85.6499"
         ],
         "marker": {
          "color": "#FF6692",
          "symbol": "circle"
         },
         "mode": "markers",
         "name": "-13.4920634920635",
         "showlegend": true,
         "type": "scattergeo"
        },
        {
         "geo": "geo",
         "hovertemplate": "<b>%{hovertext}</b><br><br>AvgTone=-4.48207171314741<br>ActionGeo_Lat=%{lat}<br>ActionGeo_Long=%{lon}<extra></extra>",
         "hovertext": [
          "https://gazette.com/colorado_politics/state-supreme-court-returns-for-oral-arguments-scotus-precedent-triggers-stalking-reversals-court-crawl/article_86c6fb40-c663-5692-8f67-50e8d5fddabf.html"
         ],
         "lat": [
          "40.6666"
         ],
         "legendgroup": "-4.48207171314741",
         "lon": [
          "-105.467"
         ],
         "marker": {
          "color": "#B6E880",
          "symbol": "circle"
         },
         "mode": "markers",
         "name": "-4.48207171314741",
         "showlegend": true,
         "type": "scattergeo"
        },
        {
         "geo": "geo",
         "hovertemplate": "<b>%{hovertext}</b><br><br>AvgTone=-4.23600605143722<br>ActionGeo_Lat=%{lat}<br>ActionGeo_Long=%{lon}<extra></extra>",
         "hovertext": [
          "https://mynorthwest.com/3962724/uw-fires-director-primate-research-center-state-probe-program/",
          "https://mynorthwest.com/3962724/uw-fires-director-primate-research-center-state-probe-program/",
          "https://mynorthwest.com/3962724/uw-fires-director-primate-research-center-state-probe-program/"
         ],
         "lat": [
          "47.3917",
          "47.3917",
          "47.3917"
         ],
         "legendgroup": "-4.23600605143722",
         "lon": [
          "-121.571",
          "-121.571",
          "-121.571"
         ],
         "marker": {
          "color": "#FF97FF",
          "symbol": "circle"
         },
         "mode": "markers",
         "name": "-4.23600605143722",
         "showlegend": true,
         "type": "scattergeo"
        },
        {
         "geo": "geo",
         "hovertemplate": "<b>%{hovertext}</b><br><br>AvgTone=-4.1025641025641<br>ActionGeo_Lat=%{lat}<br>ActionGeo_Long=%{lon}<extra></extra>",
         "hovertext": [
          "https://www.pennlive.com/life/2024/06/pa-borough-may-limit-number-of-pets-people-can-own.html"
         ],
         "lat": [
          "40.3634"
         ],
         "legendgroup": "-4.1025641025641",
         "lon": [
          "-79.8664"
         ],
         "marker": {
          "color": "#FECB52",
          "symbol": "circle"
         },
         "mode": "markers",
         "name": "-4.1025641025641",
         "showlegend": true,
         "type": "scattergeo"
        },
        {
         "geo": "geo",
         "hovertemplate": "<b>%{hovertext}</b><br><br>AvgTone=-16.9117647058824<br>ActionGeo_Lat=%{lat}<br>ActionGeo_Long=%{lon}<extra></extra>",
         "hovertext": [
          "https://www.greenfieldreporter.com/2024/06/17/arrests-june-17-3/",
          "https://www.greenfieldreporter.com/2024/06/17/arrests-june-17-3/",
          "https://www.greenfieldreporter.com/2024/06/17/arrests-june-17-3/",
          "https://www.greenfieldreporter.com/2024/06/17/arrests-june-17-3/",
          "https://www.greenfieldreporter.com/2024/06/17/arrests-june-17-3/"
         ],
         "lat": [
          "39.9081",
          "39.9081",
          "39.9081",
          "39.9081",
          "39.9081"
         ],
         "legendgroup": "-16.9117647058824",
         "lon": [
          "-85.9228",
          "-85.9228",
          "-85.9228",
          "-85.9228",
          "-85.9228"
         ],
         "marker": {
          "color": "#636efa",
          "symbol": "circle"
         },
         "mode": "markers",
         "name": "-16.9117647058824",
         "showlegend": true,
         "type": "scattergeo"
        },
        {
         "geo": "geo",
         "hovertemplate": "<b>%{hovertext}</b><br><br>AvgTone=2.63565891472869<br>ActionGeo_Lat=%{lat}<br>ActionGeo_Long=%{lon}<extra></extra>",
         "hovertext": [
          "https://www.courant.com/2024/06/17/after-54-years-in-business-gem-of-ct-restaurant-to-close-it-was-absolute-best-customer-says/"
         ],
         "lat": [
          "38.8951"
         ],
         "legendgroup": "2.63565891472869",
         "lon": [
          "-77.0364"
         ],
         "marker": {
          "color": "#EF553B",
          "symbol": "circle"
         },
         "mode": "markers",
         "name": "2.63565891472869",
         "showlegend": true,
         "type": "scattergeo"
        },
        {
         "geo": "geo",
         "hovertemplate": "<b>%{hovertext}</b><br><br>AvgTone=0.390625<br>ActionGeo_Lat=%{lat}<br>ActionGeo_Long=%{lon}<extra></extra>",
         "hovertext": [
          "https://talk1073.com/2024/06/17/bese-has-new-accountability-standards-mary-beth-hughes-talks-about-it/"
         ],
         "lat": [
          "31.1801"
         ],
         "legendgroup": "0.390625",
         "lon": [
          "-91.8749"
         ],
         "marker": {
          "color": "#00cc96",
          "symbol": "circle"
         },
         "mode": "markers",
         "name": "0.390625",
         "showlegend": true,
         "type": "scattergeo"
        },
        {
         "geo": "geo",
         "hovertemplate": "<b>%{hovertext}</b><br><br>AvgTone=-5.34069981583794<br>ActionGeo_Lat=%{lat}<br>ActionGeo_Long=%{lon}<extra></extra>",
         "hovertext": [
          "https://www.dailymail.co.uk/news/article-13539357/hunter-biden-new-gun-crimes-trial.html",
          "https://www.dailymail.co.uk/news/article-13539357/hunter-biden-new-gun-crimes-trial.html"
         ],
         "lat": [
          "39.3498",
          "39.3498"
         ],
         "legendgroup": "-5.34069981583794",
         "lon": [
          "-75.5148",
          "-75.5148"
         ],
         "marker": {
          "color": "#ab63fa",
          "symbol": "circle"
         },
         "mode": "markers",
         "name": "-5.34069981583794",
         "showlegend": true,
         "type": "scattergeo"
        },
        {
         "geo": "geo",
         "hovertemplate": "<b>%{hovertext}</b><br><br>AvgTone=3.7037037037037<br>ActionGeo_Lat=%{lat}<br>ActionGeo_Long=%{lon}<extra></extra>",
         "hovertext": [
          "https://www.cities929.com/2024/06/17/ways-to-save-on-auto-insurance-exist-even-as-premiums-soar/",
          "https://russian.rt.com/russia/news/1329340-fond-zaschitniki-otechestva"
         ],
         "lat": [
          "40.3363",
          null
         ],
         "legendgroup": "3.7037037037037",
         "lon": [
          "-89.0022",
          null
         ],
         "marker": {
          "color": "#FFA15A",
          "symbol": "circle"
         },
         "mode": "markers",
         "name": "3.7037037037037",
         "showlegend": true,
         "type": "scattergeo"
        },
        {
         "geo": "geo",
         "hovertemplate": "<b>%{hovertext}</b><br><br>AvgTone=-3.690036900369<br>ActionGeo_Lat=%{lat}<br>ActionGeo_Long=%{lon}<extra></extra>",
         "hovertext": [
          "https://townhall.com/tipsheet/leahbarkoukis/2024/06/17/voter-fraud-is-real-abbott-weighs-in-on-houston-judicial-race-n2640561"
         ],
         "lat": [
          "29.7633"
         ],
         "legendgroup": "-3.690036900369",
         "lon": [
          "-95.3633"
         ],
         "marker": {
          "color": "#19d3f3",
          "symbol": "circle"
         },
         "mode": "markers",
         "name": "-3.690036900369",
         "showlegend": true,
         "type": "scattergeo"
        },
        {
         "geo": "geo",
         "hovertemplate": "<b>%{hovertext}</b><br><br>AvgTone=-2.38297872340425<br>ActionGeo_Lat=%{lat}<br>ActionGeo_Long=%{lon}<extra></extra>",
         "hovertext": [
          "https://www.chronline.com/stories/us-supreme-court-homelessness-decisions-impacts-in-washington-could-be-unique,342101",
          "https://www.chronline.com/stories/us-supreme-court-homelessness-decisions-impacts-in-washington-could-be-unique,342101"
         ],
         "lat": [
          "47.1804",
          "47.4665"
         ],
         "legendgroup": "-2.38297872340425",
         "lon": [
          "-122.016",
          "-121.818"
         ],
         "marker": {
          "color": "#FF6692",
          "symbol": "circle"
         },
         "mode": "markers",
         "name": "-2.38297872340425",
         "showlegend": true,
         "type": "scattergeo"
        },
        {
         "geo": "geo",
         "hovertemplate": "<b>%{hovertext}</b><br><br>AvgTone=-14.977973568282<br>ActionGeo_Lat=%{lat}<br>ActionGeo_Long=%{lon}<extra></extra>",
         "hovertext": [
          "https://www.cbs19.tv/article/news/local/prosecutors-wont-seek-death-penalty-for-man-accused-2023-double-jacksonville-double-murder/501-6faf0db2-394e-42d4-899e-35eb5caf7cb4",
          "https://www.cbs19.tv/article/news/local/prosecutors-wont-seek-death-penalty-for-man-accused-2023-double-jacksonville-double-murder/501-6faf0db2-394e-42d4-899e-35eb5caf7cb4"
         ],
         "lat": [
          "31.106",
          "31.8502"
         ],
         "legendgroup": "-14.977973568282",
         "lon": [
          "-97.6475",
          "-95.2002"
         ],
         "marker": {
          "color": "#B6E880",
          "symbol": "circle"
         },
         "mode": "markers",
         "name": "-14.977973568282",
         "showlegend": true,
         "type": "scattergeo"
        },
        {
         "geo": "geo",
         "hovertemplate": "<b>%{hovertext}</b><br><br>AvgTone=-2.01680672268907<br>ActionGeo_Lat=%{lat}<br>ActionGeo_Long=%{lon}<extra></extra>",
         "hovertext": [
          "https://abc7ny.com/post/heat-wave-brings-potentially-historic-temperatures-most-us/14965556/",
          "https://abc7ny.com/post/heat-wave-brings-potentially-historic-temperatures-most-us/14965556/",
          "https://abc7ny.com/post/heat-wave-brings-potentially-historic-temperatures-most-us/14965556/"
         ],
         "lat": [
          "34.8375",
          "31.7587",
          "34.8375"
         ],
         "legendgroup": "-2.01680672268907",
         "lon": [
          "-106.237",
          "-106.487",
          "-106.237"
         ],
         "marker": {
          "color": "#FF97FF",
          "symbol": "circle"
         },
         "mode": "markers",
         "name": "-2.01680672268907",
         "showlegend": true,
         "type": "scattergeo"
        },
        {
         "geo": "geo",
         "hovertemplate": "<b>%{hovertext}</b><br><br>AvgTone=-2.01612903225806<br>ActionGeo_Lat=%{lat}<br>ActionGeo_Long=%{lon}<extra></extra>",
         "hovertext": [
          "https://catholicherald.co.uk/despite-progress-us-bishops-must-remain-wary-of-complacency-over-child-abuse-concludes-review-board/",
          "https://catholicherald.co.uk/despite-progress-us-bishops-must-remain-wary-of-complacency-over-child-abuse-concludes-review-board/",
          "https://catholicherald.co.uk/despite-progress-us-bishops-must-remain-wary-of-complacency-over-child-abuse-concludes-review-board/",
          "https://catholicherald.co.uk/despite-progress-us-bishops-must-remain-wary-of-complacency-over-child-abuse-concludes-review-board/",
          "https://catholicherald.co.uk/despite-progress-us-bishops-must-remain-wary-of-complacency-over-child-abuse-concludes-review-board/",
          "https://catholicherald.co.uk/despite-progress-us-bishops-must-remain-wary-of-complacency-over-child-abuse-concludes-review-board/",
          "https://catholicherald.co.uk/despite-progress-us-bishops-must-remain-wary-of-complacency-over-child-abuse-concludes-review-board/",
          "https://catholicherald.co.uk/despite-progress-us-bishops-must-remain-wary-of-complacency-over-child-abuse-concludes-review-board/"
         ],
         "lat": [
          "32.7831",
          "37.669",
          "37.669",
          "37.669",
          "37.669",
          "32.7831",
          "32.7831",
          "32.7831"
         ],
         "legendgroup": "-2.01612903225806",
         "lon": [
          "-96.8067",
          "-84.6514",
          "-84.6514",
          "-84.6514",
          "-84.6514",
          "-96.8067",
          "-96.8067",
          "-96.8067"
         ],
         "marker": {
          "color": "#FECB52",
          "symbol": "circle"
         },
         "mode": "markers",
         "name": "-2.01612903225806",
         "showlegend": true,
         "type": "scattergeo"
        },
        {
         "geo": "geo",
         "hovertemplate": "<b>%{hovertext}</b><br><br>AvgTone=-7.41839762611276<br>ActionGeo_Lat=%{lat}<br>ActionGeo_Long=%{lon}<extra></extra>",
         "hovertext": [
          "https://newpost.gr/eidiseis/ipa-19chronos-ellinikis-katagogis-skotose-toys-goneis-toy-kai-pyrovolise-astynomiko-sti-florinta/",
          "https://newpost.gr/eidiseis/ipa-19chronos-ellinikis-katagogis-skotose-toys-goneis-toy-kai-pyrovolise-astynomiko-sti-florinta/"
         ],
         "lat": [
          "27.8333",
          "27.8333"
         ],
         "legendgroup": "-7.41839762611276",
         "lon": [
          "-81.717",
          "-81.717"
         ],
         "marker": {
          "color": "#636efa",
          "symbol": "circle"
         },
         "mode": "markers",
         "name": "-7.41839762611276",
         "showlegend": true,
         "type": "scattergeo"
        },
        {
         "geo": "geo",
         "hovertemplate": "<b>%{hovertext}</b><br><br>AvgTone=-2.67379679144385<br>ActionGeo_Lat=%{lat}<br>ActionGeo_Long=%{lon}<extra></extra>",
         "hovertext": [
          "https://www.wisbusiness.com/2024/minocqua-brewing-company-oneida-county-files-for-temporary-restraining-order-to-shut-down-the-taproom/"
         ],
         "lat": [
          "45.8713"
         ],
         "legendgroup": "-2.67379679144385",
         "lon": [
          "-89.711"
         ],
         "marker": {
          "color": "#EF553B",
          "symbol": "circle"
         },
         "mode": "markers",
         "name": "-2.67379679144385",
         "showlegend": true,
         "type": "scattergeo"
        },
        {
         "geo": "geo",
         "hovertemplate": "<b>%{hovertext}</b><br><br>AvgTone=6.80272108843538<br>ActionGeo_Lat=%{lat}<br>ActionGeo_Long=%{lon}<extra></extra>",
         "hovertext": [
          "https://thetablet.org/blessed-carlo-acutis-youth-camp-officials-overjoyed-as-namesake-heads-toward-canonization/",
          "https://thetablet.org/blessed-carlo-acutis-youth-camp-officials-overjoyed-as-namesake-heads-toward-canonization/",
          "https://thetablet.org/blessed-carlo-acutis-youth-camp-officials-overjoyed-as-namesake-heads-toward-canonization/"
         ],
         "lat": [
          "40.064",
          "38.7129",
          "38.468"
         ],
         "legendgroup": "6.80272108843538",
         "lon": [
          "-80.7209",
          "-79.979",
          "-80.9696"
         ],
         "marker": {
          "color": "#00cc96",
          "symbol": "circle"
         },
         "mode": "markers",
         "name": "6.80272108843538",
         "showlegend": true,
         "type": "scattergeo"
        },
        {
         "geo": "geo",
         "hovertemplate": "<b>%{hovertext}</b><br><br>AvgTone=-1.60256410256411<br>ActionGeo_Lat=%{lat}<br>ActionGeo_Long=%{lon}<extra></extra>",
         "hovertext": [
          "https://www.aljazeera.net/news/2024/6/17/%D8%A8%D9%88%D8%AA%D9%8A%D9%86-%D9%8A%D8%B2%D9%88%D8%B1-%D9%83%D9%88%D8%B1%D9%8A%D8%A7-%D8%A7%D9%84%D8%B4%D9%85%D8%A7%D9%84%D9%8A%D8%A9-%D9%84%D9%84%D9%85%D8%B1%D8%A9",
          "https://www.aljazeera.net/news/2024/6/17/%D8%A8%D9%88%D8%AA%D9%8A%D9%86-%D9%8A%D8%B2%D9%88%D8%B1-%D9%83%D9%88%D8%B1%D9%8A%D8%A7-%D8%A7%D9%84%D8%B4%D9%85%D8%A7%D9%84%D9%8A%D8%A9-%D9%84%D9%84%D9%85%D8%B1%D8%A9"
         ],
         "lat": [
          "40.0",
          "40.0"
         ],
         "legendgroup": "-1.60256410256411",
         "lon": [
          "127.0",
          "127.0"
         ],
         "marker": {
          "color": "#ab63fa",
          "symbol": "circle"
         },
         "mode": "markers",
         "name": "-1.60256410256411",
         "showlegend": true,
         "type": "scattergeo"
        },
        {
         "geo": "geo",
         "hovertemplate": "<b>%{hovertext}</b><br><br>AvgTone=-9.28792569659443<br>ActionGeo_Lat=%{lat}<br>ActionGeo_Long=%{lon}<extra></extra>",
         "hovertext": [
          "https://svenska.yle.fi/a/7-10059126"
         ],
         "lat": [
          "55.7522"
         ],
         "legendgroup": "-9.28792569659443",
         "lon": [
          "37.6156"
         ],
         "marker": {
          "color": "#FFA15A",
          "symbol": "circle"
         },
         "mode": "markers",
         "name": "-9.28792569659443",
         "showlegend": true,
         "type": "scattergeo"
        },
        {
         "geo": "geo",
         "hovertemplate": "<b>%{hovertext}</b><br><br>AvgTone=-3.59712230215828<br>ActionGeo_Lat=%{lat}<br>ActionGeo_Long=%{lon}<extra></extra>",
         "hovertext": [
          "https://lenta.ru/news/2024/06/17/professor/",
          "https://lenta.ru/news/2024/06/17/professor/"
         ],
         "lat": [
          "44.2563",
          "44.2563"
         ],
         "legendgroup": "-3.59712230215828",
         "lon": [
          "-89.6385",
          "-89.6385"
         ],
         "marker": {
          "color": "#19d3f3",
          "symbol": "circle"
         },
         "mode": "markers",
         "name": "-3.59712230215828",
         "showlegend": true,
         "type": "scattergeo"
        },
        {
         "geo": "geo",
         "hovertemplate": "<b>%{hovertext}</b><br><br>AvgTone=-1.62224797219003<br>ActionGeo_Lat=%{lat}<br>ActionGeo_Long=%{lon}<extra></extra>",
         "hovertext": [
          "https://cnnespanol.cnn.com/2024/06/17/aliados-guerra-fria-socios-relaciones-cuba-rusia-orix/",
          "https://cnnespanol.cnn.com/2024/06/17/aliados-guerra-fria-socios-relaciones-cuba-rusia-orix/",
          "https://cnnespanol.cnn.com/2024/06/17/aliados-guerra-fria-socios-relaciones-cuba-rusia-orix/"
         ],
         "lat": [
          "55.7522",
          "38.8951",
          "55.7522"
         ],
         "legendgroup": "-1.62224797219003",
         "lon": [
          "37.6156",
          "-77.0364",
          "37.6156"
         ],
         "marker": {
          "color": "#FF6692",
          "symbol": "circle"
         },
         "mode": "markers",
         "name": "-1.62224797219003",
         "showlegend": true,
         "type": "scattergeo"
        },
        {
         "geo": "geo",
         "hovertemplate": "<b>%{hovertext}</b><br><br>AvgTone=-1.58528852251109<br>ActionGeo_Lat=%{lat}<br>ActionGeo_Long=%{lon}<extra></extra>",
         "hovertext": [
          "https://www.globalist.it/world/2024/06/17/armi-nucleari-schizza-la-spesa-la-denuncia-di-ripd-e-lo-stranamore-di-bruxelles/"
         ],
         "lat": [
          "35.0"
         ],
         "legendgroup": "-1.58528852251109",
         "lon": [
          "105.0"
         ],
         "marker": {
          "color": "#B6E880",
          "symbol": "circle"
         },
         "mode": "markers",
         "name": "-1.58528852251109",
         "showlegend": true,
         "type": "scattergeo"
        },
        {
         "geo": "geo",
         "hovertemplate": "<b>%{hovertext}</b><br><br>AvgTone=-2.07972270363951<br>ActionGeo_Lat=%{lat}<br>ActionGeo_Long=%{lon}<extra></extra>",
         "hovertext": [
          "https://www.lavanguardia.com/internacional/20240617/9739365/putin-sigue-cambiando-la-cupula-de-defensa-echa-a-4-viceministros-y-asciende-a-un-familiar.html",
          "https://www.lavanguardia.com/internacional/20240617/9739365/putin-sigue-cambiando-la-cupula-de-defensa-echa-a-4-viceministros-y-asciende-a-un-familiar.html"
         ],
         "lat": [
          "49.0",
          "49.0"
         ],
         "legendgroup": "-2.07972270363951",
         "lon": [
          "32.0",
          "32.0"
         ],
         "marker": {
          "color": "#FF97FF",
          "symbol": "circle"
         },
         "mode": "markers",
         "name": "-2.07972270363951",
         "showlegend": true,
         "type": "scattergeo"
        },
        {
         "geo": "geo",
         "hovertemplate": "<b>%{hovertext}</b><br><br>AvgTone=-8.23045267489712<br>ActionGeo_Lat=%{lat}<br>ActionGeo_Long=%{lon}<extra></extra>",
         "hovertext": [
          "https://www.ekriti.gr/kosmos/ipa-19hronos-ellinikis-katagogis-skotose-toys-goneis-toy-kai-traymatise-astynomiko-prin-ton-skotosoyn",
          "https://www.ekriti.gr/kosmos/ipa-19hronos-ellinikis-katagogis-skotose-toys-goneis-toy-kai-traymatise-astynomiko-prin-ton-skotosoyn"
         ],
         "lat": [
          "39.0",
          "39.0"
         ],
         "legendgroup": "-8.23045267489712",
         "lon": [
          "22.0",
          "22.0"
         ],
         "marker": {
          "color": "#FECB52",
          "symbol": "circle"
         },
         "mode": "markers",
         "name": "-8.23045267489712",
         "showlegend": true,
         "type": "scattergeo"
        },
        {
         "geo": "geo",
         "hovertemplate": "<b>%{hovertext}</b><br><br>AvgTone=-0.72595281306715<br>ActionGeo_Lat=%{lat}<br>ActionGeo_Long=%{lon}<extra></extra>",
         "hovertext": [
          "https://www.nieuwsblad.be/cnt/dmf20240617_95861742",
          "https://www.nieuwsblad.be/cnt/dmf20240617_95861742",
          "https://www.nieuwsblad.be/cnt/dmf20240617_95861742"
         ],
         "lat": [
          "42.833333",
          "42.833333",
          "42.833333"
         ],
         "legendgroup": "-0.72595281306715",
         "lon": [
          "12.833333",
          "12.833333",
          "12.833333"
         ],
         "marker": {
          "color": "#636efa",
          "symbol": "circle"
         },
         "mode": "markers",
         "name": "-0.72595281306715",
         "showlegend": true,
         "type": "scattergeo"
        },
        {
         "geo": "geo",
         "hovertemplate": "<b>%{hovertext}</b><br><br>AvgTone=-1.41752577319587<br>ActionGeo_Lat=%{lat}<br>ActionGeo_Long=%{lon}<extra></extra>",
         "hovertext": [
          "https://www.jpost.com/diaspora/antisemitism/article-806611",
          "https://www.jpost.com/diaspora/antisemitism/article-806611",
          "https://www.jpost.com/diaspora/antisemitism/article-806611",
          "https://www.jpost.com/diaspora/antisemitism/article-806611"
         ],
         "lat": [
          "39.828175",
          "39.828175",
          "31.4167",
          "39.828175"
         ],
         "legendgroup": "-1.41752577319587",
         "lon": [
          "-98.5795",
          "-98.5795",
          "34.3333",
          "-98.5795"
         ],
         "marker": {
          "color": "#EF553B",
          "symbol": "circle"
         },
         "mode": "markers",
         "name": "-1.41752577319587",
         "showlegend": true,
         "type": "scattergeo"
        },
        {
         "geo": "geo",
         "hovertemplate": "<b>%{hovertext}</b><br><br>AvgTone=-4.22077922077922<br>ActionGeo_Lat=%{lat}<br>ActionGeo_Long=%{lon}<extra></extra>",
         "hovertext": [
          "https://www.m24.ru/news/proisshestviya/17062024/700846",
          "https://www.christianpost.com/news/3-plead-guilty-to-vandalizing-pro-life-pregnancy-centers.html"
         ],
         "lat": [
          "3.16667",
          "38.8951"
         ],
         "legendgroup": "-4.22077922077922",
         "lon": [
          "101.7",
          "-77.0364"
         ],
         "marker": {
          "color": "#00cc96",
          "symbol": "circle"
         },
         "mode": "markers",
         "name": "-4.22077922077922",
         "showlegend": true,
         "type": "scattergeo"
        },
        {
         "geo": "geo",
         "hovertemplate": "<b>%{hovertext}</b><br><br>AvgTone=3.15789473684211<br>ActionGeo_Lat=%{lat}<br>ActionGeo_Long=%{lon}<extra></extra>",
         "hovertext": [
          "https://aktuale.mk/putini-do-te-vizitoje-korene-e-veriut-pas-24-vjetesh/"
         ],
         "lat": [
          "37.0"
         ],
         "legendgroup": "3.15789473684211",
         "lon": [
          "127.5"
         ],
         "marker": {
          "color": "#ab63fa",
          "symbol": "circle"
         },
         "mode": "markers",
         "name": "3.15789473684211",
         "showlegend": true,
         "type": "scattergeo"
        },
        {
         "geo": "geo",
         "hovertemplate": "<b>%{hovertext}</b><br><br>AvgTone=2.77777777777778<br>ActionGeo_Lat=%{lat}<br>ActionGeo_Long=%{lon}<extra></extra>",
         "hovertext": [
          "https://formiche.net/2024/06/marco-rubio-vice-di-trump-casa-bianca/"
         ],
         "lat": [
          "27.8333"
         ],
         "legendgroup": "2.77777777777778",
         "lon": [
          "-81.717"
         ],
         "marker": {
          "color": "#FFA15A",
          "symbol": "circle"
         },
         "mode": "markers",
         "name": "2.77777777777778",
         "showlegend": true,
         "type": "scattergeo"
        },
        {
         "geo": "geo",
         "hovertemplate": "<b>%{hovertext}</b><br><br>AvgTone=-9.72696245733785<br>ActionGeo_Lat=%{lat}<br>ActionGeo_Long=%{lon}<extra></extra>",
         "hovertext": [
          "https://www.nbanews.net/mix/96494"
         ],
         "lat": [
          "39.828175"
         ],
         "legendgroup": "-9.72696245733785",
         "lon": [
          "-98.5795"
         ],
         "marker": {
          "color": "#19d3f3",
          "symbol": "circle"
         },
         "mode": "markers",
         "name": "-9.72696245733785",
         "showlegend": true,
         "type": "scattergeo"
        },
        {
         "geo": "geo",
         "hovertemplate": "<b>%{hovertext}</b><br><br>AvgTone=-8.02919708029197<br>ActionGeo_Lat=%{lat}<br>ActionGeo_Long=%{lon}<extra></extra>",
         "hovertext": [
          "https://pda.spb.kp.ru/online/news/5858456/",
          "https://pda.spb.kp.ru/online/news/5858456/"
         ],
         "lat": [
          "59.8944",
          "59.8944"
         ],
         "legendgroup": "-8.02919708029197",
         "lon": [
          "30.2642",
          "30.2642"
         ],
         "marker": {
          "color": "#FF6692",
          "symbol": "circle"
         },
         "mode": "markers",
         "name": "-8.02919708029197",
         "showlegend": true,
         "type": "scattergeo"
        },
        {
         "geo": "geo",
         "hovertemplate": "<b>%{hovertext}</b><br><br>AvgTone=0.15432098765432<br>ActionGeo_Lat=%{lat}<br>ActionGeo_Long=%{lon}<extra></extra>",
         "hovertext": [
          "https://diariodecuba.com/cuba/1718643099_55475.html"
         ],
         "lat": [
          "55.7522"
         ],
         "legendgroup": "0.15432098765432",
         "lon": [
          "37.6156"
         ],
         "marker": {
          "color": "#B6E880",
          "symbol": "circle"
         },
         "mode": "markers",
         "name": "0.15432098765432",
         "showlegend": true,
         "type": "scattergeo"
        },
        {
         "geo": "geo",
         "hovertemplate": "<b>%{hovertext}</b><br><br>AvgTone=-2.38393977415307<br>ActionGeo_Lat=%{lat}<br>ActionGeo_Long=%{lon}<extra></extra>",
         "hovertext": [
          "https://focus.ua/uk/politics/652761-vostannye-buvav-24-roki-tomu-putin-zavtra-vidvidaye-kndr-zmi",
          "https://focus.ua/uk/politics/652761-vostannye-buvav-24-roki-tomu-putin-zavtra-vidvidaye-kndr-zmi"
         ],
         "lat": [
          "38.8951",
          "38.8951"
         ],
         "legendgroup": "-2.38393977415307",
         "lon": [
          "-77.0364",
          "-77.0364"
         ],
         "marker": {
          "color": "#FF97FF",
          "symbol": "circle"
         },
         "mode": "markers",
         "name": "-2.38393977415307",
         "showlegend": true,
         "type": "scattergeo"
        },
        {
         "geo": "geo",
         "hovertemplate": "<b>%{hovertext}</b><br><br>AvgTone=1.76991150442478<br>ActionGeo_Lat=%{lat}<br>ActionGeo_Long=%{lon}<extra></extra>",
         "hovertext": [
          "https://www.m24.ru/news/vlast/17062024/700840",
          "https://rtl.hu/belfold/2024/06/17/magyar-peter-mcc-diak-foto-repter-brussel-neppart-tisza",
          "https://www.m24.ru/news/vlast/17062024/700840"
         ],
         "lat": [
          "37.0",
          "50.8333",
          "37.0"
         ],
         "legendgroup": "1.76991150442478",
         "lon": [
          "127.5",
          "4.33333",
          "127.5"
         ],
         "marker": {
          "color": "#FECB52",
          "symbol": "circle"
         },
         "mode": "markers",
         "name": "1.76991150442478",
         "showlegend": true,
         "type": "scattergeo"
        },
        {
         "geo": "geo",
         "hovertemplate": "<b>%{hovertext}</b><br><br>AvgTone=1.40148392415499<br>ActionGeo_Lat=%{lat}<br>ActionGeo_Long=%{lon}<extra></extra>",
         "hovertext": [
          "https://kathimerini.com.cy/gr/politiki/anakoinwthike-i-enarxi-stratigikoy-dialogoy-metaxy-ipa-kai-kd"
         ],
         "lat": [
          "35.0"
         ],
         "legendgroup": "1.40148392415499",
         "lon": [
          "33.0"
         ],
         "marker": {
          "color": "#636efa",
          "symbol": "circle"
         },
         "mode": "markers",
         "name": "1.40148392415499",
         "showlegend": true,
         "type": "scattergeo"
        },
        {
         "geo": "geo",
         "hovertemplate": "<b>%{hovertext}</b><br><br>AvgTone=0.55865921787709<br>ActionGeo_Lat=%{lat}<br>ActionGeo_Long=%{lon}<extra></extra>",
         "hovertext": [
          "https://vm.ru/news/1143248-eks-deputat-vlasov-zayavil-chto-zhirinovskij-zaveshal-naznachit-ego-glavoj-ldpr"
         ],
         "lat": [
          "31.5"
         ],
         "legendgroup": "0.55865921787709",
         "lon": [
          "34.75"
         ],
         "marker": {
          "color": "#EF553B",
          "symbol": "circle"
         },
         "mode": "markers",
         "name": "0.55865921787709",
         "showlegend": true,
         "type": "scattergeo"
        },
        {
         "geo": "geo",
         "hovertemplate": "<b>%{hovertext}</b><br><br>AvgTone=1.96671709531014<br>ActionGeo_Lat=%{lat}<br>ActionGeo_Long=%{lon}<extra></extra>",
         "hovertext": [
          "https://www.cnbc.com/2024/06/17/mcdonalds-to-end-ibm-ai-drive-thru-test.html",
          "https://www.cnbc.com/2024/06/17/mcdonalds-to-end-ibm-ai-drive-thru-test.html"
         ],
         "lat": [
          "41.3833",
          "41.3833"
         ],
         "legendgroup": "1.96671709531014",
         "lon": [
          "2.18333",
          "2.18333"
         ],
         "marker": {
          "color": "#00cc96",
          "symbol": "circle"
         },
         "mode": "markers",
         "name": "1.96671709531014",
         "showlegend": true,
         "type": "scattergeo"
        },
        {
         "geo": "geo",
         "hovertemplate": "<b>%{hovertext}</b><br><br>AvgTone=2.75103163686383<br>ActionGeo_Lat=%{lat}<br>ActionGeo_Long=%{lon}<extra></extra>",
         "hovertext": [
          "https://www.lapatilla.com/2024/06/17/putin-viaja-a-corea-del-norte-por-sellar-una-alianza-estrategica/"
         ],
         "lat": [
          "49.0"
         ],
         "legendgroup": "2.75103163686383",
         "lon": [
          "32.0"
         ],
         "marker": {
          "color": "#ab63fa",
          "symbol": "circle"
         },
         "mode": "markers",
         "name": "2.75103163686383",
         "showlegend": true,
         "type": "scattergeo"
        },
        {
         "geo": "geo",
         "hovertemplate": "<b>%{hovertext}</b><br><br>AvgTone=-4.75<br>ActionGeo_Lat=%{lat}<br>ActionGeo_Long=%{lon}<extra></extra>",
         "hovertext": [
          "https://www.vg.hu/kozelet/2024/06/vadaszgepek-ukrajna",
          "https://www.vg.hu/kozelet/2024/06/vadaszgepek-ukrajna"
         ],
         "lat": [
          "49.0",
          "49.0"
         ],
         "legendgroup": "-4.75",
         "lon": [
          "32.0",
          "32.0"
         ],
         "marker": {
          "color": "#FFA15A",
          "symbol": "circle"
         },
         "mode": "markers",
         "name": "-4.75",
         "showlegend": true,
         "type": "scattergeo"
        },
        {
         "geo": "geo",
         "hovertemplate": "<b>%{hovertext}</b><br><br>AvgTone=-8.1447963800905<br>ActionGeo_Lat=%{lat}<br>ActionGeo_Long=%{lon}<extra></extra>",
         "hovertext": [
          "https://www.breitbart.com/politics/2024/06/16/australian-border-force-turns-back-boatload-of-chinese-nationals/",
          "https://www.breitbart.com/politics/2024/06/16/australian-border-force-turns-back-boatload-of-chinese-nationals/",
          "https://www.breitbart.com/politics/2024/06/16/australian-border-force-turns-back-boatload-of-chinese-nationals/"
         ],
         "lat": [
          "-17.3333",
          "-17.3333",
          "-17.3333"
         ],
         "legendgroup": "-8.1447963800905",
         "lon": [
          "119.167",
          "119.167",
          "119.167"
         ],
         "marker": {
          "color": "#19d3f3",
          "symbol": "circle"
         },
         "mode": "markers",
         "name": "-8.1447963800905",
         "showlegend": true,
         "type": "scattergeo"
        },
        {
         "geo": "geo",
         "hovertemplate": "<b>%{hovertext}</b><br><br>AvgTone=-1.25786163522013<br>ActionGeo_Lat=%{lat}<br>ActionGeo_Long=%{lon}<extra></extra>",
         "hovertext": [
          "https://www.comingsoon.net/tv/news/1768926-jamie-campbell-bower-stranger-things-season-5-netflix",
          "https://www.se.pl/olsztyn/zakaz-robienia-zdjec-na-granicy-z-rosja-turysci-ukarani-za-selfie-aa-gruH-QH9M-rWPJ.html"
         ],
         "lat": [
          "51.5",
          "57.1333"
         ],
         "legendgroup": "-1.25786163522013",
         "lon": [
          "-0.116667",
          "30.95"
         ],
         "marker": {
          "color": "#FF6692",
          "symbol": "circle"
         },
         "mode": "markers",
         "name": "-1.25786163522013",
         "showlegend": true,
         "type": "scattergeo"
        },
        {
         "geo": "geo",
         "hovertemplate": "<b>%{hovertext}</b><br><br>AvgTone=-0.24752475247525<br>ActionGeo_Lat=%{lat}<br>ActionGeo_Long=%{lon}<extra></extra>",
         "hovertext": [
          "https://www.ajc.com/news/nation-world/california-firefighters-gain-ground-against-big-wildfires-after-hot-windy-weekend/66PCN64ZGRGDZLZCZ6ATVSDLRY/"
         ],
         "lat": [
          "38.8476"
         ],
         "legendgroup": "-0.24752475247525",
         "lon": [
          "-120.141"
         ],
         "marker": {
          "color": "#B6E880",
          "symbol": "circle"
         },
         "mode": "markers",
         "name": "-0.24752475247525",
         "showlegend": true,
         "type": "scattergeo"
        },
        {
         "geo": "geo",
         "hovertemplate": "<b>%{hovertext}</b><br><br>AvgTone=-14.2372881355932<br>ActionGeo_Lat=%{lat}<br>ActionGeo_Long=%{lon}<extra></extra>",
         "hovertext": [
          "https://www.wdbj7.com/2024/06/17/13-people-arrested-gang-activity-during-operation-gang-green/",
          "https://www.wdbj7.com/2024/06/17/13-people-arrested-gang-activity-during-operation-gang-green/"
         ],
         "lat": [
          "37.4138",
          "37.4138"
         ],
         "legendgroup": "-14.2372881355932",
         "lon": [
          "-79.1423",
          "-79.1423"
         ],
         "marker": {
          "color": "#FF97FF",
          "symbol": "circle"
         },
         "mode": "markers",
         "name": "-14.2372881355932",
         "showlegend": true,
         "type": "scattergeo"
        },
        {
         "geo": "geo",
         "hovertemplate": "<b>%{hovertext}</b><br><br>AvgTone=4.39560439560439<br>ActionGeo_Lat=%{lat}<br>ActionGeo_Long=%{lon}<extra></extra>",
         "hovertext": [
          "https://article.wn.com/view/2024/06/17/Brexiteer_Farage_promises_tighter_borders_tax_cuts_Reform_to/",
          "https://article.wn.com/view/2024/06/17/Brexiteer_Farage_promises_tighter_borders_tax_cuts_Reform_to/",
          "https://article.wn.com/view/2024/06/17/Brexiteer_Farage_promises_tighter_borders_tax_cuts_Reform_to/"
         ],
         "lat": [
          "33.4148",
          "54.0",
          "33.4148"
         ],
         "legendgroup": "4.39560439560439",
         "lon": [
          "-111.909",
          "-4.0",
          "-111.909"
         ],
         "marker": {
          "color": "#FECB52",
          "symbol": "circle"
         },
         "mode": "markers",
         "name": "4.39560439560439",
         "showlegend": true,
         "type": "scattergeo"
        },
        {
         "geo": "geo",
         "hovertemplate": "<b>%{hovertext}</b><br><br>AvgTone=0.2808988764045<br>ActionGeo_Lat=%{lat}<br>ActionGeo_Long=%{lon}<extra></extra>",
         "hovertext": [
          "https://relix.com/news/detail/watch-chris-stapleton-welcomes-marcus-king-susan-tedeschi-and-derek-trucks-in-texas/",
          "https://relix.com/news/detail/watch-chris-stapleton-welcomes-marcus-king-susan-tedeschi-and-derek-trucks-in-texas/",
          "https://relix.com/news/detail/watch-chris-stapleton-welcomes-marcus-king-susan-tedeschi-and-derek-trucks-in-texas/"
         ],
         "lat": [
          "32.7357",
          "32.7357",
          "31.106"
         ],
         "legendgroup": "0.2808988764045",
         "lon": [
          "-97.1081",
          "-97.1081",
          "-97.6475"
         ],
         "marker": {
          "color": "#636efa",
          "symbol": "circle"
         },
         "mode": "markers",
         "name": "0.2808988764045",
         "showlegend": true,
         "type": "scattergeo"
        },
        {
         "geo": "geo",
         "hovertemplate": "<b>%{hovertext}</b><br><br>AvgTone=-2.0<br>ActionGeo_Lat=%{lat}<br>ActionGeo_Long=%{lon}<extra></extra>",
         "hovertext": [
          "https://www.usnews.com/news/top-news/articles/2024-06-17/biden-protections-for-lgbt-students-blocked-in-six-more-states",
          "https://www.usnews.com/news/top-news/articles/2024-06-17/biden-protections-for-lgbt-students-blocked-in-six-more-states",
          "https://www.usnews.com/news/top-news/articles/2024-06-17/biden-protections-for-lgbt-students-blocked-in-six-more-states"
         ],
         "lat": [
          "38.8862",
          "38.8862",
          "38.8862"
         ],
         "legendgroup": "-2.0",
         "lon": [
          "-77.0183",
          "-77.0183",
          "-77.0183"
         ],
         "marker": {
          "color": "#EF553B",
          "symbol": "circle"
         },
         "mode": "markers",
         "name": "-2.0",
         "showlegend": true,
         "type": "scattergeo"
        },
        {
         "geo": "geo",
         "hovertemplate": "<b>%{hovertext}</b><br><br>AvgTone=3.69127516778524<br>ActionGeo_Lat=%{lat}<br>ActionGeo_Long=%{lon}<extra></extra>",
         "hovertext": [
          "https://kfoxtv.com/news/local/pro-action-lands-20000-grant-boosting-immunization-work-in-el-paso-communities",
          "https://kfoxtv.com/news/local/pro-action-lands-20000-grant-boosting-immunization-work-in-el-paso-communities",
          "https://kfoxtv.com/news/local/pro-action-lands-20000-grant-boosting-immunization-work-in-el-paso-communities"
         ],
         "lat": [
          "31.7587",
          "31.7587",
          "31.7587"
         ],
         "legendgroup": "3.69127516778524",
         "lon": [
          "-106.487",
          "-106.487",
          "-106.487"
         ],
         "marker": {
          "color": "#00cc96",
          "symbol": "circle"
         },
         "mode": "markers",
         "name": "3.69127516778524",
         "showlegend": true,
         "type": "scattergeo"
        },
        {
         "geo": "geo",
         "hovertemplate": "<b>%{hovertext}</b><br><br>AvgTone=-1.98265179677819<br>ActionGeo_Lat=%{lat}<br>ActionGeo_Long=%{lon}<extra></extra>",
         "hovertext": [
          "https://www.foxbusiness.com/politics/kansas-sues-pfizer-over-misrepresentations-adverse-affects-covid-19-vaccine",
          "https://www.foxbusiness.com/politics/kansas-sues-pfizer-over-misrepresentations-adverse-affects-covid-19-vaccine",
          "https://www.foxbusiness.com/politics/kansas-sues-pfizer-over-misrepresentations-adverse-affects-covid-19-vaccine",
          "https://www.foxbusiness.com/politics/kansas-sues-pfizer-over-misrepresentations-adverse-affects-covid-19-vaccine",
          "https://www.foxbusiness.com/politics/kansas-sues-pfizer-over-misrepresentations-adverse-affects-covid-19-vaccine",
          "https://www.foxbusiness.com/politics/kansas-sues-pfizer-over-misrepresentations-adverse-affects-covid-19-vaccine",
          "https://www.foxbusiness.com/politics/kansas-sues-pfizer-over-misrepresentations-adverse-affects-covid-19-vaccine"
         ],
         "lat": [
          "38.5111",
          "39.35",
          "38.5111",
          "38.5111",
          "38.5111",
          "38.5111",
          "38.5111"
         ],
         "legendgroup": "-1.98265179677819",
         "lon": [
          "-96.8005",
          "-101.05",
          "-96.8005",
          "-96.8005",
          "-96.8005",
          "-96.8005",
          "-96.8005"
         ],
         "marker": {
          "color": "#ab63fa",
          "symbol": "circle"
         },
         "mode": "markers",
         "name": "-1.98265179677819",
         "showlegend": true,
         "type": "scattergeo"
        },
        {
         "geo": "geo",
         "hovertemplate": "<b>%{hovertext}</b><br><br>AvgTone=0.631578947368425<br>ActionGeo_Lat=%{lat}<br>ActionGeo_Long=%{lon}<extra></extra>",
         "hovertext": [
          "https://therealdeal.com/miami/2024/06/17/13th-floor-plans-124-unit-condo-development-in-coconut-creek/"
         ],
         "lat": [
          "26.3587"
         ],
         "legendgroup": "0.631578947368425",
         "lon": [
          "-80.0831"
         ],
         "marker": {
          "color": "#FFA15A",
          "symbol": "circle"
         },
         "mode": "markers",
         "name": "0.631578947368425",
         "showlegend": true,
         "type": "scattergeo"
        },
        {
         "geo": "geo",
         "hovertemplate": "<b>%{hovertext}</b><br><br>AvgTone=-9.83146067415732<br>ActionGeo_Lat=%{lat}<br>ActionGeo_Long=%{lon}<extra></extra>",
         "hovertext": [
          "https://www.fox35orlando.com/news/florida-mcdonalds-employee-shoots-gun-customers-over-drive-thru-dispute-police",
          "https://www.fox35orlando.com/news/florida-mcdonalds-employee-shoots-gun-customers-over-drive-thru-dispute-police",
          "https://www.fox35orlando.com/news/florida-mcdonalds-employee-shoots-gun-customers-over-drive-thru-dispute-police",
          "https://www.fox35orlando.com/news/florida-mcdonalds-employee-shoots-gun-customers-over-drive-thru-dispute-police"
         ],
         "lat": [
          "28.0395",
          "27.9586",
          "27.9586",
          "28.0395"
         ],
         "legendgroup": "-9.83146067415732",
         "lon": [
          "-81.9498",
          "-81.7081",
          "-81.7081",
          "-81.9498"
         ],
         "marker": {
          "color": "#19d3f3",
          "symbol": "circle"
         },
         "mode": "markers",
         "name": "-9.83146067415732",
         "showlegend": true,
         "type": "scattergeo"
        },
        {
         "geo": "geo",
         "hovertemplate": "<b>%{hovertext}</b><br><br>AvgTone=-2.77777777777777<br>ActionGeo_Lat=%{lat}<br>ActionGeo_Long=%{lon}<extra></extra>",
         "hovertext": [
          "https://www.yahoo.com/news/byron-donalds-clashes-nbc-host-153342840.html",
          "https://www.yahoo.com/news/byron-donalds-clashes-nbc-host-153342840.html",
          "https://www.yahoo.com/news/byron-donalds-clashes-nbc-host-153342840.html",
          "https://www.yahoo.com/news/byron-donalds-clashes-nbc-host-153342840.html"
         ],
         "lat": [
          "38.8951",
          "42.1497",
          "38.8951",
          "38.8951"
         ],
         "legendgroup": "-2.77777777777777",
         "lon": [
          "-77.0364",
          "-74.9384",
          "-77.0364",
          "-77.0364"
         ],
         "marker": {
          "color": "#FF6692",
          "symbol": "circle"
         },
         "mode": "markers",
         "name": "-2.77777777777777",
         "showlegend": true,
         "type": "scattergeo"
        },
        {
         "geo": "geo",
         "hovertemplate": "<b>%{hovertext}</b><br><br>AvgTone=0.791556728232191<br>ActionGeo_Lat=%{lat}<br>ActionGeo_Long=%{lon}<extra></extra>",
         "hovertext": [
          "https://www.tickerreport.com/banking-finance/12156821/vanguard-group-inc-boosts-position-in-abbott-laboratories-nyseabt.html"
         ],
         "lat": [
          "60.0"
         ],
         "legendgroup": "0.791556728232191",
         "lon": [
          "-96.0"
         ],
         "marker": {
          "color": "#B6E880",
          "symbol": "circle"
         },
         "mode": "markers",
         "name": "0.791556728232191",
         "showlegend": true,
         "type": "scattergeo"
        },
        {
         "geo": "geo",
         "hovertemplate": "<b>%{hovertext}</b><br><br>AvgTone=2.95489891135304<br>ActionGeo_Lat=%{lat}<br>ActionGeo_Long=%{lon}<extra></extra>",
         "hovertext": [
          "https://www.yahoo.com/news/york-city-chef-restaurateur-james-174541824.html",
          "https://www.yahoo.com/news/york-city-chef-restaurateur-james-174541824.html"
         ],
         "lat": [
          "40.7834",
          "42.1497"
         ],
         "legendgroup": "2.95489891135304",
         "lon": [
          "-73.9662",
          "-74.9384"
         ],
         "marker": {
          "color": "#FF97FF",
          "symbol": "circle"
         },
         "mode": "markers",
         "name": "2.95489891135304",
         "showlegend": true,
         "type": "scattergeo"
        },
        {
         "geo": "geo",
         "hovertemplate": "<b>%{hovertext}</b><br><br>AvgTone=-3.06878306878307<br>ActionGeo_Lat=%{lat}<br>ActionGeo_Long=%{lon}<extra></extra>",
         "hovertext": [
          "https://wibx950.com/stevens-swan-response-to-galime/"
         ],
         "lat": [
          "43.097"
         ],
         "legendgroup": "-3.06878306878307",
         "lon": [
          "-75.2279"
         ],
         "marker": {
          "color": "#FECB52",
          "symbol": "circle"
         },
         "mode": "markers",
         "name": "-3.06878306878307",
         "showlegend": true,
         "type": "scattergeo"
        },
        {
         "geo": "geo",
         "hovertemplate": "<b>%{hovertext}</b><br><br>AvgTone=0.91883614088821<br>ActionGeo_Lat=%{lat}<br>ActionGeo_Long=%{lon}<extra></extra>",
         "hovertext": [
          "https://finance.yahoo.com/news/exxon-mobil-corporation-xom-undervalued-174431488.html",
          "https://finance.yahoo.com/news/exxon-mobil-corporation-xom-undervalued-174431488.html"
         ],
         "lat": [
          "5.0",
          "5.0"
         ],
         "legendgroup": "0.91883614088821",
         "lon": [
          "-59.0",
          "-59.0"
         ],
         "marker": {
          "color": "#636efa",
          "symbol": "circle"
         },
         "mode": "markers",
         "name": "0.91883614088821",
         "showlegend": true,
         "type": "scattergeo"
        },
        {
         "geo": "geo",
         "hovertemplate": "<b>%{hovertext}</b><br><br>AvgTone=-5.41871921182266<br>ActionGeo_Lat=%{lat}<br>ActionGeo_Long=%{lon}<extra></extra>",
         "hovertext": [
          "https://finance.yahoo.com/news/elion-secures-81m-advance-antifungal-171544370.html"
         ],
         "lat": [
          "56.0"
         ],
         "legendgroup": "-5.41871921182266",
         "lon": [
          "10.0"
         ],
         "marker": {
          "color": "#EF553B",
          "symbol": "circle"
         },
         "mode": "markers",
         "name": "-5.41871921182266",
         "showlegend": true,
         "type": "scattergeo"
        },
        {
         "geo": "geo",
         "hovertemplate": "<b>%{hovertext}</b><br><br>AvgTone=-1.78837555886736<br>ActionGeo_Lat=%{lat}<br>ActionGeo_Long=%{lon}<extra></extra>",
         "hovertext": [
          "https://www.marketscreener.com/news/latest/States-sue-US-to-block-rule-that-oil-firms-guarantee-payment-to-dismantle-old-wells-46987742/",
          "https://www.marketscreener.com/news/latest/States-sue-US-to-block-rule-that-oil-firms-guarantee-payment-to-dismantle-old-wells-46987742/"
         ],
         "lat": [
          "29.7633",
          "29.1869"
         ],
         "legendgroup": "-1.78837555886736",
         "lon": [
          "-95.3633",
          "-89.9367"
         ],
         "marker": {
          "color": "#00cc96",
          "symbol": "circle"
         },
         "mode": "markers",
         "name": "-1.78837555886736",
         "showlegend": true,
         "type": "scattergeo"
        },
        {
         "geo": "geo",
         "hovertemplate": "<b>%{hovertext}</b><br><br>AvgTone=-3.54609929078014<br>ActionGeo_Lat=%{lat}<br>ActionGeo_Long=%{lon}<extra></extra>",
         "hovertext": [
          "https://jamanetwork.com/journals/jama/article-abstract/2820167"
         ],
         "lat": [
          "40.3363"
         ],
         "legendgroup": "-3.54609929078014",
         "lon": [
          "-89.0022"
         ],
         "marker": {
          "color": "#ab63fa",
          "symbol": "circle"
         },
         "mode": "markers",
         "name": "-3.54609929078014",
         "showlegend": true,
         "type": "scattergeo"
        },
        {
         "geo": "geo",
         "hovertemplate": "<b>%{hovertext}</b><br><br>AvgTone=-3.28638497652583<br>ActionGeo_Lat=%{lat}<br>ActionGeo_Long=%{lon}<extra></extra>",
         "hovertext": [
          "https://townhall.com/tipsheet/spencerbrown/2024/06/17/jen-psaki-agrees-to-transcribed-interview-on-afghanistan-withdrawal-but-theres-still-a-catch-n2640572",
          "https://townhall.com/tipsheet/spencerbrown/2024/06/17/jen-psaki-agrees-to-transcribed-interview-on-afghanistan-withdrawal-but-theres-still-a-catch-n2640572",
          "https://townhall.com/tipsheet/spencerbrown/2024/06/17/jen-psaki-agrees-to-transcribed-interview-on-afghanistan-withdrawal-but-theres-still-a-catch-n2640572",
          "https://townhall.com/tipsheet/spencerbrown/2024/06/17/jen-psaki-agrees-to-transcribed-interview-on-afghanistan-withdrawal-but-theres-still-a-catch-n2640572"
         ],
         "lat": [
          "33.0",
          "33.0",
          "38.8951",
          "38.8951"
         ],
         "legendgroup": "-3.28638497652583",
         "lon": [
          "66.0",
          "66.0",
          "-77.0364",
          "-77.0364"
         ],
         "marker": {
          "color": "#FFA15A",
          "symbol": "circle"
         },
         "mode": "markers",
         "name": "-3.28638497652583",
         "showlegend": true,
         "type": "scattergeo"
        },
        {
         "geo": "geo",
         "hovertemplate": "<b>%{hovertext}</b><br><br>AvgTone=-4.7871198568873<br>ActionGeo_Lat=%{lat}<br>ActionGeo_Long=%{lon}<extra></extra>",
         "hovertext": [
          "https://www.kob.com/news/business-money/new-jerseys-attorney-general-charges-an-influential-democratic-power-broker-with-racketeering/"
         ],
         "lat": [
          "40.314"
         ],
         "legendgroup": "-4.7871198568873",
         "lon": [
          "-74.5089"
         ],
         "marker": {
          "color": "#19d3f3",
          "symbol": "circle"
         },
         "mode": "markers",
         "name": "-4.7871198568873",
         "showlegend": true,
         "type": "scattergeo"
        },
        {
         "geo": "geo",
         "hovertemplate": "<b>%{hovertext}</b><br><br>AvgTone=-1.38888888888889<br>ActionGeo_Lat=%{lat}<br>ActionGeo_Long=%{lon}<extra></extra>",
         "hovertext": [
          "https://theweek.com/tech/google-seo-algorithm-leak",
          "https://theweek.com/tech/google-seo-algorithm-leak"
         ],
         "lat": [
          "42.1497",
          "42.1497"
         ],
         "legendgroup": "-1.38888888888889",
         "lon": [
          "-74.9384",
          "-74.9384"
         ],
         "marker": {
          "color": "#FF6692",
          "symbol": "circle"
         },
         "mode": "markers",
         "name": "-1.38888888888889",
         "showlegend": true,
         "type": "scattergeo"
        },
        {
         "geo": "geo",
         "hovertemplate": "<b>%{hovertext}</b><br><br>AvgTone=5.90551181102362<br>ActionGeo_Lat=%{lat}<br>ActionGeo_Long=%{lon}<extra></extra>",
         "hovertext": [
          "http://www.lmtonline.com/news/article/white-buffalo-yellowstone-prophecy-19518128.php"
         ],
         "lat": [
          "44.2853"
         ],
         "legendgroup": "5.90551181102362",
         "lon": [
          "-99.4632"
         ],
         "marker": {
          "color": "#B6E880",
          "symbol": "circle"
         },
         "mode": "markers",
         "name": "5.90551181102362",
         "showlegend": true,
         "type": "scattergeo"
        },
        {
         "geo": "geo",
         "hovertemplate": "<b>%{hovertext}</b><br><br>AvgTone=1.55844155844156<br>ActionGeo_Lat=%{lat}<br>ActionGeo_Long=%{lon}<extra></extra>",
         "hovertext": [
          "https://therealdeal.com/texas/houston/2024/06/17/skanskas-downtown-houston-office-tower-lures-another-tenant/"
         ],
         "lat": [
          "29.7633"
         ],
         "legendgroup": "1.55844155844156",
         "lon": [
          "-95.3633"
         ],
         "marker": {
          "color": "#FF97FF",
          "symbol": "circle"
         },
         "mode": "markers",
         "name": "1.55844155844156",
         "showlegend": true,
         "type": "scattergeo"
        },
        {
         "geo": "geo",
         "hovertemplate": "<b>%{hovertext}</b><br><br>AvgTone=-1.91740412979351<br>ActionGeo_Lat=%{lat}<br>ActionGeo_Long=%{lon}<extra></extra>",
         "hovertext": [
          "https://winnipegsun.com/entertainment/celebrity/armie-hammer-grateful-for-cannibal-rumours-that-killed-career",
          "https://winnipegsun.com/entertainment/celebrity/armie-hammer-grateful-for-cannibal-rumours-that-killed-career",
          "https://winnipegsun.com/entertainment/celebrity/armie-hammer-grateful-for-cannibal-rumours-that-killed-career"
         ],
         "lat": [
          "49.8833",
          "49.8833",
          "34.0983"
         ],
         "legendgroup": "-1.91740412979351",
         "lon": [
          "-97.1667",
          "-97.1667",
          "-118.327"
         ],
         "marker": {
          "color": "#FECB52",
          "symbol": "circle"
         },
         "mode": "markers",
         "name": "-1.91740412979351",
         "showlegend": true,
         "type": "scattergeo"
        },
        {
         "geo": "geo",
         "hovertemplate": "<b>%{hovertext}</b><br><br>AvgTone=-1.98863636363636<br>ActionGeo_Lat=%{lat}<br>ActionGeo_Long=%{lon}<extra></extra>",
         "hovertext": [
          "https://www.suasnews.com/2024/06/dont-panic-a-look-at-what-the-countering-ccp-drones-act-really-means-dji-ban/",
          "https://www.suasnews.com/2024/06/dont-panic-a-look-at-what-the-countering-ccp-drones-act-really-means-dji-ban/",
          "https://www.suasnews.com/2024/06/dont-panic-a-look-at-what-the-countering-ccp-drones-act-really-means-dji-ban/"
         ],
         "lat": [
          "60.0",
          "60.0",
          "60.0"
         ],
         "legendgroup": "-1.98863636363636",
         "lon": [
          "100.0",
          "100.0",
          "100.0"
         ],
         "marker": {
          "color": "#636efa",
          "symbol": "circle"
         },
         "mode": "markers",
         "name": "-1.98863636363636",
         "showlegend": true,
         "type": "scattergeo"
        },
        {
         "geo": "geo",
         "hovertemplate": "<b>%{hovertext}</b><br><br>AvgTone=3.19148936170213<br>ActionGeo_Lat=%{lat}<br>ActionGeo_Long=%{lon}<extra></extra>",
         "hovertext": [
          "http://www.hydrocarbonprocessing.com/news/2024/06/vast-and-mabanaft-advance-port-augusta-green-methanol-project-in-australia/"
         ],
         "lat": [
          "51.5"
         ],
         "legendgroup": "3.19148936170213",
         "lon": [
          "10.5"
         ],
         "marker": {
          "color": "#EF553B",
          "symbol": "circle"
         },
         "mode": "markers",
         "name": "3.19148936170213",
         "showlegend": true,
         "type": "scattergeo"
        },
        {
         "geo": "geo",
         "hovertemplate": "<b>%{hovertext}</b><br><br>AvgTone=2.71739130434782<br>ActionGeo_Lat=%{lat}<br>ActionGeo_Long=%{lon}<extra></extra>",
         "hovertext": [
          "https://www.animenewsnetwork.com/news/2024-06-17/i-was-reincarnated-as-the-7th-prince-anime-gets-2nd-season/.212025"
         ],
         "lat": [
          "36.0"
         ],
         "legendgroup": "2.71739130434782",
         "lon": [
          "138.0"
         ],
         "marker": {
          "color": "#00cc96",
          "symbol": "circle"
         },
         "mode": "markers",
         "name": "2.71739130434782",
         "showlegend": true,
         "type": "scattergeo"
        },
        {
         "geo": "geo",
         "hovertemplate": "<b>%{hovertext}</b><br><br>AvgTone=-5.8252427184466<br>ActionGeo_Lat=%{lat}<br>ActionGeo_Long=%{lon}<extra></extra>",
         "hovertext": [
          "https://www.spacewar.com/afp/240617171318.jb7azt6n.html",
          "https://www.spacewar.com/afp/240617171318.jb7azt6n.html"
         ],
         "lat": [
          "40.0",
          "40.0"
         ],
         "legendgroup": "-5.8252427184466",
         "lon": [
          "127.0",
          "127.0"
         ],
         "marker": {
          "color": "#ab63fa",
          "symbol": "circle"
         },
         "mode": "markers",
         "name": "-5.8252427184466",
         "showlegend": true,
         "type": "scattergeo"
        },
        {
         "geo": "geo",
         "hovertemplate": "<b>%{hovertext}</b><br><br>AvgTone=-7.35524256651017<br>ActionGeo_Lat=%{lat}<br>ActionGeo_Long=%{lon}<extra></extra>",
         "hovertext": [
          "https://mynewsla.com/crime/2024/06/17/sentencing-due-for-hairstylist-who-defrauded-malibu-eye-doctor/",
          "https://mynewsla.com/crime/2024/06/17/sentencing-due-for-hairstylist-who-defrauded-malibu-eye-doctor/",
          "https://mynewsla.com/crime/2024/06/17/sentencing-due-for-hairstylist-who-defrauded-malibu-eye-doctor/",
          "https://mynewsla.com/crime/2024/06/17/sentencing-due-for-hairstylist-who-defrauded-malibu-eye-doctor/",
          "https://mynewsla.com/crime/2024/06/17/sentencing-due-for-hairstylist-who-defrauded-malibu-eye-doctor/"
         ],
         "lat": [
          "25.6667",
          "25.6667",
          "25.6667",
          "25.6667",
          "25.6667"
         ],
         "legendgroup": "-7.35524256651017",
         "lon": [
          "-100.317",
          "-100.317",
          "-100.317",
          "-100.317",
          "-100.317"
         ],
         "marker": {
          "color": "#FFA15A",
          "symbol": "circle"
         },
         "mode": "markers",
         "name": "-7.35524256651017",
         "showlegend": true,
         "type": "scattergeo"
        },
        {
         "geo": "geo",
         "hovertemplate": "<b>%{hovertext}</b><br><br>AvgTone=-1.05263157894737<br>ActionGeo_Lat=%{lat}<br>ActionGeo_Long=%{lon}<extra></extra>",
         "hovertext": [
          "https://www.spacewar.com/afp/240617145924.dbif6qkv.html",
          "https://www.spacewar.com/afp/240617145924.dbif6qkv.html"
         ],
         "lat": [
          "50.4333",
          "50.4333"
         ],
         "legendgroup": "-1.05263157894737",
         "lon": [
          "30.5167",
          "30.5167"
         ],
         "marker": {
          "color": "#19d3f3",
          "symbol": "circle"
         },
         "mode": "markers",
         "name": "-1.05263157894737",
         "showlegend": true,
         "type": "scattergeo"
        },
        {
         "geo": "geo",
         "hovertemplate": "<b>%{hovertext}</b><br><br>AvgTone=0.81632653061224<br>ActionGeo_Lat=%{lat}<br>ActionGeo_Long=%{lon}<extra></extra>",
         "hovertext": [
          "https://www.marketscreener.com/quote/stock/THE-NEW-YORK-TIMES-COMPAN-13865/news/New-York-Times-Annie-Correal-Joins-Express-46987786/"
         ],
         "lat": [
          "40.0"
         ],
         "legendgroup": "0.81632653061224",
         "lon": [
          "-4.0"
         ],
         "marker": {
          "color": "#FF6692",
          "symbol": "circle"
         },
         "mode": "markers",
         "name": "0.81632653061224",
         "showlegend": true,
         "type": "scattergeo"
        },
        {
         "geo": "geo",
         "hovertemplate": "<b>%{hovertext}</b><br><br>AvgTone=-1.37703677347863<br>ActionGeo_Lat=%{lat}<br>ActionGeo_Long=%{lon}<extra></extra>",
         "hovertext": [
          "https://www.rferl.org/a/oil-tanker-russia-denmark-environment/32996655.html",
          "https://www.rferl.org/a/oil-tanker-russia-denmark-environment/32996655.html",
          "https://www.rferl.org/a/oil-tanker-russia-denmark-environment/32996655.html",
          "https://www.rferl.org/a/oil-tanker-russia-denmark-environment/32996655.html"
         ],
         "lat": [
          "49.0",
          "49.0",
          "49.0",
          "49.0"
         ],
         "legendgroup": "-1.37703677347863",
         "lon": [
          "32.0",
          "32.0",
          "32.0",
          "32.0"
         ],
         "marker": {
          "color": "#B6E880",
          "symbol": "circle"
         },
         "mode": "markers",
         "name": "-1.37703677347863",
         "showlegend": true,
         "type": "scattergeo"
        },
        {
         "geo": "geo",
         "hovertemplate": "<b>%{hovertext}</b><br><br>AvgTone=-1.37931034482759<br>ActionGeo_Lat=%{lat}<br>ActionGeo_Long=%{lon}<extra></extra>",
         "hovertext": [
          "https://www.wunc.org/show/due-south/2024-06-17/how-the-u-s-became-gun-country"
         ],
         "lat": [
          "39.828175"
         ],
         "legendgroup": "-1.37931034482759",
         "lon": [
          "-98.5795"
         ],
         "marker": {
          "color": "#FF97FF",
          "symbol": "circle"
         },
         "mode": "markers",
         "name": "-1.37931034482759",
         "showlegend": true,
         "type": "scattergeo"
        },
        {
         "geo": "geo",
         "hovertemplate": "<b>%{hovertext}</b><br><br>AvgTone=0.12674271229404<br>ActionGeo_Lat=%{lat}<br>ActionGeo_Long=%{lon}<extra></extra>",
         "hovertext": [
          "https://www.breitbart.com/politics/2024/06/17/exclusive-duke-buckner-black-community-realizing-they-were-better-with-trump/",
          "https://www.breitbart.com/politics/2024/06/17/exclusive-duke-buckner-black-community-realizing-they-were-better-with-trump/",
          "https://www.breitbart.com/politics/2024/06/17/exclusive-duke-buckner-black-community-realizing-they-were-better-with-trump/",
          "https://www.breitbart.com/politics/2024/06/17/exclusive-duke-buckner-black-community-realizing-they-were-better-with-trump/",
          "https://www.breitbart.com/politics/2024/06/17/exclusive-duke-buckner-black-community-realizing-they-were-better-with-trump/"
         ],
         "lat": [
          "38.8339",
          "39.0646",
          "39.0646",
          "38.8339",
          "38.8339"
         ],
         "legendgroup": "0.12674271229404",
         "lon": [
          "-104.821",
          "-105.327",
          "-105.327",
          "-104.821",
          "-104.821"
         ],
         "marker": {
          "color": "#FECB52",
          "symbol": "circle"
         },
         "mode": "markers",
         "name": "0.12674271229404",
         "showlegend": true,
         "type": "scattergeo"
        },
        {
         "geo": "geo",
         "hovertemplate": "<b>%{hovertext}</b><br><br>AvgTone=-8.16326530612247<br>ActionGeo_Lat=%{lat}<br>ActionGeo_Long=%{lon}<extra></extra>",
         "hovertext": [
          "https://www.greenfieldreporter.com/2024/06/17/adkins-how-much-longer-can-republicans-buy-this-martyrdom-act/"
         ],
         "lat": [
          "32.9866"
         ],
         "legendgroup": "-8.16326530612247",
         "lon": [
          "-83.6487"
         ],
         "marker": {
          "color": "#636efa",
          "symbol": "circle"
         },
         "mode": "markers",
         "name": "-8.16326530612247",
         "showlegend": true,
         "type": "scattergeo"
        },
        {
         "geo": "geo",
         "hovertemplate": "<b>%{hovertext}</b><br><br>AvgTone=3.44827586206897<br>ActionGeo_Lat=%{lat}<br>ActionGeo_Long=%{lon}<extra></extra>",
         "hovertext": [
          "http://www.myanmarmuslim.net/news/20240618595a599403.html"
         ],
         "lat": [
          "41.9"
         ],
         "legendgroup": "3.44827586206897",
         "lon": [
          "12.4833"
         ],
         "marker": {
          "color": "#EF553B",
          "symbol": "circle"
         },
         "mode": "markers",
         "name": "3.44827586206897",
         "showlegend": true,
         "type": "scattergeo"
        },
        {
         "geo": "geo",
         "hovertemplate": "<b>%{hovertext}</b><br><br>AvgTone=-11.4754098360656<br>ActionGeo_Lat=%{lat}<br>ActionGeo_Long=%{lon}<extra></extra>",
         "hovertext": [
          "https://www.wdam.com/2024/06/15/couple-accused-bringing-their-dead-5-month-old-baby-hospital-police-say/"
         ],
         "lat": [
          "32.7673"
         ],
         "legendgroup": "-11.4754098360656",
         "lon": [
          "-89.6812"
         ],
         "marker": {
          "color": "#00cc96",
          "symbol": "circle"
         },
         "mode": "markers",
         "name": "-11.4754098360656",
         "showlegend": true,
         "type": "scattergeo"
        },
        {
         "geo": "geo",
         "hovertemplate": "<b>%{hovertext}</b><br><br>AvgTone=-3.13315926892951<br>ActionGeo_Lat=%{lat}<br>ActionGeo_Long=%{lon}<extra></extra>",
         "hovertext": [
          "https://9to5mac.com/2024/06/17/social-media-apps-may-gain-tobacco-style-warning-labels/"
         ],
         "lat": [
          "42.1497"
         ],
         "legendgroup": "-3.13315926892951",
         "lon": [
          "-74.9384"
         ],
         "marker": {
          "color": "#ab63fa",
          "symbol": "circle"
         },
         "mode": "markers",
         "name": "-3.13315926892951",
         "showlegend": true,
         "type": "scattergeo"
        },
        {
         "geo": "geo",
         "hovertemplate": "<b>%{hovertext}</b><br><br>AvgTone=-4.79616306954436<br>ActionGeo_Lat=%{lat}<br>ActionGeo_Long=%{lon}<extra></extra>",
         "hovertext": [
          "https://www.wnep.com/article/news/local/willoughby-hills-firefighter-prevents-ambulance-theft-lake-county/95-d012d22b-9f5a-480d-ba33-62c1dbd4c111",
          "https://www.wnep.com/article/news/local/willoughby-hills-firefighter-prevents-ambulance-theft-lake-county/95-d012d22b-9f5a-480d-ba33-62c1dbd4c111",
          "https://www.wnep.com/article/news/local/willoughby-hills-firefighter-prevents-ambulance-theft-lake-county/95-d012d22b-9f5a-480d-ba33-62c1dbd4c111"
         ],
         "lat": [
          "41.5984",
          "41.5984",
          "41.5984"
         ],
         "legendgroup": "-4.79616306954436",
         "lon": [
          "-81.4184",
          "-81.4184",
          "-81.4184"
         ],
         "marker": {
          "color": "#FFA15A",
          "symbol": "circle"
         },
         "mode": "markers",
         "name": "-4.79616306954436",
         "showlegend": true,
         "type": "scattergeo"
        },
        {
         "geo": "geo",
         "hovertemplate": "<b>%{hovertext}</b><br><br>AvgTone=-0.51282051282051<br>ActionGeo_Lat=%{lat}<br>ActionGeo_Long=%{lon}<extra></extra>",
         "hovertext": [
          "https://pronedra.ru/phg-evropy-zapolneny-gazom-bolee-chem-na-73-732020.html"
         ],
         "lat": [
          "60.0"
         ],
         "legendgroup": "-0.51282051282051",
         "lon": [
          "100.0"
         ],
         "marker": {
          "color": "#19d3f3",
          "symbol": "circle"
         },
         "mode": "markers",
         "name": "-0.51282051282051",
         "showlegend": true,
         "type": "scattergeo"
        },
        {
         "geo": "geo",
         "hovertemplate": "<b>%{hovertext}</b><br><br>AvgTone=-2.38726790450928<br>ActionGeo_Lat=%{lat}<br>ActionGeo_Long=%{lon}<extra></extra>",
         "hovertext": [
          "https://www.theguardian.com/us-news/article/2024/jun/17/military-veteran-comes-out-gay-obituary"
         ],
         "lat": [
          "16.166667"
         ],
         "legendgroup": "-2.38726790450928",
         "lon": [
          "107.833333"
         ],
         "marker": {
          "color": "#FF6692",
          "symbol": "circle"
         },
         "mode": "markers",
         "name": "-2.38726790450928",
         "showlegend": true,
         "type": "scattergeo"
        },
        {
         "geo": "geo",
         "hovertemplate": "<b>%{hovertext}</b><br><br>AvgTone=-1.48883374689826<br>ActionGeo_Lat=%{lat}<br>ActionGeo_Long=%{lon}<extra></extra>",
         "hovertext": [
          "https://www.crhoy.com/nacionales/jerarca-de-seguridad-30-nacionalizados-tienen-juicios-pendientes/"
         ],
         "lat": [
          "10.0"
         ],
         "legendgroup": "-1.48883374689826",
         "lon": [
          "-84.0"
         ],
         "marker": {
          "color": "#B6E880",
          "symbol": "circle"
         },
         "mode": "markers",
         "name": "-1.48883374689826",
         "showlegend": true,
         "type": "scattergeo"
        },
        {
         "geo": "geo",
         "hovertemplate": "<b>%{hovertext}</b><br><br>AvgTone=-12.8712871287129<br>ActionGeo_Lat=%{lat}<br>ActionGeo_Long=%{lon}<extra></extra>",
         "hovertext": [
          "https://www.vesti.ru/article/4003744"
         ],
         "lat": [
          null
         ],
         "legendgroup": "-12.8712871287129",
         "lon": [
          null
         ],
         "marker": {
          "color": "#FF97FF",
          "symbol": "circle"
         },
         "mode": "markers",
         "name": "-12.8712871287129",
         "showlegend": true,
         "type": "scattergeo"
        },
        {
         "geo": "geo",
         "hovertemplate": "<b>%{hovertext}</b><br><br>AvgTone=3.24543610547667<br>ActionGeo_Lat=%{lat}<br>ActionGeo_Long=%{lon}<extra></extra>",
         "hovertext": [
          "https://www.ladowntownnews.com/entertainment/wine-and-soul-jaccc-hosts-first-annual-2024-nikkei-wine-summit/article_3d46253c-2cda-11ef-9f55-4bfda8f933d8.html"
         ],
         "lat": [
          "34.0478"
         ],
         "legendgroup": "3.24543610547667",
         "lon": [
          "-118.241"
         ],
         "marker": {
          "color": "#FECB52",
          "symbol": "circle"
         },
         "mode": "markers",
         "name": "3.24543610547667",
         "showlegend": true,
         "type": "scattergeo"
        },
        {
         "geo": "geo",
         "hovertemplate": "<b>%{hovertext}</b><br><br>AvgTone=1.8348623853211<br>ActionGeo_Lat=%{lat}<br>ActionGeo_Long=%{lon}<extra></extra>",
         "hovertext": [
          "https://www.dw.com/es/otan-el-camino-hacia-la-paz-implica-m%C3%A1s-armas-para-ucrania/a-69392368"
         ],
         "lat": [
          "60.0"
         ],
         "legendgroup": "1.8348623853211",
         "lon": [
          "-96.0"
         ],
         "marker": {
          "color": "#636efa",
          "symbol": "circle"
         },
         "mode": "markers",
         "name": "1.8348623853211",
         "showlegend": true,
         "type": "scattergeo"
        },
        {
         "geo": "geo",
         "hovertemplate": "<b>%{hovertext}</b><br><br>AvgTone=-4.52127659574468<br>ActionGeo_Lat=%{lat}<br>ActionGeo_Long=%{lon}<extra></extra>",
         "hovertext": [
          "https://www.zonebourse.com/cours/action/PFIZER-INC-23365019/actualite/Le-Kansas-accuse-Pfizer-d-avoir-trompe-le-public-sur-le-vaccin-COVID-dans-un-proces-46987962/"
         ],
         "lat": [
          "51.5"
         ],
         "legendgroup": "-4.52127659574468",
         "lon": [
          "10.5"
         ],
         "marker": {
          "color": "#EF553B",
          "symbol": "circle"
         },
         "mode": "markers",
         "name": "-4.52127659574468",
         "showlegend": true,
         "type": "scattergeo"
        },
        {
         "geo": "geo",
         "hovertemplate": "<b>%{hovertext}</b><br><br>AvgTone=-7.35294117647059<br>ActionGeo_Lat=%{lat}<br>ActionGeo_Long=%{lon}<extra></extra>",
         "hovertext": [
          "https://naslovi.net/2024-06-17/al-jazeera/kremlj-stoltenbergova-izjava-o-nuklearnom-oruzju-eskalacija-napetosti/36920810",
          "https://naslovi.net/2024-06-17/al-jazeera/kremlj-stoltenbergova-izjava-o-nuklearnom-oruzju-eskalacija-napetosti/36920810",
          "https://naslovi.net/2024-06-17/al-jazeera/kremlj-stoltenbergova-izjava-o-nuklearnom-oruzju-eskalacija-napetosti/36920810"
         ],
         "lat": [
          "55.7522",
          "54.0",
          "55.7522"
         ],
         "legendgroup": "-7.35294117647059",
         "lon": [
          "37.6156",
          "-4.0",
          "37.6156"
         ],
         "marker": {
          "color": "#00cc96",
          "symbol": "circle"
         },
         "mode": "markers",
         "name": "-7.35294117647059",
         "showlegend": true,
         "type": "scattergeo"
        },
        {
         "geo": "geo",
         "hovertemplate": "<b>%{hovertext}</b><br><br>AvgTone=2.01183431952662<br>ActionGeo_Lat=%{lat}<br>ActionGeo_Long=%{lon}<extra></extra>",
         "hovertext": [
          "https://www.trendencias.com/sexo-y-relaciones/este-arte-japones-milenario-secreto-parejas-felices"
         ],
         "lat": [
          "36.0"
         ],
         "legendgroup": "2.01183431952662",
         "lon": [
          "138.0"
         ],
         "marker": {
          "color": "#ab63fa",
          "symbol": "circle"
         },
         "mode": "markers",
         "name": "2.01183431952662",
         "showlegend": true,
         "type": "scattergeo"
        },
        {
         "geo": "geo",
         "hovertemplate": "<b>%{hovertext}</b><br><br>AvgTone=-2.65151515151515<br>ActionGeo_Lat=%{lat}<br>ActionGeo_Long=%{lon}<extra></extra>",
         "hovertext": [
          "https://news.liga.net/politics/news/litva-fiksiruet-povyshennuyu-aktivnost-rossiyskoy-aviatsii-na-fone-ucheniy-nato",
          "https://news.liga.net/politics/news/litva-fiksiruet-povyshennuyu-aktivnost-rossiyskoy-aviatsii-na-fone-ucheniy-nato"
         ],
         "lat": [
          "54.7065",
          "64.0"
         ],
         "legendgroup": "-2.65151515151515",
         "lon": [
          "20.511",
          "26.0"
         ],
         "marker": {
          "color": "#FFA15A",
          "symbol": "circle"
         },
         "mode": "markers",
         "name": "-2.65151515151515",
         "showlegend": true,
         "type": "scattergeo"
        },
        {
         "geo": "geo",
         "hovertemplate": "<b>%{hovertext}</b><br><br>AvgTone=-2.94117647058823<br>ActionGeo_Lat=%{lat}<br>ActionGeo_Long=%{lon}<extra></extra>",
         "hovertext": [
          "https://utro.life/news/showbiz/2024/06/17/1549692.shtml"
         ],
         "lat": [
          "60.0"
         ],
         "legendgroup": "-2.94117647058823",
         "lon": [
          "100.0"
         ],
         "marker": {
          "color": "#19d3f3",
          "symbol": "circle"
         },
         "mode": "markers",
         "name": "-2.94117647058823",
         "showlegend": true,
         "type": "scattergeo"
        },
        {
         "geo": "geo",
         "hovertemplate": "<b>%{hovertext}</b><br><br>AvgTone=-10.6884057971015<br>ActionGeo_Lat=%{lat}<br>ActionGeo_Long=%{lon}<extra></extra>",
         "hovertext": [
          "https://hannity.com/media-room/shut-down-the-border-illegal-migrant-arrested-for-murder-of-maryland-mother-conservatives-unload/"
         ],
         "lat": [
          "42.1497"
         ],
         "legendgroup": "-10.6884057971015",
         "lon": [
          "-74.9384"
         ],
         "marker": {
          "color": "#FF6692",
          "symbol": "circle"
         },
         "mode": "markers",
         "name": "-10.6884057971015",
         "showlegend": true,
         "type": "scattergeo"
        },
        {
         "geo": "geo",
         "hovertemplate": "<b>%{hovertext}</b><br><br>AvgTone=-9.70149253731346<br>ActionGeo_Lat=%{lat}<br>ActionGeo_Long=%{lon}<extra></extra>",
         "hovertext": [
          "https://bc.ctvnews.ca/2-hospitalized-after-targeted-shooting-in-victoria-1.6930073"
         ],
         "lat": [
          null
         ],
         "legendgroup": "-9.70149253731346",
         "lon": [
          null
         ],
         "marker": {
          "color": "#B6E880",
          "symbol": "circle"
         },
         "mode": "markers",
         "name": "-9.70149253731346",
         "showlegend": true,
         "type": "scattergeo"
        },
        {
         "geo": "geo",
         "hovertemplate": "<b>%{hovertext}</b><br><br>AvgTone=-5.4140127388535<br>ActionGeo_Lat=%{lat}<br>ActionGeo_Long=%{lon}<extra></extra>",
         "hovertext": [
          "https://www.nbcmiami.com/news/local/human-remains-found-amid-search-for-missing-family-in-pasco-county/3339372/"
         ],
         "lat": [
          "28.292"
         ],
         "legendgroup": "-5.4140127388535",
         "lon": [
          "-82.4165"
         ],
         "marker": {
          "color": "#FF97FF",
          "symbol": "circle"
         },
         "mode": "markers",
         "name": "-5.4140127388535",
         "showlegend": true,
         "type": "scattergeo"
        },
        {
         "geo": "geo",
         "hovertemplate": "<b>%{hovertext}</b><br><br>AvgTone=3.65682137834036<br>ActionGeo_Lat=%{lat}<br>ActionGeo_Long=%{lon}<extra></extra>",
         "hovertext": [
          "https://www.hellomagazine.com/healthandbeauty/mother-and-baby/683941/barack-obama-reveals-high-hopes-daughter-sasha-rare-tribute/"
         ],
         "lat": [
          "38.8951"
         ],
         "legendgroup": "3.65682137834036",
         "lon": [
          "-77.0364"
         ],
         "marker": {
          "color": "#FECB52",
          "symbol": "circle"
         },
         "mode": "markers",
         "name": "3.65682137834036",
         "showlegend": true,
         "type": "scattergeo"
        },
        {
         "geo": "geo",
         "hovertemplate": "<b>%{hovertext}</b><br><br>AvgTone=4.0<br>ActionGeo_Lat=%{lat}<br>ActionGeo_Long=%{lon}<extra></extra>",
         "hovertext": [
          "https://www.blackseanews.net/read/218655",
          "https://www.blackseanews.net/read/218655"
         ],
         "lat": [
          "39.828175",
          "39.828175"
         ],
         "legendgroup": "4.0",
         "lon": [
          "-98.5795",
          "-98.5795"
         ],
         "marker": {
          "color": "#636efa",
          "symbol": "circle"
         },
         "mode": "markers",
         "name": "4.0",
         "showlegend": true,
         "type": "scattergeo"
        },
        {
         "geo": "geo",
         "hovertemplate": "<b>%{hovertext}</b><br><br>AvgTone=-5.89225589225589<br>ActionGeo_Lat=%{lat}<br>ActionGeo_Long=%{lon}<extra></extra>",
         "hovertext": [
          "https://sputnikportal.rs/20240617/ukrajinski-lov-na-ruske-novinare--pokusaj-da-se-ubije-istina-olivera-ikodinovic-1173751590.html",
          "https://sputnikportal.rs/20240617/ukrajinski-lov-na-ruske-novinare--pokusaj-da-se-ubije-istina-olivera-ikodinovic-1173751590.html",
          "https://sputnikportal.rs/20240617/ukrajinski-lov-na-ruske-novinare--pokusaj-da-se-ubije-istina-olivera-ikodinovic-1173751590.html"
         ],
         "lat": [
          "55.7522",
          "50.4333",
          "55.7522"
         ],
         "legendgroup": "-5.89225589225589",
         "lon": [
          "37.6156",
          "30.5167",
          "37.6156"
         ],
         "marker": {
          "color": "#EF553B",
          "symbol": "circle"
         },
         "mode": "markers",
         "name": "-5.89225589225589",
         "showlegend": true,
         "type": "scattergeo"
        },
        {
         "geo": "geo",
         "hovertemplate": "<b>%{hovertext}</b><br><br>AvgTone=-4.75059382422803<br>ActionGeo_Lat=%{lat}<br>ActionGeo_Long=%{lon}<extra></extra>",
         "hovertext": [
          "https://24tv.ua/ru/rossijane-okruzhenii-volchanske-gde-prodvigajutsja-vsu-harkovshhine_n2577586"
         ],
         "lat": [
          "48.723"
         ],
         "legendgroup": "-4.75059382422803",
         "lon": [
          "37.5563"
         ],
         "marker": {
          "color": "#00cc96",
          "symbol": "circle"
         },
         "mode": "markers",
         "name": "-4.75059382422803",
         "showlegend": true,
         "type": "scattergeo"
        },
        {
         "geo": "geo",
         "hovertemplate": "<b>%{hovertext}</b><br><br>AvgTone=2.76243093922652<br>ActionGeo_Lat=%{lat}<br>ActionGeo_Long=%{lon}<extra></extra>",
         "hovertext": [
          "https://pda.kp.ru/online/news/5858448/"
         ],
         "lat": [
          "50.9265"
         ],
         "legendgroup": "2.76243093922652",
         "lon": [
          "38.971"
         ],
         "marker": {
          "color": "#ab63fa",
          "symbol": "circle"
         },
         "mode": "markers",
         "name": "2.76243093922652",
         "showlegend": true,
         "type": "scattergeo"
        },
        {
         "geo": "geo",
         "hovertemplate": "<b>%{hovertext}</b><br><br>AvgTone=-5.2734375<br>ActionGeo_Lat=%{lat}<br>ActionGeo_Long=%{lon}<extra></extra>",
         "hovertext": [
          "https://www.lsm.lv/raksts/zinas/arzemes/17.06.2024-krievija-turpina-plasu-uzbrukumu-ukrainai-pirms-rietumu-palidzibas-ierasanas-ipasi-smagas-kaujas-donbasa.a558348/"
         ],
         "lat": [
          "48.5"
         ],
         "legendgroup": "-5.2734375",
         "lon": [
          "38.5"
         ],
         "marker": {
          "color": "#FFA15A",
          "symbol": "circle"
         },
         "mode": "markers",
         "name": "-5.2734375",
         "showlegend": true,
         "type": "scattergeo"
        },
        {
         "geo": "geo",
         "hovertemplate": "<b>%{hovertext}</b><br><br>AvgTone=-1.4100185528757<br>ActionGeo_Lat=%{lat}<br>ActionGeo_Long=%{lon}<extra></extra>",
         "hovertext": [
          "https://www.delfi.lt/agro/kaimo-portretas/europos-ukininku-ateitis-miglota-ar-buvo-naudos-is-masiniu-protestu-120028035"
         ],
         "lat": [
          "56.0"
         ],
         "legendgroup": "-1.4100185528757",
         "lon": [
          "24.0"
         ],
         "marker": {
          "color": "#19d3f3",
          "symbol": "circle"
         },
         "mode": "markers",
         "name": "-1.4100185528757",
         "showlegend": true,
         "type": "scattergeo"
        },
        {
         "geo": "geo",
         "hovertemplate": "<b>%{hovertext}</b><br><br>AvgTone=-3.26340326340326<br>ActionGeo_Lat=%{lat}<br>ActionGeo_Long=%{lon}<extra></extra>",
         "hovertext": [
          "https://www.nrc.nl/nieuws/2024/06/17/voor-het-eerst-in-lange-tijd-dringt-oekraine-russische-troepen-terug-a4856695"
         ],
         "lat": [
          "55.7522"
         ],
         "legendgroup": "-3.26340326340326",
         "lon": [
          "37.6156"
         ],
         "marker": {
          "color": "#FF6692",
          "symbol": "circle"
         },
         "mode": "markers",
         "name": "-3.26340326340326",
         "showlegend": true,
         "type": "scattergeo"
        },
        {
         "geo": "geo",
         "hovertemplate": "<b>%{hovertext}</b><br><br>AvgTone=-5.37634408602151<br>ActionGeo_Lat=%{lat}<br>ActionGeo_Long=%{lon}<extra></extra>",
         "hovertext": [
          "https://pda.yar.kp.ru/online/news/5858018/"
         ],
         "lat": [
          null
         ],
         "legendgroup": "-5.37634408602151",
         "lon": [
          null
         ],
         "marker": {
          "color": "#B6E880",
          "symbol": "circle"
         },
         "mode": "markers",
         "name": "-5.37634408602151",
         "showlegend": true,
         "type": "scattergeo"
        },
        {
         "geo": "geo",
         "hovertemplate": "<b>%{hovertext}</b><br><br>AvgTone=-0.589970501474922<br>ActionGeo_Lat=%{lat}<br>ActionGeo_Long=%{lon}<extra></extra>",
         "hovertext": [
          "https://larepublica.pe/mundo/2024/06/17/el-pais-donde-habitaron-los-primeros-humanos-de-sudamerica-y-superaria-a-peru-por-casi-10000-anos-tierra-311678"
         ],
         "lat": [
          "-17.9947"
         ],
         "legendgroup": "-0.589970501474922",
         "lon": [
          "-70.2411"
         ],
         "marker": {
          "color": "#FF97FF",
          "symbol": "circle"
         },
         "mode": "markers",
         "name": "-0.589970501474922",
         "showlegend": true,
         "type": "scattergeo"
        },
        {
         "geo": "geo",
         "hovertemplate": "<b>%{hovertext}</b><br><br>AvgTone=1.9551466359977<br>ActionGeo_Lat=%{lat}<br>ActionGeo_Long=%{lon}<extra></extra>",
         "hovertext": [
          "https://portal-kultura.ru/articles/history/362008-lepit-rukoy-a-ne-stekoy-k-svoim-skulpturam-anna-golubkina-byla-bezzhalostna/"
         ],
         "lat": [
          "15.0"
         ],
         "legendgroup": "1.9551466359977",
         "lon": [
          "19.0"
         ],
         "marker": {
          "color": "#FECB52",
          "symbol": "circle"
         },
         "mode": "markers",
         "name": "1.9551466359977",
         "showlegend": true,
         "type": "scattergeo"
        },
        {
         "geo": "geo",
         "hovertemplate": "<b>%{hovertext}</b><br><br>AvgTone=-0.98360655737705<br>ActionGeo_Lat=%{lat}<br>ActionGeo_Long=%{lon}<extra></extra>",
         "hovertext": [
          "https://www.ledevoir.com/politique/canada/815005/ottawa-etait-bien-fait-presence-russes-cuba",
          "https://www.ledevoir.com/politique/canada/815005/ottawa-etait-bien-fait-presence-russes-cuba"
         ],
         "lat": [
          "60.0",
          "60.0"
         ],
         "legendgroup": "-0.98360655737705",
         "lon": [
          "100.0",
          "-96.0"
         ],
         "marker": {
          "color": "#636efa",
          "symbol": "circle"
         },
         "mode": "markers",
         "name": "-0.98360655737705",
         "showlegend": true,
         "type": "scattergeo"
        },
        {
         "geo": "geo",
         "hovertemplate": "<b>%{hovertext}</b><br><br>AvgTone=-0.77237619263971<br>ActionGeo_Lat=%{lat}<br>ActionGeo_Long=%{lon}<extra></extra>",
         "hovertext": [
          "https://www.ng.ru/health/2024-06-17/7_9029_moscow.html"
         ],
         "lat": [
          "50.2896"
         ],
         "legendgroup": "-0.77237619263971",
         "lon": [
          "42.1845"
         ],
         "marker": {
          "color": "#EF553B",
          "symbol": "circle"
         },
         "mode": "markers",
         "name": "-0.77237619263971",
         "showlegend": true,
         "type": "scattergeo"
        },
        {
         "geo": "geo",
         "hovertemplate": "<b>%{hovertext}</b><br><br>AvgTone=1.15942028985508<br>ActionGeo_Lat=%{lat}<br>ActionGeo_Long=%{lon}<extra></extra>",
         "hovertext": [
          "https://www.newsandstar.co.uk/news/24392790.tesco-express-move-house-fraser-unit-carlisle/"
         ],
         "lat": [
          null
         ],
         "legendgroup": "1.15942028985508",
         "lon": [
          null
         ],
         "marker": {
          "color": "#00cc96",
          "symbol": "circle"
         },
         "mode": "markers",
         "name": "1.15942028985508",
         "showlegend": true,
         "type": "scattergeo"
        },
        {
         "geo": "geo",
         "hovertemplate": "<b>%{hovertext}</b><br><br>AvgTone=-8.20895522388059<br>ActionGeo_Lat=%{lat}<br>ActionGeo_Long=%{lon}<extra></extra>",
         "hovertext": [
          "https://www.onalert.gr/kosmos/oykrania-dodeka-traymaties-kai-diakopes-stin-ilektrodotisi-apo-rosiki-pyrayliki-epithesi-stin-periochi-poltava/578809/"
         ],
         "lat": [
          "60.0"
         ],
         "legendgroup": "-8.20895522388059",
         "lon": [
          "100.0"
         ],
         "marker": {
          "color": "#ab63fa",
          "symbol": "circle"
         },
         "mode": "markers",
         "name": "-8.20895522388059",
         "showlegend": true,
         "type": "scattergeo"
        },
        {
         "geo": "geo",
         "hovertemplate": "<b>%{hovertext}</b><br><br>AvgTone=-2.07939508506616<br>ActionGeo_Lat=%{lat}<br>ActionGeo_Long=%{lon}<extra></extra>",
         "hovertext": [
          "https://www.infosecurity-magazine.com/news/testing-benchmark-llm-cyber-threat/"
         ],
         "lat": [
          null
         ],
         "legendgroup": "-2.07939508506616",
         "lon": [
          null
         ],
         "marker": {
          "color": "#FFA15A",
          "symbol": "circle"
         },
         "mode": "markers",
         "name": "-2.07939508506616",
         "showlegend": true,
         "type": "scattergeo"
        },
        {
         "geo": "geo",
         "hovertemplate": "<b>%{hovertext}</b><br><br>AvgTone=-8.26901874310912<br>ActionGeo_Lat=%{lat}<br>ActionGeo_Long=%{lon}<extra></extra>",
         "hovertext": [
          "https://www.labonline.com.au/content/life-scientist/article/exposure-to-air-pollution-linked-with-poor-mental-health-1134714721"
         ],
         "lat": [
          "51.45"
         ],
         "legendgroup": "-8.26901874310912",
         "lon": [
          "-2.58333"
         ],
         "marker": {
          "color": "#19d3f3",
          "symbol": "circle"
         },
         "mode": "markers",
         "name": "-8.26901874310912",
         "showlegend": true,
         "type": "scattergeo"
        },
        {
         "geo": "geo",
         "hovertemplate": "<b>%{hovertext}</b><br><br>AvgTone=0.16155088852988<br>ActionGeo_Lat=%{lat}<br>ActionGeo_Long=%{lon}<extra></extra>",
         "hovertext": [
          "https://www.ng.ru/politics/2024-06-17/2_9029_putin.html"
         ],
         "lat": [
          "55.7522"
         ],
         "legendgroup": "0.16155088852988",
         "lon": [
          "37.6156"
         ],
         "marker": {
          "color": "#FF6692",
          "symbol": "circle"
         },
         "mode": "markers",
         "name": "0.16155088852988",
         "showlegend": true,
         "type": "scattergeo"
        },
        {
         "geo": "geo",
         "hovertemplate": "<b>%{hovertext}</b><br><br>AvgTone=-13.7440758293839<br>ActionGeo_Lat=%{lat}<br>ActionGeo_Long=%{lon}<extra></extra>",
         "hovertext": [
          "https://www.fox4news.com/news/21-year-old-passenger-killed-after-accused-drunken-driver-crashes-arlington-police-say"
         ],
         "lat": [
          "32.7357"
         ],
         "legendgroup": "-13.7440758293839",
         "lon": [
          "-97.1081"
         ],
         "marker": {
          "color": "#B6E880",
          "symbol": "circle"
         },
         "mode": "markers",
         "name": "-13.7440758293839",
         "showlegend": true,
         "type": "scattergeo"
        },
        {
         "geo": "geo",
         "hovertemplate": "<b>%{hovertext}</b><br><br>AvgTone=-0.27829313543599<br>ActionGeo_Lat=%{lat}<br>ActionGeo_Long=%{lon}<extra></extra>",
         "hovertext": [
          "https://www.washingtonexaminer.com/daily-on-energy/3048009/daily-on-energy-chinas-years-ahead-on-nuclear-the-improving-relationship-with-saudi-arabia-and-apis-wishlist/",
          "https://www.washingtonexaminer.com/daily-on-energy/3048009/daily-on-energy-chinas-years-ahead-on-nuclear-the-improving-relationship-with-saudi-arabia-and-apis-wishlist/",
          "https://www.washingtonexaminer.com/daily-on-energy/3048009/daily-on-energy-chinas-years-ahead-on-nuclear-the-improving-relationship-with-saudi-arabia-and-apis-wishlist/",
          "https://www.washingtonexaminer.com/daily-on-energy/3048009/daily-on-energy-chinas-years-ahead-on-nuclear-the-improving-relationship-with-saudi-arabia-and-apis-wishlist/",
          "https://www.washingtonexaminer.com/daily-on-energy/3048009/daily-on-energy-chinas-years-ahead-on-nuclear-the-improving-relationship-with-saudi-arabia-and-apis-wishlist/",
          "https://www.washingtonexaminer.com/daily-on-energy/3048009/daily-on-energy-chinas-years-ahead-on-nuclear-the-improving-relationship-with-saudi-arabia-and-apis-wishlist/",
          "https://www.washingtonexaminer.com/daily-on-energy/3048009/daily-on-energy-chinas-years-ahead-on-nuclear-the-improving-relationship-with-saudi-arabia-and-apis-wishlist/"
         ],
         "lat": [
          "38.8773",
          "38.8951",
          "38.8951",
          "38.8951",
          "38.8951",
          "31.106",
          "31.106"
         ],
         "legendgroup": "-0.27829313543599",
         "lon": [
          "-77.0178",
          "-77.0364",
          "-77.0364",
          "-77.0364",
          "-77.0364",
          "-97.6475",
          "-97.6475"
         ],
         "marker": {
          "color": "#FF97FF",
          "symbol": "circle"
         },
         "mode": "markers",
         "name": "-0.27829313543599",
         "showlegend": true,
         "type": "scattergeo"
        },
        {
         "geo": "geo",
         "hovertemplate": "<b>%{hovertext}</b><br><br>AvgTone=-6.36363636363636<br>ActionGeo_Lat=%{lat}<br>ActionGeo_Long=%{lon}<extra></extra>",
         "hovertext": [
          "https://www.dailymail.co.uk/news/article-13538675/police-stop-terrified-elderly-woman-depositing-cash-Bitcoin-ATM-scam.html",
          "https://www.dailymail.co.uk/news/article-13538675/police-stop-terrified-elderly-woman-depositing-cash-Bitcoin-ATM-scam.html",
          "https://www.dailymail.co.uk/news/article-13538675/police-stop-terrified-elderly-woman-depositing-cash-Bitcoin-ATM-scam.html"
         ],
         "lat": [
          "32.7596",
          "32.7596",
          "32.7596"
         ],
         "legendgroup": "-6.36363636363636",
         "lon": [
          "-97.4584",
          "-97.4584",
          "-97.4584"
         ],
         "marker": {
          "color": "#FECB52",
          "symbol": "circle"
         },
         "mode": "markers",
         "name": "-6.36363636363636",
         "showlegend": true,
         "type": "scattergeo"
        },
        {
         "geo": "geo",
         "hovertemplate": "<b>%{hovertext}</b><br><br>AvgTone=1.43415906127771<br>ActionGeo_Lat=%{lat}<br>ActionGeo_Long=%{lon}<extra></extra>",
         "hovertext": [
          "https://www.gpb.org/news/2024/06/17/georgia-trend-talks-film-production-and-economic-growth-surge-in-douglas-county",
          "https://www.gpb.org/news/2024/06/17/georgia-trend-talks-film-production-and-economic-growth-surge-in-douglas-county",
          "https://www.gpb.org/news/2024/06/17/georgia-trend-talks-film-production-and-economic-growth-surge-in-douglas-county"
         ],
         "lat": [
          "33.7001",
          "33.7001",
          "32.9866"
         ],
         "legendgroup": "1.43415906127771",
         "lon": [
          "-84.7499",
          "-84.7499",
          "-83.6487"
         ],
         "marker": {
          "color": "#636efa",
          "symbol": "circle"
         },
         "mode": "markers",
         "name": "1.43415906127771",
         "showlegend": true,
         "type": "scattergeo"
        },
        {
         "geo": "geo",
         "hovertemplate": "<b>%{hovertext}</b><br><br>AvgTone=-1.40845070422536<br>ActionGeo_Lat=%{lat}<br>ActionGeo_Long=%{lon}<extra></extra>",
         "hovertext": [
          "https://www.usnews.com/news/best-states/new-york/articles/2024-06-17/gamestop-shares-slump-following-annual-shareholder-meeting"
         ],
         "lat": [
          "48.8667"
         ],
         "legendgroup": "-1.40845070422536",
         "lon": [
          "2.33333"
         ],
         "marker": {
          "color": "#EF553B",
          "symbol": "circle"
         },
         "mode": "markers",
         "name": "-1.40845070422536",
         "showlegend": true,
         "type": "scattergeo"
        },
        {
         "geo": "geo",
         "hovertemplate": "<b>%{hovertext}</b><br><br>AvgTone=-11.0679611650486<br>ActionGeo_Lat=%{lat}<br>ActionGeo_Long=%{lon}<extra></extra>",
         "hovertext": [
          "https://www.usnews.com/news/top-news/articles/2024-06-17/accused-lookout-in-gangster-whitey-bulgers-killing-avoids-further-prison",
          "https://www.usnews.com/news/top-news/articles/2024-06-17/accused-lookout-in-gangster-whitey-bulgers-killing-avoids-further-prison",
          "https://www.usnews.com/news/top-news/articles/2024-06-17/accused-lookout-in-gangster-whitey-bulgers-killing-avoids-further-prison"
         ],
         "lat": [
          "29.2497",
          "29.2497",
          "29.2497"
         ],
         "legendgroup": "-11.0679611650486",
         "lon": [
          "-82.0415",
          "-82.0415",
          "-82.0415"
         ],
         "marker": {
          "color": "#00cc96",
          "symbol": "circle"
         },
         "mode": "markers",
         "name": "-11.0679611650486",
         "showlegend": true,
         "type": "scattergeo"
        },
        {
         "geo": "geo",
         "hovertemplate": "<b>%{hovertext}</b><br><br>AvgTone=-1.84796304073918<br>ActionGeo_Lat=%{lat}<br>ActionGeo_Long=%{lon}<extra></extra>",
         "hovertext": [
          "https://forward.com/culture/619234/holocaust-survivors-family-storytelling-generations/"
         ],
         "lat": [
          "43.149"
         ],
         "legendgroup": "-1.84796304073918",
         "lon": [
          "-77.6469"
         ],
         "marker": {
          "color": "#ab63fa",
          "symbol": "circle"
         },
         "mode": "markers",
         "name": "-1.84796304073918",
         "showlegend": true,
         "type": "scattergeo"
        },
        {
         "geo": "geo",
         "hovertemplate": "<b>%{hovertext}</b><br><br>AvgTone=-5.64042303172738<br>ActionGeo_Lat=%{lat}<br>ActionGeo_Long=%{lon}<extra></extra>",
         "hovertext": [
          "https://1033wvyb.com/volusia-st-johns-named-among-u-s-counties-most-likely-to-flood/"
         ],
         "lat": [
          "27.8333"
         ],
         "legendgroup": "-5.64042303172738",
         "lon": [
          "-81.717"
         ],
         "marker": {
          "color": "#FFA15A",
          "symbol": "circle"
         },
         "mode": "markers",
         "name": "-5.64042303172738",
         "showlegend": true,
         "type": "scattergeo"
        },
        {
         "geo": "geo",
         "hovertemplate": "<b>%{hovertext}</b><br><br>AvgTone=-4.31472081218274<br>ActionGeo_Lat=%{lat}<br>ActionGeo_Long=%{lon}<extra></extra>",
         "hovertext": [
          "https://www.christianpost.com/news/judge-missouri-abortion-ban-doesnt-violate-religious-freedom.html",
          "https://www.christianpost.com/news/judge-missouri-abortion-ban-doesnt-violate-religious-freedom.html",
          "https://www.christianpost.com/news/judge-missouri-abortion-ban-doesnt-violate-religious-freedom.html"
         ],
         "lat": [
          "38.4623",
          "38.8951",
          "38.4623"
         ],
         "legendgroup": "-4.31472081218274",
         "lon": [
          "-92.302",
          "-77.0364",
          "-92.302"
         ],
         "marker": {
          "color": "#19d3f3",
          "symbol": "circle"
         },
         "mode": "markers",
         "name": "-4.31472081218274",
         "showlegend": true,
         "type": "scattergeo"
        },
        {
         "geo": "geo",
         "hovertemplate": "<b>%{hovertext}</b><br><br>AvgTone=-1.58281514980215<br>ActionGeo_Lat=%{lat}<br>ActionGeo_Long=%{lon}<extra></extra>",
         "hovertext": [
          "https://www.americanbanker.com/news/synapse-bankruptcy-puts-bank-fintech-partnerships-on-notice",
          "https://www.americanbanker.com/news/synapse-bankruptcy-puts-bank-fintech-partnerships-on-notice",
          "https://www.americanbanker.com/news/synapse-bankruptcy-puts-bank-fintech-partnerships-on-notice"
         ],
         "lat": [
          "47.3917",
          "47.3917",
          "47.6334"
         ],
         "legendgroup": "-1.58281514980215",
         "lon": [
          "-121.571",
          "-121.571",
          "-122.29"
         ],
         "marker": {
          "color": "#FF6692",
          "symbol": "circle"
         },
         "mode": "markers",
         "name": "-1.58281514980215",
         "showlegend": true,
         "type": "scattergeo"
        },
        {
         "geo": "geo",
         "hovertemplate": "<b>%{hovertext}</b><br><br>AvgTone=0.80862533692722<br>ActionGeo_Lat=%{lat}<br>ActionGeo_Long=%{lon}<extra></extra>",
         "hovertext": [
          "https://www.wcax.com/2024/06/17/1st-generation-vermont-farmer-defies-odds/",
          "https://www.wcax.com/2024/06/17/1st-generation-vermont-farmer-defies-odds/",
          "https://www.wcax.com/2024/06/17/1st-generation-vermont-farmer-defies-odds/"
         ],
         "lat": [
          "44.0407",
          "44.0407",
          "44.0407"
         ],
         "legendgroup": "0.80862533692722",
         "lon": [
          "-72.7093",
          "-72.7093",
          "-72.7093"
         ],
         "marker": {
          "color": "#B6E880",
          "symbol": "circle"
         },
         "mode": "markers",
         "name": "0.80862533692722",
         "showlegend": true,
         "type": "scattergeo"
        },
        {
         "geo": "geo",
         "hovertemplate": "<b>%{hovertext}</b><br><br>AvgTone=0.63492063492064<br>ActionGeo_Lat=%{lat}<br>ActionGeo_Long=%{lon}<extra></extra>",
         "hovertext": [
          "https://www.wrestlezone.com/news/1481447-documentary-about-aew-world-champion-swerve-strickland-in-the-works"
         ],
         "lat": [
          "39.828175"
         ],
         "legendgroup": "0.63492063492064",
         "lon": [
          "-98.5795"
         ],
         "marker": {
          "color": "#FF97FF",
          "symbol": "circle"
         },
         "mode": "markers",
         "name": "0.63492063492064",
         "showlegend": true,
         "type": "scattergeo"
        },
        {
         "geo": "geo",
         "hovertemplate": "<b>%{hovertext}</b><br><br>AvgTone=6.91358024691357<br>ActionGeo_Lat=%{lat}<br>ActionGeo_Long=%{lon}<extra></extra>",
         "hovertext": [
          "https://www.wisbusiness.com/2024/wisconsin-foundation-and-alumni-association-alisa-robertson-to-succeed-mike-knetter-as-ceo/",
          "https://www.wisbusiness.com/2024/wisconsin-foundation-and-alumni-association-alisa-robertson-to-succeed-mike-knetter-as-ceo/",
          "https://www.wisbusiness.com/2024/wisconsin-foundation-and-alumni-association-alisa-robertson-to-succeed-mike-knetter-as-ceo/"
         ],
         "lat": [
          "44.2563",
          "44.2563",
          "44.8113"
         ],
         "legendgroup": "6.91358024691357",
         "lon": [
          "-89.6385",
          "-89.6385",
          "-91.4985"
         ],
         "marker": {
          "color": "#FECB52",
          "symbol": "circle"
         },
         "mode": "markers",
         "name": "6.91358024691357",
         "showlegend": true,
         "type": "scattergeo"
        },
        {
         "geo": "geo",
         "hovertemplate": "<b>%{hovertext}</b><br><br>AvgTone=-1.41685309470544<br>ActionGeo_Lat=%{lat}<br>ActionGeo_Long=%{lon}<extra></extra>",
         "hovertext": [
          "https://www.yahoo.com/news/really-controls-food-water-6-173006644.html"
         ],
         "lat": [
          "55.7522"
         ],
         "legendgroup": "-1.41685309470544",
         "lon": [
          "37.6156"
         ],
         "marker": {
          "color": "#636efa",
          "symbol": "circle"
         },
         "mode": "markers",
         "name": "-1.41685309470544",
         "showlegend": true,
         "type": "scattergeo"
        },
        {
         "geo": "geo",
         "hovertemplate": "<b>%{hovertext}</b><br><br>AvgTone=-4.61538461538462<br>ActionGeo_Lat=%{lat}<br>ActionGeo_Long=%{lon}<extra></extra>",
         "hovertext": [
          "https://www.usnews.com/news/politics/articles/2024-06-17/more-than-100-south-dakota-primary-ballots-shouldnt-have-been-rejected-elections-official-says",
          "https://www.alo.rs/vesti/svet/920152/400-ruskih-vojnika-se-predalo-se-u-bitci-kod-vovcanska/vest"
         ],
         "lat": [
          "48.8667",
          "60.0"
         ],
         "legendgroup": "-4.61538461538462",
         "lon": [
          "2.33333",
          "100.0"
         ],
         "marker": {
          "color": "#EF553B",
          "symbol": "circle"
         },
         "mode": "markers",
         "name": "-4.61538461538462",
         "showlegend": true,
         "type": "scattergeo"
        },
        {
         "geo": "geo",
         "hovertemplate": "<b>%{hovertext}</b><br><br>AvgTone=-0.64205457463884<br>ActionGeo_Lat=%{lat}<br>ActionGeo_Long=%{lon}<extra></extra>",
         "hovertext": [
          "https://www.usnews.com/news/world/articles/2024-06-17/estonias-kallas-fierce-russia-critic-tipped-as-new-eu-foreign-policy-chief"
         ],
         "lat": [
          "48.8667"
         ],
         "legendgroup": "-0.64205457463884",
         "lon": [
          "2.33333"
         ],
         "marker": {
          "color": "#00cc96",
          "symbol": "circle"
         },
         "mode": "markers",
         "name": "-0.64205457463884",
         "showlegend": true,
         "type": "scattergeo"
        },
        {
         "geo": "geo",
         "hovertemplate": "<b>%{hovertext}</b><br><br>AvgTone=-2.37099023709903<br>ActionGeo_Lat=%{lat}<br>ActionGeo_Long=%{lon}<extra></extra>",
         "hovertext": [
          "https://www.usnews.com/news/world/articles/2024-06-17/exclusive-uk-approval-of-arms-exports-to-israel-plunged-at-start-of-gaza-war"
         ],
         "lat": [
          "48.8667"
         ],
         "legendgroup": "-2.37099023709903",
         "lon": [
          "2.33333"
         ],
         "marker": {
          "color": "#ab63fa",
          "symbol": "circle"
         },
         "mode": "markers",
         "name": "-2.37099023709903",
         "showlegend": true,
         "type": "scattergeo"
        },
        {
         "geo": "geo",
         "hovertemplate": "<b>%{hovertext}</b><br><br>AvgTone=0.15698587127158<br>ActionGeo_Lat=%{lat}<br>ActionGeo_Long=%{lon}<extra></extra>",
         "hovertext": [
          "https://www.thehindu.com/news/national/amit-shah-chairs-meet-to-bridge-ethnic-divide-in-manipur-cm-not-invited/article68301047.ece"
         ],
         "lat": [
          "27.0529"
         ],
         "legendgroup": "0.15698587127158",
         "lon": [
          "79.3583"
         ],
         "marker": {
          "color": "#FFA15A",
          "symbol": "circle"
         },
         "mode": "markers",
         "name": "0.15698587127158",
         "showlegend": true,
         "type": "scattergeo"
        },
        {
         "geo": "geo",
         "hovertemplate": "<b>%{hovertext}</b><br><br>AvgTone=2.43478260869565<br>ActionGeo_Lat=%{lat}<br>ActionGeo_Long=%{lon}<extra></extra>",
         "hovertext": [
          "https://thepienews.com/uk-panama-tne/"
         ],
         "lat": [
          "9.33333"
         ],
         "legendgroup": "2.43478260869565",
         "lon": [
          "-79.9167"
         ],
         "marker": {
          "color": "#19d3f3",
          "symbol": "circle"
         },
         "mode": "markers",
         "name": "2.43478260869565",
         "showlegend": true,
         "type": "scattergeo"
        },
        {
         "geo": "geo",
         "hovertemplate": "<b>%{hovertext}</b><br><br>AvgTone=-2.94117647058824<br>ActionGeo_Lat=%{lat}<br>ActionGeo_Long=%{lon}<extra></extra>",
         "hovertext": [
          "https://www.money.pl/gospodarka/upadaja-po-raz-drugi-bankructwo-znanej-firmy-odziezowej-7039571269520192a.html"
         ],
         "lat": [
          "52.5"
         ],
         "legendgroup": "-2.94117647058824",
         "lon": [
          "5.75"
         ],
         "marker": {
          "color": "#FF6692",
          "symbol": "circle"
         },
         "mode": "markers",
         "name": "-2.94117647058824",
         "showlegend": true,
         "type": "scattergeo"
        },
        {
         "geo": "geo",
         "hovertemplate": "<b>%{hovertext}</b><br><br>AvgTone=1.74418604651163<br>ActionGeo_Lat=%{lat}<br>ActionGeo_Long=%{lon}<extra></extra>",
         "hovertext": [
          "https://www.yahoo.com/news/ukraine-summit-ends-without-support-172501543.html"
         ],
         "lat": [
          "39.9289"
         ],
         "legendgroup": "1.74418604651163",
         "lon": [
          "116.388"
         ],
         "marker": {
          "color": "#B6E880",
          "symbol": "circle"
         },
         "mode": "markers",
         "name": "1.74418604651163",
         "showlegend": true,
         "type": "scattergeo"
        },
        {
         "geo": "geo",
         "hovertemplate": "<b>%{hovertext}</b><br><br>AvgTone=8.0<br>ActionGeo_Lat=%{lat}<br>ActionGeo_Long=%{lon}<extra></extra>",
         "hovertext": [
          "https://www.independent.ie/world-news/north-america/social-media-sites-should-be-labelled-as-health-risks-says-us-health-official/a439281808.html"
         ],
         "lat": [
          "39.828175"
         ],
         "legendgroup": "8.0",
         "lon": [
          "-98.5795"
         ],
         "marker": {
          "color": "#FF97FF",
          "symbol": "circle"
         },
         "mode": "markers",
         "name": "8.0",
         "showlegend": true,
         "type": "scattergeo"
        },
        {
         "geo": "geo",
         "hovertemplate": "<b>%{hovertext}</b><br><br>AvgTone=-5.50747442958301<br>ActionGeo_Lat=%{lat}<br>ActionGeo_Long=%{lon}<extra></extra>",
         "hovertext": [
          "https://pch24.pl/w-oczekiwaniu-na-tragedie-komu-bardziej-zalezy-zeby-imigranci-atakowali-polakow-opnia/",
          "https://pch24.pl/w-oczekiwaniu-na-tragedie-komu-bardziej-zalezy-zeby-imigranci-atakowali-polakow-opnia/"
         ],
         "lat": [
          "60.0",
          "60.0"
         ],
         "legendgroup": "-5.50747442958301",
         "lon": [
          "100.0",
          "100.0"
         ],
         "marker": {
          "color": "#FECB52",
          "symbol": "circle"
         },
         "mode": "markers",
         "name": "-5.50747442958301",
         "showlegend": true,
         "type": "scattergeo"
        },
        {
         "geo": "geo",
         "hovertemplate": "<b>%{hovertext}</b><br><br>AvgTone=-1.46699266503668<br>ActionGeo_Lat=%{lat}<br>ActionGeo_Long=%{lon}<extra></extra>",
         "hovertext": [
          "https://www.seattletimes.com/nation-world/california-may-ban-legacy-admissions-at-universities/"
         ],
         "lat": [
          "37.3495"
         ],
         "legendgroup": "-1.46699266503668",
         "lon": [
          "-121.937"
         ],
         "marker": {
          "color": "#636efa",
          "symbol": "circle"
         },
         "mode": "markers",
         "name": "-1.46699266503668",
         "showlegend": true,
         "type": "scattergeo"
        },
        {
         "geo": "geo",
         "hovertemplate": "<b>%{hovertext}</b><br><br>AvgTone=1.10497237569061<br>ActionGeo_Lat=%{lat}<br>ActionGeo_Long=%{lon}<extra></extra>",
         "hovertext": [
          "https://www.usnews.com/news/top-news/articles/2024-06-17/apple-extends-rally-with-a-record-breaking-stock-market-value"
         ],
         "lat": [
          "36.17"
         ],
         "legendgroup": "1.10497237569061",
         "lon": [
          "-119.746"
         ],
         "marker": {
          "color": "#EF553B",
          "symbol": "circle"
         },
         "mode": "markers",
         "name": "1.10497237569061",
         "showlegend": true,
         "type": "scattergeo"
        },
        {
         "geo": "geo",
         "hovertemplate": "<b>%{hovertext}</b><br><br>AvgTone=-1.11111111111111<br>ActionGeo_Lat=%{lat}<br>ActionGeo_Long=%{lon}<extra></extra>",
         "hovertext": [
          "https://www.naturalnews.com/2024-06-17-atlanta-speed-cameras-illegally-collected-fines-drivers.html"
         ],
         "lat": [
          "32.9866"
         ],
         "legendgroup": "-1.11111111111111",
         "lon": [
          "-83.6487"
         ],
         "marker": {
          "color": "#00cc96",
          "symbol": "circle"
         },
         "mode": "markers",
         "name": "-1.11111111111111",
         "showlegend": true,
         "type": "scattergeo"
        },
        {
         "geo": "geo",
         "hovertemplate": "<b>%{hovertext}</b><br><br>AvgTone=0.320512820512819<br>ActionGeo_Lat=%{lat}<br>ActionGeo_Long=%{lon}<extra></extra>",
         "hovertext": [
          "https://findbiometrics.com/identity-news-digest-june-17-2024/"
         ],
         "lat": [
          "40.3363"
         ],
         "legendgroup": "0.320512820512819",
         "lon": [
          "-89.0022"
         ],
         "marker": {
          "color": "#ab63fa",
          "symbol": "circle"
         },
         "mode": "markers",
         "name": "0.320512820512819",
         "showlegend": true,
         "type": "scattergeo"
        },
        {
         "geo": "geo",
         "hovertemplate": "<b>%{hovertext}</b><br><br>AvgTone=-0.09685230024213<br>ActionGeo_Lat=%{lat}<br>ActionGeo_Long=%{lon}<extra></extra>",
         "hovertext": [
          "https://www.courant.com/2024/06/17/she-may-have-a-full-ride-to-harvard-but-as-an-undocumented-immigrant-without-a-job-permit-her-future-is-uncertain/"
         ],
         "lat": [
          "41.85"
         ],
         "legendgroup": "-0.09685230024213",
         "lon": [
          "-87.6501"
         ],
         "marker": {
          "color": "#FFA15A",
          "symbol": "circle"
         },
         "mode": "markers",
         "name": "-0.09685230024213",
         "showlegend": true,
         "type": "scattergeo"
        },
        {
         "geo": "geo",
         "hovertemplate": "<b>%{hovertext}</b><br><br>AvgTone=1.06382978723405<br>ActionGeo_Lat=%{lat}<br>ActionGeo_Long=%{lon}<extra></extra>",
         "hovertext": [
          "https://portal-kultura.ru/articles/news/362004-frantsuzskiy-rezhisser-ann-fonteyn-poobshchaetsya-s-rossiyskimi-zritelyami-na-premere-svoego-filma/",
          "https://portal-kultura.ru/articles/news/362004-frantsuzskiy-rezhisser-ann-fonteyn-poobshchaetsya-s-rossiyskimi-zritelyami-na-premere-svoego-filma/"
         ],
         "lat": [
          "60.0",
          "48.8667"
         ],
         "legendgroup": "1.06382978723405",
         "lon": [
          "100.0",
          "2.33333"
         ],
         "marker": {
          "color": "#19d3f3",
          "symbol": "circle"
         },
         "mode": "markers",
         "name": "1.06382978723405",
         "showlegend": true,
         "type": "scattergeo"
        },
        {
         "geo": "geo",
         "hovertemplate": "<b>%{hovertext}</b><br><br>AvgTone=-1.17302052785924<br>ActionGeo_Lat=%{lat}<br>ActionGeo_Long=%{lon}<extra></extra>",
         "hovertext": [
          "https://time.mk/c/295f6f2929/severna-koreja-kaza-deka-putin-ke-pristigne-vo-vtornik.html",
          "https://time.mk/c/295f6f2929/severna-koreja-kaza-deka-putin-ke-pristigne-vo-vtornik.html",
          "https://time.mk/c/295f6f2929/severna-koreja-kaza-deka-putin-ke-pristigne-vo-vtornik.html",
          "https://time.mk/c/295f6f2929/severna-koreja-kaza-deka-putin-ke-pristigne-vo-vtornik.html"
         ],
         "lat": [
          "37.0",
          "55.7522",
          "55.7522",
          "55.7522"
         ],
         "legendgroup": "-1.17302052785924",
         "lon": [
          "127.5",
          "37.6156",
          "37.6156",
          "37.6156"
         ],
         "marker": {
          "color": "#FF6692",
          "symbol": "circle"
         },
         "mode": "markers",
         "name": "-1.17302052785924",
         "showlegend": true,
         "type": "scattergeo"
        },
        {
         "geo": "geo",
         "hovertemplate": "<b>%{hovertext}</b><br><br>AvgTone=-6.28571428571429<br>ActionGeo_Lat=%{lat}<br>ActionGeo_Long=%{lon}<extra></extra>",
         "hovertext": [
          "https://www.silive.com/crime-safety/2024/06/staten-island-man-27-dies-in-motorcycle-crash-in-new-jersey-troopers-say.html"
         ],
         "lat": [
          "40.314"
         ],
         "legendgroup": "-6.28571428571429",
         "lon": [
          "-74.5089"
         ],
         "marker": {
          "color": "#B6E880",
          "symbol": "circle"
         },
         "mode": "markers",
         "name": "-6.28571428571429",
         "showlegend": true,
         "type": "scattergeo"
        },
        {
         "geo": "geo",
         "hovertemplate": "<b>%{hovertext}</b><br><br>AvgTone=-8.33333333333337<br>ActionGeo_Lat=%{lat}<br>ActionGeo_Long=%{lon}<extra></extra>",
         "hovertext": [
          "https://biztoc.com/x/fc70b038d87004b4"
         ],
         "lat": [
          "40.314"
         ],
         "legendgroup": "-8.33333333333337",
         "lon": [
          "-74.5089"
         ],
         "marker": {
          "color": "#FF97FF",
          "symbol": "circle"
         },
         "mode": "markers",
         "name": "-8.33333333333337",
         "showlegend": true,
         "type": "scattergeo"
        },
        {
         "geo": "geo",
         "hovertemplate": "<b>%{hovertext}</b><br><br>AvgTone=-3.31491712707182<br>ActionGeo_Lat=%{lat}<br>ActionGeo_Long=%{lon}<extra></extra>",
         "hovertext": [
          "https://www.dailydot.com/debug/donald-trump-jeffrey-epstein-list/"
         ],
         "lat": [
          "42.1497"
         ],
         "legendgroup": "-3.31491712707182",
         "lon": [
          "-74.9384"
         ],
         "marker": {
          "color": "#FECB52",
          "symbol": "circle"
         },
         "mode": "markers",
         "name": "-3.31491712707182",
         "showlegend": true,
         "type": "scattergeo"
        },
        {
         "geo": "geo",
         "hovertemplate": "<b>%{hovertext}</b><br><br>AvgTone=2.36686390532544<br>ActionGeo_Lat=%{lat}<br>ActionGeo_Long=%{lon}<extra></extra>",
         "hovertext": [
          "https://www.dallasnews.com/news/2024/06/17/are-banks-post-offices-and-grocery-stores-closed-for-juneteenth-heres-what-to-know/"
         ],
         "lat": [
          "32.7831"
         ],
         "legendgroup": "2.36686390532544",
         "lon": [
          "-96.8067"
         ],
         "marker": {
          "color": "#636efa",
          "symbol": "circle"
         },
         "mode": "markers",
         "name": "2.36686390532544",
         "showlegend": true,
         "type": "scattergeo"
        },
        {
         "geo": "geo",
         "hovertemplate": "<b>%{hovertext}</b><br><br>AvgTone=-0.93167701863354<br>ActionGeo_Lat=%{lat}<br>ActionGeo_Long=%{lon}<extra></extra>",
         "hovertext": [
          "https://www.christianpost.com/news/what-to-know-about-tony-evans-shocking-announcement.html"
         ],
         "lat": [
          "31.106"
         ],
         "legendgroup": "-0.93167701863354",
         "lon": [
          "-97.6475"
         ],
         "marker": {
          "color": "#EF553B",
          "symbol": "circle"
         },
         "mode": "markers",
         "name": "-0.93167701863354",
         "showlegend": true,
         "type": "scattergeo"
        },
        {
         "geo": "geo",
         "hovertemplate": "<b>%{hovertext}</b><br><br>AvgTone=6.14035087719298<br>ActionGeo_Lat=%{lat}<br>ActionGeo_Long=%{lon}<extra></extra>",
         "hovertext": [
          "https://abc11.com/putin-kim-to-meet-in-north-korea-kremlin-says/14965566/"
         ],
         "lat": [
          "40.0"
         ],
         "legendgroup": "6.14035087719298",
         "lon": [
          "127.0"
         ],
         "marker": {
          "color": "#00cc96",
          "symbol": "circle"
         },
         "mode": "markers",
         "name": "6.14035087719298",
         "showlegend": true,
         "type": "scattergeo"
        },
        {
         "geo": "geo",
         "hovertemplate": "<b>%{hovertext}</b><br><br>AvgTone=1.97628458498023<br>ActionGeo_Lat=%{lat}<br>ActionGeo_Long=%{lon}<extra></extra>",
         "hovertext": [
          "https://www.vtvgujarati.com/news-details/pavagadh-idols-controversy-know-the-history-of-neminatha"
         ],
         "lat": [
          "37.768"
         ],
         "legendgroup": "1.97628458498023",
         "lon": [
          "-78.2057"
         ],
         "marker": {
          "color": "#ab63fa",
          "symbol": "circle"
         },
         "mode": "markers",
         "name": "1.97628458498023",
         "showlegend": true,
         "type": "scattergeo"
        },
        {
         "geo": "geo",
         "hovertemplate": "<b>%{hovertext}</b><br><br>AvgTone=0.41436464088398<br>ActionGeo_Lat=%{lat}<br>ActionGeo_Long=%{lon}<extra></extra>",
         "hovertext": [
          "https://vecer.com/maribor/aktualno/resevanje-mariborske-tovarne-na-mizi-nekaj-moznih-scenarijev-za-mlm-10359294"
         ],
         "lat": [
          "20.0"
         ],
         "legendgroup": "0.41436464088398",
         "lon": [
          "77.0"
         ],
         "marker": {
          "color": "#FFA15A",
          "symbol": "circle"
         },
         "mode": "markers",
         "name": "0.41436464088398",
         "showlegend": true,
         "type": "scattergeo"
        },
        {
         "geo": "geo",
         "hovertemplate": "<b>%{hovertext}</b><br><br>AvgTone=-2.94930875576037<br>ActionGeo_Lat=%{lat}<br>ActionGeo_Long=%{lon}<extra></extra>",
         "hovertext": [
          "https://www.kommersant.ru/doc/6773335"
         ],
         "lat": [
          "47.0"
         ],
         "legendgroup": "-2.94930875576037",
         "lon": [
          "8.0"
         ],
         "marker": {
          "color": "#19d3f3",
          "symbol": "circle"
         },
         "mode": "markers",
         "name": "-2.94930875576037",
         "showlegend": true,
         "type": "scattergeo"
        },
        {
         "geo": "geo",
         "hovertemplate": "<b>%{hovertext}</b><br><br>AvgTone=-1.58730158730159<br>ActionGeo_Lat=%{lat}<br>ActionGeo_Long=%{lon}<extra></extra>",
         "hovertext": [
          "https://www.sueddeutsche.de/politik/russland-putin-besucht-nordkorea-lux.PpNWFk9j6P59zKzHXUX31e",
          "https://www.sueddeutsche.de/politik/russland-putin-besucht-nordkorea-lux.PpNWFk9j6P59zKzHXUX31e"
         ],
         "lat": [
          "40.0",
          "55.7522"
         ],
         "legendgroup": "-1.58730158730159",
         "lon": [
          "127.0",
          "37.6156"
         ],
         "marker": {
          "color": "#FF6692",
          "symbol": "circle"
         },
         "mode": "markers",
         "name": "-1.58730158730159",
         "showlegend": true,
         "type": "scattergeo"
        },
        {
         "geo": "geo",
         "hovertemplate": "<b>%{hovertext}</b><br><br>AvgTone=0.89820359281437<br>ActionGeo_Lat=%{lat}<br>ActionGeo_Long=%{lon}<extra></extra>",
         "hovertext": [
          "https://www.tothemaonline.com/Article/393359/kompos-istorikh-stigmh-o-strathgikos-dialogos-kyproy---hpa"
         ],
         "lat": [
          "35.0"
         ],
         "legendgroup": "0.89820359281437",
         "lon": [
          "33.0"
         ],
         "marker": {
          "color": "#B6E880",
          "symbol": "circle"
         },
         "mode": "markers",
         "name": "0.89820359281437",
         "showlegend": true,
         "type": "scattergeo"
        },
        {
         "geo": "geo",
         "hovertemplate": "<b>%{hovertext}</b><br><br>AvgTone=5.23255813953488<br>ActionGeo_Lat=%{lat}<br>ActionGeo_Long=%{lon}<extra></extra>",
         "hovertext": [
          "https://www.index.hr/vijesti/clanak/daruvarska-skola-dobila-multimedijsku-ucionicu-za-ucenike-nacionalnih-manjina/2574604.aspx?index_tid=525753&index_ref=naslovnica_vijesti_najnovije_d",
          "https://www.index.hr/vijesti/clanak/daruvarska-skola-dobila-multimedijsku-ucionicu-za-ucenike-nacionalnih-manjina/2574604.aspx?index_tid=525753&index_ref=naslovnica_vijesti_najnovije_d"
         ],
         "lat": [
          "45.5906",
          null
         ],
         "legendgroup": "5.23255813953488",
         "lon": [
          "17.225",
          null
         ],
         "marker": {
          "color": "#FF97FF",
          "symbol": "circle"
         },
         "mode": "markers",
         "name": "5.23255813953488",
         "showlegend": true,
         "type": "scattergeo"
        },
        {
         "geo": "geo",
         "hovertemplate": "<b>%{hovertext}</b><br><br>AvgTone=-0.53475935828877<br>ActionGeo_Lat=%{lat}<br>ActionGeo_Long=%{lon}<extra></extra>",
         "hovertext": [
          "https://www.newdelhitimes.com/union-home-minister-amit-shah-chairs-review-meeting-on-security-situation-in-jammu-and-kashmir/"
         ],
         "lat": [
          "32.7333"
         ],
         "legendgroup": "-0.53475935828877",
         "lon": [
          "74.8667"
         ],
         "marker": {
          "color": "#FECB52",
          "symbol": "circle"
         },
         "mode": "markers",
         "name": "-0.53475935828877",
         "showlegend": true,
         "type": "scattergeo"
        },
        {
         "geo": "geo",
         "hovertemplate": "<b>%{hovertext}</b><br><br>AvgTone=-0.59171597633136<br>ActionGeo_Lat=%{lat}<br>ActionGeo_Long=%{lon}<extra></extra>",
         "hovertext": [
          "https://www.ziarelive.ro/stiri/stoltenberg-calea-spre-pace-trece-prin-mai-multe-arme-pentru-ucraina-ce-spune-despre-china.html"
         ],
         "lat": [
          "50.4333"
         ],
         "legendgroup": "-0.59171597633136",
         "lon": [
          "30.5167"
         ],
         "marker": {
          "color": "#636efa",
          "symbol": "circle"
         },
         "mode": "markers",
         "name": "-0.59171597633136",
         "showlegend": true,
         "type": "scattergeo"
        },
        {
         "geo": "geo",
         "hovertemplate": "<b>%{hovertext}</b><br><br>AvgTone=-7.23981900452488<br>ActionGeo_Lat=%{lat}<br>ActionGeo_Long=%{lon}<extra></extra>",
         "hovertext": [
          "https://www.m24.ru/news/proisshestviya/17062024/700876"
         ],
         "lat": [
          "55.7522"
         ],
         "legendgroup": "-7.23981900452488",
         "lon": [
          "37.6156"
         ],
         "marker": {
          "color": "#EF553B",
          "symbol": "circle"
         },
         "mode": "markers",
         "name": "-7.23981900452488",
         "showlegend": true,
         "type": "scattergeo"
        },
        {
         "geo": "geo",
         "hovertemplate": "<b>%{hovertext}</b><br><br>AvgTone=-9.39495287321373<br>ActionGeo_Lat=%{lat}<br>ActionGeo_Long=%{lon}<extra></extra>",
         "hovertext": [
          "https://focus.ua/uk/voennye-novosti/652756-kritichniy-moment-lishe-tretina-okupantiv-pislya-poranen-povertayutsya-na-front-analitik"
         ],
         "lat": [
          "38.8951"
         ],
         "legendgroup": "-9.39495287321373",
         "lon": [
          "-77.0364"
         ],
         "marker": {
          "color": "#00cc96",
          "symbol": "circle"
         },
         "mode": "markers",
         "name": "-9.39495287321373",
         "showlegend": true,
         "type": "scattergeo"
        },
        {
         "geo": "geo",
         "hovertemplate": "<b>%{hovertext}</b><br><br>AvgTone=-0.61224489795918<br>ActionGeo_Lat=%{lat}<br>ActionGeo_Long=%{lon}<extra></extra>",
         "hovertext": [
          "https://www.lapatilla.com/2024/06/17/estas-seran-las-reglas-para-el-primer-debate-presidencial-entre-biden-y-trump/"
         ],
         "lat": [
          "32.9866"
         ],
         "legendgroup": "-0.61224489795918",
         "lon": [
          "-83.6487"
         ],
         "marker": {
          "color": "#ab63fa",
          "symbol": "circle"
         },
         "mode": "markers",
         "name": "-0.61224489795918",
         "showlegend": true,
         "type": "scattergeo"
        },
        {
         "geo": "geo",
         "hovertemplate": "<b>%{hovertext}</b><br><br>AvgTone=-0.50251256281407<br>ActionGeo_Lat=%{lat}<br>ActionGeo_Long=%{lon}<extra></extra>",
         "hovertext": [
          "https://www.vesti.bg/sviat/putin-naznachi-plemennicata-si-i-uvolni-niakolko-zam.-ministri-v-otbranata-6201464"
         ],
         "lat": [
          "60.0"
         ],
         "legendgroup": "-0.50251256281407",
         "lon": [
          "100.0"
         ],
         "marker": {
          "color": "#FFA15A",
          "symbol": "circle"
         },
         "mode": "markers",
         "name": "-0.50251256281407",
         "showlegend": true,
         "type": "scattergeo"
        },
        {
         "geo": "geo",
         "hovertemplate": "<b>%{hovertext}</b><br><br>AvgTone=-2.76172125883109<br>ActionGeo_Lat=%{lat}<br>ActionGeo_Long=%{lon}<extra></extra>",
         "hovertext": [
          "https://www.tyzden.sk/svet/82394/ukrajina-online-syrskyj-rusko-chce-postupit-co-najviac-kym-pridu-f-16/"
         ],
         "lat": [
          "50.4333"
         ],
         "legendgroup": "-2.76172125883109",
         "lon": [
          "30.5167"
         ],
         "marker": {
          "color": "#19d3f3",
          "symbol": "circle"
         },
         "mode": "markers",
         "name": "-2.76172125883109",
         "showlegend": true,
         "type": "scattergeo"
        },
        {
         "geo": "geo",
         "hovertemplate": "<b>%{hovertext}</b><br><br>AvgTone=9.28571428571427<br>ActionGeo_Lat=%{lat}<br>ActionGeo_Long=%{lon}<extra></extra>",
         "hovertext": [
          "https://www.m24.ru/shows1/140/700863"
         ],
         "lat": [
          "55.7522"
         ],
         "legendgroup": "9.28571428571427",
         "lon": [
          "37.6156"
         ],
         "marker": {
          "color": "#FF6692",
          "symbol": "circle"
         },
         "mode": "markers",
         "name": "9.28571428571427",
         "showlegend": true,
         "type": "scattergeo"
        },
        {
         "geo": "geo",
         "hovertemplate": "<b>%{hovertext}</b><br><br>AvgTone=-1.51228733459357<br>ActionGeo_Lat=%{lat}<br>ActionGeo_Long=%{lon}<extra></extra>",
         "hovertext": [
          "https://formiche.net/2024/06/marina-flotta-di-mosca-sanzioni/"
         ],
         "lat": [
          "59.8944"
         ],
         "legendgroup": "-1.51228733459357",
         "lon": [
          "30.2642"
         ],
         "marker": {
          "color": "#B6E880",
          "symbol": "circle"
         },
         "mode": "markers",
         "name": "-1.51228733459357",
         "showlegend": true,
         "type": "scattergeo"
        },
        {
         "geo": "geo",
         "hovertemplate": "<b>%{hovertext}</b><br><br>AvgTone=-4.54545454545455<br>ActionGeo_Lat=%{lat}<br>ActionGeo_Long=%{lon}<extra></extra>",
         "hovertext": [
          "https://pda.kuban.kp.ru/online/news/5858349/"
         ],
         "lat": [
          "60.0"
         ],
         "legendgroup": "-4.54545454545455",
         "lon": [
          "100.0"
         ],
         "marker": {
          "color": "#FF97FF",
          "symbol": "circle"
         },
         "mode": "markers",
         "name": "-4.54545454545455",
         "showlegend": true,
         "type": "scattergeo"
        },
        {
         "geo": "geo",
         "hovertemplate": "<b>%{hovertext}</b><br><br>AvgTone=-2.87081339712918<br>ActionGeo_Lat=%{lat}<br>ActionGeo_Long=%{lon}<extra></extra>",
         "hovertext": [
          "https://www.tyzden.sk/politika/111037/co-riskuje-slovensko-ked-neakceptuje-nove-postupy-who/"
         ],
         "lat": [
          "48.666667"
         ],
         "legendgroup": "-2.87081339712918",
         "lon": [
          "19.5"
         ],
         "marker": {
          "color": "#FECB52",
          "symbol": "circle"
         },
         "mode": "markers",
         "name": "-2.87081339712918",
         "showlegend": true,
         "type": "scattergeo"
        },
        {
         "geo": "geo",
         "hovertemplate": "<b>%{hovertext}</b><br><br>AvgTone=0.343642611683852<br>ActionGeo_Lat=%{lat}<br>ActionGeo_Long=%{lon}<extra></extra>",
         "hovertext": [
          "https://sjvsun.com/ag/levi-johnson-named-operations-manager-for-central-valley-operations-office/",
          "https://sjvsun.com/ag/levi-johnson-named-operations-manager-for-central-valley-operations-office/"
         ],
         "lat": [
          "34.0186",
          "34.0186"
         ],
         "legendgroup": "0.343642611683852",
         "lon": [
          "-119.682",
          "-119.682"
         ],
         "marker": {
          "color": "#636efa",
          "symbol": "circle"
         },
         "mode": "markers",
         "name": "0.343642611683852",
         "showlegend": true,
         "type": "scattergeo"
        },
        {
         "geo": "geo",
         "hovertemplate": "<b>%{hovertext}</b><br><br>AvgTone=-0.18018018018018<br>ActionGeo_Lat=%{lat}<br>ActionGeo_Long=%{lon}<extra></extra>",
         "hovertext": [
          "https://focus.ua/world/652758-ochered-i-bolshaya-pushka-zhurnalist-rasskazal-o-vizite-na-rossiyskiy-fregat-admiral-gorshkov",
          "https://focus.ua/world/652758-ochered-i-bolshaya-pushka-zhurnalist-rasskazal-o-vizite-na-rossiyskiy-fregat-admiral-gorshkov"
         ],
         "lat": [
          "55.7522",
          "49.0"
         ],
         "legendgroup": "-0.18018018018018",
         "lon": [
          "37.6156",
          "32.0"
         ],
         "marker": {
          "color": "#EF553B",
          "symbol": "circle"
         },
         "mode": "markers",
         "name": "-0.18018018018018",
         "showlegend": true,
         "type": "scattergeo"
        },
        {
         "geo": "geo",
         "hovertemplate": "<b>%{hovertext}</b><br><br>AvgTone=-0.72463768115942<br>ActionGeo_Lat=%{lat}<br>ActionGeo_Long=%{lon}<extra></extra>",
         "hovertext": [
          "https://9to5mac.com/guides/social-media/"
         ],
         "lat": [
          null
         ],
         "legendgroup": "-0.72463768115942",
         "lon": [
          null
         ],
         "marker": {
          "color": "#00cc96",
          "symbol": "circle"
         },
         "mode": "markers",
         "name": "-0.72463768115942",
         "showlegend": true,
         "type": "scattergeo"
        },
        {
         "geo": "geo",
         "hovertemplate": "<b>%{hovertext}</b><br><br>AvgTone=-1.61290322580645<br>ActionGeo_Lat=%{lat}<br>ActionGeo_Long=%{lon}<extra></extra>",
         "hovertext": [
          "https://gazette.com/news/wex/anti-israel-group-led-by-top-rashida-tlaib-fundraiser-dissolves/article_6ede2ecb-b62c-50af-a86e-35a1e3418023.html"
         ],
         "lat": [
          "31.5"
         ],
         "legendgroup": "-1.61290322580645",
         "lon": [
          "34.75"
         ],
         "marker": {
          "color": "#ab63fa",
          "symbol": "circle"
         },
         "mode": "markers",
         "name": "-1.61290322580645",
         "showlegend": true,
         "type": "scattergeo"
        },
        {
         "geo": "geo",
         "hovertemplate": "<b>%{hovertext}</b><br><br>AvgTone=2.36220472440945<br>ActionGeo_Lat=%{lat}<br>ActionGeo_Long=%{lon}<extra></extra>",
         "hovertext": [
          "https://www.abc6.com/mckee-signs-13-9b-fy25-team-rhode-island-state-budget/"
         ],
         "lat": [
          "41.8137"
         ],
         "legendgroup": "2.36220472440945",
         "lon": [
          "-71.3701"
         ],
         "marker": {
          "color": "#FFA15A",
          "symbol": "circle"
         },
         "mode": "markers",
         "name": "2.36220472440945",
         "showlegend": true,
         "type": "scattergeo"
        },
        {
         "geo": "geo",
         "hovertemplate": "<b>%{hovertext}</b><br><br>AvgTone=-0.32258064516129<br>ActionGeo_Lat=%{lat}<br>ActionGeo_Long=%{lon}<extra></extra>",
         "hovertext": [
          "https://kfoxtv.com/news/local/el-paso-families-face-long-waitlists-go-to-other-cities-due-to-lack-of-autism-therapy"
         ],
         "lat": [
          "31.7587"
         ],
         "legendgroup": "-0.32258064516129",
         "lon": [
          "-106.487"
         ],
         "marker": {
          "color": "#19d3f3",
          "symbol": "circle"
         },
         "mode": "markers",
         "name": "-0.32258064516129",
         "showlegend": true,
         "type": "scattergeo"
        },
        {
         "geo": "geo",
         "hovertemplate": "<b>%{hovertext}</b><br><br>AvgTone=-2.461257976299<br>ActionGeo_Lat=%{lat}<br>ActionGeo_Long=%{lon}<extra></extra>",
         "hovertext": [
          "https://smdp.com/2024/06/17/rick-caruso-is-considering-another-political-run-his-best-shot-might-be-californias-highest-office/",
          "https://smdp.com/2024/06/17/rick-caruso-is-considering-another-political-run-his-best-shot-might-be-californias-highest-office/",
          "https://smdp.com/2024/06/17/rick-caruso-is-considering-another-political-run-his-best-shot-might-be-californias-highest-office/"
         ],
         "lat": [
          "37.4933",
          "36.17",
          "36.17"
         ],
         "legendgroup": "-2.461257976299",
         "lon": [
          "-122.46",
          "-119.746",
          "-119.746"
         ],
         "marker": {
          "color": "#FF6692",
          "symbol": "circle"
         },
         "mode": "markers",
         "name": "-2.461257976299",
         "showlegend": true,
         "type": "scattergeo"
        },
        {
         "geo": "geo",
         "hovertemplate": "<b>%{hovertext}</b><br><br>AvgTone=-4.72972972972973<br>ActionGeo_Lat=%{lat}<br>ActionGeo_Long=%{lon}<extra></extra>",
         "hovertext": [
          "https://www.fox35orlando.com/news/failure-use-turn-signal-leads-florida-mans-arrest"
         ],
         "lat": [
          "28.9175"
         ],
         "legendgroup": "-4.72972972972973",
         "lon": [
          "-81.9229"
         ],
         "marker": {
          "color": "#B6E880",
          "symbol": "circle"
         },
         "mode": "markers",
         "name": "-4.72972972972973",
         "showlegend": true,
         "type": "scattergeo"
        },
        {
         "geo": "geo",
         "hovertemplate": "<b>%{hovertext}</b><br><br>AvgTone=1.0989010989011<br>ActionGeo_Lat=%{lat}<br>ActionGeo_Long=%{lon}<extra></extra>",
         "hovertext": [
          "https://www.wagmtv.com/2024/06/17/follow-up-friday-alternative-education-over-years/"
         ],
         "lat": [
          "46.6812"
         ],
         "legendgroup": "1.0989010989011",
         "lon": [
          "-68.0159"
         ],
         "marker": {
          "color": "#FF97FF",
          "symbol": "circle"
         },
         "mode": "markers",
         "name": "1.0989010989011",
         "showlegend": true,
         "type": "scattergeo"
        },
        {
         "geo": "geo",
         "hovertemplate": "<b>%{hovertext}</b><br><br>AvgTone=1.70940170940171<br>ActionGeo_Lat=%{lat}<br>ActionGeo_Long=%{lon}<extra></extra>",
         "hovertext": [
          "https://therealdeal.com/chicago/2024/06/17/movers-brian-gries-assumes-lasalles-americas-lead/"
         ],
         "lat": [
          "41.85"
         ],
         "legendgroup": "1.70940170940171",
         "lon": [
          "-87.6501"
         ],
         "marker": {
          "color": "#FECB52",
          "symbol": "circle"
         },
         "mode": "markers",
         "name": "1.70940170940171",
         "showlegend": true,
         "type": "scattergeo"
        },
        {
         "geo": "geo",
         "hovertemplate": "<b>%{hovertext}</b><br><br>AvgTone=1.17302052785924<br>ActionGeo_Lat=%{lat}<br>ActionGeo_Long=%{lon}<extra></extra>",
         "hovertext": [
          "https://www.winnipegfreepress.com/arts-and-life/food/2024/06/17/primo-water-to-merge-with-poland-spring-parent-company-bluetriton-brands",
          "https://www.winnipegfreepress.com/arts-and-life/food/2024/06/17/primo-water-to-merge-with-poland-spring-parent-company-bluetriton-brands",
          "https://www.winnipegfreepress.com/arts-and-life/food/2024/06/17/primo-water-to-merge-with-poland-spring-parent-company-bluetriton-brands"
         ],
         "lat": [
          "44.0279",
          "44.0279",
          "44.0279"
         ],
         "legendgroup": "1.17302052785924",
         "lon": [
          "-70.3595",
          "-70.3595",
          "-70.3595"
         ],
         "marker": {
          "color": "#636efa",
          "symbol": "circle"
         },
         "mode": "markers",
         "name": "1.17302052785924",
         "showlegend": true,
         "type": "scattergeo"
        },
        {
         "geo": "geo",
         "hovertemplate": "<b>%{hovertext}</b><br><br>AvgTone=1.36363636363636<br>ActionGeo_Lat=%{lat}<br>ActionGeo_Long=%{lon}<extra></extra>",
         "hovertext": [
          "https://www.wagmtv.com/2024/06/17/search-continues-madawaskas-next-town-manager/"
         ],
         "lat": [
          "46.8842"
         ],
         "legendgroup": "1.36363636363636",
         "lon": [
          "-67.9472"
         ],
         "marker": {
          "color": "#EF553B",
          "symbol": "circle"
         },
         "mode": "markers",
         "name": "1.36363636363636",
         "showlegend": true,
         "type": "scattergeo"
        },
        {
         "geo": "geo",
         "hovertemplate": "<b>%{hovertext}</b><br><br>AvgTone=-3.74531835205993<br>ActionGeo_Lat=%{lat}<br>ActionGeo_Long=%{lon}<extra></extra>",
         "hovertext": [
          "https://www.breitbart.com/the-media/2024/06/17/nolte-nyt-wapo-team-up-destroy-incoming-wapo-editor/"
         ],
         "lat": [
          "38.8951"
         ],
         "legendgroup": "-3.74531835205993",
         "lon": [
          "-77.0364"
         ],
         "marker": {
          "color": "#00cc96",
          "symbol": "circle"
         },
         "mode": "markers",
         "name": "-3.74531835205993",
         "showlegend": true,
         "type": "scattergeo"
        },
        {
         "geo": "geo",
         "hovertemplate": "<b>%{hovertext}</b><br><br>AvgTone=0.86705202312139<br>ActionGeo_Lat=%{lat}<br>ActionGeo_Long=%{lon}<extra></extra>",
         "hovertext": [
          "https://www.eldoradonews.com/news/2024/jun/12/turning-point-supports-victims-of-domestic-abuse/",
          "https://www.eldoradonews.com/news/2024/jun/12/turning-point-supports-victims-of-domestic-abuse/"
         ],
         "lat": [
          "33.1501",
          "33.1501"
         ],
         "legendgroup": "0.86705202312139",
         "lon": [
          "-92.6502",
          "-92.6502"
         ],
         "marker": {
          "color": "#ab63fa",
          "symbol": "circle"
         },
         "mode": "markers",
         "name": "0.86705202312139",
         "showlegend": true,
         "type": "scattergeo"
        },
        {
         "geo": "geo",
         "hovertemplate": "<b>%{hovertext}</b><br><br>AvgTone=2.97741273100616<br>ActionGeo_Lat=%{lat}<br>ActionGeo_Long=%{lon}<extra></extra>",
         "hovertext": [
          "https://observer-me.com/2024/06/17/news/gov-mills-announces-2-4m-in-grants-to-help-prepare-for-climate-effects-improve-energy-efficiency/"
         ],
         "lat": [
          "44.6074"
         ],
         "legendgroup": "2.97741273100616",
         "lon": [
          "-69.3977"
         ],
         "marker": {
          "color": "#FFA15A",
          "symbol": "circle"
         },
         "mode": "markers",
         "name": "2.97741273100616",
         "showlegend": true,
         "type": "scattergeo"
        },
        {
         "geo": "geo",
         "hovertemplate": "<b>%{hovertext}</b><br><br>AvgTone=-4.89130434782609<br>ActionGeo_Lat=%{lat}<br>ActionGeo_Long=%{lon}<extra></extra>",
         "hovertext": [
          "https://www.cnbc.com/2024/06/17/new-jersey-democratic-kingmaker-george-norcross-indicted-on-racketeering-charges.html",
          "https://www.cnbc.com/2024/06/17/new-jersey-democratic-kingmaker-george-norcross-indicted-on-racketeering-charges.html"
         ],
         "lat": [
          "40.314",
          "40.314"
         ],
         "legendgroup": "-4.89130434782609",
         "lon": [
          "-74.5089",
          "-74.5089"
         ],
         "marker": {
          "color": "#19d3f3",
          "symbol": "circle"
         },
         "mode": "markers",
         "name": "-4.89130434782609",
         "showlegend": true,
         "type": "scattergeo"
        },
        {
         "geo": "geo",
         "hovertemplate": "<b>%{hovertext}</b><br><br>AvgTone=0.57471264367816<br>ActionGeo_Lat=%{lat}<br>ActionGeo_Long=%{lon}<extra></extra>",
         "hovertext": [
          "https://therealdeal.com/new-york/2024/06/17/four-seasons-sets-sights-on-reopening/"
         ],
         "lat": [
          "42.1497"
         ],
         "legendgroup": "0.57471264367816",
         "lon": [
          "-74.9384"
         ],
         "marker": {
          "color": "#FF6692",
          "symbol": "circle"
         },
         "mode": "markers",
         "name": "0.57471264367816",
         "showlegend": true,
         "type": "scattergeo"
        },
        {
         "geo": "geo",
         "hovertemplate": "<b>%{hovertext}</b><br><br>AvgTone=1.08155976888012<br>ActionGeo_Lat=%{lat}<br>ActionGeo_Long=%{lon}<extra></extra>",
         "hovertext": [
          "https://medicinehatnews.com/business/2024/06/17/primo-water-to-merge-with-poland-spring-parent-company-bluetriton-brands/"
         ],
         "lat": [
          "43.6667"
         ],
         "legendgroup": "1.08155976888012",
         "lon": [
          "-79.4167"
         ],
         "marker": {
          "color": "#B6E880",
          "symbol": "circle"
         },
         "mode": "markers",
         "name": "1.08155976888012",
         "showlegend": true,
         "type": "scattergeo"
        },
        {
         "geo": "geo",
         "hovertemplate": "<b>%{hovertext}</b><br><br>AvgTone=1.18577075098814<br>ActionGeo_Lat=%{lat}<br>ActionGeo_Long=%{lon}<extra></extra>",
         "hovertext": [
          "https://tass.com/defense/1804557"
         ],
         "lat": [
          "23.1319"
         ],
         "legendgroup": "1.18577075098814",
         "lon": [
          "-82.3642"
         ],
         "marker": {
          "color": "#FF97FF",
          "symbol": "circle"
         },
         "mode": "markers",
         "name": "1.18577075098814",
         "showlegend": true,
         "type": "scattergeo"
        },
        {
         "geo": "geo",
         "hovertemplate": "<b>%{hovertext}</b><br><br>AvgTone=-6.75324675324675<br>ActionGeo_Lat=%{lat}<br>ActionGeo_Long=%{lon}<extra></extra>",
         "hovertext": [
          "https://www.spacewar.com/afp/240617160018.ezbaxqx3.html",
          "https://www.spacewar.com/afp/240617160018.ezbaxqx3.html"
         ],
         "lat": [
          "39.9289",
          "38.8951"
         ],
         "legendgroup": "-6.75324675324675",
         "lon": [
          "116.388",
          "-77.0364"
         ],
         "marker": {
          "color": "#FECB52",
          "symbol": "circle"
         },
         "mode": "markers",
         "name": "-6.75324675324675",
         "showlegend": true,
         "type": "scattergeo"
        },
        {
         "geo": "geo",
         "hovertemplate": "<b>%{hovertext}</b><br><br>AvgTone=1.46252285191956<br>ActionGeo_Lat=%{lat}<br>ActionGeo_Long=%{lon}<extra></extra>",
         "hovertext": [
          "https://medicinehatnews.com/entertainment/entertainment-news/2024/06/17/francis-ford-coppolas-megalopolis-will-hit-us-theaters-in-september/",
          "https://medicinehatnews.com/entertainment/entertainment-news/2024/06/17/francis-ford-coppolas-megalopolis-will-hit-us-theaters-in-september/"
         ],
         "lat": [
          "42.1497",
          "46.0"
         ],
         "legendgroup": "1.46252285191956",
         "lon": [
          "-74.9384",
          "2.0"
         ],
         "marker": {
          "color": "#636efa",
          "symbol": "circle"
         },
         "mode": "markers",
         "name": "1.46252285191956",
         "showlegend": true,
         "type": "scattergeo"
        },
        {
         "geo": "geo",
         "hovertemplate": "<b>%{hovertext}</b><br><br>AvgTone=2.20820189274448<br>ActionGeo_Lat=%{lat}<br>ActionGeo_Long=%{lon}<extra></extra>",
         "hovertext": [
          "https://orissadiary.com/union-home-minister-amit-shah-chairs-a-high-level-meeting-to-review-the-security-situation-of-manipur-in-new-delhi-today/"
         ],
         "lat": [
          "27.0529"
         ],
         "legendgroup": "2.20820189274448",
         "lon": [
          "79.3583"
         ],
         "marker": {
          "color": "#EF553B",
          "symbol": "circle"
         },
         "mode": "markers",
         "name": "2.20820189274448",
         "showlegend": true,
         "type": "scattergeo"
        },
        {
         "geo": "geo",
         "hovertemplate": "<b>%{hovertext}</b><br><br>AvgTone=3.36633663366337<br>ActionGeo_Lat=%{lat}<br>ActionGeo_Long=%{lon}<extra></extra>",
         "hovertext": [
          "https://www.marketscreener.com/quote/stock/STACK-CAPITAL-GROUP-INC-123776312/news/Stack-Capital-Holding-Omio-Announces-the-Expansion-of-Its-Partnership-With-Uber-46987794/"
         ],
         "lat": [
          "52.5167"
         ],
         "legendgroup": "3.36633663366337",
         "lon": [
          "13.4"
         ],
         "marker": {
          "color": "#00cc96",
          "symbol": "circle"
         },
         "mode": "markers",
         "name": "3.36633663366337",
         "showlegend": true,
         "type": "scattergeo"
        },
        {
         "geo": "geo",
         "hovertemplate": "<b>%{hovertext}</b><br><br>AvgTone=2.89156626506024<br>ActionGeo_Lat=%{lat}<br>ActionGeo_Long=%{lon}<extra></extra>",
         "hovertext": [
          "https://www.pymnts.com/artificial-intelligence-2/2024/indias-ai-aspirations-draw-multibillion-big-tech-investments/"
         ],
         "lat": [
          "18.0"
         ],
         "legendgroup": "2.89156626506024",
         "lon": [
          "79.5"
         ],
         "marker": {
          "color": "#ab63fa",
          "symbol": "circle"
         },
         "mode": "markers",
         "name": "2.89156626506024",
         "showlegend": true,
         "type": "scattergeo"
        },
        {
         "geo": "geo",
         "hovertemplate": "<b>%{hovertext}</b><br><br>AvgTone=-1.06979405034325<br>ActionGeo_Lat=%{lat}<br>ActionGeo_Long=%{lon}<extra></extra>",
         "hovertext": [
          "https://www.channelstv.com/2024/06/17/putin-promotes-cousin-in-latest-military-shake-up/",
          "https://www.channelstv.com/2024/06/17/putin-promotes-cousin-in-latest-military-shake-up/",
          "https://www.channelstv.com/2024/06/17/putin-promotes-cousin-in-latest-military-shake-up/"
         ],
         "lat": [
          "55.7522",
          "54.0",
          "55.7522"
         ],
         "legendgroup": "-1.06979405034325",
         "lon": [
          "37.6156",
          "-4.0",
          "37.6156"
         ],
         "marker": {
          "color": "#FFA15A",
          "symbol": "circle"
         },
         "mode": "markers",
         "name": "-1.06979405034325",
         "showlegend": true,
         "type": "scattergeo"
        },
        {
         "geo": "geo",
         "hovertemplate": "<b>%{hovertext}</b><br><br>AvgTone=-0.7716049382716<br>ActionGeo_Lat=%{lat}<br>ActionGeo_Long=%{lon}<extra></extra>",
         "hovertext": [
          "https://www.breitbart.com/politics/2024/06/16/forever-war-zelensky-western-leaders-reject-putin-proposals-at-swiss-peace-summit/",
          "https://www.breitbart.com/politics/2024/06/16/forever-war-zelensky-western-leaders-reject-putin-proposals-at-swiss-peace-summit/",
          "https://www.breitbart.com/politics/2024/06/16/forever-war-zelensky-western-leaders-reject-putin-proposals-at-swiss-peace-summit/"
         ],
         "lat": [
          "55.7522",
          "50.4333",
          "50.4333"
         ],
         "legendgroup": "-0.7716049382716",
         "lon": [
          "37.6156",
          "30.5167",
          "30.5167"
         ],
         "marker": {
          "color": "#19d3f3",
          "symbol": "circle"
         },
         "mode": "markers",
         "name": "-0.7716049382716",
         "showlegend": true,
         "type": "scattergeo"
        },
        {
         "geo": "geo",
         "hovertemplate": "<b>%{hovertext}</b><br><br>AvgTone=-1.08958837772397<br>ActionGeo_Lat=%{lat}<br>ActionGeo_Long=%{lon}<extra></extra>",
         "hovertext": [
          "https://religionnews.com/2024/06/17/for-senegalese-fishermen-eid-al-adha-is-now-a-source-of-anguish-not-a-joyful-occasion/"
         ],
         "lat": [
          "14.7367"
         ],
         "legendgroup": "-1.08958837772397",
         "lon": [
          "-17.6339"
         ],
         "marker": {
          "color": "#FF6692",
          "symbol": "circle"
         },
         "mode": "markers",
         "name": "-1.08958837772397",
         "showlegend": true,
         "type": "scattergeo"
        },
        {
         "geo": "geo",
         "hovertemplate": "<b>%{hovertext}</b><br><br>AvgTone=-0.76335877862595<br>ActionGeo_Lat=%{lat}<br>ActionGeo_Long=%{lon}<extra></extra>",
         "hovertext": [
          "https://medicinehatnews.com/news/world-news/2024/06/17/record-number-of-nato-allies-expected-to-hit-defense-spending-target-amid-war-in-ukraine/"
         ],
         "lat": [
          "49.0"
         ],
         "legendgroup": "-0.76335877862595",
         "lon": [
          "32.0"
         ],
         "marker": {
          "color": "#B6E880",
          "symbol": "circle"
         },
         "mode": "markers",
         "name": "-0.76335877862595",
         "showlegend": true,
         "type": "scattergeo"
        },
        {
         "geo": "geo",
         "hovertemplate": "<b>%{hovertext}</b><br><br>AvgTone=1.65289256198347<br>ActionGeo_Lat=%{lat}<br>ActionGeo_Long=%{lon}<extra></extra>",
         "hovertext": [
          "https://www.wagmtv.com/2024/06/17/pqi-jetblue-flights-now-available-booking/"
         ],
         "lat": [
          "42.3584"
         ],
         "legendgroup": "1.65289256198347",
         "lon": [
          "-71.0598"
         ],
         "marker": {
          "color": "#FF97FF",
          "symbol": "circle"
         },
         "mode": "markers",
         "name": "1.65289256198347",
         "showlegend": true,
         "type": "scattergeo"
        },
        {
         "geo": "geo",
         "hovertemplate": "<b>%{hovertext}</b><br><br>AvgTone=-0.10845986984816<br>ActionGeo_Lat=%{lat}<br>ActionGeo_Long=%{lon}<extra></extra>",
         "hovertext": [
          "https://www.dailymail.co.uk/tvshowbiz/article-13539149/kevin-costner-christine-baumgartner-single-father-children-divorce.html"
         ],
         "lat": [
          "34.0983"
         ],
         "legendgroup": "-0.10845986984816",
         "lon": [
          "-118.327"
         ],
         "marker": {
          "color": "#FECB52",
          "symbol": "circle"
         },
         "mode": "markers",
         "name": "-0.10845986984816",
         "showlegend": true,
         "type": "scattergeo"
        },
        {
         "geo": "geo",
         "hovertemplate": "<b>%{hovertext}</b><br><br>AvgTone=-1.35804197089451<br>ActionGeo_Lat=%{lat}<br>ActionGeo_Long=%{lon}<extra></extra>",
         "hovertext": [
          "https://torontosun.com/entertainment/celebrity/armie-hammer-grateful-for-cannibal-rumours-that-killed-career"
         ],
         "lat": [
          "34.0983"
         ],
         "legendgroup": "-1.35804197089451",
         "lon": [
          "-118.327"
         ],
         "marker": {
          "color": "#636efa",
          "symbol": "circle"
         },
         "mode": "markers",
         "name": "-1.35804197089451",
         "showlegend": true,
         "type": "scattergeo"
        },
        {
         "geo": "geo",
         "hovertemplate": "<b>%{hovertext}</b><br><br>AvgTone=-4.76190476190476<br>ActionGeo_Lat=%{lat}<br>ActionGeo_Long=%{lon}<extra></extra>",
         "hovertext": [
          "https://www.wbrc.com/2024/06/17/6-people-including-3-children-killed-massive-house-fire/",
          "https://www.wbrc.com/2024/06/17/6-people-including-3-children-killed-massive-house-fire/"
         ],
         "lat": [
          "33.3834",
          "33.3834"
         ],
         "legendgroup": "-4.76190476190476",
         "lon": [
          "-84.7666",
          "-84.7666"
         ],
         "marker": {
          "color": "#EF553B",
          "symbol": "circle"
         },
         "mode": "markers",
         "name": "-4.76190476190476",
         "showlegend": true,
         "type": "scattergeo"
        },
        {
         "geo": "geo",
         "hovertemplate": "<b>%{hovertext}</b><br><br>AvgTone=-2.83018867924528<br>ActionGeo_Lat=%{lat}<br>ActionGeo_Long=%{lon}<extra></extra>",
         "hovertext": [
          "https://bdnews24.com/politics/23d496fc4c9d"
         ],
         "lat": [
          "41.85"
         ],
         "legendgroup": "-2.83018867924528",
         "lon": [
          "-87.6501"
         ],
         "marker": {
          "color": "#00cc96",
          "symbol": "circle"
         },
         "mode": "markers",
         "name": "-2.83018867924528",
         "showlegend": true,
         "type": "scattergeo"
        },
        {
         "geo": "geo",
         "hovertemplate": "<b>%{hovertext}</b><br><br>AvgTone=-3.24074074074074<br>ActionGeo_Lat=%{lat}<br>ActionGeo_Long=%{lon}<extra></extra>",
         "hovertext": [
          "https://www.reviewjournal.com/news/politics-and-government/nevada/aoc-to-stump-for-biden-in-las-vegas-on-thursday-3070233/"
         ],
         "lat": [
          "38.4199"
         ],
         "legendgroup": "-3.24074074074074",
         "lon": [
          "-117.122"
         ],
         "marker": {
          "color": "#ab63fa",
          "symbol": "circle"
         },
         "mode": "markers",
         "name": "-3.24074074074074",
         "showlegend": true,
         "type": "scattergeo"
        },
        {
         "geo": "geo",
         "hovertemplate": "<b>%{hovertext}</b><br><br>AvgTone=-14.1843971631206<br>ActionGeo_Lat=%{lat}<br>ActionGeo_Long=%{lon}<extra></extra>",
         "hovertext": [
          "http://www.myanmarmuslim.net/news/20240618080f599918.html"
         ],
         "lat": [
          "50.4333"
         ],
         "legendgroup": "-14.1843971631206",
         "lon": [
          "30.5167"
         ],
         "marker": {
          "color": "#FFA15A",
          "symbol": "circle"
         },
         "mode": "markers",
         "name": "-14.1843971631206",
         "showlegend": true,
         "type": "scattergeo"
        },
        {
         "geo": "geo",
         "hovertemplate": "<b>%{hovertext}</b><br><br>AvgTone=-6.368330464716<br>ActionGeo_Lat=%{lat}<br>ActionGeo_Long=%{lon}<extra></extra>",
         "hovertext": [
          "https://kw3.com/ixp/1134/p/city-property-camping-ban/"
         ],
         "lat": [
          "42.439"
         ],
         "legendgroup": "-6.368330464716",
         "lon": [
          "-123.328"
         ],
         "marker": {
          "color": "#19d3f3",
          "symbol": "circle"
         },
         "mode": "markers",
         "name": "-6.368330464716",
         "showlegend": true,
         "type": "scattergeo"
        },
        {
         "geo": "geo",
         "hovertemplate": "<b>%{hovertext}</b><br><br>AvgTone=1.78571428571429<br>ActionGeo_Lat=%{lat}<br>ActionGeo_Long=%{lon}<extra></extra>",
         "hovertext": [
          "https://ga.de/news/politik/ausland/giorgia-meloni-und-ihr-wahrer-einfluss-in-europa_aid-114586229"
         ],
         "lat": [
          "55.7522"
         ],
         "legendgroup": "1.78571428571429",
         "lon": [
          "37.6156"
         ],
         "marker": {
          "color": "#FF6692",
          "symbol": "circle"
         },
         "mode": "markers",
         "name": "1.78571428571429",
         "showlegend": true,
         "type": "scattergeo"
        },
        {
         "geo": "geo",
         "hovertemplate": "<b>%{hovertext}</b><br><br>AvgTone=-6.18556701030927<br>ActionGeo_Lat=%{lat}<br>ActionGeo_Long=%{lon}<extra></extra>",
         "hovertext": [
          "http://www.lmtonline.com/local/article/duo-arrested-human-smuggling-attempt-12-migrants-19518587.php"
         ],
         "lat": [
          "31.106"
         ],
         "legendgroup": "-6.18556701030927",
         "lon": [
          "-97.6475"
         ],
         "marker": {
          "color": "#B6E880",
          "symbol": "circle"
         },
         "mode": "markers",
         "name": "-6.18556701030927",
         "showlegend": true,
         "type": "scattergeo"
        },
        {
         "geo": "geo",
         "hovertemplate": "<b>%{hovertext}</b><br><br>AvgTone=-5.92991913746631<br>ActionGeo_Lat=%{lat}<br>ActionGeo_Long=%{lon}<extra></extra>",
         "hovertext": [
          "https://omaha.com/news/local/crime-courts/omaha-teen-convicted-of-2022-murder-briefly-escapes-lincoln-yrtc/article_e4a03be4-2cc9-11ef-9e27-4f751f613006.html"
         ],
         "lat": [
          "41.3"
         ],
         "legendgroup": "-5.92991913746631",
         "lon": [
          "-96.167"
         ],
         "marker": {
          "color": "#FF97FF",
          "symbol": "circle"
         },
         "mode": "markers",
         "name": "-5.92991913746631",
         "showlegend": true,
         "type": "scattergeo"
        },
        {
         "geo": "geo",
         "hovertemplate": "<b>%{hovertext}</b><br><br>AvgTone=-1.99203187250996<br>ActionGeo_Lat=%{lat}<br>ActionGeo_Long=%{lon}<extra></extra>",
         "hovertext": [
          "https://www.lifo.gr/now/world/o-poytin-orise-nea-yfypoyrgo-amynas-tin-anipsia-toy-anna-tsibileba"
         ],
         "lat": [
          "55.7522"
         ],
         "legendgroup": "-1.99203187250996",
         "lon": [
          "37.6156"
         ],
         "marker": {
          "color": "#FECB52",
          "symbol": "circle"
         },
         "mode": "markers",
         "name": "-1.99203187250996",
         "showlegend": true,
         "type": "scattergeo"
        },
        {
         "geo": "geo",
         "hovertemplate": "<b>%{hovertext}</b><br><br>AvgTone=-2.12765957446808<br>ActionGeo_Lat=%{lat}<br>ActionGeo_Long=%{lon}<extra></extra>",
         "hovertext": [
          "https://wiadomosci.gazeta.pl/wiadomosci/7,114881,31067881,seria-dziwnych-zachowan-joe-bidena-nawet-najmniejszy-element.html"
         ],
         "lat": [
          "41.85"
         ],
         "legendgroup": "-2.12765957446808",
         "lon": [
          "-87.6501"
         ],
         "marker": {
          "color": "#636efa",
          "symbol": "circle"
         },
         "mode": "markers",
         "name": "-2.12765957446808",
         "showlegend": true,
         "type": "scattergeo"
        },
        {
         "geo": "geo",
         "hovertemplate": "<b>%{hovertext}</b><br><br>AvgTone=-1.5625<br>ActionGeo_Lat=%{lat}<br>ActionGeo_Long=%{lon}<extra></extra>",
         "hovertext": [
          "https://russian.rt.com/russia/news/1329419-turizm-populyarnye-napravleniya"
         ],
         "lat": [
          "43.5992"
         ],
         "legendgroup": "-1.5625",
         "lon": [
          "39.7257"
         ],
         "marker": {
          "color": "#EF553B",
          "symbol": "circle"
         },
         "mode": "markers",
         "name": "-1.5625",
         "showlegend": true,
         "type": "scattergeo"
        },
        {
         "geo": "geo",
         "hovertemplate": "<b>%{hovertext}</b><br><br>AvgTone=-8.87372013651882<br>ActionGeo_Lat=%{lat}<br>ActionGeo_Long=%{lon}<extra></extra>",
         "hovertext": [
          "https://www.newportdispatch.com/2024/06/17/ri-state-police-make-multiple-arrests-for-dui-eluding-and-domestic-violence-charges/"
         ],
         "lat": [
          "41.8787"
         ],
         "legendgroup": "-8.87372013651882",
         "lon": [
          "-71.3826"
         ],
         "marker": {
          "color": "#00cc96",
          "symbol": "circle"
         },
         "mode": "markers",
         "name": "-8.87372013651882",
         "showlegend": true,
         "type": "scattergeo"
        },
        {
         "geo": "geo",
         "hovertemplate": "<b>%{hovertext}</b><br><br>AvgTone=-5.02092050209205<br>ActionGeo_Lat=%{lat}<br>ActionGeo_Long=%{lon}<extra></extra>",
         "hovertext": [
          "https://runews24.ru:443/world/17/06/2024/prava-na-brendyi-moskovskaya-i-stolichnaya-prodanyi-v-evrope-za-16-mln-evro",
          "https://runews24.ru:443/world/17/06/2024/prava-na-brendyi-moskovskaya-i-stolichnaya-prodanyi-v-evrope-za-16-mln-evro"
         ],
         "lat": [
          "52.35",
          "55.7522"
         ],
         "legendgroup": "-5.02092050209205",
         "lon": [
          "4.91667",
          "37.6156"
         ],
         "marker": {
          "color": "#ab63fa",
          "symbol": "circle"
         },
         "mode": "markers",
         "name": "-5.02092050209205",
         "showlegend": true,
         "type": "scattergeo"
        },
        {
         "geo": "geo",
         "hovertemplate": "<b>%{hovertext}</b><br><br>AvgTone=5.83941605839416<br>ActionGeo_Lat=%{lat}<br>ActionGeo_Long=%{lon}<extra></extra>",
         "hovertext": [
          "https://www.androidheadlines.com/2024/06/adobe-acrobat-ai-chatbot-now-enables-multi-document-analysis.html"
         ],
         "lat": [
          null
         ],
         "legendgroup": "5.83941605839416",
         "lon": [
          null
         ],
         "marker": {
          "color": "#FFA15A",
          "symbol": "circle"
         },
         "mode": "markers",
         "name": "5.83941605839416",
         "showlegend": true,
         "type": "scattergeo"
        },
        {
         "geo": "geo",
         "hovertemplate": "<b>%{hovertext}</b><br><br>AvgTone=-1.13207547169812<br>ActionGeo_Lat=%{lat}<br>ActionGeo_Long=%{lon}<extra></extra>",
         "hovertext": [
          "https://www.business-standard.com/world-news/china-opens-antidumping-investigation-into-eu-pork-imports-report-124061800008_1.html"
         ],
         "lat": [
          "37.5664"
         ],
         "legendgroup": "-1.13207547169812",
         "lon": [
          "127.0"
         ],
         "marker": {
          "color": "#19d3f3",
          "symbol": "circle"
         },
         "mode": "markers",
         "name": "-1.13207547169812",
         "showlegend": true,
         "type": "scattergeo"
        },
        {
         "geo": "geo",
         "hovertemplate": "<b>%{hovertext}</b><br><br>AvgTone=-4.06779661016949<br>ActionGeo_Lat=%{lat}<br>ActionGeo_Long=%{lon}<extra></extra>",
         "hovertext": [
          "http://www.myanmarmuslim.net/news/20240618853c599139.html"
         ],
         "lat": [
          "55.7522"
         ],
         "legendgroup": "-4.06779661016949",
         "lon": [
          "37.6156"
         ],
         "marker": {
          "color": "#FF6692",
          "symbol": "circle"
         },
         "mode": "markers",
         "name": "-4.06779661016949",
         "showlegend": true,
         "type": "scattergeo"
        },
        {
         "geo": "geo",
         "hovertemplate": "<b>%{hovertext}</b><br><br>AvgTone=0.4996876951905<br>ActionGeo_Lat=%{lat}<br>ActionGeo_Long=%{lon}<extra></extra>",
         "hovertext": [
          "https://www.athensvoice.gr/politismos/theatro-opera/855105/ifigeneia-i-en-aulidi-apo-ton-timofei-kouliabin-stin-epidauro/"
         ],
         "lat": [
          "37.9833"
         ],
         "legendgroup": "0.4996876951905",
         "lon": [
          "23.7333"
         ],
         "marker": {
          "color": "#B6E880",
          "symbol": "circle"
         },
         "mode": "markers",
         "name": "0.4996876951905",
         "showlegend": true,
         "type": "scattergeo"
        },
        {
         "geo": "geo",
         "hovertemplate": "<b>%{hovertext}</b><br><br>AvgTone=-1.99692780337942<br>ActionGeo_Lat=%{lat}<br>ActionGeo_Long=%{lon}<extra></extra>",
         "hovertext": [
          "http://www.myanmarmuslim.net/news/20240618835f599108.html"
         ],
         "lat": [
          "27.8333"
         ],
         "legendgroup": "-1.99692780337942",
         "lon": [
          "-81.717"
         ],
         "marker": {
          "color": "#FF97FF",
          "symbol": "circle"
         },
         "mode": "markers",
         "name": "-1.99692780337942",
         "showlegend": true,
         "type": "scattergeo"
        },
        {
         "geo": "geo",
         "hovertemplate": "<b>%{hovertext}</b><br><br>AvgTone=0.51679586563307<br>ActionGeo_Lat=%{lat}<br>ActionGeo_Long=%{lon}<extra></extra>",
         "hovertext": [
          "https://www.channelnewsasia.com/world/putin-visit-north-korea-kremlin-floats-idea-strategic-treaty-4416601"
         ],
         "lat": [
          "55.7522"
         ],
         "legendgroup": "0.51679586563307",
         "lon": [
          "37.6156"
         ],
         "marker": {
          "color": "#FECB52",
          "symbol": "circle"
         },
         "mode": "markers",
         "name": "0.51679586563307",
         "showlegend": true,
         "type": "scattergeo"
        },
        {
         "geo": "geo",
         "hovertemplate": "<b>%{hovertext}</b><br><br>AvgTone=-4.77031802120141<br>ActionGeo_Lat=%{lat}<br>ActionGeo_Long=%{lon}<extra></extra>",
         "hovertext": [
          "https://vn.20minut.ua/Kryminal/hto-z-vinnichchini-zaneseniy-u-reestr-derzhzradnikiv-diznalisya-yaki-p-11931638.html"
         ],
         "lat": [
          "59.8944"
         ],
         "legendgroup": "-4.77031802120141",
         "lon": [
          "30.2642"
         ],
         "marker": {
          "color": "#636efa",
          "symbol": "circle"
         },
         "mode": "markers",
         "name": "-4.77031802120141",
         "showlegend": true,
         "type": "scattergeo"
        }
       ],
       "layout": {
        "geo": {
         "center": {},
         "domain": {
          "x": [
           0,
           1
          ],
          "y": [
           0,
           1
          ]
         },
         "projection": {
          "type": "natural earth"
         }
        },
        "legend": {
         "title": {
          "text": "AvgTone"
         },
         "tracegroupgap": 0
        },
        "margin": {
         "t": 60
        },
        "template": {
         "data": {
          "bar": [
           {
            "error_x": {
             "color": "#2a3f5f"
            },
            "error_y": {
             "color": "#2a3f5f"
            },
            "marker": {
             "line": {
              "color": "#E5ECF6",
              "width": 0.5
             },
             "pattern": {
              "fillmode": "overlay",
              "size": 10,
              "solidity": 0.2
             }
            },
            "type": "bar"
           }
          ],
          "barpolar": [
           {
            "marker": {
             "line": {
              "color": "#E5ECF6",
              "width": 0.5
             },
             "pattern": {
              "fillmode": "overlay",
              "size": 10,
              "solidity": 0.2
             }
            },
            "type": "barpolar"
           }
          ],
          "carpet": [
           {
            "aaxis": {
             "endlinecolor": "#2a3f5f",
             "gridcolor": "white",
             "linecolor": "white",
             "minorgridcolor": "white",
             "startlinecolor": "#2a3f5f"
            },
            "baxis": {
             "endlinecolor": "#2a3f5f",
             "gridcolor": "white",
             "linecolor": "white",
             "minorgridcolor": "white",
             "startlinecolor": "#2a3f5f"
            },
            "type": "carpet"
           }
          ],
          "choropleth": [
           {
            "colorbar": {
             "outlinewidth": 0,
             "ticks": ""
            },
            "type": "choropleth"
           }
          ],
          "contour": [
           {
            "colorbar": {
             "outlinewidth": 0,
             "ticks": ""
            },
            "colorscale": [
             [
              0,
              "#0d0887"
             ],
             [
              0.1111111111111111,
              "#46039f"
             ],
             [
              0.2222222222222222,
              "#7201a8"
             ],
             [
              0.3333333333333333,
              "#9c179e"
             ],
             [
              0.4444444444444444,
              "#bd3786"
             ],
             [
              0.5555555555555556,
              "#d8576b"
             ],
             [
              0.6666666666666666,
              "#ed7953"
             ],
             [
              0.7777777777777778,
              "#fb9f3a"
             ],
             [
              0.8888888888888888,
              "#fdca26"
             ],
             [
              1,
              "#f0f921"
             ]
            ],
            "type": "contour"
           }
          ],
          "contourcarpet": [
           {
            "colorbar": {
             "outlinewidth": 0,
             "ticks": ""
            },
            "type": "contourcarpet"
           }
          ],
          "heatmap": [
           {
            "colorbar": {
             "outlinewidth": 0,
             "ticks": ""
            },
            "colorscale": [
             [
              0,
              "#0d0887"
             ],
             [
              0.1111111111111111,
              "#46039f"
             ],
             [
              0.2222222222222222,
              "#7201a8"
             ],
             [
              0.3333333333333333,
              "#9c179e"
             ],
             [
              0.4444444444444444,
              "#bd3786"
             ],
             [
              0.5555555555555556,
              "#d8576b"
             ],
             [
              0.6666666666666666,
              "#ed7953"
             ],
             [
              0.7777777777777778,
              "#fb9f3a"
             ],
             [
              0.8888888888888888,
              "#fdca26"
             ],
             [
              1,
              "#f0f921"
             ]
            ],
            "type": "heatmap"
           }
          ],
          "heatmapgl": [
           {
            "colorbar": {
             "outlinewidth": 0,
             "ticks": ""
            },
            "colorscale": [
             [
              0,
              "#0d0887"
             ],
             [
              0.1111111111111111,
              "#46039f"
             ],
             [
              0.2222222222222222,
              "#7201a8"
             ],
             [
              0.3333333333333333,
              "#9c179e"
             ],
             [
              0.4444444444444444,
              "#bd3786"
             ],
             [
              0.5555555555555556,
              "#d8576b"
             ],
             [
              0.6666666666666666,
              "#ed7953"
             ],
             [
              0.7777777777777778,
              "#fb9f3a"
             ],
             [
              0.8888888888888888,
              "#fdca26"
             ],
             [
              1,
              "#f0f921"
             ]
            ],
            "type": "heatmapgl"
           }
          ],
          "histogram": [
           {
            "marker": {
             "pattern": {
              "fillmode": "overlay",
              "size": 10,
              "solidity": 0.2
             }
            },
            "type": "histogram"
           }
          ],
          "histogram2d": [
           {
            "colorbar": {
             "outlinewidth": 0,
             "ticks": ""
            },
            "colorscale": [
             [
              0,
              "#0d0887"
             ],
             [
              0.1111111111111111,
              "#46039f"
             ],
             [
              0.2222222222222222,
              "#7201a8"
             ],
             [
              0.3333333333333333,
              "#9c179e"
             ],
             [
              0.4444444444444444,
              "#bd3786"
             ],
             [
              0.5555555555555556,
              "#d8576b"
             ],
             [
              0.6666666666666666,
              "#ed7953"
             ],
             [
              0.7777777777777778,
              "#fb9f3a"
             ],
             [
              0.8888888888888888,
              "#fdca26"
             ],
             [
              1,
              "#f0f921"
             ]
            ],
            "type": "histogram2d"
           }
          ],
          "histogram2dcontour": [
           {
            "colorbar": {
             "outlinewidth": 0,
             "ticks": ""
            },
            "colorscale": [
             [
              0,
              "#0d0887"
             ],
             [
              0.1111111111111111,
              "#46039f"
             ],
             [
              0.2222222222222222,
              "#7201a8"
             ],
             [
              0.3333333333333333,
              "#9c179e"
             ],
             [
              0.4444444444444444,
              "#bd3786"
             ],
             [
              0.5555555555555556,
              "#d8576b"
             ],
             [
              0.6666666666666666,
              "#ed7953"
             ],
             [
              0.7777777777777778,
              "#fb9f3a"
             ],
             [
              0.8888888888888888,
              "#fdca26"
             ],
             [
              1,
              "#f0f921"
             ]
            ],
            "type": "histogram2dcontour"
           }
          ],
          "mesh3d": [
           {
            "colorbar": {
             "outlinewidth": 0,
             "ticks": ""
            },
            "type": "mesh3d"
           }
          ],
          "parcoords": [
           {
            "line": {
             "colorbar": {
              "outlinewidth": 0,
              "ticks": ""
             }
            },
            "type": "parcoords"
           }
          ],
          "pie": [
           {
            "automargin": true,
            "type": "pie"
           }
          ],
          "scatter": [
           {
            "fillpattern": {
             "fillmode": "overlay",
             "size": 10,
             "solidity": 0.2
            },
            "type": "scatter"
           }
          ],
          "scatter3d": [
           {
            "line": {
             "colorbar": {
              "outlinewidth": 0,
              "ticks": ""
             }
            },
            "marker": {
             "colorbar": {
              "outlinewidth": 0,
              "ticks": ""
             }
            },
            "type": "scatter3d"
           }
          ],
          "scattercarpet": [
           {
            "marker": {
             "colorbar": {
              "outlinewidth": 0,
              "ticks": ""
             }
            },
            "type": "scattercarpet"
           }
          ],
          "scattergeo": [
           {
            "marker": {
             "colorbar": {
              "outlinewidth": 0,
              "ticks": ""
             }
            },
            "type": "scattergeo"
           }
          ],
          "scattergl": [
           {
            "marker": {
             "colorbar": {
              "outlinewidth": 0,
              "ticks": ""
             }
            },
            "type": "scattergl"
           }
          ],
          "scattermapbox": [
           {
            "marker": {
             "colorbar": {
              "outlinewidth": 0,
              "ticks": ""
             }
            },
            "type": "scattermapbox"
           }
          ],
          "scatterpolar": [
           {
            "marker": {
             "colorbar": {
              "outlinewidth": 0,
              "ticks": ""
             }
            },
            "type": "scatterpolar"
           }
          ],
          "scatterpolargl": [
           {
            "marker": {
             "colorbar": {
              "outlinewidth": 0,
              "ticks": ""
             }
            },
            "type": "scatterpolargl"
           }
          ],
          "scatterternary": [
           {
            "marker": {
             "colorbar": {
              "outlinewidth": 0,
              "ticks": ""
             }
            },
            "type": "scatterternary"
           }
          ],
          "surface": [
           {
            "colorbar": {
             "outlinewidth": 0,
             "ticks": ""
            },
            "colorscale": [
             [
              0,
              "#0d0887"
             ],
             [
              0.1111111111111111,
              "#46039f"
             ],
             [
              0.2222222222222222,
              "#7201a8"
             ],
             [
              0.3333333333333333,
              "#9c179e"
             ],
             [
              0.4444444444444444,
              "#bd3786"
             ],
             [
              0.5555555555555556,
              "#d8576b"
             ],
             [
              0.6666666666666666,
              "#ed7953"
             ],
             [
              0.7777777777777778,
              "#fb9f3a"
             ],
             [
              0.8888888888888888,
              "#fdca26"
             ],
             [
              1,
              "#f0f921"
             ]
            ],
            "type": "surface"
           }
          ],
          "table": [
           {
            "cells": {
             "fill": {
              "color": "#EBF0F8"
             },
             "line": {
              "color": "white"
             }
            },
            "header": {
             "fill": {
              "color": "#C8D4E3"
             },
             "line": {
              "color": "white"
             }
            },
            "type": "table"
           }
          ]
         },
         "layout": {
          "annotationdefaults": {
           "arrowcolor": "#2a3f5f",
           "arrowhead": 0,
           "arrowwidth": 1
          },
          "autotypenumbers": "strict",
          "coloraxis": {
           "colorbar": {
            "outlinewidth": 0,
            "ticks": ""
           }
          },
          "colorscale": {
           "diverging": [
            [
             0,
             "#8e0152"
            ],
            [
             0.1,
             "#c51b7d"
            ],
            [
             0.2,
             "#de77ae"
            ],
            [
             0.3,
             "#f1b6da"
            ],
            [
             0.4,
             "#fde0ef"
            ],
            [
             0.5,
             "#f7f7f7"
            ],
            [
             0.6,
             "#e6f5d0"
            ],
            [
             0.7,
             "#b8e186"
            ],
            [
             0.8,
             "#7fbc41"
            ],
            [
             0.9,
             "#4d9221"
            ],
            [
             1,
             "#276419"
            ]
           ],
           "sequential": [
            [
             0,
             "#0d0887"
            ],
            [
             0.1111111111111111,
             "#46039f"
            ],
            [
             0.2222222222222222,
             "#7201a8"
            ],
            [
             0.3333333333333333,
             "#9c179e"
            ],
            [
             0.4444444444444444,
             "#bd3786"
            ],
            [
             0.5555555555555556,
             "#d8576b"
            ],
            [
             0.6666666666666666,
             "#ed7953"
            ],
            [
             0.7777777777777778,
             "#fb9f3a"
            ],
            [
             0.8888888888888888,
             "#fdca26"
            ],
            [
             1,
             "#f0f921"
            ]
           ],
           "sequentialminus": [
            [
             0,
             "#0d0887"
            ],
            [
             0.1111111111111111,
             "#46039f"
            ],
            [
             0.2222222222222222,
             "#7201a8"
            ],
            [
             0.3333333333333333,
             "#9c179e"
            ],
            [
             0.4444444444444444,
             "#bd3786"
            ],
            [
             0.5555555555555556,
             "#d8576b"
            ],
            [
             0.6666666666666666,
             "#ed7953"
            ],
            [
             0.7777777777777778,
             "#fb9f3a"
            ],
            [
             0.8888888888888888,
             "#fdca26"
            ],
            [
             1,
             "#f0f921"
            ]
           ]
          },
          "colorway": [
           "#636efa",
           "#EF553B",
           "#00cc96",
           "#ab63fa",
           "#FFA15A",
           "#19d3f3",
           "#FF6692",
           "#B6E880",
           "#FF97FF",
           "#FECB52"
          ],
          "font": {
           "color": "#2a3f5f"
          },
          "geo": {
           "bgcolor": "white",
           "lakecolor": "white",
           "landcolor": "#E5ECF6",
           "showlakes": true,
           "showland": true,
           "subunitcolor": "white"
          },
          "hoverlabel": {
           "align": "left"
          },
          "hovermode": "closest",
          "mapbox": {
           "style": "light"
          },
          "paper_bgcolor": "white",
          "plot_bgcolor": "#E5ECF6",
          "polar": {
           "angularaxis": {
            "gridcolor": "white",
            "linecolor": "white",
            "ticks": ""
           },
           "bgcolor": "#E5ECF6",
           "radialaxis": {
            "gridcolor": "white",
            "linecolor": "white",
            "ticks": ""
           }
          },
          "scene": {
           "xaxis": {
            "backgroundcolor": "#E5ECF6",
            "gridcolor": "white",
            "gridwidth": 2,
            "linecolor": "white",
            "showbackground": true,
            "ticks": "",
            "zerolinecolor": "white"
           },
           "yaxis": {
            "backgroundcolor": "#E5ECF6",
            "gridcolor": "white",
            "gridwidth": 2,
            "linecolor": "white",
            "showbackground": true,
            "ticks": "",
            "zerolinecolor": "white"
           },
           "zaxis": {
            "backgroundcolor": "#E5ECF6",
            "gridcolor": "white",
            "gridwidth": 2,
            "linecolor": "white",
            "showbackground": true,
            "ticks": "",
            "zerolinecolor": "white"
           }
          },
          "shapedefaults": {
           "line": {
            "color": "#2a3f5f"
           }
          },
          "ternary": {
           "aaxis": {
            "gridcolor": "white",
            "linecolor": "white",
            "ticks": ""
           },
           "baxis": {
            "gridcolor": "white",
            "linecolor": "white",
            "ticks": ""
           },
           "bgcolor": "#E5ECF6",
           "caxis": {
            "gridcolor": "white",
            "linecolor": "white",
            "ticks": ""
           }
          },
          "title": {
           "x": 0.05
          },
          "xaxis": {
           "automargin": true,
           "gridcolor": "white",
           "linecolor": "white",
           "ticks": "",
           "title": {
            "standoff": 15
           },
           "zerolinecolor": "white",
           "zerolinewidth": 2
          },
          "yaxis": {
           "automargin": true,
           "gridcolor": "white",
           "linecolor": "white",
           "ticks": "",
           "title": {
            "standoff": 15
           },
           "zerolinecolor": "white",
           "zerolinewidth": 2
          }
         }
        }
       }
      }
     },
     "metadata": {},
     "output_type": "display_data"
    }
   ],
   "source": [
    "import plotly\n",
    "import plotly.express as px\n",
    "\n",
    "fig = px.scatter_geo(data_frame=df, lat='ActionGeo_Lat', lon='ActionGeo_Long', color=\"AvgTone\",\n",
    "                     hover_name=\"SOURCEURL\",\n",
    "                     projection=\"natural earth\")\n",
    "plotly.io.show(fig, renderer=None, validate=True)"
   ]
  }
 ],
 "metadata": {
  "kernelspec": {
   "display_name": "Python 3",
   "language": "python",
   "name": "python3"
  },
  "language_info": {
   "codemirror_mode": {
    "name": "ipython",
    "version": 3
   },
   "file_extension": ".py",
   "mimetype": "text/x-python",
   "name": "python",
   "nbconvert_exporter": "python",
   "pygments_lexer": "ipython3",
   "version": "3.9.6"
  }
 },
 "nbformat": 4,
 "nbformat_minor": 2
}
