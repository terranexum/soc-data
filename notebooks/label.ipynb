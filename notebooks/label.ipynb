{
 "cells": [
  {
   "cell_type": "code",
   "execution_count": 2,
   "metadata": {},
   "outputs": [
    {
     "data": {
      "application/vnd.jupyter.widget-view+json": {
       "model_id": "f5ef7573fa144012bf735402613afdeb",
       "version_major": 2,
       "version_minor": 0
      },
      "text/plain": [
       "Label(value='@TimesAlgebraIND Congratulations shreyasi @Rivalz_AI')"
      ]
     },
     "metadata": {},
     "output_type": "display_data"
    },
    {
     "data": {
      "application/vnd.jupyter.widget-view+json": {
       "model_id": "0b35833ddf30422d8449c815f2e09e54",
       "version_major": 2,
       "version_minor": 0
      },
      "text/plain": [
       "HBox(children=(Button(description='10', style=ButtonStyle()), Button(description='5', style=ButtonStyle()), Bu…"
      ]
     },
     "metadata": {},
     "output_type": "display_data"
    }
   ],
   "source": [
    "import pandas as pd\n",
    "import ipywidgets as widgets\n",
    "from IPython.display import display\n",
    "\n",
    "\n",
    "df = pd.read_csv('tweets_with_sentiment_copy.csv')\n",
    "\n",
    "\n",
    "current_index = 0\n",
    "\n",
    "\n",
    "def label_sentiment(sentiment_value):\n",
    "    global current_index\n",
    "    df.at[current_index, 'Sentiment'] = sentiment_value\n",
    "    current_index += 1\n",
    "    if current_index < len(df):\n",
    "        tweet_label.value = df.at[current_index, 'Tweet']\n",
    "    else:\n",
    "        df.to_csv('combined_tweets_with_sentiment_labeled.csv', index=False)\n",
    "        tweet_label.value = \"All tweets have been labeled.\"\n",
    "        for button in sentiment_buttons:\n",
    "            button.disabled = True\n",
    "\n",
    "tweet_label = widgets.Label(value=df.at[current_index, 'Tweet'])\n",
    "\n",
    "sentiment_values = [10, 5, 0, -5, -10]\n",
    "sentiment_buttons = [widgets.Button(description=str(value)) for value in sentiment_values]\n",
    "\n",
    "for button, value in zip(sentiment_buttons, sentiment_values):\n",
    "    button.on_click(lambda b, v=value: label_sentiment(v))\n",
    "\n",
    "display(tweet_label)\n",
    "display(widgets.HBox(sentiment_buttons))"
   ]
  },
  {
   "cell_type": "code",
   "execution_count": 4,
   "metadata": {},
   "outputs": [
    {
     "name": "stdout",
     "output_type": "stream",
     "text": [
      "81\n"
     ]
    }
   ],
   "source": [
    "print(current_index)"
   ]
  }
 ],
 "metadata": {
  "kernelspec": {
   "display_name": "Python 3",
   "language": "python",
   "name": "python3"
  },
  "language_info": {
   "codemirror_mode": {
    "name": "ipython",
    "version": 3
   },
   "file_extension": ".py",
   "mimetype": "text/x-python",
   "name": "python",
   "nbconvert_exporter": "python",
   "pygments_lexer": "ipython3",
   "version": "3.9.6"
  }
 },
 "nbformat": 4,
 "nbformat_minor": 2
}
