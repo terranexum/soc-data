{
 "cells": [
  {
   "cell_type": "code",
   "execution_count": 28,
   "metadata": {},
   "outputs": [],
   "source": [
    "import pandas as pd\n",
    "import plotly\n",
    "import plotly.express as px"
   ]
  },
  {
   "cell_type": "code",
   "execution_count": 70,
   "metadata": {},
   "outputs": [
    {
     "name": "stdout",
     "output_type": "stream",
     "text": [
      "                                         Issuer Issue Month  \\\n",
      "0                                    Brookfield      Jun-24   \n",
      "1                     GPT Wholesale Office Fund      Apr-24   \n",
      "2                     GPT Wholesale Office Fund      Apr-24   \n",
      "3    Charter Hall DVP2 Chifley Investment Trust      Mar-24   \n",
      "4                                  Barclays PLC      Mar-24   \n",
      "..                                          ...         ...   \n",
      "169                             OVG Real Estate      May-16   \n",
      "170                                     Westpac      May-16   \n",
      "171                                   Axis Bank      May-16   \n",
      "172                                    ABN AMRO      Jun-15   \n",
      "173                                    ANZ Bank      May-15   \n",
      "\n",
      "    Size (in issuance currency) Size (USD equivalent)             Tenor  \\\n",
      "0                  confidential                   NaN               NaN   \n",
      "1                  confidential                   NaN               NaN   \n",
      "2                  confidential                   NaN               NaN   \n",
      "3                  confidential                   NaN               NaN   \n",
      "4                       EUR 67m            73,283,930  7 years 2 months   \n",
      "..                          ...                   ...               ...   \n",
      "169                     EUR 80m            89,000,000           5 years   \n",
      "170                    AUD 500m           360,000,000           5 years   \n",
      "171                    USD 500m           500,000,000           5 years   \n",
      "172                    EUR 500m           556,000,000           5 years   \n",
      "173                    AUD 600m           464,000,000           5 years   \n",
      "\n",
      "     Issuer Country                                    Sector Criteria  \\\n",
      "0         Australia                Low Carbon Buildings (Commercial)\\n   \n",
      "1         Australia                Low Carbon Buildings (Commercial)\\n   \n",
      "2         Australia                Low Carbon Buildings (Commercial)\\n   \n",
      "3         Australia                Low Carbon Buildings (Commercial)\\n   \n",
      "4    United Kingdom  Low carbon buildings (residential), marine ren...   \n",
      "..              ...                                                ...   \n",
      "169     Netherlands                  Low Carbon Buildings (Upgrades)\\n   \n",
      "170       Australia          Low Carbon Buildings (Commercial)\\nWind\\n   \n",
      "171           India  Low Carbon Buildings (Commercial)\\nLow Carbon ...   \n",
      "172          Europe  Low Carbon Buildings (Commercial)\\nLow Carbon ...   \n",
      "173       Australia                Low Carbon Buildings\\nSolar\\nWind\\n   \n",
      "\n",
      "    Approved Verifier                                    Verifier Report  \\\n",
      "0                 DNV                                                NaN   \n",
      "1        EY Australia                                                NaN   \n",
      "2        EY Australia                                                NaN   \n",
      "3                 DNV                                                NaN   \n",
      "4             ISS ESG  https://www.climatebonds.net/files/files/Barcl...   \n",
      "..                ...                                                ...   \n",
      "169    Oekom Research  https://www.climatebonds.net/files/files/oekom...   \n",
      "170   EY Asia Pacific  https://www.climatebonds.net/files/files/westp...   \n",
      "171        KPMG India  https://www.climatebonds.net/files/files/PUBLI...   \n",
      "172   Oekom Research   https://www.climatebonds.net/files/files/ABN A...   \n",
      "173   EY Asia Pacific  https://www.climatebonds.net/files/files/ANZ 2...   \n",
      "\n",
      "                                        Issuer Profile  Status  \n",
      "0                                                  NaN       -  \n",
      "1                                                  NaN       -  \n",
      "2                                                  NaN       -  \n",
      "3                                                  NaN       -  \n",
      "4                                                  NaN       -  \n",
      "..                                                 ...     ...  \n",
      "169  https://www.climatebonds.net/certification/ovg...  Repaid  \n",
      "170  https://www.climatebonds.net/certification/wes...       -  \n",
      "171  https://www.climatebonds.net/certification/axi...       -  \n",
      "172  https://www.climatebonds.net/certification/abn...       -  \n",
      "173  https://www.climatebonds.net/certification/anz...       -  \n",
      "\n",
      "[174 rows x 11 columns]\n"
     ]
    }
   ],
   "source": [
    "green_bonds_data = pd.read_csv('/Users/blakelayton/Desktop/Git SocData/soc-data/data/Green_Bonds_Data.csv')\n",
    "print(green_bonds_data)\n"
   ]
  },
  {
   "cell_type": "code",
   "execution_count": 71,
   "metadata": {},
   "outputs": [],
   "source": [
    "green_bonds_data = green_bonds_data.rename(columns={\n",
    "    \"Issuer Country\": \"Country\",\n",
    "    \"Issue Month\": \"Month\",\n",
    "    \"Size (USD equivalent)\": \"USD Amount\"\n",
    "})\n",
    "\n",
    "green_bonds_data = green_bonds_data.dropna(subset=[\"USD Amount\", \"Country\"])\n",
    "green_bonds_data[\"USD Amount\"] = green_bonds_data[\"USD Amount\"].replace({',': '', '[^\\d.]': ''}, regex=True).astype(float)\n",
    "green_bonds_data[\"Month\"] = pd.to_datetime(green_bonds_data[\"Month\"], format='%b-%y')\n",
    "grouped_data = green_bonds_data.groupby(['Country', 'Month'])['USD Amount'].sum().reset_index()\n"
   ]
  },
  {
   "cell_type": "code",
   "execution_count": 72,
   "metadata": {},
   "outputs": [],
   "source": [
    "fig = px.choropleth(\n",
    "    grouped_data,\n",
    "    locations=\"Country\",\n",
    "    locationmode='country names',\n",
    "    color=\"USD Amount\",\n",
    "    hover_name=\"Country\",\n",
    "    animation_frame=grouped_data[\"Month\"].dt.strftime('%b-%Y'),\n",
    "    color_continuous_scale=px.colors.sequential.Plasma,\n",
    "    title=\"USD Equivalent of Bonds Issued by Country and Month\"\n",
    ")"
   ]
  },
  {
   "cell_type": "code",
   "execution_count": 64,
   "metadata": {},
   "outputs": [
    {
     "data": {
      "application/vnd.plotly.v1+json": {
       "config": {
        "plotlyServerURL": "https://plot.ly"
       },
       "data": [
        {
         "coloraxis": "coloraxis",
         "geo": "geo",
         "hovertemplate": "<b>%{hovertext}</b><br><br>animation_frame=May-2015<br>Country=%{location}<br>USD Amount=%{z}<extra></extra>",
         "hovertext": [
          "Australia"
         ],
         "locationmode": "country names",
         "locations": [
          "Australia"
         ],
         "name": "",
         "type": "choropleth",
         "z": [
          464000000
         ]
        }
       ],
       "frames": [
        {
         "data": [
          {
           "coloraxis": "coloraxis",
           "geo": "geo",
           "hovertemplate": "<b>%{hovertext}</b><br><br>animation_frame=May-2015<br>Country=%{location}<br>USD Amount=%{z}<extra></extra>",
           "hovertext": [
            "Australia"
           ],
           "locationmode": "country names",
           "locations": [
            "Australia"
           ],
           "name": "",
           "type": "choropleth",
           "z": [
            464000000
           ]
          }
         ],
         "name": "May-2015"
        },
        {
         "data": [
          {
           "coloraxis": "coloraxis",
           "geo": "geo",
           "hovertemplate": "<b>%{hovertext}</b><br><br>animation_frame=May-2016<br>Country=%{location}<br>USD Amount=%{z}<extra></extra>",
           "hovertext": [
            "Australia",
            "India",
            "Netherlands"
           ],
           "locationmode": "country names",
           "locations": [
            "Australia",
            "India",
            "Netherlands"
           ],
           "name": "",
           "type": "choropleth",
           "z": [
            360000000,
            500000000,
            646000000
           ]
          }
         ],
         "name": "May-2016"
        },
        {
         "data": [
          {
           "coloraxis": "coloraxis",
           "geo": "geo",
           "hovertemplate": "<b>%{hovertext}</b><br><br>animation_frame=Jul-2016<br>Country=%{location}<br>USD Amount=%{z}<extra></extra>",
           "hovertext": [
            "Australia"
           ],
           "locationmode": "country names",
           "locations": [
            "Australia"
           ],
           "name": "",
           "type": "choropleth",
           "z": [
            225000000
           ]
          }
         ],
         "name": "Jul-2016"
        },
        {
         "data": [
          {
           "coloraxis": "coloraxis",
           "geo": "geo",
           "hovertemplate": "<b>%{hovertext}</b><br><br>animation_frame=Dec-2016<br>Country=%{location}<br>USD Amount=%{z}<extra></extra>",
           "hovertext": [
            "Australia",
            "United States"
           ],
           "locationmode": "country names",
           "locations": [
            "Australia",
            "United States"
           ],
           "name": "",
           "type": "choropleth",
           "z": [
            163000000,
            45100000
           ]
          }
         ],
         "name": "Dec-2016"
        },
        {
         "data": [
          {
           "coloraxis": "coloraxis",
           "geo": "geo",
           "hovertemplate": "<b>%{hovertext}</b><br><br>animation_frame=Mar-2017<br>Country=%{location}<br>USD Amount=%{z}<extra></extra>",
           "hovertext": [
            "Australia",
            "United States"
           ],
           "locationmode": "country names",
           "locations": [
            "Australia",
            "United States"
           ],
           "name": "",
           "type": "choropleth",
           "z": [
            492000000,
            56200000
           ]
          }
         ],
         "name": "Mar-2017"
        },
        {
         "data": [
          {
           "coloraxis": "coloraxis",
           "geo": "geo",
           "hovertemplate": "<b>%{hovertext}</b><br><br>animation_frame=Apr-2017<br>Country=%{location}<br>USD Amount=%{z}<extra></extra>",
           "hovertext": [
            "Australia",
            "Singapore"
           ],
           "locationmode": "country names",
           "locations": [
            "Australia",
            "Singapore"
           ],
           "name": "",
           "type": "choropleth",
           "z": [
            50000000,
            71000000
           ]
          }
         ],
         "name": "Apr-2017"
        },
        {
         "data": [
          {
           "coloraxis": "coloraxis",
           "geo": "geo",
           "hovertemplate": "<b>%{hovertext}</b><br><br>animation_frame=Nov-2017<br>Country=%{location}<br>USD Amount=%{z}<extra></extra>",
           "hovertext": [
            "Australia",
            "France",
            "United Kingdom",
            "United States"
           ],
           "locationmode": "country names",
           "locations": [
            "Australia",
            "France",
            "United Kingdom",
            "United States"
           ],
           "name": "",
           "type": "choropleth",
           "z": [
            589000000,
            558000000,
            580000000,
            115000000
           ]
          }
         ],
         "name": "Nov-2017"
        },
        {
         "data": [
          {
           "coloraxis": "coloraxis",
           "geo": "geo",
           "hovertemplate": "<b>%{hovertext}</b><br><br>animation_frame=Dec-2017<br>Country=%{location}<br>USD Amount=%{z}<extra></extra>",
           "hovertext": [
            "Australia",
            "Germany"
           ],
           "locationmode": "country names",
           "locations": [
            "Australia",
            "Germany"
           ],
           "name": "",
           "type": "choropleth",
           "z": [
            51500000,
            884000000
           ]
          }
         ],
         "name": "Dec-2017"
        },
        {
         "data": [
          {
           "coloraxis": "coloraxis",
           "geo": "geo",
           "hovertemplate": "<b>%{hovertext}</b><br><br>animation_frame=Feb-2018<br>Country=%{location}<br>USD Amount=%{z}<extra></extra>",
           "hovertext": [
            "Australia"
           ],
           "locationmode": "country names",
           "locations": [
            "Australia"
           ],
           "name": "",
           "type": "choropleth",
           "z": [
            325000000
           ]
          }
         ],
         "name": "Feb-2018"
        },
        {
         "data": [
          {
           "coloraxis": "coloraxis",
           "geo": "geo",
           "hovertemplate": "<b>%{hovertext}</b><br><br>animation_frame=Jun-2018<br>Country=%{location}<br>USD Amount=%{z}<extra></extra>",
           "hovertext": [
            "Australia",
            "Belgium",
            "Germany",
            "Norway",
            "United States"
           ],
           "locationmode": "country names",
           "locations": [
            "Australia",
            "Belgium",
            "Germany",
            "Norway",
            "United States"
           ],
           "name": "",
           "type": "choropleth",
           "z": [
            750000000,
            575000000,
            581000000,
            1770000000,
            117000000
           ]
          }
         ],
         "name": "Jun-2018"
        },
        {
         "data": [
          {
           "coloraxis": "coloraxis",
           "geo": "geo",
           "hovertemplate": "<b>%{hovertext}</b><br><br>animation_frame=Aug-2018<br>Country=%{location}<br>USD Amount=%{z}<extra></extra>",
           "hovertext": [
            "Australia"
           ],
           "locationmode": "country names",
           "locations": [
            "Australia"
           ],
           "name": "",
           "type": "choropleth",
           "z": [
            963800000
           ]
          }
         ],
         "name": "Aug-2018"
        },
        {
         "data": [
          {
           "coloraxis": "coloraxis",
           "geo": "geo",
           "hovertemplate": "<b>%{hovertext}</b><br><br>animation_frame=Apr-2019<br>Country=%{location}<br>USD Amount=%{z}<extra></extra>",
           "hovertext": [
            "Australia",
            "Netherlands"
           ],
           "locationmode": "country names",
           "locations": [
            "Australia",
            "Netherlands"
           ],
           "name": "",
           "type": "choropleth",
           "z": [
            284000000,
            848000000
           ]
          }
         ],
         "name": "Apr-2019"
        },
        {
         "data": [
          {
           "coloraxis": "coloraxis",
           "geo": "geo",
           "hovertemplate": "<b>%{hovertext}</b><br><br>animation_frame=Jun-2019<br>Country=%{location}<br>USD Amount=%{z}<extra></extra>",
           "hovertext": [
            "Australia",
            "Chile",
            "Poland ",
            "United States"
           ],
           "locationmode": "country names",
           "locations": [
            "Australia",
            "Chile",
            "Poland ",
            "United States"
           ],
           "name": "",
           "type": "choropleth",
           "z": [
            608000000,
            1418000000,
            66000000,
            49295000
           ]
          }
         ],
         "name": "Jun-2019"
        },
        {
         "data": [
          {
           "coloraxis": "coloraxis",
           "geo": "geo",
           "hovertemplate": "<b>%{hovertext}</b><br><br>animation_frame=Aug-2019<br>Country=%{location}<br>USD Amount=%{z}<extra></extra>",
           "hovertext": [
            "Australia",
            "Kenya"
           ],
           "locationmode": "country names",
           "locations": [
            "Australia",
            "Kenya"
           ],
           "name": "",
           "type": "choropleth",
           "z": [
            202000000,
            54944922
           ]
          }
         ],
         "name": "Aug-2019"
        },
        {
         "data": [
          {
           "coloraxis": "coloraxis",
           "geo": "geo",
           "hovertemplate": "<b>%{hovertext}</b><br><br>animation_frame=Mar-2020<br>Country=%{location}<br>USD Amount=%{z}<extra></extra>",
           "hovertext": [
            "Australia",
            "United States"
           ],
           "locationmode": "country names",
           "locations": [
            "Australia",
            "United States"
           ],
           "name": "",
           "type": "choropleth",
           "z": [
            55616400,
            121960000
           ]
          }
         ],
         "name": "Mar-2020"
        },
        {
         "data": [
          {
           "coloraxis": "coloraxis",
           "geo": "geo",
           "hovertemplate": "<b>%{hovertext}</b><br><br>animation_frame=Jun-2021<br>Country=%{location}<br>USD Amount=%{z}<extra></extra>",
           "hovertext": [
            "Australia",
            "Norway",
            "Switzerland",
            "United States"
           ],
           "locationmode": "country names",
           "locations": [
            "Australia",
            "Norway",
            "Switzerland",
            "United States"
           ],
           "name": "",
           "type": "choropleth",
           "z": [
            568393000,
            606000000,
            861712000,
            136215000
           ]
          }
         ],
         "name": "Jun-2021"
        },
        {
         "data": [
          {
           "coloraxis": "coloraxis",
           "geo": "geo",
           "hovertemplate": "<b>%{hovertext}</b><br><br>animation_frame=Oct-2021<br>Country=%{location}<br>USD Amount=%{z}<extra></extra>",
           "hovertext": [
            "Australia"
           ],
           "locationmode": "country names",
           "locations": [
            "Australia"
           ],
           "name": "",
           "type": "choropleth",
           "z": [
            305194000
           ]
          }
         ],
         "name": "Oct-2021"
        },
        {
         "data": [
          {
           "coloraxis": "coloraxis",
           "geo": "geo",
           "hovertemplate": "<b>%{hovertext}</b><br><br>animation_frame=Dec-2021<br>Country=%{location}<br>USD Amount=%{z}<extra></extra>",
           "hovertext": [
            "Australia",
            "Belgium",
            "Hungary",
            "Netherlands",
            "United States"
           ],
           "locationmode": "country names",
           "locations": [
            "Australia",
            "Belgium",
            "Hungary",
            "Netherlands",
            "United States"
           ],
           "name": "",
           "type": "choropleth",
           "z": [
            427002000,
            845871000,
            32014800,
            1000000000,
            379900000
           ]
          }
         ],
         "name": "Dec-2021"
        },
        {
         "data": [
          {
           "coloraxis": "coloraxis",
           "geo": "geo",
           "hovertemplate": "<b>%{hovertext}</b><br><br>animation_frame=May-2022<br>Country=%{location}<br>USD Amount=%{z}<extra></extra>",
           "hovertext": [
            "Australia",
            "Sweden"
           ],
           "locationmode": "country names",
           "locations": [
            "Australia",
            "Sweden"
           ],
           "name": "",
           "type": "choropleth",
           "z": [
            1064530000,
            36506480
           ]
          }
         ],
         "name": "May-2022"
        },
        {
         "data": [
          {
           "coloraxis": "coloraxis",
           "geo": "geo",
           "hovertemplate": "<b>%{hovertext}</b><br><br>animation_frame=Jun-2022<br>Country=%{location}<br>USD Amount=%{z}<extra></extra>",
           "hovertext": [
            "Australia",
            "Netherlands",
            "Poland "
           ],
           "locationmode": "country names",
           "locations": [
            "Australia",
            "Netherlands",
            "Poland "
           ],
           "name": "",
           "type": "choropleth",
           "z": [
            344365000,
            5208515593,
            527730000
           ]
          }
         ],
         "name": "Jun-2022"
        },
        {
         "data": [
          {
           "coloraxis": "coloraxis",
           "geo": "geo",
           "hovertemplate": "<b>%{hovertext}</b><br><br>animation_frame=Oct-2022<br>Country=%{location}<br>USD Amount=%{z}<extra></extra>",
           "hovertext": [
            "Australia"
           ],
           "locationmode": "country names",
           "locations": [
            "Australia"
           ],
           "name": "",
           "type": "choropleth",
           "z": [
            134804193
           ]
          }
         ],
         "name": "Oct-2022"
        },
        {
         "data": [
          {
           "coloraxis": "coloraxis",
           "geo": "geo",
           "hovertemplate": "<b>%{hovertext}</b><br><br>animation_frame=Nov-2022<br>Country=%{location}<br>USD Amount=%{z}<extra></extra>",
           "hovertext": [
            "Australia",
            "United Kingdom"
           ],
           "locationmode": "country names",
           "locations": [
            "Australia",
            "United Kingdom"
           ],
           "name": "",
           "type": "choropleth",
           "z": [
            100765490,
            30200000
           ]
          }
         ],
         "name": "Nov-2022"
        },
        {
         "data": [
          {
           "coloraxis": "coloraxis",
           "geo": "geo",
           "hovertemplate": "<b>%{hovertext}</b><br><br>animation_frame=Jun-2020<br>Country=%{location}<br>USD Amount=%{z}<extra></extra>",
           "hovertext": [
            "Belgium",
            "Norway"
           ],
           "locationmode": "country names",
           "locations": [
            "Belgium",
            "Norway"
           ],
           "name": "",
           "type": "choropleth",
           "z": [
            564000000,
            802000000
           ]
          }
         ],
         "name": "Jun-2020"
        },
        {
         "data": [
          {
           "coloraxis": "coloraxis",
           "geo": "geo",
           "hovertemplate": "<b>%{hovertext}</b><br><br>animation_frame=Jul-2019<br>Country=%{location}<br>USD Amount=%{z}<extra></extra>",
           "hovertext": [
            "Chile",
            "France",
            "Netherlands",
            "United States"
           ],
           "locationmode": "country names",
           "locations": [
            "Chile",
            "France",
            "Netherlands",
            "United States"
           ],
           "name": "",
           "type": "choropleth",
           "z": [
            979000000,
            1120000000,
            722000000,
            9600000
           ]
          }
         ],
         "name": "Jul-2019"
        },
        {
         "data": [
          {
           "coloraxis": "coloraxis",
           "geo": "geo",
           "hovertemplate": "<b>%{hovertext}</b><br><br>animation_frame=Jan-2020<br>Country=%{location}<br>USD Amount=%{z}<extra></extra>",
           "hovertext": [
            "Chile"
           ],
           "locationmode": "country names",
           "locations": [
            "Chile"
           ],
           "name": "",
           "type": "choropleth",
           "z": [
            1664000000
           ]
          }
         ],
         "name": "Jan-2020"
        },
        {
         "data": [
          {
           "coloraxis": "coloraxis",
           "geo": "geo",
           "hovertemplate": "<b>%{hovertext}</b><br><br>animation_frame=Jan-2021<br>Country=%{location}<br>USD Amount=%{z}<extra></extra>",
           "hovertext": [
            "Chile",
            "Norway"
           ],
           "locationmode": "country names",
           "locations": [
            "Chile",
            "Norway"
           ],
           "name": "",
           "type": "choropleth",
           "z": [
            1236000000,
            1670000000
           ]
          }
         ],
         "name": "Jan-2021"
        },
        {
         "data": [
          {
           "coloraxis": "coloraxis",
           "geo": "geo",
           "hovertemplate": "<b>%{hovertext}</b><br><br>animation_frame=Oct-2019<br>Country=%{location}<br>USD Amount=%{z}<extra></extra>",
           "hovertext": [
            "China",
            "Kenya",
            "Norway",
            "Poland ",
            "United States"
           ],
           "locationmode": "country names",
           "locations": [
            "China",
            "Kenya",
            "Norway",
            "Poland ",
            "United States"
           ],
           "name": "",
           "type": "choropleth",
           "z": [
            300000000,
            40545743,
            1104000000,
            102000000,
            87300000
           ]
          }
         ],
         "name": "Oct-2019"
        },
        {
         "data": [
          {
           "coloraxis": "coloraxis",
           "geo": "geo",
           "hovertemplate": "<b>%{hovertext}</b><br><br>animation_frame=Jun-2015<br>Country=%{location}<br>USD Amount=%{z}<extra></extra>",
           "hovertext": [
            "Europe"
           ],
           "locationmode": "country names",
           "locations": [
            "Europe"
           ],
           "name": "",
           "type": "choropleth",
           "z": [
            556000000
           ]
          }
         ],
         "name": "Jun-2015"
        },
        {
         "data": [
          {
           "coloraxis": "coloraxis",
           "geo": "geo",
           "hovertemplate": "<b>%{hovertext}</b><br><br>animation_frame=May-2018<br>Country=%{location}<br>USD Amount=%{z}<extra></extra>",
           "hovertext": [
            "Germany",
            "Netherlands",
            "United States"
           ],
           "locationmode": "country names",
           "locations": [
            "Germany",
            "Netherlands",
            "United States"
           ],
           "name": "",
           "type": "choropleth",
           "z": [
            126000000,
            687900000,
            99000000
           ]
          }
         ],
         "name": "May-2018"
        },
        {
         "data": [
          {
           "coloraxis": "coloraxis",
           "geo": "geo",
           "hovertemplate": "<b>%{hovertext}</b><br><br>animation_frame=May-2019<br>Country=%{location}<br>USD Amount=%{z}<extra></extra>",
           "hovertext": [
            "Germany",
            "Netherlands"
           ],
           "locationmode": "country names",
           "locations": [
            "Germany",
            "Netherlands"
           ],
           "name": "",
           "type": "choropleth",
           "z": [
            67000000,
            12688000000
           ]
          }
         ],
         "name": "May-2019"
        },
        {
         "data": [
          {
           "coloraxis": "coloraxis",
           "geo": "geo",
           "hovertemplate": "<b>%{hovertext}</b><br><br>animation_frame=Mar-2021<br>Country=%{location}<br>USD Amount=%{z}<extra></extra>",
           "hovertext": [
            "Germany",
            "Netherlands",
            "United States"
           ],
           "locationmode": "country names",
           "locations": [
            "Germany",
            "Netherlands",
            "United States"
           ],
           "name": "",
           "type": "choropleth",
           "z": [
            710000000,
            636400000,
            26385000
           ]
          }
         ],
         "name": "Mar-2021"
        },
        {
         "data": [
          {
           "coloraxis": "coloraxis",
           "geo": "geo",
           "hovertemplate": "<b>%{hovertext}</b><br><br>animation_frame=Aug-2023<br>Country=%{location}<br>USD Amount=%{z}<extra></extra>",
           "hovertext": [
            "India"
           ],
           "locationmode": "country names",
           "locations": [
            "India"
           ],
           "name": "",
           "type": "choropleth",
           "z": [
            48121600
           ]
          }
         ],
         "name": "Aug-2023"
        },
        {
         "data": [
          {
           "coloraxis": "coloraxis",
           "geo": "geo",
           "hovertemplate": "<b>%{hovertext}</b><br><br>animation_frame=Aug-2021<br>Country=%{location}<br>USD Amount=%{z}<extra></extra>",
           "hovertext": [
            "Ivory Coast"
           ],
           "locationmode": "country names",
           "locations": [
            "Ivory Coast"
           ],
           "name": "",
           "type": "choropleth",
           "z": [
            17877500
           ]
          }
         ],
         "name": "Aug-2021"
        },
        {
         "data": [
          {
           "coloraxis": "coloraxis",
           "geo": "geo",
           "hovertemplate": "<b>%{hovertext}</b><br><br>animation_frame=Dec-2020<br>Country=%{location}<br>USD Amount=%{z}<extra></extra>",
           "hovertext": [
            "Mexico",
            "Netherlands",
            "United States"
           ],
           "locationmode": "country names",
           "locations": [
            "Mexico",
            "Netherlands",
            "United States"
           ],
           "name": "",
           "type": "choropleth",
           "z": [
            25300000,
            243000000,
            311810000
           ]
          }
         ],
         "name": "Dec-2020"
        },
        {
         "data": [
          {
           "coloraxis": "coloraxis",
           "geo": "geo",
           "hovertemplate": "<b>%{hovertext}</b><br><br>animation_frame=Jun-2023<br>Country=%{location}<br>USD Amount=%{z}<extra></extra>",
           "hovertext": [
            "Mexico "
           ],
           "locationmode": "country names",
           "locations": [
            "Mexico "
           ],
           "name": "",
           "type": "choropleth",
           "z": [
            46827514
           ]
          }
         ],
         "name": "Jun-2023"
        },
        {
         "data": [
          {
           "coloraxis": "coloraxis",
           "geo": "geo",
           "hovertemplate": "<b>%{hovertext}</b><br><br>animation_frame=Jun-2016<br>Country=%{location}<br>USD Amount=%{z}<extra></extra>",
           "hovertext": [
            "Netherlands"
           ],
           "locationmode": "country names",
           "locations": [
            "Netherlands"
           ],
           "name": "",
           "type": "choropleth",
           "z": [
            595000000
           ]
          }
         ],
         "name": "Jun-2016"
        },
        {
         "data": [
          {
           "coloraxis": "coloraxis",
           "geo": "geo",
           "hovertemplate": "<b>%{hovertext}</b><br><br>animation_frame=Jun-2017<br>Country=%{location}<br>USD Amount=%{z}<extra></extra>",
           "hovertext": [
            "Netherlands",
            "United States"
           ],
           "locationmode": "country names",
           "locations": [
            "Netherlands",
            "United States"
           ],
           "name": "",
           "type": "choropleth",
           "z": [
            667000000,
            78400000
           ]
          }
         ],
         "name": "Jun-2017"
        },
        {
         "data": [
          {
           "coloraxis": "coloraxis",
           "geo": "geo",
           "hovertemplate": "<b>%{hovertext}</b><br><br>animation_frame=Apr-2018<br>Country=%{location}<br>USD Amount=%{z}<extra></extra>",
           "hovertext": [
            "Netherlands",
            "United States"
           ],
           "locationmode": "country names",
           "locations": [
            "Netherlands",
            "United States"
           ],
           "name": "",
           "type": "choropleth",
           "z": [
            928000000,
            68900000
           ]
          }
         ],
         "name": "Apr-2018"
        },
        {
         "data": [
          {
           "coloraxis": "coloraxis",
           "geo": "geo",
           "hovertemplate": "<b>%{hovertext}</b><br><br>animation_frame=Nov-2018<br>Country=%{location}<br>USD Amount=%{z}<extra></extra>",
           "hovertext": [
            "Netherlands",
            "United States"
           ],
           "locationmode": "country names",
           "locations": [
            "Netherlands",
            "United States"
           ],
           "name": "",
           "type": "choropleth",
           "z": [
            3519000000,
            400000000
           ]
          }
         ],
         "name": "Nov-2018"
        },
        {
         "data": [
          {
           "coloraxis": "coloraxis",
           "geo": "geo",
           "hovertemplate": "<b>%{hovertext}</b><br><br>animation_frame=Sep-2019<br>Country=%{location}<br>USD Amount=%{z}<extra></extra>",
           "hovertext": [
            "Netherlands"
           ],
           "locationmode": "country names",
           "locations": [
            "Netherlands"
           ],
           "name": "",
           "type": "choropleth",
           "z": [
            554000000
           ]
          }
         ],
         "name": "Sep-2019"
        },
        {
         "data": [
          {
           "coloraxis": "coloraxis",
           "geo": "geo",
           "hovertemplate": "<b>%{hovertext}</b><br><br>animation_frame=Jul-2020<br>Country=%{location}<br>USD Amount=%{z}<extra></extra>",
           "hovertext": [
            "Netherlands",
            "Norway",
            "United States"
           ],
           "locationmode": "country names",
           "locations": [
            "Netherlands",
            "Norway",
            "United States"
           ],
           "name": "",
           "type": "choropleth",
           "z": [
            571000000,
            567000000,
            164100000
           ]
          }
         ],
         "name": "Jul-2020"
        },
        {
         "data": [
          {
           "coloraxis": "coloraxis",
           "geo": "geo",
           "hovertemplate": "<b>%{hovertext}</b><br><br>animation_frame=Oct-2020<br>Country=%{location}<br>USD Amount=%{z}<extra></extra>",
           "hovertext": [
            "Netherlands",
            "United States"
           ],
           "locationmode": "country names",
           "locations": [
            "Netherlands",
            "United States"
           ],
           "name": "",
           "type": "choropleth",
           "z": [
            353000000,
            138460000
           ]
          }
         ],
         "name": "Oct-2020"
        },
        {
         "data": [
          {
           "coloraxis": "coloraxis",
           "geo": "geo",
           "hovertemplate": "<b>%{hovertext}</b><br><br>animation_frame=Sep-2021<br>Country=%{location}<br>USD Amount=%{z}<extra></extra>",
           "hovertext": [
            "Netherlands",
            "Poland "
           ],
           "locationmode": "country names",
           "locations": [
            "Netherlands",
            "Poland "
           ],
           "name": "",
           "type": "choropleth",
           "z": [
            1757988000,
            580662000
           ]
          }
         ],
         "name": "Sep-2021"
        },
        {
         "data": [
          {
           "coloraxis": "coloraxis",
           "geo": "geo",
           "hovertemplate": "<b>%{hovertext}</b><br><br>animation_frame=Apr-2022<br>Country=%{location}<br>USD Amount=%{z}<extra></extra>",
           "hovertext": [
            "Netherlands",
            "United States"
           ],
           "locationmode": "country names",
           "locations": [
            "Netherlands",
            "United States"
           ],
           "name": "",
           "type": "choropleth",
           "z": [
            573390000,
            294990000
           ]
          }
         ],
         "name": "Apr-2022"
        },
        {
         "data": [
          {
           "coloraxis": "coloraxis",
           "geo": "geo",
           "hovertemplate": "<b>%{hovertext}</b><br><br>animation_frame=Mar-2023<br>Country=%{location}<br>USD Amount=%{z}<extra></extra>",
           "hovertext": [
            "Netherlands",
            "United States"
           ],
           "locationmode": "country names",
           "locations": [
            "Netherlands",
            "United States"
           ],
           "name": "",
           "type": "choropleth",
           "z": [
            574101420,
            342115000
           ]
          }
         ],
         "name": "Mar-2023"
        },
        {
         "data": [
          {
           "coloraxis": "coloraxis",
           "geo": "geo",
           "hovertemplate": "<b>%{hovertext}</b><br><br>animation_frame=Jan-2018<br>Country=%{location}<br>USD Amount=%{z}<extra></extra>",
           "hovertext": [
            "Norway"
           ],
           "locationmode": "country names",
           "locations": [
            "Norway"
           ],
           "name": "",
           "type": "choropleth",
           "z": [
            1240000000
           ]
          }
         ],
         "name": "Jan-2018"
        },
        {
         "data": [
          {
           "coloraxis": "coloraxis",
           "geo": "geo",
           "hovertemplate": "<b>%{hovertext}</b><br><br>animation_frame=Jan-2019<br>Country=%{location}<br>USD Amount=%{z}<extra></extra>",
           "hovertext": [
            "Norway"
           ],
           "locationmode": "country names",
           "locations": [
            "Norway"
           ],
           "name": "",
           "type": "choropleth",
           "z": [
            1109000000
           ]
          }
         ],
         "name": "Jan-2019"
        },
        {
         "data": [
          {
           "coloraxis": "coloraxis",
           "geo": "geo",
           "hovertemplate": "<b>%{hovertext}</b><br><br>animation_frame=Sep-2020<br>Country=%{location}<br>USD Amount=%{z}<extra></extra>",
           "hovertext": [
            "Norway"
           ],
           "locationmode": "country names",
           "locations": [
            "Norway"
           ],
           "name": "",
           "type": "choropleth",
           "z": [
            1102000000
           ]
          }
         ],
         "name": "Sep-2020"
        },
        {
         "data": [
          {
           "coloraxis": "coloraxis",
           "geo": "geo",
           "hovertemplate": "<b>%{hovertext}</b><br><br>animation_frame=May-2023<br>Country=%{location}<br>USD Amount=%{z}<extra></extra>",
           "hovertext": [
            "Norway",
            "United States"
           ],
           "locationmode": "country names",
           "locations": [
            "Norway",
            "United States"
           ],
           "name": "",
           "type": "choropleth",
           "z": [
            810112500,
            108820000
           ]
          }
         ],
         "name": "May-2023"
        },
        {
         "data": [
          {
           "coloraxis": "coloraxis",
           "geo": "geo",
           "hovertemplate": "<b>%{hovertext}</b><br><br>animation_frame=Dec-2019<br>Country=%{location}<br>USD Amount=%{z}<extra></extra>",
           "hovertext": [
            "Poland ",
            "United States"
           ],
           "locationmode": "country names",
           "locations": [
            "Poland ",
            "United States"
           ],
           "name": "",
           "type": "choropleth",
           "z": [
            64000000,
            672600000
           ]
          }
         ],
         "name": "Dec-2019"
        },
        {
         "data": [
          {
           "coloraxis": "coloraxis",
           "geo": "geo",
           "hovertemplate": "<b>%{hovertext}</b><br><br>animation_frame=Sep-2023<br>Country=%{location}<br>USD Amount=%{z}<extra></extra>",
           "hovertext": [
            "Poland "
           ],
           "locationmode": "country names",
           "locations": [
            "Poland "
           ],
           "name": "",
           "type": "choropleth",
           "z": [
            538630000
           ]
          }
         ],
         "name": "Sep-2023"
        },
        {
         "data": [
          {
           "coloraxis": "coloraxis",
           "geo": "geo",
           "hovertemplate": "<b>%{hovertext}</b><br><br>animation_frame=Nov-2020<br>Country=%{location}<br>USD Amount=%{z}<extra></extra>",
           "hovertext": [
            "Sweden"
           ],
           "locationmode": "country names",
           "locations": [
            "Sweden"
           ],
           "name": "",
           "type": "choropleth",
           "z": [
            16424000
           ]
          }
         ],
         "name": "Nov-2020"
        },
        {
         "data": [
          {
           "coloraxis": "coloraxis",
           "geo": "geo",
           "hovertemplate": "<b>%{hovertext}</b><br><br>animation_frame=Jul-2022<br>Country=%{location}<br>USD Amount=%{z}<extra></extra>",
           "hovertext": [
            "United Kingdom"
           ],
           "locationmode": "country names",
           "locations": [
            "United Kingdom"
           ],
           "name": "",
           "type": "choropleth",
           "z": [
            20226430
           ]
          }
         ],
         "name": "Jul-2022"
        },
        {
         "data": [
          {
           "coloraxis": "coloraxis",
           "geo": "geo",
           "hovertemplate": "<b>%{hovertext}</b><br><br>animation_frame=Jan-2024<br>Country=%{location}<br>USD Amount=%{z}<extra></extra>",
           "hovertext": [
            "United Kingdom"
           ],
           "locationmode": "country names",
           "locations": [
            "United Kingdom"
           ],
           "name": "",
           "type": "choropleth",
           "z": [
            28600000
           ]
          }
         ],
         "name": "Jan-2024"
        },
        {
         "data": [
          {
           "coloraxis": "coloraxis",
           "geo": "geo",
           "hovertemplate": "<b>%{hovertext}</b><br><br>animation_frame=Mar-2024<br>Country=%{location}<br>USD Amount=%{z}<extra></extra>",
           "hovertext": [
            "United Kingdom"
           ],
           "locationmode": "country names",
           "locations": [
            "United Kingdom"
           ],
           "name": "",
           "type": "choropleth",
           "z": [
            73283930
           ]
          }
         ],
         "name": "Mar-2024"
        },
        {
         "data": [
          {
           "coloraxis": "coloraxis",
           "geo": "geo",
           "hovertemplate": "<b>%{hovertext}</b><br><br>animation_frame=Jan-2017<br>Country=%{location}<br>USD Amount=%{z}<extra></extra>",
           "hovertext": [
            "United States"
           ],
           "locationmode": "country names",
           "locations": [
            "United States"
           ],
           "name": "",
           "type": "choropleth",
           "z": [
            53995000
           ]
          }
         ],
         "name": "Jan-2017"
        },
        {
         "data": [
          {
           "coloraxis": "coloraxis",
           "geo": "geo",
           "hovertemplate": "<b>%{hovertext}</b><br><br>animation_frame=Sep-2017<br>Country=%{location}<br>USD Amount=%{z}<extra></extra>",
           "hovertext": [
            "United States"
           ],
           "locationmode": "country names",
           "locations": [
            "United States"
           ],
           "name": "",
           "type": "choropleth",
           "z": [
            40900000
           ]
          }
         ],
         "name": "Sep-2017"
        },
        {
         "data": [
          {
           "coloraxis": "coloraxis",
           "geo": "geo",
           "hovertemplate": "<b>%{hovertext}</b><br><br>animation_frame=Oct-2018<br>Country=%{location}<br>USD Amount=%{z}<extra></extra>",
           "hovertext": [
            "United States"
           ],
           "locationmode": "country names",
           "locations": [
            "United States"
           ],
           "name": "",
           "type": "choropleth",
           "z": [
            138000000
           ]
          }
         ],
         "name": "Oct-2018"
        },
        {
         "data": [
          {
           "coloraxis": "coloraxis",
           "geo": "geo",
           "hovertemplate": "<b>%{hovertext}</b><br><br>animation_frame=Dec-2018<br>Country=%{location}<br>USD Amount=%{z}<extra></extra>",
           "hovertext": [
            "United States"
           ],
           "locationmode": "country names",
           "locations": [
            "United States"
           ],
           "name": "",
           "type": "choropleth",
           "z": [
            188000000
           ]
          }
         ],
         "name": "Dec-2018"
        },
        {
         "data": [
          {
           "coloraxis": "coloraxis",
           "geo": "geo",
           "hovertemplate": "<b>%{hovertext}</b><br><br>animation_frame=Mar-2019<br>Country=%{location}<br>USD Amount=%{z}<extra></extra>",
           "hovertext": [
            "United States"
           ],
           "locationmode": "country names",
           "locations": [
            "United States"
           ],
           "name": "",
           "type": "choropleth",
           "z": [
            125400000
           ]
          }
         ],
         "name": "Mar-2019"
        },
        {
         "data": [
          {
           "coloraxis": "coloraxis",
           "geo": "geo",
           "hovertemplate": "<b>%{hovertext}</b><br><br>animation_frame=Aug-2020<br>Country=%{location}<br>USD Amount=%{z}<extra></extra>",
           "hovertext": [
            "United States"
           ],
           "locationmode": "country names",
           "locations": [
            "United States"
           ],
           "name": "",
           "type": "choropleth",
           "z": [
            425000000
           ]
          }
         ],
         "name": "Aug-2020"
        },
        {
         "data": [
          {
           "coloraxis": "coloraxis",
           "geo": "geo",
           "hovertemplate": "<b>%{hovertext}</b><br><br>animation_frame=Apr-2021<br>Country=%{location}<br>USD Amount=%{z}<extra></extra>",
           "hovertext": [
            "United States"
           ],
           "locationmode": "country names",
           "locations": [
            "United States"
           ],
           "name": "",
           "type": "choropleth",
           "z": [
            300400000
           ]
          }
         ],
         "name": "Apr-2021"
        },
        {
         "data": [
          {
           "coloraxis": "coloraxis",
           "geo": "geo",
           "hovertemplate": "<b>%{hovertext}</b><br><br>animation_frame=Jul-2021<br>Country=%{location}<br>USD Amount=%{z}<extra></extra>",
           "hovertext": [
            "United States"
           ],
           "locationmode": "country names",
           "locations": [
            "United States"
           ],
           "name": "",
           "type": "choropleth",
           "z": [
            80625000
           ]
          }
         ],
         "name": "Jul-2021"
        },
        {
         "data": [
          {
           "coloraxis": "coloraxis",
           "geo": "geo",
           "hovertemplate": "<b>%{hovertext}</b><br><br>animation_frame=Nov-2021<br>Country=%{location}<br>USD Amount=%{z}<extra></extra>",
           "hovertext": [
            "United States"
           ],
           "locationmode": "country names",
           "locations": [
            "United States"
           ],
           "name": "",
           "type": "choropleth",
           "z": [
            467550000
           ]
          }
         ],
         "name": "Nov-2021"
        },
        {
         "data": [
          {
           "coloraxis": "coloraxis",
           "geo": "geo",
           "hovertemplate": "<b>%{hovertext}</b><br><br>animation_frame=Mar-2022<br>Country=%{location}<br>USD Amount=%{z}<extra></extra>",
           "hovertext": [
            "United States"
           ],
           "locationmode": "country names",
           "locations": [
            "United States"
           ],
           "name": "",
           "type": "choropleth",
           "z": [
            347480000
           ]
          }
         ],
         "name": "Mar-2022"
        },
        {
         "data": [
          {
           "coloraxis": "coloraxis",
           "geo": "geo",
           "hovertemplate": "<b>%{hovertext}</b><br><br>animation_frame=Dec-2022<br>Country=%{location}<br>USD Amount=%{z}<extra></extra>",
           "hovertext": [
            "United States"
           ],
           "locationmode": "country names",
           "locations": [
            "United States"
           ],
           "name": "",
           "type": "choropleth",
           "z": [
            15640000
           ]
          }
         ],
         "name": "Dec-2022"
        }
       ],
       "layout": {
        "coloraxis": {
         "colorbar": {
          "title": {
           "text": "USD Amount"
          }
         },
         "colorscale": [
          [
           0,
           "#0d0887"
          ],
          [
           0.1111111111111111,
           "#46039f"
          ],
          [
           0.2222222222222222,
           "#7201a8"
          ],
          [
           0.3333333333333333,
           "#9c179e"
          ],
          [
           0.4444444444444444,
           "#bd3786"
          ],
          [
           0.5555555555555556,
           "#d8576b"
          ],
          [
           0.6666666666666666,
           "#ed7953"
          ],
          [
           0.7777777777777778,
           "#fb9f3a"
          ],
          [
           0.8888888888888888,
           "#fdca26"
          ],
          [
           1,
           "#f0f921"
          ]
         ]
        },
        "geo": {
         "center": {},
         "domain": {
          "x": [
           0,
           1
          ],
          "y": [
           0,
           1
          ]
         }
        },
        "legend": {
         "tracegroupgap": 0
        },
        "sliders": [
         {
          "active": 0,
          "currentvalue": {
           "prefix": "animation_frame="
          },
          "len": 0.9,
          "pad": {
           "b": 10,
           "t": 60
          },
          "steps": [
           {
            "args": [
             [
              "May-2015"
             ],
             {
              "frame": {
               "duration": 0,
               "redraw": true
              },
              "fromcurrent": true,
              "mode": "immediate",
              "transition": {
               "duration": 0,
               "easing": "linear"
              }
             }
            ],
            "label": "May-2015",
            "method": "animate"
           },
           {
            "args": [
             [
              "May-2016"
             ],
             {
              "frame": {
               "duration": 0,
               "redraw": true
              },
              "fromcurrent": true,
              "mode": "immediate",
              "transition": {
               "duration": 0,
               "easing": "linear"
              }
             }
            ],
            "label": "May-2016",
            "method": "animate"
           },
           {
            "args": [
             [
              "Jul-2016"
             ],
             {
              "frame": {
               "duration": 0,
               "redraw": true
              },
              "fromcurrent": true,
              "mode": "immediate",
              "transition": {
               "duration": 0,
               "easing": "linear"
              }
             }
            ],
            "label": "Jul-2016",
            "method": "animate"
           },
           {
            "args": [
             [
              "Dec-2016"
             ],
             {
              "frame": {
               "duration": 0,
               "redraw": true
              },
              "fromcurrent": true,
              "mode": "immediate",
              "transition": {
               "duration": 0,
               "easing": "linear"
              }
             }
            ],
            "label": "Dec-2016",
            "method": "animate"
           },
           {
            "args": [
             [
              "Mar-2017"
             ],
             {
              "frame": {
               "duration": 0,
               "redraw": true
              },
              "fromcurrent": true,
              "mode": "immediate",
              "transition": {
               "duration": 0,
               "easing": "linear"
              }
             }
            ],
            "label": "Mar-2017",
            "method": "animate"
           },
           {
            "args": [
             [
              "Apr-2017"
             ],
             {
              "frame": {
               "duration": 0,
               "redraw": true
              },
              "fromcurrent": true,
              "mode": "immediate",
              "transition": {
               "duration": 0,
               "easing": "linear"
              }
             }
            ],
            "label": "Apr-2017",
            "method": "animate"
           },
           {
            "args": [
             [
              "Nov-2017"
             ],
             {
              "frame": {
               "duration": 0,
               "redraw": true
              },
              "fromcurrent": true,
              "mode": "immediate",
              "transition": {
               "duration": 0,
               "easing": "linear"
              }
             }
            ],
            "label": "Nov-2017",
            "method": "animate"
           },
           {
            "args": [
             [
              "Dec-2017"
             ],
             {
              "frame": {
               "duration": 0,
               "redraw": true
              },
              "fromcurrent": true,
              "mode": "immediate",
              "transition": {
               "duration": 0,
               "easing": "linear"
              }
             }
            ],
            "label": "Dec-2017",
            "method": "animate"
           },
           {
            "args": [
             [
              "Feb-2018"
             ],
             {
              "frame": {
               "duration": 0,
               "redraw": true
              },
              "fromcurrent": true,
              "mode": "immediate",
              "transition": {
               "duration": 0,
               "easing": "linear"
              }
             }
            ],
            "label": "Feb-2018",
            "method": "animate"
           },
           {
            "args": [
             [
              "Jun-2018"
             ],
             {
              "frame": {
               "duration": 0,
               "redraw": true
              },
              "fromcurrent": true,
              "mode": "immediate",
              "transition": {
               "duration": 0,
               "easing": "linear"
              }
             }
            ],
            "label": "Jun-2018",
            "method": "animate"
           },
           {
            "args": [
             [
              "Aug-2018"
             ],
             {
              "frame": {
               "duration": 0,
               "redraw": true
              },
              "fromcurrent": true,
              "mode": "immediate",
              "transition": {
               "duration": 0,
               "easing": "linear"
              }
             }
            ],
            "label": "Aug-2018",
            "method": "animate"
           },
           {
            "args": [
             [
              "Apr-2019"
             ],
             {
              "frame": {
               "duration": 0,
               "redraw": true
              },
              "fromcurrent": true,
              "mode": "immediate",
              "transition": {
               "duration": 0,
               "easing": "linear"
              }
             }
            ],
            "label": "Apr-2019",
            "method": "animate"
           },
           {
            "args": [
             [
              "Jun-2019"
             ],
             {
              "frame": {
               "duration": 0,
               "redraw": true
              },
              "fromcurrent": true,
              "mode": "immediate",
              "transition": {
               "duration": 0,
               "easing": "linear"
              }
             }
            ],
            "label": "Jun-2019",
            "method": "animate"
           },
           {
            "args": [
             [
              "Aug-2019"
             ],
             {
              "frame": {
               "duration": 0,
               "redraw": true
              },
              "fromcurrent": true,
              "mode": "immediate",
              "transition": {
               "duration": 0,
               "easing": "linear"
              }
             }
            ],
            "label": "Aug-2019",
            "method": "animate"
           },
           {
            "args": [
             [
              "Mar-2020"
             ],
             {
              "frame": {
               "duration": 0,
               "redraw": true
              },
              "fromcurrent": true,
              "mode": "immediate",
              "transition": {
               "duration": 0,
               "easing": "linear"
              }
             }
            ],
            "label": "Mar-2020",
            "method": "animate"
           },
           {
            "args": [
             [
              "Jun-2021"
             ],
             {
              "frame": {
               "duration": 0,
               "redraw": true
              },
              "fromcurrent": true,
              "mode": "immediate",
              "transition": {
               "duration": 0,
               "easing": "linear"
              }
             }
            ],
            "label": "Jun-2021",
            "method": "animate"
           },
           {
            "args": [
             [
              "Oct-2021"
             ],
             {
              "frame": {
               "duration": 0,
               "redraw": true
              },
              "fromcurrent": true,
              "mode": "immediate",
              "transition": {
               "duration": 0,
               "easing": "linear"
              }
             }
            ],
            "label": "Oct-2021",
            "method": "animate"
           },
           {
            "args": [
             [
              "Dec-2021"
             ],
             {
              "frame": {
               "duration": 0,
               "redraw": true
              },
              "fromcurrent": true,
              "mode": "immediate",
              "transition": {
               "duration": 0,
               "easing": "linear"
              }
             }
            ],
            "label": "Dec-2021",
            "method": "animate"
           },
           {
            "args": [
             [
              "May-2022"
             ],
             {
              "frame": {
               "duration": 0,
               "redraw": true
              },
              "fromcurrent": true,
              "mode": "immediate",
              "transition": {
               "duration": 0,
               "easing": "linear"
              }
             }
            ],
            "label": "May-2022",
            "method": "animate"
           },
           {
            "args": [
             [
              "Jun-2022"
             ],
             {
              "frame": {
               "duration": 0,
               "redraw": true
              },
              "fromcurrent": true,
              "mode": "immediate",
              "transition": {
               "duration": 0,
               "easing": "linear"
              }
             }
            ],
            "label": "Jun-2022",
            "method": "animate"
           },
           {
            "args": [
             [
              "Oct-2022"
             ],
             {
              "frame": {
               "duration": 0,
               "redraw": true
              },
              "fromcurrent": true,
              "mode": "immediate",
              "transition": {
               "duration": 0,
               "easing": "linear"
              }
             }
            ],
            "label": "Oct-2022",
            "method": "animate"
           },
           {
            "args": [
             [
              "Nov-2022"
             ],
             {
              "frame": {
               "duration": 0,
               "redraw": true
              },
              "fromcurrent": true,
              "mode": "immediate",
              "transition": {
               "duration": 0,
               "easing": "linear"
              }
             }
            ],
            "label": "Nov-2022",
            "method": "animate"
           },
           {
            "args": [
             [
              "Jun-2020"
             ],
             {
              "frame": {
               "duration": 0,
               "redraw": true
              },
              "fromcurrent": true,
              "mode": "immediate",
              "transition": {
               "duration": 0,
               "easing": "linear"
              }
             }
            ],
            "label": "Jun-2020",
            "method": "animate"
           },
           {
            "args": [
             [
              "Jul-2019"
             ],
             {
              "frame": {
               "duration": 0,
               "redraw": true
              },
              "fromcurrent": true,
              "mode": "immediate",
              "transition": {
               "duration": 0,
               "easing": "linear"
              }
             }
            ],
            "label": "Jul-2019",
            "method": "animate"
           },
           {
            "args": [
             [
              "Jan-2020"
             ],
             {
              "frame": {
               "duration": 0,
               "redraw": true
              },
              "fromcurrent": true,
              "mode": "immediate",
              "transition": {
               "duration": 0,
               "easing": "linear"
              }
             }
            ],
            "label": "Jan-2020",
            "method": "animate"
           },
           {
            "args": [
             [
              "Jan-2021"
             ],
             {
              "frame": {
               "duration": 0,
               "redraw": true
              },
              "fromcurrent": true,
              "mode": "immediate",
              "transition": {
               "duration": 0,
               "easing": "linear"
              }
             }
            ],
            "label": "Jan-2021",
            "method": "animate"
           },
           {
            "args": [
             [
              "Oct-2019"
             ],
             {
              "frame": {
               "duration": 0,
               "redraw": true
              },
              "fromcurrent": true,
              "mode": "immediate",
              "transition": {
               "duration": 0,
               "easing": "linear"
              }
             }
            ],
            "label": "Oct-2019",
            "method": "animate"
           },
           {
            "args": [
             [
              "Jun-2015"
             ],
             {
              "frame": {
               "duration": 0,
               "redraw": true
              },
              "fromcurrent": true,
              "mode": "immediate",
              "transition": {
               "duration": 0,
               "easing": "linear"
              }
             }
            ],
            "label": "Jun-2015",
            "method": "animate"
           },
           {
            "args": [
             [
              "May-2018"
             ],
             {
              "frame": {
               "duration": 0,
               "redraw": true
              },
              "fromcurrent": true,
              "mode": "immediate",
              "transition": {
               "duration": 0,
               "easing": "linear"
              }
             }
            ],
            "label": "May-2018",
            "method": "animate"
           },
           {
            "args": [
             [
              "May-2019"
             ],
             {
              "frame": {
               "duration": 0,
               "redraw": true
              },
              "fromcurrent": true,
              "mode": "immediate",
              "transition": {
               "duration": 0,
               "easing": "linear"
              }
             }
            ],
            "label": "May-2019",
            "method": "animate"
           },
           {
            "args": [
             [
              "Mar-2021"
             ],
             {
              "frame": {
               "duration": 0,
               "redraw": true
              },
              "fromcurrent": true,
              "mode": "immediate",
              "transition": {
               "duration": 0,
               "easing": "linear"
              }
             }
            ],
            "label": "Mar-2021",
            "method": "animate"
           },
           {
            "args": [
             [
              "Aug-2023"
             ],
             {
              "frame": {
               "duration": 0,
               "redraw": true
              },
              "fromcurrent": true,
              "mode": "immediate",
              "transition": {
               "duration": 0,
               "easing": "linear"
              }
             }
            ],
            "label": "Aug-2023",
            "method": "animate"
           },
           {
            "args": [
             [
              "Aug-2021"
             ],
             {
              "frame": {
               "duration": 0,
               "redraw": true
              },
              "fromcurrent": true,
              "mode": "immediate",
              "transition": {
               "duration": 0,
               "easing": "linear"
              }
             }
            ],
            "label": "Aug-2021",
            "method": "animate"
           },
           {
            "args": [
             [
              "Dec-2020"
             ],
             {
              "frame": {
               "duration": 0,
               "redraw": true
              },
              "fromcurrent": true,
              "mode": "immediate",
              "transition": {
               "duration": 0,
               "easing": "linear"
              }
             }
            ],
            "label": "Dec-2020",
            "method": "animate"
           },
           {
            "args": [
             [
              "Jun-2023"
             ],
             {
              "frame": {
               "duration": 0,
               "redraw": true
              },
              "fromcurrent": true,
              "mode": "immediate",
              "transition": {
               "duration": 0,
               "easing": "linear"
              }
             }
            ],
            "label": "Jun-2023",
            "method": "animate"
           },
           {
            "args": [
             [
              "Jun-2016"
             ],
             {
              "frame": {
               "duration": 0,
               "redraw": true
              },
              "fromcurrent": true,
              "mode": "immediate",
              "transition": {
               "duration": 0,
               "easing": "linear"
              }
             }
            ],
            "label": "Jun-2016",
            "method": "animate"
           },
           {
            "args": [
             [
              "Jun-2017"
             ],
             {
              "frame": {
               "duration": 0,
               "redraw": true
              },
              "fromcurrent": true,
              "mode": "immediate",
              "transition": {
               "duration": 0,
               "easing": "linear"
              }
             }
            ],
            "label": "Jun-2017",
            "method": "animate"
           },
           {
            "args": [
             [
              "Apr-2018"
             ],
             {
              "frame": {
               "duration": 0,
               "redraw": true
              },
              "fromcurrent": true,
              "mode": "immediate",
              "transition": {
               "duration": 0,
               "easing": "linear"
              }
             }
            ],
            "label": "Apr-2018",
            "method": "animate"
           },
           {
            "args": [
             [
              "Nov-2018"
             ],
             {
              "frame": {
               "duration": 0,
               "redraw": true
              },
              "fromcurrent": true,
              "mode": "immediate",
              "transition": {
               "duration": 0,
               "easing": "linear"
              }
             }
            ],
            "label": "Nov-2018",
            "method": "animate"
           },
           {
            "args": [
             [
              "Sep-2019"
             ],
             {
              "frame": {
               "duration": 0,
               "redraw": true
              },
              "fromcurrent": true,
              "mode": "immediate",
              "transition": {
               "duration": 0,
               "easing": "linear"
              }
             }
            ],
            "label": "Sep-2019",
            "method": "animate"
           },
           {
            "args": [
             [
              "Jul-2020"
             ],
             {
              "frame": {
               "duration": 0,
               "redraw": true
              },
              "fromcurrent": true,
              "mode": "immediate",
              "transition": {
               "duration": 0,
               "easing": "linear"
              }
             }
            ],
            "label": "Jul-2020",
            "method": "animate"
           },
           {
            "args": [
             [
              "Oct-2020"
             ],
             {
              "frame": {
               "duration": 0,
               "redraw": true
              },
              "fromcurrent": true,
              "mode": "immediate",
              "transition": {
               "duration": 0,
               "easing": "linear"
              }
             }
            ],
            "label": "Oct-2020",
            "method": "animate"
           },
           {
            "args": [
             [
              "Sep-2021"
             ],
             {
              "frame": {
               "duration": 0,
               "redraw": true
              },
              "fromcurrent": true,
              "mode": "immediate",
              "transition": {
               "duration": 0,
               "easing": "linear"
              }
             }
            ],
            "label": "Sep-2021",
            "method": "animate"
           },
           {
            "args": [
             [
              "Apr-2022"
             ],
             {
              "frame": {
               "duration": 0,
               "redraw": true
              },
              "fromcurrent": true,
              "mode": "immediate",
              "transition": {
               "duration": 0,
               "easing": "linear"
              }
             }
            ],
            "label": "Apr-2022",
            "method": "animate"
           },
           {
            "args": [
             [
              "Mar-2023"
             ],
             {
              "frame": {
               "duration": 0,
               "redraw": true
              },
              "fromcurrent": true,
              "mode": "immediate",
              "transition": {
               "duration": 0,
               "easing": "linear"
              }
             }
            ],
            "label": "Mar-2023",
            "method": "animate"
           },
           {
            "args": [
             [
              "Jan-2018"
             ],
             {
              "frame": {
               "duration": 0,
               "redraw": true
              },
              "fromcurrent": true,
              "mode": "immediate",
              "transition": {
               "duration": 0,
               "easing": "linear"
              }
             }
            ],
            "label": "Jan-2018",
            "method": "animate"
           },
           {
            "args": [
             [
              "Jan-2019"
             ],
             {
              "frame": {
               "duration": 0,
               "redraw": true
              },
              "fromcurrent": true,
              "mode": "immediate",
              "transition": {
               "duration": 0,
               "easing": "linear"
              }
             }
            ],
            "label": "Jan-2019",
            "method": "animate"
           },
           {
            "args": [
             [
              "Sep-2020"
             ],
             {
              "frame": {
               "duration": 0,
               "redraw": true
              },
              "fromcurrent": true,
              "mode": "immediate",
              "transition": {
               "duration": 0,
               "easing": "linear"
              }
             }
            ],
            "label": "Sep-2020",
            "method": "animate"
           },
           {
            "args": [
             [
              "May-2023"
             ],
             {
              "frame": {
               "duration": 0,
               "redraw": true
              },
              "fromcurrent": true,
              "mode": "immediate",
              "transition": {
               "duration": 0,
               "easing": "linear"
              }
             }
            ],
            "label": "May-2023",
            "method": "animate"
           },
           {
            "args": [
             [
              "Dec-2019"
             ],
             {
              "frame": {
               "duration": 0,
               "redraw": true
              },
              "fromcurrent": true,
              "mode": "immediate",
              "transition": {
               "duration": 0,
               "easing": "linear"
              }
             }
            ],
            "label": "Dec-2019",
            "method": "animate"
           },
           {
            "args": [
             [
              "Sep-2023"
             ],
             {
              "frame": {
               "duration": 0,
               "redraw": true
              },
              "fromcurrent": true,
              "mode": "immediate",
              "transition": {
               "duration": 0,
               "easing": "linear"
              }
             }
            ],
            "label": "Sep-2023",
            "method": "animate"
           },
           {
            "args": [
             [
              "Nov-2020"
             ],
             {
              "frame": {
               "duration": 0,
               "redraw": true
              },
              "fromcurrent": true,
              "mode": "immediate",
              "transition": {
               "duration": 0,
               "easing": "linear"
              }
             }
            ],
            "label": "Nov-2020",
            "method": "animate"
           },
           {
            "args": [
             [
              "Jul-2022"
             ],
             {
              "frame": {
               "duration": 0,
               "redraw": true
              },
              "fromcurrent": true,
              "mode": "immediate",
              "transition": {
               "duration": 0,
               "easing": "linear"
              }
             }
            ],
            "label": "Jul-2022",
            "method": "animate"
           },
           {
            "args": [
             [
              "Jan-2024"
             ],
             {
              "frame": {
               "duration": 0,
               "redraw": true
              },
              "fromcurrent": true,
              "mode": "immediate",
              "transition": {
               "duration": 0,
               "easing": "linear"
              }
             }
            ],
            "label": "Jan-2024",
            "method": "animate"
           },
           {
            "args": [
             [
              "Mar-2024"
             ],
             {
              "frame": {
               "duration": 0,
               "redraw": true
              },
              "fromcurrent": true,
              "mode": "immediate",
              "transition": {
               "duration": 0,
               "easing": "linear"
              }
             }
            ],
            "label": "Mar-2024",
            "method": "animate"
           },
           {
            "args": [
             [
              "Jan-2017"
             ],
             {
              "frame": {
               "duration": 0,
               "redraw": true
              },
              "fromcurrent": true,
              "mode": "immediate",
              "transition": {
               "duration": 0,
               "easing": "linear"
              }
             }
            ],
            "label": "Jan-2017",
            "method": "animate"
           },
           {
            "args": [
             [
              "Sep-2017"
             ],
             {
              "frame": {
               "duration": 0,
               "redraw": true
              },
              "fromcurrent": true,
              "mode": "immediate",
              "transition": {
               "duration": 0,
               "easing": "linear"
              }
             }
            ],
            "label": "Sep-2017",
            "method": "animate"
           },
           {
            "args": [
             [
              "Oct-2018"
             ],
             {
              "frame": {
               "duration": 0,
               "redraw": true
              },
              "fromcurrent": true,
              "mode": "immediate",
              "transition": {
               "duration": 0,
               "easing": "linear"
              }
             }
            ],
            "label": "Oct-2018",
            "method": "animate"
           },
           {
            "args": [
             [
              "Dec-2018"
             ],
             {
              "frame": {
               "duration": 0,
               "redraw": true
              },
              "fromcurrent": true,
              "mode": "immediate",
              "transition": {
               "duration": 0,
               "easing": "linear"
              }
             }
            ],
            "label": "Dec-2018",
            "method": "animate"
           },
           {
            "args": [
             [
              "Mar-2019"
             ],
             {
              "frame": {
               "duration": 0,
               "redraw": true
              },
              "fromcurrent": true,
              "mode": "immediate",
              "transition": {
               "duration": 0,
               "easing": "linear"
              }
             }
            ],
            "label": "Mar-2019",
            "method": "animate"
           },
           {
            "args": [
             [
              "Aug-2020"
             ],
             {
              "frame": {
               "duration": 0,
               "redraw": true
              },
              "fromcurrent": true,
              "mode": "immediate",
              "transition": {
               "duration": 0,
               "easing": "linear"
              }
             }
            ],
            "label": "Aug-2020",
            "method": "animate"
           },
           {
            "args": [
             [
              "Apr-2021"
             ],
             {
              "frame": {
               "duration": 0,
               "redraw": true
              },
              "fromcurrent": true,
              "mode": "immediate",
              "transition": {
               "duration": 0,
               "easing": "linear"
              }
             }
            ],
            "label": "Apr-2021",
            "method": "animate"
           },
           {
            "args": [
             [
              "Jul-2021"
             ],
             {
              "frame": {
               "duration": 0,
               "redraw": true
              },
              "fromcurrent": true,
              "mode": "immediate",
              "transition": {
               "duration": 0,
               "easing": "linear"
              }
             }
            ],
            "label": "Jul-2021",
            "method": "animate"
           },
           {
            "args": [
             [
              "Nov-2021"
             ],
             {
              "frame": {
               "duration": 0,
               "redraw": true
              },
              "fromcurrent": true,
              "mode": "immediate",
              "transition": {
               "duration": 0,
               "easing": "linear"
              }
             }
            ],
            "label": "Nov-2021",
            "method": "animate"
           },
           {
            "args": [
             [
              "Mar-2022"
             ],
             {
              "frame": {
               "duration": 0,
               "redraw": true
              },
              "fromcurrent": true,
              "mode": "immediate",
              "transition": {
               "duration": 0,
               "easing": "linear"
              }
             }
            ],
            "label": "Mar-2022",
            "method": "animate"
           },
           {
            "args": [
             [
              "Dec-2022"
             ],
             {
              "frame": {
               "duration": 0,
               "redraw": true
              },
              "fromcurrent": true,
              "mode": "immediate",
              "transition": {
               "duration": 0,
               "easing": "linear"
              }
             }
            ],
            "label": "Dec-2022",
            "method": "animate"
           }
          ],
          "x": 0.1,
          "xanchor": "left",
          "y": 0,
          "yanchor": "top"
         }
        ],
        "template": {
         "data": {
          "bar": [
           {
            "error_x": {
             "color": "#2a3f5f"
            },
            "error_y": {
             "color": "#2a3f5f"
            },
            "marker": {
             "line": {
              "color": "#E5ECF6",
              "width": 0.5
             },
             "pattern": {
              "fillmode": "overlay",
              "size": 10,
              "solidity": 0.2
             }
            },
            "type": "bar"
           }
          ],
          "barpolar": [
           {
            "marker": {
             "line": {
              "color": "#E5ECF6",
              "width": 0.5
             },
             "pattern": {
              "fillmode": "overlay",
              "size": 10,
              "solidity": 0.2
             }
            },
            "type": "barpolar"
           }
          ],
          "carpet": [
           {
            "aaxis": {
             "endlinecolor": "#2a3f5f",
             "gridcolor": "white",
             "linecolor": "white",
             "minorgridcolor": "white",
             "startlinecolor": "#2a3f5f"
            },
            "baxis": {
             "endlinecolor": "#2a3f5f",
             "gridcolor": "white",
             "linecolor": "white",
             "minorgridcolor": "white",
             "startlinecolor": "#2a3f5f"
            },
            "type": "carpet"
           }
          ],
          "choropleth": [
           {
            "colorbar": {
             "outlinewidth": 0,
             "ticks": ""
            },
            "type": "choropleth"
           }
          ],
          "contour": [
           {
            "colorbar": {
             "outlinewidth": 0,
             "ticks": ""
            },
            "colorscale": [
             [
              0,
              "#0d0887"
             ],
             [
              0.1111111111111111,
              "#46039f"
             ],
             [
              0.2222222222222222,
              "#7201a8"
             ],
             [
              0.3333333333333333,
              "#9c179e"
             ],
             [
              0.4444444444444444,
              "#bd3786"
             ],
             [
              0.5555555555555556,
              "#d8576b"
             ],
             [
              0.6666666666666666,
              "#ed7953"
             ],
             [
              0.7777777777777778,
              "#fb9f3a"
             ],
             [
              0.8888888888888888,
              "#fdca26"
             ],
             [
              1,
              "#f0f921"
             ]
            ],
            "type": "contour"
           }
          ],
          "contourcarpet": [
           {
            "colorbar": {
             "outlinewidth": 0,
             "ticks": ""
            },
            "type": "contourcarpet"
           }
          ],
          "heatmap": [
           {
            "colorbar": {
             "outlinewidth": 0,
             "ticks": ""
            },
            "colorscale": [
             [
              0,
              "#0d0887"
             ],
             [
              0.1111111111111111,
              "#46039f"
             ],
             [
              0.2222222222222222,
              "#7201a8"
             ],
             [
              0.3333333333333333,
              "#9c179e"
             ],
             [
              0.4444444444444444,
              "#bd3786"
             ],
             [
              0.5555555555555556,
              "#d8576b"
             ],
             [
              0.6666666666666666,
              "#ed7953"
             ],
             [
              0.7777777777777778,
              "#fb9f3a"
             ],
             [
              0.8888888888888888,
              "#fdca26"
             ],
             [
              1,
              "#f0f921"
             ]
            ],
            "type": "heatmap"
           }
          ],
          "heatmapgl": [
           {
            "colorbar": {
             "outlinewidth": 0,
             "ticks": ""
            },
            "colorscale": [
             [
              0,
              "#0d0887"
             ],
             [
              0.1111111111111111,
              "#46039f"
             ],
             [
              0.2222222222222222,
              "#7201a8"
             ],
             [
              0.3333333333333333,
              "#9c179e"
             ],
             [
              0.4444444444444444,
              "#bd3786"
             ],
             [
              0.5555555555555556,
              "#d8576b"
             ],
             [
              0.6666666666666666,
              "#ed7953"
             ],
             [
              0.7777777777777778,
              "#fb9f3a"
             ],
             [
              0.8888888888888888,
              "#fdca26"
             ],
             [
              1,
              "#f0f921"
             ]
            ],
            "type": "heatmapgl"
           }
          ],
          "histogram": [
           {
            "marker": {
             "pattern": {
              "fillmode": "overlay",
              "size": 10,
              "solidity": 0.2
             }
            },
            "type": "histogram"
           }
          ],
          "histogram2d": [
           {
            "colorbar": {
             "outlinewidth": 0,
             "ticks": ""
            },
            "colorscale": [
             [
              0,
              "#0d0887"
             ],
             [
              0.1111111111111111,
              "#46039f"
             ],
             [
              0.2222222222222222,
              "#7201a8"
             ],
             [
              0.3333333333333333,
              "#9c179e"
             ],
             [
              0.4444444444444444,
              "#bd3786"
             ],
             [
              0.5555555555555556,
              "#d8576b"
             ],
             [
              0.6666666666666666,
              "#ed7953"
             ],
             [
              0.7777777777777778,
              "#fb9f3a"
             ],
             [
              0.8888888888888888,
              "#fdca26"
             ],
             [
              1,
              "#f0f921"
             ]
            ],
            "type": "histogram2d"
           }
          ],
          "histogram2dcontour": [
           {
            "colorbar": {
             "outlinewidth": 0,
             "ticks": ""
            },
            "colorscale": [
             [
              0,
              "#0d0887"
             ],
             [
              0.1111111111111111,
              "#46039f"
             ],
             [
              0.2222222222222222,
              "#7201a8"
             ],
             [
              0.3333333333333333,
              "#9c179e"
             ],
             [
              0.4444444444444444,
              "#bd3786"
             ],
             [
              0.5555555555555556,
              "#d8576b"
             ],
             [
              0.6666666666666666,
              "#ed7953"
             ],
             [
              0.7777777777777778,
              "#fb9f3a"
             ],
             [
              0.8888888888888888,
              "#fdca26"
             ],
             [
              1,
              "#f0f921"
             ]
            ],
            "type": "histogram2dcontour"
           }
          ],
          "mesh3d": [
           {
            "colorbar": {
             "outlinewidth": 0,
             "ticks": ""
            },
            "type": "mesh3d"
           }
          ],
          "parcoords": [
           {
            "line": {
             "colorbar": {
              "outlinewidth": 0,
              "ticks": ""
             }
            },
            "type": "parcoords"
           }
          ],
          "pie": [
           {
            "automargin": true,
            "type": "pie"
           }
          ],
          "scatter": [
           {
            "fillpattern": {
             "fillmode": "overlay",
             "size": 10,
             "solidity": 0.2
            },
            "type": "scatter"
           }
          ],
          "scatter3d": [
           {
            "line": {
             "colorbar": {
              "outlinewidth": 0,
              "ticks": ""
             }
            },
            "marker": {
             "colorbar": {
              "outlinewidth": 0,
              "ticks": ""
             }
            },
            "type": "scatter3d"
           }
          ],
          "scattercarpet": [
           {
            "marker": {
             "colorbar": {
              "outlinewidth": 0,
              "ticks": ""
             }
            },
            "type": "scattercarpet"
           }
          ],
          "scattergeo": [
           {
            "marker": {
             "colorbar": {
              "outlinewidth": 0,
              "ticks": ""
             }
            },
            "type": "scattergeo"
           }
          ],
          "scattergl": [
           {
            "marker": {
             "colorbar": {
              "outlinewidth": 0,
              "ticks": ""
             }
            },
            "type": "scattergl"
           }
          ],
          "scattermapbox": [
           {
            "marker": {
             "colorbar": {
              "outlinewidth": 0,
              "ticks": ""
             }
            },
            "type": "scattermapbox"
           }
          ],
          "scatterpolar": [
           {
            "marker": {
             "colorbar": {
              "outlinewidth": 0,
              "ticks": ""
             }
            },
            "type": "scatterpolar"
           }
          ],
          "scatterpolargl": [
           {
            "marker": {
             "colorbar": {
              "outlinewidth": 0,
              "ticks": ""
             }
            },
            "type": "scatterpolargl"
           }
          ],
          "scatterternary": [
           {
            "marker": {
             "colorbar": {
              "outlinewidth": 0,
              "ticks": ""
             }
            },
            "type": "scatterternary"
           }
          ],
          "surface": [
           {
            "colorbar": {
             "outlinewidth": 0,
             "ticks": ""
            },
            "colorscale": [
             [
              0,
              "#0d0887"
             ],
             [
              0.1111111111111111,
              "#46039f"
             ],
             [
              0.2222222222222222,
              "#7201a8"
             ],
             [
              0.3333333333333333,
              "#9c179e"
             ],
             [
              0.4444444444444444,
              "#bd3786"
             ],
             [
              0.5555555555555556,
              "#d8576b"
             ],
             [
              0.6666666666666666,
              "#ed7953"
             ],
             [
              0.7777777777777778,
              "#fb9f3a"
             ],
             [
              0.8888888888888888,
              "#fdca26"
             ],
             [
              1,
              "#f0f921"
             ]
            ],
            "type": "surface"
           }
          ],
          "table": [
           {
            "cells": {
             "fill": {
              "color": "#EBF0F8"
             },
             "line": {
              "color": "white"
             }
            },
            "header": {
             "fill": {
              "color": "#C8D4E3"
             },
             "line": {
              "color": "white"
             }
            },
            "type": "table"
           }
          ]
         },
         "layout": {
          "annotationdefaults": {
           "arrowcolor": "#2a3f5f",
           "arrowhead": 0,
           "arrowwidth": 1
          },
          "autotypenumbers": "strict",
          "coloraxis": {
           "colorbar": {
            "outlinewidth": 0,
            "ticks": ""
           }
          },
          "colorscale": {
           "diverging": [
            [
             0,
             "#8e0152"
            ],
            [
             0.1,
             "#c51b7d"
            ],
            [
             0.2,
             "#de77ae"
            ],
            [
             0.3,
             "#f1b6da"
            ],
            [
             0.4,
             "#fde0ef"
            ],
            [
             0.5,
             "#f7f7f7"
            ],
            [
             0.6,
             "#e6f5d0"
            ],
            [
             0.7,
             "#b8e186"
            ],
            [
             0.8,
             "#7fbc41"
            ],
            [
             0.9,
             "#4d9221"
            ],
            [
             1,
             "#276419"
            ]
           ],
           "sequential": [
            [
             0,
             "#0d0887"
            ],
            [
             0.1111111111111111,
             "#46039f"
            ],
            [
             0.2222222222222222,
             "#7201a8"
            ],
            [
             0.3333333333333333,
             "#9c179e"
            ],
            [
             0.4444444444444444,
             "#bd3786"
            ],
            [
             0.5555555555555556,
             "#d8576b"
            ],
            [
             0.6666666666666666,
             "#ed7953"
            ],
            [
             0.7777777777777778,
             "#fb9f3a"
            ],
            [
             0.8888888888888888,
             "#fdca26"
            ],
            [
             1,
             "#f0f921"
            ]
           ],
           "sequentialminus": [
            [
             0,
             "#0d0887"
            ],
            [
             0.1111111111111111,
             "#46039f"
            ],
            [
             0.2222222222222222,
             "#7201a8"
            ],
            [
             0.3333333333333333,
             "#9c179e"
            ],
            [
             0.4444444444444444,
             "#bd3786"
            ],
            [
             0.5555555555555556,
             "#d8576b"
            ],
            [
             0.6666666666666666,
             "#ed7953"
            ],
            [
             0.7777777777777778,
             "#fb9f3a"
            ],
            [
             0.8888888888888888,
             "#fdca26"
            ],
            [
             1,
             "#f0f921"
            ]
           ]
          },
          "colorway": [
           "#636efa",
           "#EF553B",
           "#00cc96",
           "#ab63fa",
           "#FFA15A",
           "#19d3f3",
           "#FF6692",
           "#B6E880",
           "#FF97FF",
           "#FECB52"
          ],
          "font": {
           "color": "#2a3f5f"
          },
          "geo": {
           "bgcolor": "white",
           "lakecolor": "white",
           "landcolor": "#E5ECF6",
           "showlakes": true,
           "showland": true,
           "subunitcolor": "white"
          },
          "hoverlabel": {
           "align": "left"
          },
          "hovermode": "closest",
          "mapbox": {
           "style": "light"
          },
          "paper_bgcolor": "white",
          "plot_bgcolor": "#E5ECF6",
          "polar": {
           "angularaxis": {
            "gridcolor": "white",
            "linecolor": "white",
            "ticks": ""
           },
           "bgcolor": "#E5ECF6",
           "radialaxis": {
            "gridcolor": "white",
            "linecolor": "white",
            "ticks": ""
           }
          },
          "scene": {
           "xaxis": {
            "backgroundcolor": "#E5ECF6",
            "gridcolor": "white",
            "gridwidth": 2,
            "linecolor": "white",
            "showbackground": true,
            "ticks": "",
            "zerolinecolor": "white"
           },
           "yaxis": {
            "backgroundcolor": "#E5ECF6",
            "gridcolor": "white",
            "gridwidth": 2,
            "linecolor": "white",
            "showbackground": true,
            "ticks": "",
            "zerolinecolor": "white"
           },
           "zaxis": {
            "backgroundcolor": "#E5ECF6",
            "gridcolor": "white",
            "gridwidth": 2,
            "linecolor": "white",
            "showbackground": true,
            "ticks": "",
            "zerolinecolor": "white"
           }
          },
          "shapedefaults": {
           "line": {
            "color": "#2a3f5f"
           }
          },
          "ternary": {
           "aaxis": {
            "gridcolor": "white",
            "linecolor": "white",
            "ticks": ""
           },
           "baxis": {
            "gridcolor": "white",
            "linecolor": "white",
            "ticks": ""
           },
           "bgcolor": "#E5ECF6",
           "caxis": {
            "gridcolor": "white",
            "linecolor": "white",
            "ticks": ""
           }
          },
          "title": {
           "x": 0.05
          },
          "xaxis": {
           "automargin": true,
           "gridcolor": "white",
           "linecolor": "white",
           "ticks": "",
           "title": {
            "standoff": 15
           },
           "zerolinecolor": "white",
           "zerolinewidth": 2
          },
          "yaxis": {
           "automargin": true,
           "gridcolor": "white",
           "linecolor": "white",
           "ticks": "",
           "title": {
            "standoff": 15
           },
           "zerolinecolor": "white",
           "zerolinewidth": 2
          }
         }
        },
        "title": {
         "text": "USD Equivalent of Bonds Issued by Country and Month"
        },
        "updatemenus": [
         {
          "buttons": [
           {
            "args": [
             null,
             {
              "frame": {
               "duration": 500,
               "redraw": true
              },
              "fromcurrent": true,
              "mode": "immediate",
              "transition": {
               "duration": 500,
               "easing": "linear"
              }
             }
            ],
            "label": "&#9654;",
            "method": "animate"
           },
           {
            "args": [
             [
              null
             ],
             {
              "frame": {
               "duration": 0,
               "redraw": true
              },
              "fromcurrent": true,
              "mode": "immediate",
              "transition": {
               "duration": 0,
               "easing": "linear"
              }
             }
            ],
            "label": "&#9724;",
            "method": "animate"
           }
          ],
          "direction": "left",
          "pad": {
           "r": 10,
           "t": 70
          },
          "showactive": false,
          "type": "buttons",
          "x": 0.1,
          "xanchor": "right",
          "y": 0,
          "yanchor": "top"
         }
        ]
       }
      }
     },
     "metadata": {},
     "output_type": "display_data"
    }
   ],
   "source": [
    "fig.show()"
   ]
  },
  {
   "cell_type": "code",
   "execution_count": 73,
   "metadata": {},
   "outputs": [],
   "source": [
    "green_bonds_data[\"Month\"] = pd.to_datetime(green_bonds_data[\"Month\"], format='%b-%y')\n",
    "\n",
    "green_bonds_data[\"Year\"] = green_bonds_data[\"Month\"].dt.year\n",
    "grouped_data_yearly = green_bonds_data.groupby(['Country', 'Year'])['USD Amount'].sum().reset_index()\n",
    "\n",
    "fig_yearly = px.choropleth(\n",
    "    grouped_data_yearly,\n",
    "    locations=\"Country\",\n",
    "    locationmode='country names',\n",
    "    color=\"USD Amount\",\n",
    "    hover_name=\"Country\",\n",
    "    animation_frame=\"Year\",\n",
    "    color_continuous_scale=px.colors.sequential.Plasma,\n",
    "    title=\"USD Equivalent of Bonds Issued by Country and Year\"\n",
    ")"
   ]
  },
  {
   "cell_type": "code",
   "execution_count": 74,
   "metadata": {},
   "outputs": [
    {
     "data": {
      "application/vnd.plotly.v1+json": {
       "config": {
        "plotlyServerURL": "https://plot.ly"
       },
       "data": [
        {
         "coloraxis": "coloraxis",
         "geo": "geo",
         "hovertemplate": "<b>%{hovertext}</b><br><br>Year=2015<br>Country=%{location}<br>USD Amount=%{z}<extra></extra>",
         "hovertext": [
          "Australia",
          "Europe"
         ],
         "locationmode": "country names",
         "locations": [
          "Australia",
          "Europe"
         ],
         "name": "",
         "type": "choropleth",
         "z": [
          464000000,
          556000000
         ]
        }
       ],
       "frames": [
        {
         "data": [
          {
           "coloraxis": "coloraxis",
           "geo": "geo",
           "hovertemplate": "<b>%{hovertext}</b><br><br>Year=2015<br>Country=%{location}<br>USD Amount=%{z}<extra></extra>",
           "hovertext": [
            "Australia",
            "Europe"
           ],
           "locationmode": "country names",
           "locations": [
            "Australia",
            "Europe"
           ],
           "name": "",
           "type": "choropleth",
           "z": [
            464000000,
            556000000
           ]
          }
         ],
         "name": "2015"
        },
        {
         "data": [
          {
           "coloraxis": "coloraxis",
           "geo": "geo",
           "hovertemplate": "<b>%{hovertext}</b><br><br>Year=2016<br>Country=%{location}<br>USD Amount=%{z}<extra></extra>",
           "hovertext": [
            "Australia",
            "India",
            "Netherlands",
            "United States"
           ],
           "locationmode": "country names",
           "locations": [
            "Australia",
            "India",
            "Netherlands",
            "United States"
           ],
           "name": "",
           "type": "choropleth",
           "z": [
            748000000,
            500000000,
            1241000000,
            45100000
           ]
          }
         ],
         "name": "2016"
        },
        {
         "data": [
          {
           "coloraxis": "coloraxis",
           "geo": "geo",
           "hovertemplate": "<b>%{hovertext}</b><br><br>Year=2017<br>Country=%{location}<br>USD Amount=%{z}<extra></extra>",
           "hovertext": [
            "Australia",
            "France",
            "Germany",
            "Netherlands",
            "Singapore",
            "United Kingdom",
            "United States"
           ],
           "locationmode": "country names",
           "locations": [
            "Australia",
            "France",
            "Germany",
            "Netherlands",
            "Singapore",
            "United Kingdom",
            "United States"
           ],
           "name": "",
           "type": "choropleth",
           "z": [
            1182500000,
            558000000,
            884000000,
            667000000,
            71000000,
            580000000,
            344495000
           ]
          }
         ],
         "name": "2017"
        },
        {
         "data": [
          {
           "coloraxis": "coloraxis",
           "geo": "geo",
           "hovertemplate": "<b>%{hovertext}</b><br><br>Year=2018<br>Country=%{location}<br>USD Amount=%{z}<extra></extra>",
           "hovertext": [
            "Australia",
            "Belgium",
            "Germany",
            "Netherlands",
            "Norway",
            "United States"
           ],
           "locationmode": "country names",
           "locations": [
            "Australia",
            "Belgium",
            "Germany",
            "Netherlands",
            "Norway",
            "United States"
           ],
           "name": "",
           "type": "choropleth",
           "z": [
            2038800000,
            575000000,
            707000000,
            5134900000,
            3010000000,
            1010900000
           ]
          }
         ],
         "name": "2018"
        },
        {
         "data": [
          {
           "coloraxis": "coloraxis",
           "geo": "geo",
           "hovertemplate": "<b>%{hovertext}</b><br><br>Year=2019<br>Country=%{location}<br>USD Amount=%{z}<extra></extra>",
           "hovertext": [
            "Australia",
            "Chile",
            "China",
            "France",
            "Germany",
            "Kenya",
            "Netherlands",
            "Norway",
            "Poland ",
            "United States"
           ],
           "locationmode": "country names",
           "locations": [
            "Australia",
            "Chile",
            "China",
            "France",
            "Germany",
            "Kenya",
            "Netherlands",
            "Norway",
            "Poland ",
            "United States"
           ],
           "name": "",
           "type": "choropleth",
           "z": [
            1094000000,
            2397000000,
            300000000,
            1120000000,
            67000000,
            95490665,
            14812000000,
            2213000000,
            232000000,
            944195000
           ]
          }
         ],
         "name": "2019"
        },
        {
         "data": [
          {
           "coloraxis": "coloraxis",
           "geo": "geo",
           "hovertemplate": "<b>%{hovertext}</b><br><br>Year=2020<br>Country=%{location}<br>USD Amount=%{z}<extra></extra>",
           "hovertext": [
            "Australia",
            "Belgium",
            "Chile",
            "Mexico",
            "Netherlands",
            "Norway",
            "Sweden",
            "United States"
           ],
           "locationmode": "country names",
           "locations": [
            "Australia",
            "Belgium",
            "Chile",
            "Mexico",
            "Netherlands",
            "Norway",
            "Sweden",
            "United States"
           ],
           "name": "",
           "type": "choropleth",
           "z": [
            55616400,
            564000000,
            1664000000,
            25300000,
            1167000000,
            2471000000,
            16424000,
            1161330000
           ]
          }
         ],
         "name": "2020"
        },
        {
         "data": [
          {
           "coloraxis": "coloraxis",
           "geo": "geo",
           "hovertemplate": "<b>%{hovertext}</b><br><br>Year=2021<br>Country=%{location}<br>USD Amount=%{z}<extra></extra>",
           "hovertext": [
            "Australia",
            "Belgium",
            "Chile",
            "Germany",
            "Hungary",
            "Ivory Coast",
            "Netherlands",
            "Norway",
            "Poland ",
            "Switzerland",
            "United States"
           ],
           "locationmode": "country names",
           "locations": [
            "Australia",
            "Belgium",
            "Chile",
            "Germany",
            "Hungary",
            "Ivory Coast",
            "Netherlands",
            "Norway",
            "Poland ",
            "Switzerland",
            "United States"
           ],
           "name": "",
           "type": "choropleth",
           "z": [
            1300589000,
            845871000,
            1236000000,
            710000000,
            32014800,
            17877500,
            3394388000,
            2276000000,
            580662000,
            861712000,
            1391075000
           ]
          }
         ],
         "name": "2021"
        },
        {
         "data": [
          {
           "coloraxis": "coloraxis",
           "geo": "geo",
           "hovertemplate": "<b>%{hovertext}</b><br><br>Year=2022<br>Country=%{location}<br>USD Amount=%{z}<extra></extra>",
           "hovertext": [
            "Australia",
            "Netherlands",
            "Poland ",
            "Sweden",
            "United Kingdom",
            "United States"
           ],
           "locationmode": "country names",
           "locations": [
            "Australia",
            "Netherlands",
            "Poland ",
            "Sweden",
            "United Kingdom",
            "United States"
           ],
           "name": "",
           "type": "choropleth",
           "z": [
            1644464683,
            5781905593,
            527730000,
            36506480,
            50426430,
            658110000
           ]
          }
         ],
         "name": "2022"
        },
        {
         "data": [
          {
           "coloraxis": "coloraxis",
           "geo": "geo",
           "hovertemplate": "<b>%{hovertext}</b><br><br>Year=2023<br>Country=%{location}<br>USD Amount=%{z}<extra></extra>",
           "hovertext": [
            "India",
            "Mexico ",
            "Netherlands",
            "Norway",
            "Poland ",
            "United States"
           ],
           "locationmode": "country names",
           "locations": [
            "India",
            "Mexico ",
            "Netherlands",
            "Norway",
            "Poland ",
            "United States"
           ],
           "name": "",
           "type": "choropleth",
           "z": [
            48121600,
            46827514,
            574101420,
            810112500,
            538630000,
            450935000
           ]
          }
         ],
         "name": "2023"
        },
        {
         "data": [
          {
           "coloraxis": "coloraxis",
           "geo": "geo",
           "hovertemplate": "<b>%{hovertext}</b><br><br>Year=2024<br>Country=%{location}<br>USD Amount=%{z}<extra></extra>",
           "hovertext": [
            "United Kingdom"
           ],
           "locationmode": "country names",
           "locations": [
            "United Kingdom"
           ],
           "name": "",
           "type": "choropleth",
           "z": [
            101883930
           ]
          }
         ],
         "name": "2024"
        }
       ],
       "layout": {
        "coloraxis": {
         "colorbar": {
          "title": {
           "text": "USD Amount"
          }
         },
         "colorscale": [
          [
           0,
           "#0d0887"
          ],
          [
           0.1111111111111111,
           "#46039f"
          ],
          [
           0.2222222222222222,
           "#7201a8"
          ],
          [
           0.3333333333333333,
           "#9c179e"
          ],
          [
           0.4444444444444444,
           "#bd3786"
          ],
          [
           0.5555555555555556,
           "#d8576b"
          ],
          [
           0.6666666666666666,
           "#ed7953"
          ],
          [
           0.7777777777777778,
           "#fb9f3a"
          ],
          [
           0.8888888888888888,
           "#fdca26"
          ],
          [
           1,
           "#f0f921"
          ]
         ]
        },
        "geo": {
         "center": {},
         "domain": {
          "x": [
           0,
           1
          ],
          "y": [
           0,
           1
          ]
         }
        },
        "legend": {
         "tracegroupgap": 0
        },
        "sliders": [
         {
          "active": 0,
          "currentvalue": {
           "prefix": "Year="
          },
          "len": 0.9,
          "pad": {
           "b": 10,
           "t": 60
          },
          "steps": [
           {
            "args": [
             [
              "2015"
             ],
             {
              "frame": {
               "duration": 0,
               "redraw": true
              },
              "fromcurrent": true,
              "mode": "immediate",
              "transition": {
               "duration": 0,
               "easing": "linear"
              }
             }
            ],
            "label": "2015",
            "method": "animate"
           },
           {
            "args": [
             [
              "2016"
             ],
             {
              "frame": {
               "duration": 0,
               "redraw": true
              },
              "fromcurrent": true,
              "mode": "immediate",
              "transition": {
               "duration": 0,
               "easing": "linear"
              }
             }
            ],
            "label": "2016",
            "method": "animate"
           },
           {
            "args": [
             [
              "2017"
             ],
             {
              "frame": {
               "duration": 0,
               "redraw": true
              },
              "fromcurrent": true,
              "mode": "immediate",
              "transition": {
               "duration": 0,
               "easing": "linear"
              }
             }
            ],
            "label": "2017",
            "method": "animate"
           },
           {
            "args": [
             [
              "2018"
             ],
             {
              "frame": {
               "duration": 0,
               "redraw": true
              },
              "fromcurrent": true,
              "mode": "immediate",
              "transition": {
               "duration": 0,
               "easing": "linear"
              }
             }
            ],
            "label": "2018",
            "method": "animate"
           },
           {
            "args": [
             [
              "2019"
             ],
             {
              "frame": {
               "duration": 0,
               "redraw": true
              },
              "fromcurrent": true,
              "mode": "immediate",
              "transition": {
               "duration": 0,
               "easing": "linear"
              }
             }
            ],
            "label": "2019",
            "method": "animate"
           },
           {
            "args": [
             [
              "2020"
             ],
             {
              "frame": {
               "duration": 0,
               "redraw": true
              },
              "fromcurrent": true,
              "mode": "immediate",
              "transition": {
               "duration": 0,
               "easing": "linear"
              }
             }
            ],
            "label": "2020",
            "method": "animate"
           },
           {
            "args": [
             [
              "2021"
             ],
             {
              "frame": {
               "duration": 0,
               "redraw": true
              },
              "fromcurrent": true,
              "mode": "immediate",
              "transition": {
               "duration": 0,
               "easing": "linear"
              }
             }
            ],
            "label": "2021",
            "method": "animate"
           },
           {
            "args": [
             [
              "2022"
             ],
             {
              "frame": {
               "duration": 0,
               "redraw": true
              },
              "fromcurrent": true,
              "mode": "immediate",
              "transition": {
               "duration": 0,
               "easing": "linear"
              }
             }
            ],
            "label": "2022",
            "method": "animate"
           },
           {
            "args": [
             [
              "2023"
             ],
             {
              "frame": {
               "duration": 0,
               "redraw": true
              },
              "fromcurrent": true,
              "mode": "immediate",
              "transition": {
               "duration": 0,
               "easing": "linear"
              }
             }
            ],
            "label": "2023",
            "method": "animate"
           },
           {
            "args": [
             [
              "2024"
             ],
             {
              "frame": {
               "duration": 0,
               "redraw": true
              },
              "fromcurrent": true,
              "mode": "immediate",
              "transition": {
               "duration": 0,
               "easing": "linear"
              }
             }
            ],
            "label": "2024",
            "method": "animate"
           }
          ],
          "x": 0.1,
          "xanchor": "left",
          "y": 0,
          "yanchor": "top"
         }
        ],
        "template": {
         "data": {
          "bar": [
           {
            "error_x": {
             "color": "#2a3f5f"
            },
            "error_y": {
             "color": "#2a3f5f"
            },
            "marker": {
             "line": {
              "color": "#E5ECF6",
              "width": 0.5
             },
             "pattern": {
              "fillmode": "overlay",
              "size": 10,
              "solidity": 0.2
             }
            },
            "type": "bar"
           }
          ],
          "barpolar": [
           {
            "marker": {
             "line": {
              "color": "#E5ECF6",
              "width": 0.5
             },
             "pattern": {
              "fillmode": "overlay",
              "size": 10,
              "solidity": 0.2
             }
            },
            "type": "barpolar"
           }
          ],
          "carpet": [
           {
            "aaxis": {
             "endlinecolor": "#2a3f5f",
             "gridcolor": "white",
             "linecolor": "white",
             "minorgridcolor": "white",
             "startlinecolor": "#2a3f5f"
            },
            "baxis": {
             "endlinecolor": "#2a3f5f",
             "gridcolor": "white",
             "linecolor": "white",
             "minorgridcolor": "white",
             "startlinecolor": "#2a3f5f"
            },
            "type": "carpet"
           }
          ],
          "choropleth": [
           {
            "colorbar": {
             "outlinewidth": 0,
             "ticks": ""
            },
            "type": "choropleth"
           }
          ],
          "contour": [
           {
            "colorbar": {
             "outlinewidth": 0,
             "ticks": ""
            },
            "colorscale": [
             [
              0,
              "#0d0887"
             ],
             [
              0.1111111111111111,
              "#46039f"
             ],
             [
              0.2222222222222222,
              "#7201a8"
             ],
             [
              0.3333333333333333,
              "#9c179e"
             ],
             [
              0.4444444444444444,
              "#bd3786"
             ],
             [
              0.5555555555555556,
              "#d8576b"
             ],
             [
              0.6666666666666666,
              "#ed7953"
             ],
             [
              0.7777777777777778,
              "#fb9f3a"
             ],
             [
              0.8888888888888888,
              "#fdca26"
             ],
             [
              1,
              "#f0f921"
             ]
            ],
            "type": "contour"
           }
          ],
          "contourcarpet": [
           {
            "colorbar": {
             "outlinewidth": 0,
             "ticks": ""
            },
            "type": "contourcarpet"
           }
          ],
          "heatmap": [
           {
            "colorbar": {
             "outlinewidth": 0,
             "ticks": ""
            },
            "colorscale": [
             [
              0,
              "#0d0887"
             ],
             [
              0.1111111111111111,
              "#46039f"
             ],
             [
              0.2222222222222222,
              "#7201a8"
             ],
             [
              0.3333333333333333,
              "#9c179e"
             ],
             [
              0.4444444444444444,
              "#bd3786"
             ],
             [
              0.5555555555555556,
              "#d8576b"
             ],
             [
              0.6666666666666666,
              "#ed7953"
             ],
             [
              0.7777777777777778,
              "#fb9f3a"
             ],
             [
              0.8888888888888888,
              "#fdca26"
             ],
             [
              1,
              "#f0f921"
             ]
            ],
            "type": "heatmap"
           }
          ],
          "heatmapgl": [
           {
            "colorbar": {
             "outlinewidth": 0,
             "ticks": ""
            },
            "colorscale": [
             [
              0,
              "#0d0887"
             ],
             [
              0.1111111111111111,
              "#46039f"
             ],
             [
              0.2222222222222222,
              "#7201a8"
             ],
             [
              0.3333333333333333,
              "#9c179e"
             ],
             [
              0.4444444444444444,
              "#bd3786"
             ],
             [
              0.5555555555555556,
              "#d8576b"
             ],
             [
              0.6666666666666666,
              "#ed7953"
             ],
             [
              0.7777777777777778,
              "#fb9f3a"
             ],
             [
              0.8888888888888888,
              "#fdca26"
             ],
             [
              1,
              "#f0f921"
             ]
            ],
            "type": "heatmapgl"
           }
          ],
          "histogram": [
           {
            "marker": {
             "pattern": {
              "fillmode": "overlay",
              "size": 10,
              "solidity": 0.2
             }
            },
            "type": "histogram"
           }
          ],
          "histogram2d": [
           {
            "colorbar": {
             "outlinewidth": 0,
             "ticks": ""
            },
            "colorscale": [
             [
              0,
              "#0d0887"
             ],
             [
              0.1111111111111111,
              "#46039f"
             ],
             [
              0.2222222222222222,
              "#7201a8"
             ],
             [
              0.3333333333333333,
              "#9c179e"
             ],
             [
              0.4444444444444444,
              "#bd3786"
             ],
             [
              0.5555555555555556,
              "#d8576b"
             ],
             [
              0.6666666666666666,
              "#ed7953"
             ],
             [
              0.7777777777777778,
              "#fb9f3a"
             ],
             [
              0.8888888888888888,
              "#fdca26"
             ],
             [
              1,
              "#f0f921"
             ]
            ],
            "type": "histogram2d"
           }
          ],
          "histogram2dcontour": [
           {
            "colorbar": {
             "outlinewidth": 0,
             "ticks": ""
            },
            "colorscale": [
             [
              0,
              "#0d0887"
             ],
             [
              0.1111111111111111,
              "#46039f"
             ],
             [
              0.2222222222222222,
              "#7201a8"
             ],
             [
              0.3333333333333333,
              "#9c179e"
             ],
             [
              0.4444444444444444,
              "#bd3786"
             ],
             [
              0.5555555555555556,
              "#d8576b"
             ],
             [
              0.6666666666666666,
              "#ed7953"
             ],
             [
              0.7777777777777778,
              "#fb9f3a"
             ],
             [
              0.8888888888888888,
              "#fdca26"
             ],
             [
              1,
              "#f0f921"
             ]
            ],
            "type": "histogram2dcontour"
           }
          ],
          "mesh3d": [
           {
            "colorbar": {
             "outlinewidth": 0,
             "ticks": ""
            },
            "type": "mesh3d"
           }
          ],
          "parcoords": [
           {
            "line": {
             "colorbar": {
              "outlinewidth": 0,
              "ticks": ""
             }
            },
            "type": "parcoords"
           }
          ],
          "pie": [
           {
            "automargin": true,
            "type": "pie"
           }
          ],
          "scatter": [
           {
            "fillpattern": {
             "fillmode": "overlay",
             "size": 10,
             "solidity": 0.2
            },
            "type": "scatter"
           }
          ],
          "scatter3d": [
           {
            "line": {
             "colorbar": {
              "outlinewidth": 0,
              "ticks": ""
             }
            },
            "marker": {
             "colorbar": {
              "outlinewidth": 0,
              "ticks": ""
             }
            },
            "type": "scatter3d"
           }
          ],
          "scattercarpet": [
           {
            "marker": {
             "colorbar": {
              "outlinewidth": 0,
              "ticks": ""
             }
            },
            "type": "scattercarpet"
           }
          ],
          "scattergeo": [
           {
            "marker": {
             "colorbar": {
              "outlinewidth": 0,
              "ticks": ""
             }
            },
            "type": "scattergeo"
           }
          ],
          "scattergl": [
           {
            "marker": {
             "colorbar": {
              "outlinewidth": 0,
              "ticks": ""
             }
            },
            "type": "scattergl"
           }
          ],
          "scattermapbox": [
           {
            "marker": {
             "colorbar": {
              "outlinewidth": 0,
              "ticks": ""
             }
            },
            "type": "scattermapbox"
           }
          ],
          "scatterpolar": [
           {
            "marker": {
             "colorbar": {
              "outlinewidth": 0,
              "ticks": ""
             }
            },
            "type": "scatterpolar"
           }
          ],
          "scatterpolargl": [
           {
            "marker": {
             "colorbar": {
              "outlinewidth": 0,
              "ticks": ""
             }
            },
            "type": "scatterpolargl"
           }
          ],
          "scatterternary": [
           {
            "marker": {
             "colorbar": {
              "outlinewidth": 0,
              "ticks": ""
             }
            },
            "type": "scatterternary"
           }
          ],
          "surface": [
           {
            "colorbar": {
             "outlinewidth": 0,
             "ticks": ""
            },
            "colorscale": [
             [
              0,
              "#0d0887"
             ],
             [
              0.1111111111111111,
              "#46039f"
             ],
             [
              0.2222222222222222,
              "#7201a8"
             ],
             [
              0.3333333333333333,
              "#9c179e"
             ],
             [
              0.4444444444444444,
              "#bd3786"
             ],
             [
              0.5555555555555556,
              "#d8576b"
             ],
             [
              0.6666666666666666,
              "#ed7953"
             ],
             [
              0.7777777777777778,
              "#fb9f3a"
             ],
             [
              0.8888888888888888,
              "#fdca26"
             ],
             [
              1,
              "#f0f921"
             ]
            ],
            "type": "surface"
           }
          ],
          "table": [
           {
            "cells": {
             "fill": {
              "color": "#EBF0F8"
             },
             "line": {
              "color": "white"
             }
            },
            "header": {
             "fill": {
              "color": "#C8D4E3"
             },
             "line": {
              "color": "white"
             }
            },
            "type": "table"
           }
          ]
         },
         "layout": {
          "annotationdefaults": {
           "arrowcolor": "#2a3f5f",
           "arrowhead": 0,
           "arrowwidth": 1
          },
          "autotypenumbers": "strict",
          "coloraxis": {
           "colorbar": {
            "outlinewidth": 0,
            "ticks": ""
           }
          },
          "colorscale": {
           "diverging": [
            [
             0,
             "#8e0152"
            ],
            [
             0.1,
             "#c51b7d"
            ],
            [
             0.2,
             "#de77ae"
            ],
            [
             0.3,
             "#f1b6da"
            ],
            [
             0.4,
             "#fde0ef"
            ],
            [
             0.5,
             "#f7f7f7"
            ],
            [
             0.6,
             "#e6f5d0"
            ],
            [
             0.7,
             "#b8e186"
            ],
            [
             0.8,
             "#7fbc41"
            ],
            [
             0.9,
             "#4d9221"
            ],
            [
             1,
             "#276419"
            ]
           ],
           "sequential": [
            [
             0,
             "#0d0887"
            ],
            [
             0.1111111111111111,
             "#46039f"
            ],
            [
             0.2222222222222222,
             "#7201a8"
            ],
            [
             0.3333333333333333,
             "#9c179e"
            ],
            [
             0.4444444444444444,
             "#bd3786"
            ],
            [
             0.5555555555555556,
             "#d8576b"
            ],
            [
             0.6666666666666666,
             "#ed7953"
            ],
            [
             0.7777777777777778,
             "#fb9f3a"
            ],
            [
             0.8888888888888888,
             "#fdca26"
            ],
            [
             1,
             "#f0f921"
            ]
           ],
           "sequentialminus": [
            [
             0,
             "#0d0887"
            ],
            [
             0.1111111111111111,
             "#46039f"
            ],
            [
             0.2222222222222222,
             "#7201a8"
            ],
            [
             0.3333333333333333,
             "#9c179e"
            ],
            [
             0.4444444444444444,
             "#bd3786"
            ],
            [
             0.5555555555555556,
             "#d8576b"
            ],
            [
             0.6666666666666666,
             "#ed7953"
            ],
            [
             0.7777777777777778,
             "#fb9f3a"
            ],
            [
             0.8888888888888888,
             "#fdca26"
            ],
            [
             1,
             "#f0f921"
            ]
           ]
          },
          "colorway": [
           "#636efa",
           "#EF553B",
           "#00cc96",
           "#ab63fa",
           "#FFA15A",
           "#19d3f3",
           "#FF6692",
           "#B6E880",
           "#FF97FF",
           "#FECB52"
          ],
          "font": {
           "color": "#2a3f5f"
          },
          "geo": {
           "bgcolor": "white",
           "lakecolor": "white",
           "landcolor": "#E5ECF6",
           "showlakes": true,
           "showland": true,
           "subunitcolor": "white"
          },
          "hoverlabel": {
           "align": "left"
          },
          "hovermode": "closest",
          "mapbox": {
           "style": "light"
          },
          "paper_bgcolor": "white",
          "plot_bgcolor": "#E5ECF6",
          "polar": {
           "angularaxis": {
            "gridcolor": "white",
            "linecolor": "white",
            "ticks": ""
           },
           "bgcolor": "#E5ECF6",
           "radialaxis": {
            "gridcolor": "white",
            "linecolor": "white",
            "ticks": ""
           }
          },
          "scene": {
           "xaxis": {
            "backgroundcolor": "#E5ECF6",
            "gridcolor": "white",
            "gridwidth": 2,
            "linecolor": "white",
            "showbackground": true,
            "ticks": "",
            "zerolinecolor": "white"
           },
           "yaxis": {
            "backgroundcolor": "#E5ECF6",
            "gridcolor": "white",
            "gridwidth": 2,
            "linecolor": "white",
            "showbackground": true,
            "ticks": "",
            "zerolinecolor": "white"
           },
           "zaxis": {
            "backgroundcolor": "#E5ECF6",
            "gridcolor": "white",
            "gridwidth": 2,
            "linecolor": "white",
            "showbackground": true,
            "ticks": "",
            "zerolinecolor": "white"
           }
          },
          "shapedefaults": {
           "line": {
            "color": "#2a3f5f"
           }
          },
          "ternary": {
           "aaxis": {
            "gridcolor": "white",
            "linecolor": "white",
            "ticks": ""
           },
           "baxis": {
            "gridcolor": "white",
            "linecolor": "white",
            "ticks": ""
           },
           "bgcolor": "#E5ECF6",
           "caxis": {
            "gridcolor": "white",
            "linecolor": "white",
            "ticks": ""
           }
          },
          "title": {
           "x": 0.05
          },
          "xaxis": {
           "automargin": true,
           "gridcolor": "white",
           "linecolor": "white",
           "ticks": "",
           "title": {
            "standoff": 15
           },
           "zerolinecolor": "white",
           "zerolinewidth": 2
          },
          "yaxis": {
           "automargin": true,
           "gridcolor": "white",
           "linecolor": "white",
           "ticks": "",
           "title": {
            "standoff": 15
           },
           "zerolinecolor": "white",
           "zerolinewidth": 2
          }
         }
        },
        "title": {
         "text": "USD Equivalent of Bonds Issued by Country and Year"
        },
        "updatemenus": [
         {
          "buttons": [
           {
            "args": [
             null,
             {
              "frame": {
               "duration": 500,
               "redraw": true
              },
              "fromcurrent": true,
              "mode": "immediate",
              "transition": {
               "duration": 500,
               "easing": "linear"
              }
             }
            ],
            "label": "&#9654;",
            "method": "animate"
           },
           {
            "args": [
             [
              null
             ],
             {
              "frame": {
               "duration": 0,
               "redraw": true
              },
              "fromcurrent": true,
              "mode": "immediate",
              "transition": {
               "duration": 0,
               "easing": "linear"
              }
             }
            ],
            "label": "&#9724;",
            "method": "animate"
           }
          ],
          "direction": "left",
          "pad": {
           "r": 10,
           "t": 70
          },
          "showactive": false,
          "type": "buttons",
          "x": 0.1,
          "xanchor": "right",
          "y": 0,
          "yanchor": "top"
         }
        ]
       }
      }
     },
     "metadata": {},
     "output_type": "display_data"
    }
   ],
   "source": [
    "fig_yearly.show()"
   ]
  },
  {
   "cell_type": "code",
   "execution_count": 75,
   "metadata": {},
   "outputs": [],
   "source": [
    "grouped_data_total = green_bonds_data.groupby(['Country'])['USD Amount'].sum().reset_index()\n",
    "\n",
    "fig_total = px.choropleth(\n",
    "    grouped_data_total,\n",
    "    locations=\"Country\",\n",
    "    locationmode='country names',\n",
    "    color=\"USD Amount\",\n",
    "    hover_name=\"Country\",\n",
    "    color_continuous_scale=px.colors.sequential.Plasma,\n",
    "    title=\"Total USD Equivalent of Bonds Issued by Country\"\n",
    ")\n"
   ]
  },
  {
   "cell_type": "code",
   "execution_count": 76,
   "metadata": {},
   "outputs": [
    {
     "data": {
      "application/vnd.plotly.v1+json": {
       "config": {
        "plotlyServerURL": "https://plot.ly"
       },
       "data": [
        {
         "coloraxis": "coloraxis",
         "geo": "geo",
         "hovertemplate": "<b>%{hovertext}</b><br><br>Country=%{location}<br>USD Amount=%{z}<extra></extra>",
         "hovertext": [
          "Australia",
          "Belgium",
          "Chile",
          "China",
          "Europe",
          "France",
          "Germany",
          "Hungary",
          "India",
          "Ivory Coast",
          "Kenya",
          "Mexico",
          "Mexico ",
          "Netherlands",
          "Norway",
          "Poland ",
          "Singapore",
          "Sweden",
          "Switzerland",
          "United Kingdom",
          "United States"
         ],
         "locationmode": "country names",
         "locations": [
          "Australia",
          "Belgium",
          "Chile",
          "China",
          "Europe",
          "France",
          "Germany",
          "Hungary",
          "India",
          "Ivory Coast",
          "Kenya",
          "Mexico",
          "Mexico ",
          "Netherlands",
          "Norway",
          "Poland ",
          "Singapore",
          "Sweden",
          "Switzerland",
          "United Kingdom",
          "United States"
         ],
         "name": "",
         "type": "choropleth",
         "z": [
          8527970083,
          1984871000,
          5297000000,
          300000000,
          556000000,
          1678000000,
          2368000000,
          32014800,
          548121600,
          17877500,
          95490665,
          25300000,
          46827514,
          32772295013,
          10780112500,
          1879022000,
          71000000,
          52930480,
          861712000,
          732310360,
          6006140000
         ]
        }
       ],
       "layout": {
        "coloraxis": {
         "colorbar": {
          "title": {
           "text": "USD Amount"
          }
         },
         "colorscale": [
          [
           0,
           "#0d0887"
          ],
          [
           0.1111111111111111,
           "#46039f"
          ],
          [
           0.2222222222222222,
           "#7201a8"
          ],
          [
           0.3333333333333333,
           "#9c179e"
          ],
          [
           0.4444444444444444,
           "#bd3786"
          ],
          [
           0.5555555555555556,
           "#d8576b"
          ],
          [
           0.6666666666666666,
           "#ed7953"
          ],
          [
           0.7777777777777778,
           "#fb9f3a"
          ],
          [
           0.8888888888888888,
           "#fdca26"
          ],
          [
           1,
           "#f0f921"
          ]
         ]
        },
        "geo": {
         "center": {},
         "domain": {
          "x": [
           0,
           1
          ],
          "y": [
           0,
           1
          ]
         }
        },
        "legend": {
         "tracegroupgap": 0
        },
        "template": {
         "data": {
          "bar": [
           {
            "error_x": {
             "color": "#2a3f5f"
            },
            "error_y": {
             "color": "#2a3f5f"
            },
            "marker": {
             "line": {
              "color": "#E5ECF6",
              "width": 0.5
             },
             "pattern": {
              "fillmode": "overlay",
              "size": 10,
              "solidity": 0.2
             }
            },
            "type": "bar"
           }
          ],
          "barpolar": [
           {
            "marker": {
             "line": {
              "color": "#E5ECF6",
              "width": 0.5
             },
             "pattern": {
              "fillmode": "overlay",
              "size": 10,
              "solidity": 0.2
             }
            },
            "type": "barpolar"
           }
          ],
          "carpet": [
           {
            "aaxis": {
             "endlinecolor": "#2a3f5f",
             "gridcolor": "white",
             "linecolor": "white",
             "minorgridcolor": "white",
             "startlinecolor": "#2a3f5f"
            },
            "baxis": {
             "endlinecolor": "#2a3f5f",
             "gridcolor": "white",
             "linecolor": "white",
             "minorgridcolor": "white",
             "startlinecolor": "#2a3f5f"
            },
            "type": "carpet"
           }
          ],
          "choropleth": [
           {
            "colorbar": {
             "outlinewidth": 0,
             "ticks": ""
            },
            "type": "choropleth"
           }
          ],
          "contour": [
           {
            "colorbar": {
             "outlinewidth": 0,
             "ticks": ""
            },
            "colorscale": [
             [
              0,
              "#0d0887"
             ],
             [
              0.1111111111111111,
              "#46039f"
             ],
             [
              0.2222222222222222,
              "#7201a8"
             ],
             [
              0.3333333333333333,
              "#9c179e"
             ],
             [
              0.4444444444444444,
              "#bd3786"
             ],
             [
              0.5555555555555556,
              "#d8576b"
             ],
             [
              0.6666666666666666,
              "#ed7953"
             ],
             [
              0.7777777777777778,
              "#fb9f3a"
             ],
             [
              0.8888888888888888,
              "#fdca26"
             ],
             [
              1,
              "#f0f921"
             ]
            ],
            "type": "contour"
           }
          ],
          "contourcarpet": [
           {
            "colorbar": {
             "outlinewidth": 0,
             "ticks": ""
            },
            "type": "contourcarpet"
           }
          ],
          "heatmap": [
           {
            "colorbar": {
             "outlinewidth": 0,
             "ticks": ""
            },
            "colorscale": [
             [
              0,
              "#0d0887"
             ],
             [
              0.1111111111111111,
              "#46039f"
             ],
             [
              0.2222222222222222,
              "#7201a8"
             ],
             [
              0.3333333333333333,
              "#9c179e"
             ],
             [
              0.4444444444444444,
              "#bd3786"
             ],
             [
              0.5555555555555556,
              "#d8576b"
             ],
             [
              0.6666666666666666,
              "#ed7953"
             ],
             [
              0.7777777777777778,
              "#fb9f3a"
             ],
             [
              0.8888888888888888,
              "#fdca26"
             ],
             [
              1,
              "#f0f921"
             ]
            ],
            "type": "heatmap"
           }
          ],
          "heatmapgl": [
           {
            "colorbar": {
             "outlinewidth": 0,
             "ticks": ""
            },
            "colorscale": [
             [
              0,
              "#0d0887"
             ],
             [
              0.1111111111111111,
              "#46039f"
             ],
             [
              0.2222222222222222,
              "#7201a8"
             ],
             [
              0.3333333333333333,
              "#9c179e"
             ],
             [
              0.4444444444444444,
              "#bd3786"
             ],
             [
              0.5555555555555556,
              "#d8576b"
             ],
             [
              0.6666666666666666,
              "#ed7953"
             ],
             [
              0.7777777777777778,
              "#fb9f3a"
             ],
             [
              0.8888888888888888,
              "#fdca26"
             ],
             [
              1,
              "#f0f921"
             ]
            ],
            "type": "heatmapgl"
           }
          ],
          "histogram": [
           {
            "marker": {
             "pattern": {
              "fillmode": "overlay",
              "size": 10,
              "solidity": 0.2
             }
            },
            "type": "histogram"
           }
          ],
          "histogram2d": [
           {
            "colorbar": {
             "outlinewidth": 0,
             "ticks": ""
            },
            "colorscale": [
             [
              0,
              "#0d0887"
             ],
             [
              0.1111111111111111,
              "#46039f"
             ],
             [
              0.2222222222222222,
              "#7201a8"
             ],
             [
              0.3333333333333333,
              "#9c179e"
             ],
             [
              0.4444444444444444,
              "#bd3786"
             ],
             [
              0.5555555555555556,
              "#d8576b"
             ],
             [
              0.6666666666666666,
              "#ed7953"
             ],
             [
              0.7777777777777778,
              "#fb9f3a"
             ],
             [
              0.8888888888888888,
              "#fdca26"
             ],
             [
              1,
              "#f0f921"
             ]
            ],
            "type": "histogram2d"
           }
          ],
          "histogram2dcontour": [
           {
            "colorbar": {
             "outlinewidth": 0,
             "ticks": ""
            },
            "colorscale": [
             [
              0,
              "#0d0887"
             ],
             [
              0.1111111111111111,
              "#46039f"
             ],
             [
              0.2222222222222222,
              "#7201a8"
             ],
             [
              0.3333333333333333,
              "#9c179e"
             ],
             [
              0.4444444444444444,
              "#bd3786"
             ],
             [
              0.5555555555555556,
              "#d8576b"
             ],
             [
              0.6666666666666666,
              "#ed7953"
             ],
             [
              0.7777777777777778,
              "#fb9f3a"
             ],
             [
              0.8888888888888888,
              "#fdca26"
             ],
             [
              1,
              "#f0f921"
             ]
            ],
            "type": "histogram2dcontour"
           }
          ],
          "mesh3d": [
           {
            "colorbar": {
             "outlinewidth": 0,
             "ticks": ""
            },
            "type": "mesh3d"
           }
          ],
          "parcoords": [
           {
            "line": {
             "colorbar": {
              "outlinewidth": 0,
              "ticks": ""
             }
            },
            "type": "parcoords"
           }
          ],
          "pie": [
           {
            "automargin": true,
            "type": "pie"
           }
          ],
          "scatter": [
           {
            "fillpattern": {
             "fillmode": "overlay",
             "size": 10,
             "solidity": 0.2
            },
            "type": "scatter"
           }
          ],
          "scatter3d": [
           {
            "line": {
             "colorbar": {
              "outlinewidth": 0,
              "ticks": ""
             }
            },
            "marker": {
             "colorbar": {
              "outlinewidth": 0,
              "ticks": ""
             }
            },
            "type": "scatter3d"
           }
          ],
          "scattercarpet": [
           {
            "marker": {
             "colorbar": {
              "outlinewidth": 0,
              "ticks": ""
             }
            },
            "type": "scattercarpet"
           }
          ],
          "scattergeo": [
           {
            "marker": {
             "colorbar": {
              "outlinewidth": 0,
              "ticks": ""
             }
            },
            "type": "scattergeo"
           }
          ],
          "scattergl": [
           {
            "marker": {
             "colorbar": {
              "outlinewidth": 0,
              "ticks": ""
             }
            },
            "type": "scattergl"
           }
          ],
          "scattermapbox": [
           {
            "marker": {
             "colorbar": {
              "outlinewidth": 0,
              "ticks": ""
             }
            },
            "type": "scattermapbox"
           }
          ],
          "scatterpolar": [
           {
            "marker": {
             "colorbar": {
              "outlinewidth": 0,
              "ticks": ""
             }
            },
            "type": "scatterpolar"
           }
          ],
          "scatterpolargl": [
           {
            "marker": {
             "colorbar": {
              "outlinewidth": 0,
              "ticks": ""
             }
            },
            "type": "scatterpolargl"
           }
          ],
          "scatterternary": [
           {
            "marker": {
             "colorbar": {
              "outlinewidth": 0,
              "ticks": ""
             }
            },
            "type": "scatterternary"
           }
          ],
          "surface": [
           {
            "colorbar": {
             "outlinewidth": 0,
             "ticks": ""
            },
            "colorscale": [
             [
              0,
              "#0d0887"
             ],
             [
              0.1111111111111111,
              "#46039f"
             ],
             [
              0.2222222222222222,
              "#7201a8"
             ],
             [
              0.3333333333333333,
              "#9c179e"
             ],
             [
              0.4444444444444444,
              "#bd3786"
             ],
             [
              0.5555555555555556,
              "#d8576b"
             ],
             [
              0.6666666666666666,
              "#ed7953"
             ],
             [
              0.7777777777777778,
              "#fb9f3a"
             ],
             [
              0.8888888888888888,
              "#fdca26"
             ],
             [
              1,
              "#f0f921"
             ]
            ],
            "type": "surface"
           }
          ],
          "table": [
           {
            "cells": {
             "fill": {
              "color": "#EBF0F8"
             },
             "line": {
              "color": "white"
             }
            },
            "header": {
             "fill": {
              "color": "#C8D4E3"
             },
             "line": {
              "color": "white"
             }
            },
            "type": "table"
           }
          ]
         },
         "layout": {
          "annotationdefaults": {
           "arrowcolor": "#2a3f5f",
           "arrowhead": 0,
           "arrowwidth": 1
          },
          "autotypenumbers": "strict",
          "coloraxis": {
           "colorbar": {
            "outlinewidth": 0,
            "ticks": ""
           }
          },
          "colorscale": {
           "diverging": [
            [
             0,
             "#8e0152"
            ],
            [
             0.1,
             "#c51b7d"
            ],
            [
             0.2,
             "#de77ae"
            ],
            [
             0.3,
             "#f1b6da"
            ],
            [
             0.4,
             "#fde0ef"
            ],
            [
             0.5,
             "#f7f7f7"
            ],
            [
             0.6,
             "#e6f5d0"
            ],
            [
             0.7,
             "#b8e186"
            ],
            [
             0.8,
             "#7fbc41"
            ],
            [
             0.9,
             "#4d9221"
            ],
            [
             1,
             "#276419"
            ]
           ],
           "sequential": [
            [
             0,
             "#0d0887"
            ],
            [
             0.1111111111111111,
             "#46039f"
            ],
            [
             0.2222222222222222,
             "#7201a8"
            ],
            [
             0.3333333333333333,
             "#9c179e"
            ],
            [
             0.4444444444444444,
             "#bd3786"
            ],
            [
             0.5555555555555556,
             "#d8576b"
            ],
            [
             0.6666666666666666,
             "#ed7953"
            ],
            [
             0.7777777777777778,
             "#fb9f3a"
            ],
            [
             0.8888888888888888,
             "#fdca26"
            ],
            [
             1,
             "#f0f921"
            ]
           ],
           "sequentialminus": [
            [
             0,
             "#0d0887"
            ],
            [
             0.1111111111111111,
             "#46039f"
            ],
            [
             0.2222222222222222,
             "#7201a8"
            ],
            [
             0.3333333333333333,
             "#9c179e"
            ],
            [
             0.4444444444444444,
             "#bd3786"
            ],
            [
             0.5555555555555556,
             "#d8576b"
            ],
            [
             0.6666666666666666,
             "#ed7953"
            ],
            [
             0.7777777777777778,
             "#fb9f3a"
            ],
            [
             0.8888888888888888,
             "#fdca26"
            ],
            [
             1,
             "#f0f921"
            ]
           ]
          },
          "colorway": [
           "#636efa",
           "#EF553B",
           "#00cc96",
           "#ab63fa",
           "#FFA15A",
           "#19d3f3",
           "#FF6692",
           "#B6E880",
           "#FF97FF",
           "#FECB52"
          ],
          "font": {
           "color": "#2a3f5f"
          },
          "geo": {
           "bgcolor": "white",
           "lakecolor": "white",
           "landcolor": "#E5ECF6",
           "showlakes": true,
           "showland": true,
           "subunitcolor": "white"
          },
          "hoverlabel": {
           "align": "left"
          },
          "hovermode": "closest",
          "mapbox": {
           "style": "light"
          },
          "paper_bgcolor": "white",
          "plot_bgcolor": "#E5ECF6",
          "polar": {
           "angularaxis": {
            "gridcolor": "white",
            "linecolor": "white",
            "ticks": ""
           },
           "bgcolor": "#E5ECF6",
           "radialaxis": {
            "gridcolor": "white",
            "linecolor": "white",
            "ticks": ""
           }
          },
          "scene": {
           "xaxis": {
            "backgroundcolor": "#E5ECF6",
            "gridcolor": "white",
            "gridwidth": 2,
            "linecolor": "white",
            "showbackground": true,
            "ticks": "",
            "zerolinecolor": "white"
           },
           "yaxis": {
            "backgroundcolor": "#E5ECF6",
            "gridcolor": "white",
            "gridwidth": 2,
            "linecolor": "white",
            "showbackground": true,
            "ticks": "",
            "zerolinecolor": "white"
           },
           "zaxis": {
            "backgroundcolor": "#E5ECF6",
            "gridcolor": "white",
            "gridwidth": 2,
            "linecolor": "white",
            "showbackground": true,
            "ticks": "",
            "zerolinecolor": "white"
           }
          },
          "shapedefaults": {
           "line": {
            "color": "#2a3f5f"
           }
          },
          "ternary": {
           "aaxis": {
            "gridcolor": "white",
            "linecolor": "white",
            "ticks": ""
           },
           "baxis": {
            "gridcolor": "white",
            "linecolor": "white",
            "ticks": ""
           },
           "bgcolor": "#E5ECF6",
           "caxis": {
            "gridcolor": "white",
            "linecolor": "white",
            "ticks": ""
           }
          },
          "title": {
           "x": 0.05
          },
          "xaxis": {
           "automargin": true,
           "gridcolor": "white",
           "linecolor": "white",
           "ticks": "",
           "title": {
            "standoff": 15
           },
           "zerolinecolor": "white",
           "zerolinewidth": 2
          },
          "yaxis": {
           "automargin": true,
           "gridcolor": "white",
           "linecolor": "white",
           "ticks": "",
           "title": {
            "standoff": 15
           },
           "zerolinecolor": "white",
           "zerolinewidth": 2
          }
         }
        },
        "title": {
         "text": "Total USD Equivalent of Bonds Issued by Country"
        }
       }
      }
     },
     "metadata": {},
     "output_type": "display_data"
    }
   ],
   "source": [
    "fig_total.show()"
   ]
  }
 ],
 "metadata": {
  "kernelspec": {
   "display_name": "Python 3",
   "language": "python",
   "name": "python3"
  },
  "language_info": {
   "codemirror_mode": {
    "name": "ipython",
    "version": 3
   },
   "file_extension": ".py",
   "mimetype": "text/x-python",
   "name": "python",
   "nbconvert_exporter": "python",
   "pygments_lexer": "ipython3",
   "version": "3.9.6"
  }
 },
 "nbformat": 4,
 "nbformat_minor": 2
}
