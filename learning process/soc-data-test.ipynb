{
 "cells": [
  {
   "cell_type": "code",
   "execution_count": 1,
   "metadata": {
    "tags": [
     "Install required libraries"
    ]
   },
   "outputs": [
    {
     "data": {
      "text/plain": [
       "'%pip install openqaoa\\n\\n%pip install pandas\\n%pip install requests\\n%pip install geojson\\n%pip install geopandas\\n\\n%pip install cplex\\n\\n%pip install qiskit\\n%pip install fiona\\n%pip install pyogrio\\n%pip install pyproj\\n%pip install rtree \\n%pip install shapely\\n%pip install numpy\\n%pip install geodatasets\\n%pip install geoplot\\n%pip install matplotlib\\n%pip install qiskit[visualization]\\n%pip install folium\\n%pip install libpysal\\n%pip install dwave-ocean-sdk\\n%pip install networkx\\n\\n\\n%pip install scikit-learn\\n%pip install qiskit[optimization]\\n\\n%pip install more-itertools\\n%matplotlib inline\\n'"
      ]
     },
     "execution_count": 1,
     "metadata": {},
     "output_type": "execute_result"
    }
   ],
   "source": [
    "'''%pip install openqaoa\n",
    "%pip install requests\n",
    "%pip install geojson\n",
    "\n",
    "%pip install geopandas\n",
    "\n",
    "%pip install cplex\n",
    "%pip install qiskit\n",
    "%pip install fiona\n",
    "%pip install pyogrio\n",
    "%pip install pyproj\n",
    "%pip install rtree \n",
    "%pip install shapely\n",
    "%pip install geodatasets\n",
    "%pip install geoplot\n",
    "\n",
    "%pip install matplotlib\n",
    "\n",
    "%pip install qiskit[visualization]\n",
    "%pip install folium\n",
    "%pip install libpysal\n",
    "%pip install dwave-ocean-sdk\n",
    "%pip install networkx\n",
    "%pip install scikit-learn\n",
    "%pip install qiskit[optimization]\n",
    "%pip install more-itertools\n",
    "%matplotlib inline\n",
    "\n",
    "\n",
    "\n",
    "requests\n",
    "'''"
   ]
  },
  {
   "cell_type": "code",
   "execution_count": 1,
   "metadata": {},
   "outputs": [
    {
     "name": "stdout",
     "output_type": "stream",
     "text": [
      "Defaulting to user installation because normal site-packages is not writeable\n",
      "Collecting tabulate\n",
      "  Downloading tabulate-0.9.0-py3-none-any.whl (35 kB)\n",
      "Installing collected packages: tabulate\n",
      "Successfully installed tabulate-0.9.0\n",
      "\u001b[33mWARNING: You are using pip version 21.2.4; however, version 24.0 is available.\n",
      "You should consider upgrading via the '/Library/Developer/CommandLineTools/usr/bin/python3 -m pip install --upgrade pip' command.\u001b[0m\n",
      "Note: you may need to restart the kernel to use updated packages.\n"
     ]
    }
   ],
   "source": [
    "'''%pip install pandas\n",
    "%pip install numpy\n",
    "%pip install tweepy'''\n",
    "%pip install tabulate"
   ]
  },
  {
   "cell_type": "code",
   "execution_count": 2,
   "metadata": {},
   "outputs": [
    {
     "name": "stderr",
     "output_type": "stream",
     "text": [
      "/Users/blakelayton/Library/Python/3.9/lib/python/site-packages/urllib3/__init__.py:35: NotOpenSSLWarning: urllib3 v2 only supports OpenSSL 1.1.1+, currently the 'ssl' module is compiled with 'LibreSSL 2.8.3'. See: https://github.com/urllib3/urllib3/issues/3020\n",
      "  warnings.warn(\n"
     ]
    }
   ],
   "source": [
    "import pandas as pd\n",
    "import numpy as np\n",
    "import tweepy as tp\n",
    "\n",
    "''''''"
   ]
  },
  {
   "cell_type": "code",
   "execution_count": 5,
   "metadata": {},
   "outputs": [
    {
     "name": "stdout",
     "output_type": "stream",
     "text": [
      "hi\n"
     ]
    }
   ],
   "source": [
    "print(\"hi\")"
   ]
  }
 ],
 "metadata": {
  "kernelspec": {
   "display_name": "Python 3",
   "language": "python",
   "name": "python3"
  },
  "language_info": {
   "codemirror_mode": {
    "name": "ipython",
    "version": 3
   },
   "file_extension": ".py",
   "mimetype": "text/x-python",
   "name": "python",
   "nbconvert_exporter": "python",
   "pygments_lexer": "ipython3",
   "version": "3.9.6"
  }
 },
 "nbformat": 4,
 "nbformat_minor": 2
}
